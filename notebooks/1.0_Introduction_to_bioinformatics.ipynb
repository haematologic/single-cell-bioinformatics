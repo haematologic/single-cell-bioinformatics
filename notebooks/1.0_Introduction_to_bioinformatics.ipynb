{
 "cells": [
  {
   "cell_type": "markdown",
   "metadata": {},
   "source": [
    "# Introduction to single cell bioinformatics\n",
    "\n",
    "## Who am I?\n",
    "\n",
    "[Olga Botvinnik](http://olgabotvinnik.com/), 4th year PhD candidate in [Bioinformatics](http://bioinformatics.ucsd.edu/) in [Prof. Gene Yeo](http://yeolab.github.io/)'s lab at [UC San Diego](http://ucsd.edu/). I study alternative splicing in single cells."
   ]
  },
  {
   "cell_type": "markdown",
   "metadata": {},
   "source": [
    "## What this course will cover\n",
    "\n",
    "### Specific concepts\n",
    "\n",
    "By the end of this course, you will be able to ...\n",
    "\n",
    "- Describe differences between supervised and unsupervised machine learning methods\n",
    "- Interpret axes of dimensionality reduction plots (PCA, ICA, t-SNE, MDS)\n",
    "- Compare different clustering algorithms (hierarchical, $k$-means) and their advantages and disadvantages\n",
    "- Compare classification methods (SVM and decision trees) and their advantages and disadvantages\n",
    "- Compare batch effect correction methods\n",
    "- Evaluate methods for reducing technical noise and identifying when they are appropriate\n",
    "- Evaluate methods for pseudotime ordering and whether a dataset satisfies the appropriate prerequisites\n",
    "- Identify key analysis branch points in single-cell papers\n",
    "\n",
    "### Conceptual understanding\n",
    "\n",
    "> Understanding is first, tools are secondary.\n",
    "\n",
    "We will focus on learning what different algorithms are, and when you would apply them. This is more of a \"theoretical bioinformatics\" course than a practical one. This is on purpose - programming languages change, but math is forever! Even diamonds aren't truly forever - they have a favorable free energy of spontaneous transition to graphite, albeit with a high activation energy (>1000C).\n",
    "\n",
    "### Philosophy\n",
    "\n",
    "Many people say they want to learn bioinformatics but never do. The only thing that works is when they're confronted with an immediate need -- then they **have** to learn it. My goal is to light the fire of the immediate need and provide you the conceptual understanding of what algorithms do what, so you may find tutorials and people to learn programming from, but not to teach programming itself."
   ]
  },
  {
   "cell_type": "markdown",
   "metadata": {},
   "source": [
    "## What this course will *not* cover\n",
    "\n",
    "### Sequencing depth\n",
    "\n",
    "The depth of sequencing depends on your problem and your library preparation and so on. If you're using unique molecular identifiers and sequencing only the 3' end, apparently 100,000 reads/cell is enough. If you're doing alternative splicing and are interested in full transcript coverage, then at least 10 million reads/cell is necessary (in my experience).\n",
    "\n",
    "### Choosing a mapper/aligner or gene expression quantifier\n",
    "\n",
    "There are many resources comparing different mapping and gene expression algorithms, so I will not be covering this.\n",
    "\n",
    "### Collapsing genes/cells on barcodes (unique molecular identifiers, UMIs)\n",
    "\n",
    "There are several different techniques for dealing with barcodes and the exact strategy you use depends a lot on your protocol and library prep methods and so we won't be getting into this.\n",
    "\n",
    "### Version control\n",
    "\n",
    "Specifically, `git`. You did an exercise for this and you should use version control every time you write code! Unless you are a perfect programmer and always write your code exactly right the first time. Then you should be inventing programming languages (but still using version control).\n",
    "\n",
    "### Language wars\n",
    "Python vs R vs MATLAB vs Fortran vs ...\n",
    "\n",
    "This is taught in Python because it's what I know best but could be taught in any language."
   ]
  },
  {
   "cell_type": "markdown",
   "metadata": {},
   "source": [
    "### What I expect from you\n",
    "\n",
    "- Being present\n",
    "- Patience with the course material\n",
    "    - This is difficult stuff and it takes time to wrap your head around these complex concepts\n",
    "- Participating in discussion\n",
    "- Criticism and feedback on the course structure"
   ]
  },
  {
   "cell_type": "markdown",
   "metadata": {},
   "source": [
    "### What you can expect (demand!) from me\n",
    "\n",
    "- Patience with your questions\n",
    "- Some (but not all) of the answers"
   ]
  },
  {
   "cell_type": "markdown",
   "metadata": {},
   "source": [
    "## Introduction to single cell analysis\n",
    "\n",
    "\n",
    "### Why would you do single-cell analyses?\n",
    "Single-cell analyses are primarly done to deconstruct a population (e.g. a tissue or 10cm plate) into its constituent parts (cells!)\n",
    "\n",
    "![](figures/kolodziejczyk2015_fig2B_heterogeneous_cell_populations.png)\n",
    "\n",
    "Kolodziejczyk et al, Mol Cell (2015)\n",
    "\n",
    "\n",
    "### Timeline of single cell analysis\n",
    "\n",
    "![](figures/kolodziejczyk2015_fig1A_single_cell_timeline.png)\n",
    "\n",
    "Kolodziejczyk et al, Mol Cell (2015)\n",
    "\n",
    "\n",
    "### Quality control\n",
    "\n",
    "![](figures/kolodziejczyk2015_fig2A_quality_control.png)\n",
    "Kolodziejczyk et al, Mol Cell (2015)\n",
    "\n",
    "### Finding subpopulations\n",
    "\n",
    "![](figures/kolodziejczyk2015_fig3A_identification_of_cell_types_in_the_population.png)\n",
    "\n",
    "### Characterizing subpopulations\n",
    "\n",
    "We'll be covering what's outlined in blue boxes.\n",
    "\n",
    "![](figures/kolodziejczyk2015_fig3B_characterizing_cell_types.png)"
   ]
  }
 ],
 "metadata": {
  "kernelspec": {
   "display_name": "Python 3",
   "language": "python",
   "name": "python3"
  },
  "language_info": {
   "codemirror_mode": {
    "name": "ipython",
    "version": 3
   },
   "file_extension": ".py",
   "mimetype": "text/x-python",
   "name": "python",
   "nbconvert_exporter": "python",
   "pygments_lexer": "ipython3",
   "version": "3.5.1"
  }
 },
 "nbformat": 4,
 "nbformat_minor": 0
}
