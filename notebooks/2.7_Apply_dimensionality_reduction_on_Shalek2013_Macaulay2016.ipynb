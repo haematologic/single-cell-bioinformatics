{
 "cells": [
  {
   "cell_type": "markdown",
   "metadata": {},
   "source": [
    "# Application of matrix decomposition to biological data\n",
    "\n",
    "So far, we've used PCA and ICA on not truly biological datasets, now we'll try a real biological dataset by obtaining the data from a public database.\n",
    "\n",
    "## Shalek2013 data"
   ]
  },
  {
   "cell_type": "code",
   "execution_count": 1,
   "metadata": {
    "collapsed": false
   },
   "outputs": [
    {
     "data": {
      "text/html": [
       "<div>\n",
       "<table border=\"1\" class=\"dataframe\">\n",
       "  <thead>\n",
       "    <tr style=\"text-align: right;\">\n",
       "      <th></th>\n",
       "      <th>phenotype</th>\n",
       "      <th>pooled</th>\n",
       "      <th>outlier</th>\n",
       "      <th>maturity</th>\n",
       "    </tr>\n",
       "  </thead>\n",
       "  <tbody>\n",
       "    <tr>\n",
       "      <th>S1</th>\n",
       "      <td>BDMC</td>\n",
       "      <td>False</td>\n",
       "      <td>False</td>\n",
       "      <td>immature</td>\n",
       "    </tr>\n",
       "    <tr>\n",
       "      <th>S2</th>\n",
       "      <td>BDMC</td>\n",
       "      <td>False</td>\n",
       "      <td>False</td>\n",
       "      <td>immature</td>\n",
       "    </tr>\n",
       "    <tr>\n",
       "      <th>S3</th>\n",
       "      <td>BDMC</td>\n",
       "      <td>False</td>\n",
       "      <td>False</td>\n",
       "      <td>immature</td>\n",
       "    </tr>\n",
       "    <tr>\n",
       "      <th>S4</th>\n",
       "      <td>BDMC</td>\n",
       "      <td>False</td>\n",
       "      <td>False</td>\n",
       "      <td>immature</td>\n",
       "    </tr>\n",
       "    <tr>\n",
       "      <th>S5</th>\n",
       "      <td>BDMC</td>\n",
       "      <td>False</td>\n",
       "      <td>False</td>\n",
       "      <td>immature</td>\n",
       "    </tr>\n",
       "  </tbody>\n",
       "</table>\n",
       "</div>"
      ],
      "text/plain": [
       "   phenotype pooled outlier  maturity\n",
       "S1      BDMC  False   False  immature\n",
       "S2      BDMC  False   False  immature\n",
       "S3      BDMC  False   False  immature\n",
       "S4      BDMC  False   False  immature\n",
       "S5      BDMC  False   False  immature"
      ]
     },
     "execution_count": 1,
     "metadata": {},
     "output_type": "execute_result"
    }
   ],
   "source": [
    "# Alphabetical order is standard\n",
    "# We're doing \"import superlongname as abbrev\" for our laziness - this way we don't have to type out the whole thing each time.\n",
    "\n",
    "# Python plotting library\n",
    "import matplotlib.pyplot as plt\n",
    "\n",
    "# Numerical python library (pronounced \"num-pie\")\n",
    "import numpy as np\n",
    "\n",
    "# Dataframes in Python\n",
    "import pandas as pd\n",
    "\n",
    "# T-test of independent samples\n",
    "from scipy.stats import ttest_ind\n",
    "\n",
    "# Statistical plotting library we'll use\n",
    "import seaborn as sns\n",
    "sns.set(style='whitegrid')\n",
    "\n",
    "# Matrix decomposition\n",
    "from sklearn.decomposition import PCA, FastICA\n",
    "\n",
    "# Manifold learning\n",
    "from sklearn.manifold import MDS, TSNE\n",
    "\n",
    "# This is necessary to show the plotted figures inside the notebook -- \"inline\" with the notebook cells\n",
    "%matplotlib inline\n",
    "\n",
    "# Read the data table\n",
    "shalek2013_metadata = pd.read_csv('../data/shalek2013/metadata.csv', \n",
    "                               \n",
    "                                     # Sets the first (Python starts counting from 0 not 1) column as the row names\n",
    "                                      index_col=0)\n",
    "shalek2013_metadata.head()"
   ]
  },
  {
   "cell_type": "code",
   "execution_count": 2,
   "metadata": {
    "collapsed": false
   },
   "outputs": [
    {
     "data": {
      "text/html": [
       "<div>\n",
       "<table border=\"1\" class=\"dataframe\">\n",
       "  <thead>\n",
       "    <tr style=\"text-align: right;\">\n",
       "      <th></th>\n",
       "      <th>NPL</th>\n",
       "      <th>QK</th>\n",
       "      <th>AK163153</th>\n",
       "      <th>PARK2</th>\n",
       "      <th>AGPAT4</th>\n",
       "      <th>IGF2R</th>\n",
       "      <th>MRPL18</th>\n",
       "      <th>TCP1</th>\n",
       "      <th>RNASEL</th>\n",
       "      <th>ACAT2</th>\n",
       "      <th>...</th>\n",
       "      <th>MIR692-1</th>\n",
       "      <th>RSPH3B</th>\n",
       "      <th>TAGAP1</th>\n",
       "      <th>RNASET2A</th>\n",
       "      <th>RPS6KA2</th>\n",
       "      <th>DHX9</th>\n",
       "      <th>RNASET2B</th>\n",
       "      <th>FGFR1OP</th>\n",
       "      <th>BRP44L</th>\n",
       "      <th>SFT2D1</th>\n",
       "    </tr>\n",
       "  </thead>\n",
       "  <tbody>\n",
       "    <tr>\n",
       "      <th>S1</th>\n",
       "      <td>4.290577</td>\n",
       "      <td>5.038477</td>\n",
       "      <td>1.249363</td>\n",
       "      <td>0.540694</td>\n",
       "      <td>0.095072</td>\n",
       "      <td>2.648209</td>\n",
       "      <td>5.476280</td>\n",
       "      <td>5.711141</td>\n",
       "      <td>0.065396</td>\n",
       "      <td>4.138114</td>\n",
       "      <td>...</td>\n",
       "      <td>4.165290</td>\n",
       "      <td>0.705881</td>\n",
       "      <td>0.000000</td>\n",
       "      <td>4.700306</td>\n",
       "      <td>0.033376</td>\n",
       "      <td>0.573596</td>\n",
       "      <td>3.199527</td>\n",
       "      <td>0.000000</td>\n",
       "      <td>6.134085</td>\n",
       "      <td>3.699883</td>\n",
       "    </tr>\n",
       "    <tr>\n",
       "      <th>S2</th>\n",
       "      <td>0.000000</td>\n",
       "      <td>4.183371</td>\n",
       "      <td>1.947622</td>\n",
       "      <td>0.500426</td>\n",
       "      <td>5.868557</td>\n",
       "      <td>0.000000</td>\n",
       "      <td>0.000000</td>\n",
       "      <td>1.072934</td>\n",
       "      <td>0.000000</td>\n",
       "      <td>5.346876</td>\n",
       "      <td>...</td>\n",
       "      <td>3.646853</td>\n",
       "      <td>3.288222</td>\n",
       "      <td>0.000000</td>\n",
       "      <td>0.000000</td>\n",
       "      <td>1.061873</td>\n",
       "      <td>0.312905</td>\n",
       "      <td>1.060520</td>\n",
       "      <td>0.000000</td>\n",
       "      <td>6.715250</td>\n",
       "      <td>1.786313</td>\n",
       "    </tr>\n",
       "    <tr>\n",
       "      <th>S3</th>\n",
       "      <td>4.860293</td>\n",
       "      <td>3.847854</td>\n",
       "      <td>1.082463</td>\n",
       "      <td>0.604097</td>\n",
       "      <td>4.137252</td>\n",
       "      <td>3.350293</td>\n",
       "      <td>4.428491</td>\n",
       "      <td>4.795181</td>\n",
       "      <td>0.120361</td>\n",
       "      <td>0.184545</td>\n",
       "      <td>...</td>\n",
       "      <td>2.179880</td>\n",
       "      <td>2.155733</td>\n",
       "      <td>0.055715</td>\n",
       "      <td>0.313902</td>\n",
       "      <td>3.044962</td>\n",
       "      <td>0.223030</td>\n",
       "      <td>0.272703</td>\n",
       "      <td>0.154241</td>\n",
       "      <td>6.911104</td>\n",
       "      <td>0.000000</td>\n",
       "    </tr>\n",
       "    <tr>\n",
       "      <th>S4</th>\n",
       "      <td>0.090829</td>\n",
       "      <td>0.066797</td>\n",
       "      <td>1.119633</td>\n",
       "      <td>0.418703</td>\n",
       "      <td>0.066015</td>\n",
       "      <td>0.287966</td>\n",
       "      <td>5.351368</td>\n",
       "      <td>5.050281</td>\n",
       "      <td>0.099992</td>\n",
       "      <td>0.153751</td>\n",
       "      <td>...</td>\n",
       "      <td>3.476627</td>\n",
       "      <td>1.325198</td>\n",
       "      <td>4.680847</td>\n",
       "      <td>2.846205</td>\n",
       "      <td>3.190581</td>\n",
       "      <td>0.303179</td>\n",
       "      <td>0.000000</td>\n",
       "      <td>0.634990</td>\n",
       "      <td>7.116205</td>\n",
       "      <td>0.123292</td>\n",
       "    </tr>\n",
       "    <tr>\n",
       "      <th>S5</th>\n",
       "      <td>0.000000</td>\n",
       "      <td>3.305915</td>\n",
       "      <td>1.267464</td>\n",
       "      <td>0.000000</td>\n",
       "      <td>0.000000</td>\n",
       "      <td>0.000000</td>\n",
       "      <td>5.644345</td>\n",
       "      <td>5.809713</td>\n",
       "      <td>0.000000</td>\n",
       "      <td>3.807793</td>\n",
       "      <td>...</td>\n",
       "      <td>3.598966</td>\n",
       "      <td>0.505812</td>\n",
       "      <td>2.457638</td>\n",
       "      <td>1.172225</td>\n",
       "      <td>0.000000</td>\n",
       "      <td>0.038511</td>\n",
       "      <td>0.000000</td>\n",
       "      <td>4.883386</td>\n",
       "      <td>7.387554</td>\n",
       "      <td>4.569395</td>\n",
       "    </tr>\n",
       "  </tbody>\n",
       "</table>\n",
       "<p>5 rows × 6312 columns</p>\n",
       "</div>"
      ],
      "text/plain": [
       "         NPL        QK  AK163153     PARK2    AGPAT4     IGF2R    MRPL18  \\\n",
       "S1  4.290577  5.038477  1.249363  0.540694  0.095072  2.648209  5.476280   \n",
       "S2  0.000000  4.183371  1.947622  0.500426  5.868557  0.000000  0.000000   \n",
       "S3  4.860293  3.847854  1.082463  0.604097  4.137252  3.350293  4.428491   \n",
       "S4  0.090829  0.066797  1.119633  0.418703  0.066015  0.287966  5.351368   \n",
       "S5  0.000000  3.305915  1.267464  0.000000  0.000000  0.000000  5.644345   \n",
       "\n",
       "        TCP1    RNASEL     ACAT2    ...     MIR692-1    RSPH3B    TAGAP1  \\\n",
       "S1  5.711141  0.065396  4.138114    ...     4.165290  0.705881  0.000000   \n",
       "S2  1.072934  0.000000  5.346876    ...     3.646853  3.288222  0.000000   \n",
       "S3  4.795181  0.120361  0.184545    ...     2.179880  2.155733  0.055715   \n",
       "S4  5.050281  0.099992  0.153751    ...     3.476627  1.325198  4.680847   \n",
       "S5  5.809713  0.000000  3.807793    ...     3.598966  0.505812  2.457638   \n",
       "\n",
       "    RNASET2A   RPS6KA2      DHX9  RNASET2B   FGFR1OP    BRP44L    SFT2D1  \n",
       "S1  4.700306  0.033376  0.573596  3.199527  0.000000  6.134085  3.699883  \n",
       "S2  0.000000  1.061873  0.312905  1.060520  0.000000  6.715250  1.786313  \n",
       "S3  0.313902  3.044962  0.223030  0.272703  0.154241  6.911104  0.000000  \n",
       "S4  2.846205  3.190581  0.303179  0.000000  0.634990  7.116205  0.123292  \n",
       "S5  1.172225  0.000000  0.038511  0.000000  4.883386  7.387554  4.569395  \n",
       "\n",
       "[5 rows x 6312 columns]"
      ]
     },
     "execution_count": 2,
     "metadata": {},
     "output_type": "execute_result"
    }
   ],
   "source": [
    "shalek2013_expression = pd.read_csv('../data/shalek2013/expression.csv', \n",
    "                               \n",
    "                                     # Sets the first (Python starts counting from 0 not 1) column as the row names\n",
    "                                      index_col=0)\n",
    "shalek2013_expression.head()"
   ]
  },
  {
   "cell_type": "code",
   "execution_count": 3,
   "metadata": {
    "collapsed": false
   },
   "outputs": [
    {
     "data": {
      "text/html": [
       "<div>\n",
       "<table border=\"1\" class=\"dataframe\">\n",
       "  <thead>\n",
       "    <tr style=\"text-align: right;\">\n",
       "      <th></th>\n",
       "      <th>gene_category</th>\n",
       "    </tr>\n",
       "  </thead>\n",
       "  <tbody>\n",
       "    <tr>\n",
       "      <th>0610007L01RIK</th>\n",
       "      <td>NaN</td>\n",
       "    </tr>\n",
       "    <tr>\n",
       "      <th>0610007P14RIK</th>\n",
       "      <td>NaN</td>\n",
       "    </tr>\n",
       "    <tr>\n",
       "      <th>0610007P22RIK</th>\n",
       "      <td>NaN</td>\n",
       "    </tr>\n",
       "    <tr>\n",
       "      <th>0610008F07RIK</th>\n",
       "      <td>NaN</td>\n",
       "    </tr>\n",
       "    <tr>\n",
       "      <th>0610009B22RIK</th>\n",
       "      <td>NaN</td>\n",
       "    </tr>\n",
       "  </tbody>\n",
       "</table>\n",
       "</div>"
      ],
      "text/plain": [
       "              gene_category\n",
       "0610007L01RIK           NaN\n",
       "0610007P14RIK           NaN\n",
       "0610007P22RIK           NaN\n",
       "0610008F07RIK           NaN\n",
       "0610009B22RIK           NaN"
      ]
     },
     "execution_count": 3,
     "metadata": {},
     "output_type": "execute_result"
    }
   ],
   "source": [
    "shalek2013_expression_feature = pd.read_csv('../data/shalek2013/expression_feature.csv', \n",
    "                               \n",
    "                                     # Sets the first (Python starts counting from 0 not 1) column as the row names\n",
    "                                      index_col=0)\n",
    "shalek2013_expression_feature.head()"
   ]
  },
  {
   "cell_type": "code",
   "execution_count": 4,
   "metadata": {
    "collapsed": false
   },
   "outputs": [
    {
     "data": {
      "text/html": [
       "<div>\n",
       "<table border=\"1\" class=\"dataframe\">\n",
       "  <thead>\n",
       "    <tr style=\"text-align: right;\">\n",
       "      <th></th>\n",
       "      <th>0</th>\n",
       "      <th>1</th>\n",
       "      <th>2</th>\n",
       "      <th>3</th>\n",
       "    </tr>\n",
       "  </thead>\n",
       "  <tbody>\n",
       "    <tr>\n",
       "      <th>S1</th>\n",
       "      <td>-47.162601</td>\n",
       "      <td>9.425470</td>\n",
       "      <td>-15.905578</td>\n",
       "      <td>30.728110</td>\n",
       "    </tr>\n",
       "    <tr>\n",
       "      <th>S2</th>\n",
       "      <td>28.941488</td>\n",
       "      <td>25.678547</td>\n",
       "      <td>-49.181067</td>\n",
       "      <td>7.955534</td>\n",
       "    </tr>\n",
       "    <tr>\n",
       "      <th>S3</th>\n",
       "      <td>8.054771</td>\n",
       "      <td>33.133762</td>\n",
       "      <td>33.695133</td>\n",
       "      <td>16.340005</td>\n",
       "    </tr>\n",
       "    <tr>\n",
       "      <th>S4</th>\n",
       "      <td>20.693003</td>\n",
       "      <td>42.692214</td>\n",
       "      <td>17.625862</td>\n",
       "      <td>-11.614830</td>\n",
       "    </tr>\n",
       "    <tr>\n",
       "      <th>S5</th>\n",
       "      <td>0.525987</td>\n",
       "      <td>29.102877</td>\n",
       "      <td>18.513061</td>\n",
       "      <td>15.065190</td>\n",
       "    </tr>\n",
       "  </tbody>\n",
       "</table>\n",
       "</div>"
      ],
      "text/plain": [
       "            0          1          2          3\n",
       "S1 -47.162601   9.425470 -15.905578  30.728110\n",
       "S2  28.941488  25.678547 -49.181067   7.955534\n",
       "S3   8.054771  33.133762  33.695133  16.340005\n",
       "S4  20.693003  42.692214  17.625862 -11.614830\n",
       "S5   0.525987  29.102877  18.513061  15.065190"
      ]
     },
     "execution_count": 4,
     "metadata": {},
     "output_type": "execute_result"
    }
   ],
   "source": [
    "smusher = PCA(n_components=4)\n",
    "\n",
    "# Turn the matrix-decomposed data\n",
    "smushed = pd.DataFrame(smusher.fit_transform(shalek2013_expression), index=shalek2013_expression.index)\n",
    "smushed.head()"
   ]
  },
  {
   "cell_type": "code",
   "execution_count": 5,
   "metadata": {
    "collapsed": false
   },
   "outputs": [
    {
     "data": {
      "text/plain": [
       "<matplotlib.collections.PathCollection at 0x11dcd0d68>"
      ]
     },
     "execution_count": 5,
     "metadata": {},
     "output_type": "execute_result"
    },
    {
     "data": {
      "image/png": "[encoded data removed]",
      "text/plain": [
       "<matplotlib.figure.Figure at 0x11e528208>"
      ]
     },
     "metadata": {},
     "output_type": "display_data"
    }
   ],
   "source": [
    "# Initialize a figure with a single subpanel (axes, or ax) to plot on\n",
    "fig, ax = plt.subplots()\n",
    "\n",
    "# Plot the first (\"0\") and second (\"1\") components (column names)\n",
    "ax.scatter(smushed[0], smushed[1])"
   ]
  },
  {
   "cell_type": "markdown",
   "metadata": {},
   "source": [
    "We could plot other components if we felt like it:"
   ]
  },
  {
   "cell_type": "code",
   "execution_count": 6,
   "metadata": {
    "collapsed": false
   },
   "outputs": [
    {
     "data": {
      "text/plain": [
       "<matplotlib.collections.PathCollection at 0x11da6c6a0>"
      ]
     },
     "execution_count": 6,
     "metadata": {},
     "output_type": "execute_result"
    },
    {
     "data": {
      "image/png": "[encoded data removed]",
      "text/plain": [
       "<matplotlib.figure.Figure at 0x11e528b00>"
      ]
     },
     "metadata": {},
     "output_type": "display_data"
    }
   ],
   "source": [
    "# Initialize a figure with a single subpanel (axes, or ax) to plot on\n",
    "fig, ax = plt.subplots()\n",
    "\n",
    "# Plot the second (\"1\") and fourth (\"3\") components\n",
    "ax.scatter(smushed[1], smushed[3])"
   ]
  },
  {
   "cell_type": "markdown",
   "metadata": {},
   "source": [
    "Let's use a different color for mature and immature cells using a list comprehension. All [X11 color names](https://en.wikipedia.org/wiki/X11_color_names) are valid here. I also like [this](https://en.wikipedia.org/wiki/Web_colors#X11_color_names) list for looking up color names"
   ]
  },
  {
   "cell_type": "code",
   "execution_count": 7,
   "metadata": {
    "collapsed": false
   },
   "outputs": [
    {
     "data": {
      "text/plain": [
       "<matplotlib.collections.PathCollection at 0x11da80518>"
      ]
     },
     "execution_count": 7,
     "metadata": {},
     "output_type": "execute_result"
    },
    {
     "data": {
      "image/png": "[encoded data removed]",
      "text/plain": [
       "<matplotlib.figure.Figure at 0x11da80630>"
      ]
     },
     "metadata": {},
     "output_type": "display_data"
    }
   ],
   "source": [
    "maturity_color = ['mediumturquoise' if x == 'immature' else 'teal' for x in shalek2013_metadata['maturity']]\n",
    "\n",
    "# Initialize a figure with a single subpanel (axes, or ax) to plot on\n",
    "fig, ax = plt.subplots()\n",
    "\n",
    "# Plot the first (\"0\") and second (\"1\") components\n",
    "ax.scatter(smushed[0], smushed[1], color=maturity_color)"
   ]
  },
  {
   "cell_type": "markdown",
   "metadata": {},
   "source": [
    "Hmm those points way to the left look strange .. is it because they are pooled? Let's add a black outline to the pooled samples. That means we'll have to plot them separately."
   ]
  },
  {
   "cell_type": "code",
   "execution_count": 8,
   "metadata": {
    "collapsed": false
   },
   "outputs": [
    {
     "data": {
      "text/plain": [
       "Index(['S1', 'S2', 'S3', 'S4', 'S5', 'S6', 'S7', 'S8', 'S9', 'S10', 'S11',\n",
       "       'S12', 'S13', 'S14', 'S15', 'S16', 'S17', 'S18'],\n",
       "      dtype='object')"
      ]
     },
     "execution_count": 8,
     "metadata": {},
     "output_type": "execute_result"
    }
   ],
   "source": [
    "singles = shalek2013_metadata.query('pooled == False').index\n",
    "singles"
   ]
  },
  {
   "cell_type": "code",
   "execution_count": 9,
   "metadata": {
    "collapsed": false
   },
   "outputs": [
    {
     "data": {
      "text/plain": [
       "Index(['P1', 'P2', 'P3'], dtype='object')"
      ]
     },
     "execution_count": 9,
     "metadata": {},
     "output_type": "execute_result"
    }
   ],
   "source": [
    "pooled = shalek2013_metadata.query('pooled == True').index\n",
    "pooled"
   ]
  },
  {
   "cell_type": "markdown",
   "metadata": {},
   "source": [
    "We'll use `.loc` notation to access the pooled and single rows separately."
   ]
  },
  {
   "cell_type": "code",
   "execution_count": 10,
   "metadata": {
    "collapsed": false
   },
   "outputs": [
    {
     "data": {
      "text/plain": [
       "<matplotlib.collections.PathCollection at 0x11e159080>"
      ]
     },
     "execution_count": 10,
     "metadata": {},
     "output_type": "execute_result"
    },
    {
     "data": {
      "image/png": "[encoded data removed]",
      "text/plain": [
       "<matplotlib.figure.Figure at 0x11daaf5f8>"
      ]
     },
     "metadata": {},
     "output_type": "display_data"
    }
   ],
   "source": [
    "# Initialize a figure with a single subpanel (axes, or ax) to plot on\n",
    "fig, ax = plt.subplots()\n",
    "\n",
    "# Plot the first (\"0\") and second (\"1\") components\n",
    "ax.scatter(smushed.loc[singles, 0], smushed.loc[singles, 1], color=maturity_color)\n",
    "ax.scatter(smushed.loc[pooled, 0], smushed.loc[pooled, 1], color=maturity_color, edgecolor='black', linewidth=1)"
   ]
  },
  {
   "cell_type": "markdown",
   "metadata": {},
   "source": [
    "Hmmm it's hard to tell which ones have the outline so lets make the markers bigger with the argument `s=100`. \"`s`\" is short for \"size.\" The default value is 20."
   ]
  },
  {
   "cell_type": "code",
   "execution_count": 11,
   "metadata": {
    "collapsed": false
   },
   "outputs": [
    {
     "data": {
      "text/plain": [
       "<matplotlib.collections.PathCollection at 0x123ca79b0>"
      ]
     },
     "execution_count": 11,
     "metadata": {},
     "output_type": "execute_result"
    },
    {
     "data": {
      "image/png": "[encoded data removed]",
      "text/plain": [
       "<matplotlib.figure.Figure at 0x11e12e2e8>"
      ]
     },
     "metadata": {},
     "output_type": "display_data"
    }
   ],
   "source": [
    "# Initialize a figure with a single subpanel (axes, or ax) to plot on\n",
    "fig, ax = plt.subplots()\n",
    "\n",
    "# Plot the first (\"0\") and second (\"1\") components\n",
    "ax.scatter(smushed.loc[singles, 0], smushed.loc[singles, 1], color=maturity_color, s=100)\n",
    "ax.scatter(smushed.loc[pooled, 0], smushed.loc[pooled, 1], color=maturity_color, edgecolor='black', linewidth=1, s=100)"
   ]
  },
  {
   "cell_type": "markdown",
   "metadata": {},
   "source": [
    "Let's add a nice legend too."
   ]
  },
  {
   "cell_type": "code",
   "execution_count": 12,
   "metadata": {
    "collapsed": false
   },
   "outputs": [
    {
     "data": {
      "text/plain": [
       "<matplotlib.legend.Legend at 0x123bddc18>"
      ]
     },
     "execution_count": 12,
     "metadata": {},
     "output_type": "execute_result"
    },
    {
     "data": {
      "image/png": "[encoded data removed]",
      "text/plain": [
       "<matplotlib.figure.Figure at 0x123bdd860>"
      ]
     },
     "metadata": {},
     "output_type": "display_data"
    }
   ],
   "source": [
    "# Initialize a figure with a single subpanel (axes, or ax) to plot on\n",
    "fig, ax = plt.subplots()\n",
    "\n",
    "# Plot the first (\"0\") and second (\"1\") components\n",
    "ax.scatter(smushed.loc[singles, 0], smushed.loc[singles, 1], color=maturity_color, s=100, label='singles')\n",
    "ax.scatter(smushed.loc[pooled, 0], smushed.loc[pooled, 1], color=maturity_color, \n",
    "           edgecolor='black', linewidth=1, s=100, label='pooled')\n",
    "ax.legend(loc='best')"
   ]
  },
  {
   "cell_type": "markdown",
   "metadata": {},
   "source": [
    "Oh hmm that only made a legend for the light blue. We'll have to plot the different colors separately. To do that, we'll have to get a subset of the data using just the mature and immature cells."
   ]
  },
  {
   "cell_type": "code",
   "execution_count": 13,
   "metadata": {
    "collapsed": false
   },
   "outputs": [
    {
     "data": {
      "text/plain": [
       "Index(['S1', 'S2', 'S3', 'S4', 'S5', 'S6', 'S7', 'S8', 'S9', 'S10', 'S11',\n",
       "       'S14', 'S15', 'S17', 'S18', 'P1', 'P2', 'P3'],\n",
       "      dtype='object')"
      ]
     },
     "execution_count": 13,
     "metadata": {},
     "output_type": "execute_result"
    }
   ],
   "source": [
    "immature = shalek2013_metadata.query('maturity == \"immature\"').index\n",
    "immature"
   ]
  },
  {
   "cell_type": "code",
   "execution_count": 14,
   "metadata": {
    "collapsed": false
   },
   "outputs": [
    {
     "data": {
      "text/plain": [
       "Index(['S12', 'S13', 'S16'], dtype='object')"
      ]
     },
     "execution_count": 14,
     "metadata": {},
     "output_type": "execute_result"
    }
   ],
   "source": [
    "mature = shalek2013_metadata.query('maturity == \"mature\"').index\n",
    "mature"
   ]
  },
  {
   "cell_type": "markdown",
   "metadata": {},
   "source": [
    "Now plot the different subsets separately so they have different labels in the legend."
   ]
  },
  {
   "cell_type": "code",
   "execution_count": 15,
   "metadata": {
    "collapsed": false
   },
   "outputs": [
    {
     "data": {
      "text/plain": [
       "<matplotlib.legend.Legend at 0x123ebceb8>"
      ]
     },
     "execution_count": 15,
     "metadata": {},
     "output_type": "execute_result"
    },
    {
     "data": {
      "image/png": "[encoded data removed]",
      "text/plain": [
       "<matplotlib.figure.Figure at 0x123d76748>"
      ]
     },
     "metadata": {},
     "output_type": "display_data"
    }
   ],
   "source": [
    "# Initialize a figure with a single subpanel (axes, or ax) to plot on\n",
    "fig, ax = plt.subplots()\n",
    "\n",
    "# Plot the first (\"0\") and second (\"1\") components\n",
    "ax.scatter(smushed.loc[singles & immature, 0], smushed.loc[singles & immature, 1], color='MediumTurquoise', \n",
    "           s=100, label='single, immature')\n",
    "ax.scatter(smushed.loc[singles & mature, 0], smushed.loc[singles & mature, 1], color='Teal', \n",
    "           s=100, label='single, mature')\n",
    "ax.scatter(smushed.loc[pooled, 0], smushed.loc[pooled, 1], color='black', \n",
    "           edgecolor='black', linewidth=1, s=100, label='pooled')\n",
    "ax.legend()"
   ]
  },
  {
   "cell_type": "markdown",
   "metadata": {},
   "source": [
    "Hmm the legend overlaps with the cells so let's put the legend in the upper left."
   ]
  },
  {
   "cell_type": "code",
   "execution_count": 16,
   "metadata": {
    "collapsed": false
   },
   "outputs": [
    {
     "data": {
      "text/plain": [
       "<matplotlib.legend.Legend at 0x10deeebe0>"
      ]
     },
     "execution_count": 16,
     "metadata": {},
     "output_type": "execute_result"
    },
    {
     "data": {
      "image/png": "[encoded data removed]",
      "text/plain": [
       "<matplotlib.figure.Figure at 0x123edf048>"
      ]
     },
     "metadata": {},
     "output_type": "display_data"
    }
   ],
   "source": [
    "# Initialize a figure with a single subpanel (axes, or ax) to plot on\n",
    "fig, ax = plt.subplots()\n",
    "\n",
    "# Plot the first (\"0\") and second (\"1\") components\n",
    "ax.scatter(smushed.loc[singles & immature, 0], smushed.loc[singles & immature, 1], color='MediumTurquoise', \n",
    "           s=100, label='single, immature')\n",
    "ax.scatter(smushed.loc[singles & mature, 0], smushed.loc[singles & mature, 1], color='Teal', \n",
    "           s=100, label='single, mature')\n",
    "ax.scatter(smushed.loc[pooled, 0], smushed.loc[pooled, 1], color='black', \n",
    "           edgecolor='black', linewidth=1, s=100, label='pooled')\n",
    "\n",
    "# Force legend location to be upper left\n",
    "ax.legend(loc='upper left')"
   ]
  },
  {
   "cell_type": "markdown",
   "metadata": {},
   "source": [
    "Now that we don't have the pooled samples outlined in black, let's also add a white outline so it's easier to tell the individual cells apart, with adding the following to `ax.scatter`:\n",
    "\n",
    "    edgecolor='white', linewidth=1"
   ]
  },
  {
   "cell_type": "code",
   "execution_count": 17,
   "metadata": {
    "collapsed": false
   },
   "outputs": [
    {
     "data": {
      "text/plain": [
       "<matplotlib.legend.Legend at 0x123f98320>"
      ]
     },
     "execution_count": 17,
     "metadata": {},
     "output_type": "execute_result"
    },
    {
     "data": {
      "image/png": "[encoded data removed]",
      "text/plain": [
       "<matplotlib.figure.Figure at 0x123f98d30>"
      ]
     },
     "metadata": {},
     "output_type": "display_data"
    }
   ],
   "source": [
    "# Initialize a figure with a single subpanel (axes, or ax) to plot on\n",
    "fig, ax = plt.subplots()\n",
    "\n",
    "# Plot the first (\"0\") and second (\"1\") components\n",
    "ax.scatter(smushed.loc[singles & immature, 0], smushed.loc[singles & immature, 1], color='MediumTurquoise', \n",
    "           s=100, label='single, immature', edgecolor='white', linewidth=1)\n",
    "ax.scatter(smushed.loc[singles & mature, 0], smushed.loc[singles & mature, 1], color='Teal', \n",
    "           s=100, label='single, mature', edgecolor='white', linewidth=1)\n",
    "ax.scatter(smushed.loc[pooled, 0], smushed.loc[pooled, 1], color='black', \n",
    "           s=100, label='pooled', edgecolor='white', linewidth=1)\n",
    "\n",
    "# Force legend location to be upper left\n",
    "ax.legend(loc='upper left')"
   ]
  },
  {
   "cell_type": "markdown",
   "metadata": {},
   "source": [
    "And label the x and y axes with the percentage explained variance."
   ]
  },
  {
   "cell_type": "code",
   "execution_count": 18,
   "metadata": {
    "collapsed": false
   },
   "outputs": [
    {
     "data": {
      "text/plain": [
       "<matplotlib.legend.Legend at 0x10f0b9b70>"
      ]
     },
     "execution_count": 18,
     "metadata": {},
     "output_type": "execute_result"
    },
    {
     "data": {
      "image/png": "[encoded data removed]",
      "text/plain": [
       "<matplotlib.figure.Figure at 0x10f0182e8>"
      ]
     },
     "metadata": {},
     "output_type": "display_data"
    }
   ],
   "source": [
    "# Initialize a figure with a single subpanel (axes, or ax) to plot on\n",
    "fig, ax = plt.subplots()\n",
    "\n",
    "\n",
    "# Plot the first (\"0\") and second (\"1\") components\n",
    "ax.scatter(smushed.loc[singles & immature, 0], smushed.loc[singles & immature, 1], color='MediumTurquoise', \n",
    "           s=100, label='single, immature', edgecolor='white', linewidth=1)\n",
    "ax.scatter(smushed.loc[singles & mature, 0], smushed.loc[singles & mature, 1], color='Teal', \n",
    "           s=100, label='single, mature', edgecolor='white', linewidth=1)\n",
    "ax.scatter(smushed.loc[pooled, 0], smushed.loc[pooled, 1], color='black', edgecolor='white', linewidth=1,\n",
    "           s=100, label='pooled')\n",
    "\n",
    "xlabel = 'PC1 explains {:.1f}% variance'.format(100*smusher.explained_variance_ratio_[0])\n",
    "ylabel = 'PC2 explains {:.1f}% variance'.format(100*smusher.explained_variance_ratio_[1])\n",
    "\n",
    "ax.set_xlabel(xlabel)\n",
    "ax.set_ylabel(ylabel)\n",
    "\n",
    "# Force legend location to be upper left\n",
    "ax.legend(loc='upper left')"
   ]
  },
  {
   "cell_type": "markdown",
   "metadata": {},
   "source": [
    "If we like, we can save the figure with `fig.savefig(\"shalek2013_pca.pdf\")`. The format of the file to save is auto-detected"
   ]
  },
  {
   "cell_type": "code",
   "execution_count": 19,
   "metadata": {
    "collapsed": false
   },
   "outputs": [
    {
     "data": {
      "image/png": "[encoded data removed]",
      "text/plain": [
       "<matplotlib.figure.Figure at 0x10f094898>"
      ]
     },
     "metadata": {},
     "output_type": "display_data"
    }
   ],
   "source": [
    "# Initialize a figure with a single subpanel (axes, or ax) to plot on\n",
    "fig, ax = plt.subplots()\n",
    "\n",
    "\n",
    "# Plot the first (\"0\") and second (\"1\") components\n",
    "ax.scatter(smushed.loc[singles & immature, 0], smushed.loc[singles & immature, 1], color='MediumTurquoise', \n",
    "           s=100, label='single, immature', edgecolor='white', linewidth=1)\n",
    "ax.scatter(smushed.loc[singles & mature, 0], smushed.loc[singles & mature, 1], color='Teal', \n",
    "           s=100, label='single, mature', edgecolor='white', linewidth=1)\n",
    "ax.scatter(smushed.loc[pooled, 0], smushed.loc[pooled, 1], color='black', \n",
    "           edgecolor='white', linewidth=1, s=100, label='pooled')\n",
    "\n",
    "xlabel = 'PC1 explains {:.1f}% variance'.format(100*smusher.explained_variance_ratio_[0])\n",
    "ylabel = 'PC2 explains {:.1f}% variance'.format(100*smusher.explained_variance_ratio_[1])\n",
    "\n",
    "ax.set_xlabel(xlabel)\n",
    "ax.set_ylabel(ylabel)\n",
    "\n",
    "# Force legend location to be upper left\n",
    "ax.legend(loc='upper left')\n",
    "\n",
    "fig.savefig('shalek2013_pca.pdf')"
   ]
  },
  {
   "cell_type": "markdown",
   "metadata": {},
   "source": [
    "### Exercise 1\n",
    "To do this exercise, you don't have to use the cells above, you can press \"+\" to add a cell and work in there instead.\n",
    "\n",
    "1. Try plotting other principal components in the last plot\n",
    "    1. Do you need to change the x- and y-labels?\n",
    "2. How does the explained variance ratio compare in the other components?\n",
    "3. Try plotting only the pooled or single samples\n",
    "1. Try ICA (`FastICA`), t-SNE (`TSNE`) and MDS (`MDS`)\n",
    "    1. Compare different numbers of components\n",
    "    2. Compare different random states: `FastICA(random_state=0)` for example\n",
    "        1. Does setting the random state not work for any of the \"smushers\"? Why or why not?"
   ]
  },
  {
   "cell_type": "markdown",
   "metadata": {},
   "source": [
    "## Macaulay2016 data"
   ]
  },
  {
   "cell_type": "code",
   "execution_count": null,
   "metadata": {
    "collapsed": false
   },
   "outputs": [],
   "source": [
    "macaulay2016_expression = pd.read_csv('../data/macaulay2016/gene_expression_s.csv', index_col=0)\n",
    "macaulay2016_expression.head()"
   ]
  },
  {
   "cell_type": "markdown",
   "metadata": {},
   "source": [
    "Notice that there's ERCCs and GFP expression in this matrix as well."
   ]
  },
  {
   "cell_type": "code",
   "execution_count": null,
   "metadata": {
    "collapsed": false
   },
   "outputs": [],
   "source": [
    "macaulay2016_expression.tail()"
   ]
  },
  {
   "cell_type": "markdown",
   "metadata": {},
   "source": [
    "Read metadata"
   ]
  },
  {
   "cell_type": "code",
   "execution_count": null,
   "metadata": {
    "collapsed": false
   },
   "outputs": [],
   "source": [
    "# Set maximum columns to display as 50 because the dataframe has 49 columns\n",
    "pd.options.display.max_columns = 50\n",
    "\n",
    "macaulay2016_metadata = pd.read_csv('../data/macaulay2016/sample_info_qc.csv', index_col=0)\n",
    "# Necessary step for converting the parsed cluster color to be usable with matplotlib\n",
    "macaulay2016_metadata['cluster_color'] = macaulay2016_metadata['cluster_color'].map(eval)\n",
    "macaulay2016_metadata.head()"
   ]
  },
  {
   "cell_type": "markdown",
   "metadata": {},
   "source": [
    "Filter the gene expression data to use only ensembl genes (no ERCCs or GFP), only use cells that passed QC, and recalculate transcripts per million without the ERCCS."
   ]
  },
  {
   "cell_type": "code",
   "execution_count": null,
   "metadata": {
    "collapsed": false
   },
   "outputs": [],
   "source": [
    "ensembl_genes = [x for x in macaulay2016_expression.index if x.startswith('ENS')]\n",
    "cells_pass_qc = macaulay2016_metadata[\"Pass QC\"].index[macaulay2016_metadata[\"Pass QC\"]]\n",
    "\n",
    "macaulay2016_expression_filtered = macaulay2016_expression.loc[ensembl_genes, cells_pass_qc]\n",
    "\n",
    "# Recalculate TPM\n",
    "macaulay2016_expression_filtered = 1e6 * macaulay2016_expression_filtered / macaulay2016_expression_filtered.sum()\n",
    "\n",
    "# Transpose so it's machine learning format\n",
    "macaulay2016_expression_filtered = macaulay2016_expression_filtered.T\n",
    "\n",
    "# Take only \"expressed genes\" with expression greater than 1 in at least 3 cells\n",
    "mask = (macaulay2016_expression_filtered > 1).sum() >= 3\n",
    "macaulay2016_expression_filtered = macaulay2016_expression_filtered.loc[:, mask]\n",
    "print(macaulay2016_expression_filtered.shape)\n",
    "macaulay2016_expression_filtered.head()"
   ]
  },
  {
   "cell_type": "markdown",
   "metadata": {},
   "source": [
    "Add 1 and take the log10"
   ]
  },
  {
   "cell_type": "code",
   "execution_count": null,
   "metadata": {
    "collapsed": false
   },
   "outputs": [],
   "source": [
    "macaulay2016_expression_log10 = np.log10(macaulay2016_expression_filtered + 1)\n",
    "macaulay2016_expression_log10.head()"
   ]
  },
  {
   "cell_type": "markdown",
   "metadata": {},
   "source": [
    "To help you with plotting, here is a dictionary which maps the name of the cluster to the (r,g,b) color values, where each value is from 0 to 1."
   ]
  },
  {
   "cell_type": "code",
   "execution_count": null,
   "metadata": {
    "collapsed": false
   },
   "outputs": [],
   "source": [
    "macaulay2016_colors = macaulay2016_metadata.loc[macaulay2016_expression_log10.index, 'cluster_color']\n",
    "macaulay2016_clusters = macaulay2016_metadata.loc[macaulay2016_expression_log10.index, 'cluster']\n",
    "macaulay2016_cluster_to_color = dict(zip(macaulay2016_clusters, macaulay2016_colors))\n",
    "macaulay2016_cluster_to_color"
   ]
  },
  {
   "cell_type": "markdown",
   "metadata": {},
   "source": [
    "Here's an example plot using a `groupby`, which is a super-duper convenient function (on `pandas` DataFrames only - that's why we're making the PCA and FastICA results into dataframes) to take (non-overlapping) subsets of your data. Here we're taking all cells that correspond to each cluster, and plotting them here."
   ]
  },
  {
   "cell_type": "code",
   "execution_count": null,
   "metadata": {
    "collapsed": false
   },
   "outputs": [],
   "source": [
    "fig, ax = plt.subplots()\n",
    "\n",
    "for cluster, df in macaulay2016_expression_log10.groupby(macaulay2016_clusters):\n",
    "    print(cluster)\n",
    "    color = macaulay2016_cluster_to_color[cluster]\n",
    "    ax.scatter(df['ENSDARG00000000001'], \n",
    "               df['ENSDARG00000000002'], color=color, label=cluster)\n",
    "ax.legend()"
   ]
  },
  {
   "cell_type": "code",
   "execution_count": null,
   "metadata": {
    "collapsed": false
   },
   "outputs": [],
   "source": [
    "smusher = PCA(n_components=4)\n",
    "macaulay2016_reduced = pd.DataFrame(smusher.fit_transform(macaulay2016_expression_log10), \n",
    "                                    index=macaulay2016_expression_log10.index)\n",
    "macaulay2016_reduced.head()"
   ]
  },
  {
   "cell_type": "markdown",
   "metadata": {},
   "source": [
    "Add a column indicating the color"
   ]
  },
  {
   "cell_type": "code",
   "execution_count": null,
   "metadata": {
    "collapsed": false
   },
   "outputs": [],
   "source": [
    "macaulay2016_reduced = macaulay2016_reduced.join(macaulay2016_clusters)\n",
    "macaulay2016_reduced.head()"
   ]
  },
  {
   "cell_type": "markdown",
   "metadata": {},
   "source": [
    "We can use `groupby` on the \"cluster\" column to plot one pair of axes:"
   ]
  },
  {
   "cell_type": "code",
   "execution_count": null,
   "metadata": {
    "collapsed": false
   },
   "outputs": [],
   "source": [
    "fig, ax = plt.subplots()\n",
    "for cluster, df in macaulay2016_reduced.groupby('cluster'):\n",
    "    color = macaulay2016_cluster_to_color[cluster]\n",
    "    ax.scatter(df[0], df[1], color=color, label=cluster)"
   ]
  },
  {
   "cell_type": "markdown",
   "metadata": {},
   "source": [
    "Or we can use seaborn's `pairplot` to plot all the axes of the data:"
   ]
  },
  {
   "cell_type": "code",
   "execution_count": null,
   "metadata": {
    "collapsed": false
   },
   "outputs": [],
   "source": [
    "sns.pairplot(macaulay2016_reduced, hue='cluster', palette='Set2')"
   ]
  },
  {
   "cell_type": "markdown",
   "metadata": {},
   "source": [
    "### Exercise 2\n",
    "To do this exercise, you don't have to use the cells above, you can press \"+\" to add a cell and work in there instead.\n",
    "\n",
    "1. Perform PCA and ICA on the Macaulay dataset, trying different numbers of components.\n",
    "    1. Which component separates the outliers from the rest of the dataset? Does this change with the number of components? Why?\n",
    "2. Perform MDS and t-SNE on the Macaulay dataset, trying different numbers of components\n",
    "3. (bonus!) Perform PCA or ICA (with any number of components), and then MDS or TSNE (with only two components) on the matrix-decomposed data.\n",
    "    1. This is what Macaulay + Svensson did in their paper. What were their parameters?\n",
    "    2. How does the manifold learning visualization change when you use different matrix decompositions?"
   ]
  }
 ],
 "metadata": {
  "kernelspec": {
   "display_name": "Python 3",
   "language": "python",
   "name": "python3"
  },
  "language_info": {
   "codemirror_mode": {
    "name": "ipython",
    "version": 3
   },
   "file_extension": ".py",
   "mimetype": "text/x-python",
   "name": "python",
   "nbconvert_exporter": "python",
   "pygments_lexer": "ipython3",
   "version": "3.5.2"
  }
 },
 "nbformat": 4,
 "nbformat_minor": 0
}
