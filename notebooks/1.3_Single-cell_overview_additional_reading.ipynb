{
 "cells": [
  {
   "cell_type": "markdown",
   "metadata": {},
   "source": [
    "# Additional reading\n",
    "\n",
    "#/5 - Olga's paper rating on a scale of 1 (worst) to 5 (best)\n",
    "\n",
    "## Introduction to single cell\n",
    "\n",
    "\n",
    "\n",
    "- 5/5 [Kolodziejczyk et al, *Mol Cell* (2015)](http://www.ncbi.nlm.nih.gov/pubmed/26000846)\n",
    "    - Great figures and overview of single cell\n",
    "- 5/5 [Bacher R & Kendziorski C, *Genome Biology* (2016)](http://www.ncbi.nlm.nih.gov/pmc/articles/PMC4823857/)\n",
    "    - Describes different downstream machine learning analyses in *detail*\n",
    "    - Fantastic table overview of current algorithms used in single cell analyses\n",
    "- 4/5 [Stegle O et al, *Nature Review Genetics* (2015)](http://www.ncbi.nlm.nih.gov/pubmed/25628217)\n",
    "    - Describes different expression normalization and QC steps in detail\n",
    "\n",
    "## Gene expression units\n",
    "\n",
    "- 5/5 [What the FPKM?: A review of RNA-seq expression units](https://haroldpimentel.wordpress.com/2014/05/08/what-the-fpkm-a-review-rna-seq-expression-units/)\n",
    "\n",
    "## Data format organization\n",
    "\n",
    "- 5/5 [Wickham H, *J Statistical Software* (2014)](papers/tidy-data.pdf)\n",
    "    - Excellent paper explicitly describing the concept of \"tidy data,\" where each row indicates a *single* observation. Honestly a game-changing paper in the way that you think about data structure and organization. Well worth the read\n",
    "    \n",
    "## Introduction to Machine learning\n",
    "\n",
    "- 5/5 [Introduction to Machine Learning, *`scikit-learn`* (2016)](http://scikit-learn.org/stable/tutorial/basic/tutorial.html)\n",
    "    - Great overview of inputs and usage of Python's fantastic machine learning library, `scikit-learn`"
   ]
  }
 ],
 "metadata": {
  "kernelspec": {
   "display_name": "Python 3",
   "language": "python",
   "name": "python3"
  },
  "language_info": {
   "codemirror_mode": {
    "name": "ipython",
    "version": 3
   },
   "file_extension": ".py",
   "mimetype": "text/x-python",
   "name": "python",
   "nbconvert_exporter": "python",
   "pygments_lexer": "ipython3",
   "version": "3.5.1"
  }
 },
 "nbformat": 4,
 "nbformat_minor": 0
}
