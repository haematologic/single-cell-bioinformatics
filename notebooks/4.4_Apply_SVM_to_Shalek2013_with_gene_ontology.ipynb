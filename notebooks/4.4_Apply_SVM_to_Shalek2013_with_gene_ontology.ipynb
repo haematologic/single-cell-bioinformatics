{
 "cells": [
  {
   "cell_type": "markdown",
   "metadata": {},
   "source": [
    "# Applying classifiers to Shalek2013\n",
    "\n",
    "We're going to use the classifier knowledge that we've learned so far and apply it to the shalek2013 and macaulay2016 datasets.\n",
    "\n",
    "For the GO analysis, we'll need a few other packages:\n",
    "\n",
    "* `mygene` for looking up the gene ontology categories of genes\n",
    "* `goatools` for performing gene ontology enrichment analysis\n",
    "* `fishers_exact_test` for `goatools`\n",
    "\n",
    "Use the following commands at your terminal to install the packages. Some of them are on Github so it's important to get the whole command right.\n",
    "\n",
    "```\n",
    "$ pip install mygene\n",
    "$ pip install git+git://github.com/olgabot/goatools.git\n",
    "$ pip install git+https://github.com/brentp/fishers_exact_test.git\n",
    "```"
   ]
  },
  {
   "cell_type": "code",
   "execution_count": 1,
   "metadata": {
    "collapsed": false
   },
   "outputs": [
    {
     "name": "stderr",
     "output_type": "stream",
     "text": [
      "/Users/olga/anaconda3/envs/single-cell-bioinformatics/lib/python3.5/site-packages/matplotlib/__init__.py:872: UserWarning: axes.color_cycle is deprecated and replaced with axes.prop_cycle; please use the latter.\n",
      "  warnings.warn(self.msg_depr % (key, alt_key))\n"
     ]
    }
   ],
   "source": [
    "# Alphabetical order is standard\n",
    "# We're doing \"import superlongname as abbrev\" for our laziness - this way we don't have to type out the whole thing each time.\n",
    "\n",
    "# From python standard library\n",
    "import collections\n",
    "\n",
    "# Python plotting library\n",
    "import matplotlib.pyplot as plt\n",
    "\n",
    "# Numerical python library (pronounced \"num-pie\")\n",
    "import numpy as np\n",
    "\n",
    "# Dataframes in Python\n",
    "import pandas as pd\n",
    "\n",
    "# Statistical plotting library we'll use\n",
    "import seaborn as sns\n",
    "sns.set(style='whitegrid')\n",
    "\n",
    "# Label processing\n",
    "from sklearn import preprocessing\n",
    "\n",
    "# Matrix decomposition\n",
    "from sklearn.decomposition import PCA, FastICA\n",
    "\n",
    "# Matrix decomposition\n",
    "from sklearn.tree import DecisionTreeClassifier\n",
    "from sklearn.ensemble import RandomForestClassifier, ExtraTreesClassifier\n",
    "\n",
    "# Manifold learning\n",
    "from sklearn.manifold import MDS, TSNE\n",
    "\n",
    "# Gene ontology\n",
    "import goatools\n",
    "import mygene\n",
    "\n",
    "# This is necessary to show the plotted figures inside the notebook -- \"inline\" with the notebook cells\n",
    "%matplotlib inline\n"
   ]
  },
  {
   "cell_type": "markdown",
   "metadata": {},
   "source": [
    "Utility functions for gene ontology and SVM decision boundary plotting"
   ]
  },
  {
   "cell_type": "code",
   "execution_count": 2,
   "metadata": {
    "collapsed": true
   },
   "outputs": [],
   "source": [
    "def plot_svc_decision_function(clf, ax=None):\n",
    "    \"\"\"Plot the decision function for a 2D SVC\"\"\"\n",
    "    if ax is None:\n",
    "        ax = plt.gca()\n",
    "    x = np.linspace(plt.xlim()[0], plt.xlim()[1], 30)\n",
    "    y = np.linspace(plt.ylim()[0], plt.ylim()[1], 30)\n",
    "    Y, X = np.meshgrid(y, x)\n",
    "    P = np.zeros_like(X)\n",
    "    for i, xi in enumerate(x):\n",
    "        for j, yj in enumerate(y):\n",
    "            P[i, j] = clf.decision_function([[xi, yj]])\n",
    "    # plot the margins\n",
    "    ax.contour(X, Y, P, colors='k',\n",
    "               levels=[-1, 0, 1], alpha=0.5,\n",
    "               linestyles=['--', '-', '--'])\n",
    "    \n",
    "GO_KEYS = 'go.BP', 'go.MF', 'go.CC'\n",
    "\n",
    "def parse_mygene_output(mygene_output):\n",
    "    \"\"\"Convert mygene.querymany output to a gene id to go term mapping (dictionary)\n",
    "    \n",
    "    Parameters\n",
    "    ----------\n",
    "    mygene_output : dict or list\n",
    "        Dictionary (returnall=True) or list (returnall=False) of \n",
    "        output from mygene.querymany\n",
    "        \n",
    "    Output\n",
    "    ------\n",
    "    gene_name_to_go : dict\n",
    "        Mapping of gene name to a set of GO ids    \n",
    "    \"\"\"\n",
    "    # if \"returnall=True\" was specified, need to get just the \"out\" key\n",
    "    if isinstance(mygene_output, dict):\n",
    "        mygene_output = mygene_output['out']\n",
    "\n",
    "    gene_name_to_go = collections.defaultdict(set)\n",
    "\n",
    "    for line in mygene_output:\n",
    "        gene_name = line['query']\n",
    "        for go_key in GO_KEYS:\n",
    "            try:\n",
    "                go_terms = line[go_key]\n",
    "            except KeyError:\n",
    "                continue\n",
    "            if isinstance(go_terms, dict):\n",
    "                go_ids = set([go_terms['id']])\n",
    "            else:\n",
    "                go_ids = set(x['id'] for x in go_terms)\n",
    "            gene_name_to_go[gene_name] |= go_ids\n",
    "    return gene_name_to_go\n"
   ]
  },
  {
   "cell_type": "markdown",
   "metadata": {},
   "source": [
    "## Read in the Shalek2013 data"
   ]
  },
  {
   "cell_type": "code",
   "execution_count": 3,
   "metadata": {
    "collapsed": false
   },
   "outputs": [
    {
     "data": {
      "text/html": [
       "<div>\n",
       "<table border=\"1\" class=\"dataframe\">\n",
       "  <thead>\n",
       "    <tr style=\"text-align: right;\">\n",
       "      <th></th>\n",
       "      <th>phenotype</th>\n",
       "      <th>pooled</th>\n",
       "      <th>outlier</th>\n",
       "      <th>maturity</th>\n",
       "      <th>color</th>\n",
       "      <th>group</th>\n",
       "    </tr>\n",
       "  </thead>\n",
       "  <tbody>\n",
       "    <tr>\n",
       "      <th>S1</th>\n",
       "      <td>BDMC</td>\n",
       "      <td>False</td>\n",
       "      <td>False</td>\n",
       "      <td>immature</td>\n",
       "      <td>MediumTurquoise</td>\n",
       "      <td>immature</td>\n",
       "    </tr>\n",
       "    <tr>\n",
       "      <th>S2</th>\n",
       "      <td>BDMC</td>\n",
       "      <td>False</td>\n",
       "      <td>False</td>\n",
       "      <td>immature</td>\n",
       "      <td>MediumTurquoise</td>\n",
       "      <td>immature</td>\n",
       "    </tr>\n",
       "    <tr>\n",
       "      <th>S3</th>\n",
       "      <td>BDMC</td>\n",
       "      <td>False</td>\n",
       "      <td>False</td>\n",
       "      <td>immature</td>\n",
       "      <td>MediumTurquoise</td>\n",
       "      <td>immature</td>\n",
       "    </tr>\n",
       "    <tr>\n",
       "      <th>S4</th>\n",
       "      <td>BDMC</td>\n",
       "      <td>False</td>\n",
       "      <td>False</td>\n",
       "      <td>immature</td>\n",
       "      <td>MediumTurquoise</td>\n",
       "      <td>immature</td>\n",
       "    </tr>\n",
       "    <tr>\n",
       "      <th>S5</th>\n",
       "      <td>BDMC</td>\n",
       "      <td>False</td>\n",
       "      <td>False</td>\n",
       "      <td>immature</td>\n",
       "      <td>MediumTurquoise</td>\n",
       "      <td>immature</td>\n",
       "    </tr>\n",
       "    <tr>\n",
       "      <th>S6</th>\n",
       "      <td>BDMC</td>\n",
       "      <td>False</td>\n",
       "      <td>False</td>\n",
       "      <td>immature</td>\n",
       "      <td>MediumTurquoise</td>\n",
       "      <td>immature</td>\n",
       "    </tr>\n",
       "    <tr>\n",
       "      <th>S7</th>\n",
       "      <td>BDMC</td>\n",
       "      <td>False</td>\n",
       "      <td>False</td>\n",
       "      <td>immature</td>\n",
       "      <td>MediumTurquoise</td>\n",
       "      <td>immature</td>\n",
       "    </tr>\n",
       "    <tr>\n",
       "      <th>S8</th>\n",
       "      <td>BDMC</td>\n",
       "      <td>False</td>\n",
       "      <td>False</td>\n",
       "      <td>immature</td>\n",
       "      <td>MediumTurquoise</td>\n",
       "      <td>immature</td>\n",
       "    </tr>\n",
       "    <tr>\n",
       "      <th>S9</th>\n",
       "      <td>BDMC</td>\n",
       "      <td>False</td>\n",
       "      <td>False</td>\n",
       "      <td>immature</td>\n",
       "      <td>MediumTurquoise</td>\n",
       "      <td>immature</td>\n",
       "    </tr>\n",
       "    <tr>\n",
       "      <th>S10</th>\n",
       "      <td>BDMC</td>\n",
       "      <td>False</td>\n",
       "      <td>False</td>\n",
       "      <td>immature</td>\n",
       "      <td>MediumTurquoise</td>\n",
       "      <td>immature</td>\n",
       "    </tr>\n",
       "    <tr>\n",
       "      <th>S11</th>\n",
       "      <td>BDMC</td>\n",
       "      <td>False</td>\n",
       "      <td>False</td>\n",
       "      <td>immature</td>\n",
       "      <td>MediumTurquoise</td>\n",
       "      <td>immature</td>\n",
       "    </tr>\n",
       "    <tr>\n",
       "      <th>S12</th>\n",
       "      <td>BDMC</td>\n",
       "      <td>False</td>\n",
       "      <td>False</td>\n",
       "      <td>mature</td>\n",
       "      <td>Teal</td>\n",
       "      <td>mature</td>\n",
       "    </tr>\n",
       "    <tr>\n",
       "      <th>S13</th>\n",
       "      <td>BDMC</td>\n",
       "      <td>False</td>\n",
       "      <td>False</td>\n",
       "      <td>mature</td>\n",
       "      <td>Teal</td>\n",
       "      <td>mature</td>\n",
       "    </tr>\n",
       "    <tr>\n",
       "      <th>S14</th>\n",
       "      <td>BDMC</td>\n",
       "      <td>False</td>\n",
       "      <td>False</td>\n",
       "      <td>immature</td>\n",
       "      <td>MediumTurquoise</td>\n",
       "      <td>immature</td>\n",
       "    </tr>\n",
       "    <tr>\n",
       "      <th>S15</th>\n",
       "      <td>BDMC</td>\n",
       "      <td>False</td>\n",
       "      <td>False</td>\n",
       "      <td>immature</td>\n",
       "      <td>MediumTurquoise</td>\n",
       "      <td>immature</td>\n",
       "    </tr>\n",
       "    <tr>\n",
       "      <th>S16</th>\n",
       "      <td>BDMC</td>\n",
       "      <td>False</td>\n",
       "      <td>False</td>\n",
       "      <td>mature</td>\n",
       "      <td>Teal</td>\n",
       "      <td>mature</td>\n",
       "    </tr>\n",
       "    <tr>\n",
       "      <th>S17</th>\n",
       "      <td>BDMC</td>\n",
       "      <td>False</td>\n",
       "      <td>False</td>\n",
       "      <td>immature</td>\n",
       "      <td>MediumTurquoise</td>\n",
       "      <td>immature</td>\n",
       "    </tr>\n",
       "    <tr>\n",
       "      <th>S18</th>\n",
       "      <td>BDMC</td>\n",
       "      <td>False</td>\n",
       "      <td>False</td>\n",
       "      <td>immature</td>\n",
       "      <td>MediumTurquoise</td>\n",
       "      <td>immature</td>\n",
       "    </tr>\n",
       "    <tr>\n",
       "      <th>P1</th>\n",
       "      <td>BDMC</td>\n",
       "      <td>True</td>\n",
       "      <td>False</td>\n",
       "      <td>immature</td>\n",
       "      <td>black</td>\n",
       "      <td>pooled</td>\n",
       "    </tr>\n",
       "    <tr>\n",
       "      <th>P2</th>\n",
       "      <td>BDMC</td>\n",
       "      <td>True</td>\n",
       "      <td>False</td>\n",
       "      <td>immature</td>\n",
       "      <td>black</td>\n",
       "      <td>pooled</td>\n",
       "    </tr>\n",
       "    <tr>\n",
       "      <th>P3</th>\n",
       "      <td>BDMC</td>\n",
       "      <td>True</td>\n",
       "      <td>False</td>\n",
       "      <td>immature</td>\n",
       "      <td>black</td>\n",
       "      <td>pooled</td>\n",
       "    </tr>\n",
       "  </tbody>\n",
       "</table>\n",
       "</div>"
      ],
      "text/plain": [
       "    phenotype pooled outlier  maturity            color     group\n",
       "S1       BDMC  False   False  immature  MediumTurquoise  immature\n",
       "S2       BDMC  False   False  immature  MediumTurquoise  immature\n",
       "S3       BDMC  False   False  immature  MediumTurquoise  immature\n",
       "S4       BDMC  False   False  immature  MediumTurquoise  immature\n",
       "S5       BDMC  False   False  immature  MediumTurquoise  immature\n",
       "S6       BDMC  False   False  immature  MediumTurquoise  immature\n",
       "S7       BDMC  False   False  immature  MediumTurquoise  immature\n",
       "S8       BDMC  False   False  immature  MediumTurquoise  immature\n",
       "S9       BDMC  False   False  immature  MediumTurquoise  immature\n",
       "S10      BDMC  False   False  immature  MediumTurquoise  immature\n",
       "S11      BDMC  False   False  immature  MediumTurquoise  immature\n",
       "S12      BDMC  False   False    mature             Teal    mature\n",
       "S13      BDMC  False   False    mature             Teal    mature\n",
       "S14      BDMC  False   False  immature  MediumTurquoise  immature\n",
       "S15      BDMC  False   False  immature  MediumTurquoise  immature\n",
       "S16      BDMC  False   False    mature             Teal    mature\n",
       "S17      BDMC  False   False  immature  MediumTurquoise  immature\n",
       "S18      BDMC  False   False  immature  MediumTurquoise  immature\n",
       "P1       BDMC   True   False  immature            black    pooled\n",
       "P2       BDMC   True   False  immature            black    pooled\n",
       "P3       BDMC   True   False  immature            black    pooled"
      ]
     },
     "execution_count": 3,
     "metadata": {},
     "output_type": "execute_result"
    }
   ],
   "source": [
    "metadata = pd.read_csv('../data/shalek2013/metadata.csv', \n",
    "                               \n",
    "                                     # Sets the first (Python starts counting from 0 not 1) column as the row names\n",
    "                                      index_col=0)\n",
    "expression = pd.read_csv('../data/shalek2013/expression.csv', \n",
    "                               \n",
    "                                     # Sets the first (Python starts counting from 0 not 1) column as the row names\n",
    "                                      index_col=0)\n",
    "expression_feature = pd.read_csv('../data/shalek2013/expression_feature.csv', \n",
    "                               \n",
    "                                     # Sets the first (Python starts counting from 0 not 1) column as the row names\n",
    "                                      index_col=0)\n",
    "\n",
    "# creating new column indicating color\n",
    "metadata['color'] = metadata['maturity'].map(\n",
    "    lambda x: 'MediumTurquoise' if x == 'immature' else 'Teal')\n",
    "metadata.loc[metadata['pooled'], 'color'] = 'black'\n",
    "\n",
    "# Create a column indicating both maturity and pooled for coloring with seaborn, e.g. sns.pairplot\n",
    "metadata['group'] = metadata['maturity']\n",
    "metadata.loc[metadata['pooled'], 'group'] = 'pooled'\n",
    "\n",
    "# Create a palette and ordering for using with sns.pairplot\n",
    "palette = ['MediumTurquoise', 'Teal', 'black']\n",
    "order = ['immature', 'mature', 'pooled']\n",
    "\n",
    "metadata"
   ]
  },
  {
   "cell_type": "markdown",
   "metadata": {},
   "source": [
    "### Side note: getting LPS response genes using `query`\n",
    "\n",
    "Get the \"LPS response genes\" using a query:"
   ]
  },
  {
   "cell_type": "code",
   "execution_count": 4,
   "metadata": {
    "collapsed": false
   },
   "outputs": [
    {
     "data": {
      "text/html": [
       "<div>\n",
       "<table border=\"1\" class=\"dataframe\">\n",
       "  <thead>\n",
       "    <tr style=\"text-align: right;\">\n",
       "      <th></th>\n",
       "      <th>gene_category</th>\n",
       "    </tr>\n",
       "  </thead>\n",
       "  <tbody>\n",
       "    <tr>\n",
       "      <th>1110018G07RIK</th>\n",
       "      <td>LPS Response</td>\n",
       "    </tr>\n",
       "    <tr>\n",
       "      <th>1110032F04RIK</th>\n",
       "      <td>LPS Response</td>\n",
       "    </tr>\n",
       "    <tr>\n",
       "      <th>1110038F14RIK</th>\n",
       "      <td>LPS Response</td>\n",
       "    </tr>\n",
       "    <tr>\n",
       "      <th>1190002H23RIK</th>\n",
       "      <td>LPS Response</td>\n",
       "    </tr>\n",
       "    <tr>\n",
       "      <th>1200009I06RIK</th>\n",
       "      <td>LPS Response</td>\n",
       "    </tr>\n",
       "  </tbody>\n",
       "</table>\n",
       "</div>"
      ],
      "text/plain": [
       "              gene_category\n",
       "1110018G07RIK  LPS Response\n",
       "1110032F04RIK  LPS Response\n",
       "1110038F14RIK  LPS Response\n",
       "1190002H23RIK  LPS Response\n",
       "1200009I06RIK  LPS Response"
      ]
     },
     "execution_count": 4,
     "metadata": {},
     "output_type": "execute_result"
    }
   ],
   "source": [
    "subset = expression_feature.query('gene_category == \"LPS Response\"')\n",
    "subset.head()"
   ]
  },
  {
   "cell_type": "markdown",
   "metadata": {},
   "source": [
    "Assign the variable `lps_response_genes` based on the gene ids pulled out from this subset:"
   ]
  },
  {
   "cell_type": "code",
   "execution_count": 5,
   "metadata": {
    "collapsed": false
   },
   "outputs": [
    {
     "data": {
      "text/plain": [
       "Index(['1110018G07RIK', '1110032F04RIK', '1110038F14RIK', '1190002H23RIK',\n",
       "       '1200009I06RIK', '1600014C10RIK', '1810029B16RIK', '2010002M12RIK',\n",
       "       '2200002D01RIK', '2210009G21RIK',\n",
       "       ...\n",
       "       'ZCCHC2', 'ZCCHC6', 'ZDHHC21', 'ZFP36', 'ZFP558', 'ZFP800', 'ZFP811',\n",
       "       'ZHX2', 'ZNFX1', 'ZUFSP'],\n",
       "      dtype='object', length=945)"
      ]
     },
     "execution_count": 5,
     "metadata": {},
     "output_type": "execute_result"
    }
   ],
   "source": [
    "lps_response_genes = subset.index\n",
    "lps_response_genes"
   ]
  },
  {
   "cell_type": "markdown",
   "metadata": {},
   "source": [
    "For this analysis We want to compare the difference between the \"mature\" and \"immature\" cells in the Shalek2013 data."
   ]
  },
  {
   "cell_type": "code",
   "execution_count": 6,
   "metadata": {
    "collapsed": false
   },
   "outputs": [
    {
     "data": {
      "text/plain": [
       "(18, 6312)"
      ]
     },
     "execution_count": 6,
     "metadata": {},
     "output_type": "execute_result"
    }
   ],
   "source": [
    "singles_ids = [x for x in expression.index if x.startswith('S')]\n",
    "singles = expression.loc[singles_ids]\n",
    "singles.shape"
   ]
  },
  {
   "cell_type": "markdown",
   "metadata": {},
   "source": [
    "Use only the genes that are substantially expressed in single cells"
   ]
  },
  {
   "cell_type": "code",
   "execution_count": 7,
   "metadata": {
    "collapsed": false
   },
   "outputs": [
    {
     "data": {
      "text/plain": [
       "(18, 6013)"
      ]
     },
     "execution_count": 7,
     "metadata": {},
     "output_type": "execute_result"
    }
   ],
   "source": [
    "singles = singles.loc[:, (singles > 1).sum() >= 3]\n",
    "singles.shape"
   ]
  },
  {
   "cell_type": "markdown",
   "metadata": {},
   "source": [
    "Now because computers only understand numbers, we'll convert the category label of \"mature\" and \"immature\" into integers to a using a `LabelEncoder`. Let's look at that column again, only for mature cells:"
   ]
  },
  {
   "cell_type": "code",
   "execution_count": 8,
   "metadata": {
    "collapsed": false
   },
   "outputs": [
    {
     "data": {
      "text/plain": [
       "S1     immature\n",
       "S2     immature\n",
       "S3     immature\n",
       "S4     immature\n",
       "S5     immature\n",
       "S6     immature\n",
       "S7     immature\n",
       "S8     immature\n",
       "S9     immature\n",
       "S10    immature\n",
       "S11    immature\n",
       "S12      mature\n",
       "S13      mature\n",
       "S14    immature\n",
       "S15    immature\n",
       "S16      mature\n",
       "S17    immature\n",
       "S18    immature\n",
       "Name: maturity, dtype: object"
      ]
     },
     "execution_count": 8,
     "metadata": {},
     "output_type": "execute_result"
    }
   ],
   "source": [
    "singles_maturity = metadata.loc[singles.index, 'maturity']\n",
    "singles_maturity"
   ]
  },
  {
   "cell_type": "code",
   "execution_count": 9,
   "metadata": {
    "collapsed": false
   },
   "outputs": [
    {
     "data": {
      "text/plain": [
       "array([0, 0, 0, 0, 0, 0, 0, 0, 0, 0, 0, 1, 1, 0, 0, 1, 0, 0])"
      ]
     },
     "execution_count": 9,
     "metadata": {},
     "output_type": "execute_result"
    }
   ],
   "source": [
    "# Instantiate the encoder\n",
    "encoder = preprocessing.LabelEncoder()\n",
    "\n",
    "# Get number of categories and transform \"mature\"/\"immature\" to numbers\n",
    "target = encoder.fit_transform(singles_maturity)\n",
    "target"
   ]
  },
  {
   "cell_type": "markdown",
   "metadata": {},
   "source": [
    "## Run the classifier!!\n",
    "\n",
    "Yay so now we can run a classifier!"
   ]
  },
  {
   "cell_type": "code",
   "execution_count": 10,
   "metadata": {
    "collapsed": false
   },
   "outputs": [
    {
     "data": {
      "text/plain": [
       "SVC(C=1.0, cache_size=200, class_weight=None, coef0=0.0,\n",
       "  decision_function_shape=None, degree=3, gamma='auto', kernel='linear',\n",
       "  max_iter=-1, probability=False, random_state=None, shrinking=True,\n",
       "  tol=0.001, verbose=False)"
      ]
     },
     "execution_count": 10,
     "metadata": {},
     "output_type": "execute_result"
    }
   ],
   "source": [
    "from sklearn.svm import SVC\n",
    "\n",
    "classifier = SVC(kernel='linear')\n",
    "classifier.fit(singles, target)"
   ]
  },
  {
   "cell_type": "markdown",
   "metadata": {},
   "source": [
    "We'll use PCA or ICA to reduce our data for visualizing the SVM decision boundary. Stick to 32 or fewer components because the next steps will die if you use more than 32. Also, this `n_components` variable will be used later so pay attention :)"
   ]
  },
  {
   "cell_type": "code",
   "execution_count": 63,
   "metadata": {
    "collapsed": false
   },
   "outputs": [
    {
     "name": "stdout",
     "output_type": "stream",
     "text": [
      "(18, 3)\n"
     ]
    },
    {
     "data": {
      "text/html": [
       "<div>\n",
       "<table border=\"1\" class=\"dataframe\">\n",
       "  <thead>\n",
       "    <tr style=\"text-align: right;\">\n",
       "      <th></th>\n",
       "      <th>0</th>\n",
       "      <th>1</th>\n",
       "      <th>2</th>\n",
       "    </tr>\n",
       "  </thead>\n",
       "  <tbody>\n",
       "    <tr>\n",
       "      <th>S1</th>\n",
       "      <td>-50.895164</td>\n",
       "      <td>51.051727</td>\n",
       "      <td>-0.475594</td>\n",
       "    </tr>\n",
       "    <tr>\n",
       "      <th>S2</th>\n",
       "      <td>-6.621843</td>\n",
       "      <td>-16.845237</td>\n",
       "      <td>-53.126960</td>\n",
       "    </tr>\n",
       "    <tr>\n",
       "      <th>S3</th>\n",
       "      <td>-27.129347</td>\n",
       "      <td>-13.530018</td>\n",
       "      <td>38.690930</td>\n",
       "    </tr>\n",
       "    <tr>\n",
       "      <th>S4</th>\n",
       "      <td>-23.018061</td>\n",
       "      <td>-34.946561</td>\n",
       "      <td>12.429219</td>\n",
       "    </tr>\n",
       "    <tr>\n",
       "      <th>S5</th>\n",
       "      <td>-29.971542</td>\n",
       "      <td>-1.820914</td>\n",
       "      <td>25.019142</td>\n",
       "    </tr>\n",
       "  </tbody>\n",
       "</table>\n",
       "</div>"
      ],
      "text/plain": [
       "            0          1          2\n",
       "S1 -50.895164  51.051727  -0.475594\n",
       "S2  -6.621843 -16.845237 -53.126960\n",
       "S3 -27.129347 -13.530018  38.690930\n",
       "S4 -23.018061 -34.946561  12.429219\n",
       "S5 -29.971542  -1.820914  25.019142"
      ]
     },
     "execution_count": 63,
     "metadata": {},
     "output_type": "execute_result"
    }
   ],
   "source": [
    "n_components = 3\n",
    "\n",
    "smusher = PCA(n_components=n_components)\n",
    "smushed = pd.DataFrame(smusher.fit_transform(singles), index=singles.index)\n",
    "print(smushed.shape)\n",
    "smushed.head()"
   ]
  },
  {
   "cell_type": "code",
   "execution_count": 117,
   "metadata": {
    "collapsed": false
   },
   "outputs": [
    {
     "data": {
      "text/html": [
       "<div>\n",
       "<table border=\"1\" class=\"dataframe\">\n",
       "  <thead>\n",
       "    <tr style=\"text-align: right;\">\n",
       "      <th></th>\n",
       "      <th>NPL</th>\n",
       "      <th>QK</th>\n",
       "      <th>AK163153</th>\n",
       "      <th>AGPAT4</th>\n",
       "      <th>IGF2R</th>\n",
       "      <th>MRPL18</th>\n",
       "      <th>TCP1</th>\n",
       "      <th>RNASEL</th>\n",
       "      <th>ACAT2</th>\n",
       "      <th>WTAP</th>\n",
       "      <th>...</th>\n",
       "      <th>MIR692-1</th>\n",
       "      <th>RSPH3B</th>\n",
       "      <th>TAGAP1</th>\n",
       "      <th>RNASET2A</th>\n",
       "      <th>RPS6KA2</th>\n",
       "      <th>DHX9</th>\n",
       "      <th>RNASET2B</th>\n",
       "      <th>FGFR1OP</th>\n",
       "      <th>BRP44L</th>\n",
       "      <th>SFT2D1</th>\n",
       "    </tr>\n",
       "  </thead>\n",
       "  <tbody>\n",
       "    <tr>\n",
       "      <th>S1</th>\n",
       "      <td>4.290577</td>\n",
       "      <td>5.038477</td>\n",
       "      <td>1.249363</td>\n",
       "      <td>0.095072</td>\n",
       "      <td>2.648209</td>\n",
       "      <td>5.476280</td>\n",
       "      <td>5.711141</td>\n",
       "      <td>0.065396</td>\n",
       "      <td>4.138114</td>\n",
       "      <td>1.558020</td>\n",
       "      <td>...</td>\n",
       "      <td>4.165290</td>\n",
       "      <td>0.705881</td>\n",
       "      <td>0.000000</td>\n",
       "      <td>4.700306</td>\n",
       "      <td>0.033376</td>\n",
       "      <td>0.573596</td>\n",
       "      <td>3.199527</td>\n",
       "      <td>0.000000</td>\n",
       "      <td>6.134085</td>\n",
       "      <td>3.699883</td>\n",
       "    </tr>\n",
       "    <tr>\n",
       "      <th>S2</th>\n",
       "      <td>0.000000</td>\n",
       "      <td>4.183371</td>\n",
       "      <td>1.947622</td>\n",
       "      <td>5.868557</td>\n",
       "      <td>0.000000</td>\n",
       "      <td>0.000000</td>\n",
       "      <td>1.072934</td>\n",
       "      <td>0.000000</td>\n",
       "      <td>5.346876</td>\n",
       "      <td>1.275351</td>\n",
       "      <td>...</td>\n",
       "      <td>3.646853</td>\n",
       "      <td>3.288222</td>\n",
       "      <td>0.000000</td>\n",
       "      <td>0.000000</td>\n",
       "      <td>1.061873</td>\n",
       "      <td>0.312905</td>\n",
       "      <td>1.060520</td>\n",
       "      <td>0.000000</td>\n",
       "      <td>6.715250</td>\n",
       "      <td>1.786313</td>\n",
       "    </tr>\n",
       "    <tr>\n",
       "      <th>S3</th>\n",
       "      <td>4.860293</td>\n",
       "      <td>3.847854</td>\n",
       "      <td>1.082463</td>\n",
       "      <td>4.137252</td>\n",
       "      <td>3.350293</td>\n",
       "      <td>4.428491</td>\n",
       "      <td>4.795181</td>\n",
       "      <td>0.120361</td>\n",
       "      <td>0.184545</td>\n",
       "      <td>0.627058</td>\n",
       "      <td>...</td>\n",
       "      <td>2.179880</td>\n",
       "      <td>2.155733</td>\n",
       "      <td>0.055715</td>\n",
       "      <td>0.313902</td>\n",
       "      <td>3.044962</td>\n",
       "      <td>0.223030</td>\n",
       "      <td>0.272703</td>\n",
       "      <td>0.154241</td>\n",
       "      <td>6.911104</td>\n",
       "      <td>0.000000</td>\n",
       "    </tr>\n",
       "    <tr>\n",
       "      <th>S4</th>\n",
       "      <td>0.090829</td>\n",
       "      <td>0.066797</td>\n",
       "      <td>1.119633</td>\n",
       "      <td>0.066015</td>\n",
       "      <td>0.287966</td>\n",
       "      <td>5.351368</td>\n",
       "      <td>5.050281</td>\n",
       "      <td>0.099992</td>\n",
       "      <td>0.153751</td>\n",
       "      <td>4.563653</td>\n",
       "      <td>...</td>\n",
       "      <td>3.476627</td>\n",
       "      <td>1.325198</td>\n",
       "      <td>4.680847</td>\n",
       "      <td>2.846205</td>\n",
       "      <td>3.190581</td>\n",
       "      <td>0.303179</td>\n",
       "      <td>0.000000</td>\n",
       "      <td>0.634990</td>\n",
       "      <td>7.116205</td>\n",
       "      <td>0.123292</td>\n",
       "    </tr>\n",
       "    <tr>\n",
       "      <th>S5</th>\n",
       "      <td>0.000000</td>\n",
       "      <td>3.305915</td>\n",
       "      <td>1.267464</td>\n",
       "      <td>0.000000</td>\n",
       "      <td>0.000000</td>\n",
       "      <td>5.644345</td>\n",
       "      <td>5.809713</td>\n",
       "      <td>0.000000</td>\n",
       "      <td>3.807793</td>\n",
       "      <td>0.494250</td>\n",
       "      <td>...</td>\n",
       "      <td>3.598966</td>\n",
       "      <td>0.505812</td>\n",
       "      <td>2.457638</td>\n",
       "      <td>1.172225</td>\n",
       "      <td>0.000000</td>\n",
       "      <td>0.038511</td>\n",
       "      <td>0.000000</td>\n",
       "      <td>4.883386</td>\n",
       "      <td>7.387554</td>\n",
       "      <td>4.569395</td>\n",
       "    </tr>\n",
       "  </tbody>\n",
       "</table>\n",
       "<p>5 rows × 6013 columns</p>\n",
       "</div>"
      ],
      "text/plain": [
       "         NPL        QK  AK163153    AGPAT4     IGF2R    MRPL18      TCP1  \\\n",
       "S1  4.290577  5.038477  1.249363  0.095072  2.648209  5.476280  5.711141   \n",
       "S2  0.000000  4.183371  1.947622  5.868557  0.000000  0.000000  1.072934   \n",
       "S3  4.860293  3.847854  1.082463  4.137252  3.350293  4.428491  4.795181   \n",
       "S4  0.090829  0.066797  1.119633  0.066015  0.287966  5.351368  5.050281   \n",
       "S5  0.000000  3.305915  1.267464  0.000000  0.000000  5.644345  5.809713   \n",
       "\n",
       "      RNASEL     ACAT2      WTAP    ...     MIR692-1    RSPH3B    TAGAP1  \\\n",
       "S1  0.065396  4.138114  1.558020    ...     4.165290  0.705881  0.000000   \n",
       "S2  0.000000  5.346876  1.275351    ...     3.646853  3.288222  0.000000   \n",
       "S3  0.120361  0.184545  0.627058    ...     2.179880  2.155733  0.055715   \n",
       "S4  0.099992  0.153751  4.563653    ...     3.476627  1.325198  4.680847   \n",
       "S5  0.000000  3.807793  0.494250    ...     3.598966  0.505812  2.457638   \n",
       "\n",
       "    RNASET2A   RPS6KA2      DHX9  RNASET2B   FGFR1OP    BRP44L    SFT2D1  \n",
       "S1  4.700306  0.033376  0.573596  3.199527  0.000000  6.134085  3.699883  \n",
       "S2  0.000000  1.061873  0.312905  1.060520  0.000000  6.715250  1.786313  \n",
       "S3  0.313902  3.044962  0.223030  0.272703  0.154241  6.911104  0.000000  \n",
       "S4  2.846205  3.190581  0.303179  0.000000  0.634990  7.116205  0.123292  \n",
       "S5  1.172225  0.000000  0.038511  0.000000  4.883386  7.387554  4.569395  \n",
       "\n",
       "[5 rows x 6013 columns]"
      ]
     },
     "execution_count": 117,
     "metadata": {},
     "output_type": "execute_result"
    }
   ],
   "source": [
    "singles.head()"
   ]
  },
  {
   "cell_type": "markdown",
   "metadata": {},
   "source": [
    "Let's add the group identifier here for plotting:"
   ]
  },
  {
   "cell_type": "code",
   "execution_count": 64,
   "metadata": {
    "collapsed": false
   },
   "outputs": [
    {
     "data": {
      "text/html": [
       "<div>\n",
       "<table border=\"1\" class=\"dataframe\">\n",
       "  <thead>\n",
       "    <tr style=\"text-align: right;\">\n",
       "      <th></th>\n",
       "      <th>0</th>\n",
       "      <th>1</th>\n",
       "      <th>2</th>\n",
       "      <th>group</th>\n",
       "    </tr>\n",
       "  </thead>\n",
       "  <tbody>\n",
       "    <tr>\n",
       "      <th>S1</th>\n",
       "      <td>-50.895164</td>\n",
       "      <td>51.051727</td>\n",
       "      <td>-0.475594</td>\n",
       "      <td>immature</td>\n",
       "    </tr>\n",
       "    <tr>\n",
       "      <th>S2</th>\n",
       "      <td>-6.621843</td>\n",
       "      <td>-16.845237</td>\n",
       "      <td>-53.126960</td>\n",
       "      <td>immature</td>\n",
       "    </tr>\n",
       "    <tr>\n",
       "      <th>S3</th>\n",
       "      <td>-27.129347</td>\n",
       "      <td>-13.530018</td>\n",
       "      <td>38.690930</td>\n",
       "      <td>immature</td>\n",
       "    </tr>\n",
       "    <tr>\n",
       "      <th>S4</th>\n",
       "      <td>-23.018061</td>\n",
       "      <td>-34.946561</td>\n",
       "      <td>12.429219</td>\n",
       "      <td>immature</td>\n",
       "    </tr>\n",
       "    <tr>\n",
       "      <th>S5</th>\n",
       "      <td>-29.971542</td>\n",
       "      <td>-1.820914</td>\n",
       "      <td>25.019142</td>\n",
       "      <td>immature</td>\n",
       "    </tr>\n",
       "    <tr>\n",
       "      <th>S6</th>\n",
       "      <td>-24.764453</td>\n",
       "      <td>14.574389</td>\n",
       "      <td>28.669515</td>\n",
       "      <td>immature</td>\n",
       "    </tr>\n",
       "    <tr>\n",
       "      <th>S7</th>\n",
       "      <td>-20.374686</td>\n",
       "      <td>-11.174974</td>\n",
       "      <td>47.193818</td>\n",
       "      <td>immature</td>\n",
       "    </tr>\n",
       "    <tr>\n",
       "      <th>S8</th>\n",
       "      <td>-29.401500</td>\n",
       "      <td>9.302269</td>\n",
       "      <td>-6.327138</td>\n",
       "      <td>immature</td>\n",
       "    </tr>\n",
       "    <tr>\n",
       "      <th>S9</th>\n",
       "      <td>-20.940892</td>\n",
       "      <td>84.294129</td>\n",
       "      <td>-64.999387</td>\n",
       "      <td>immature</td>\n",
       "    </tr>\n",
       "    <tr>\n",
       "      <th>S10</th>\n",
       "      <td>-2.446060</td>\n",
       "      <td>-51.355672</td>\n",
       "      <td>0.803399</td>\n",
       "      <td>immature</td>\n",
       "    </tr>\n",
       "    <tr>\n",
       "      <th>S11</th>\n",
       "      <td>-4.313523</td>\n",
       "      <td>-31.422904</td>\n",
       "      <td>-34.798855</td>\n",
       "      <td>immature</td>\n",
       "    </tr>\n",
       "    <tr>\n",
       "      <th>S12</th>\n",
       "      <td>120.603174</td>\n",
       "      <td>6.673175</td>\n",
       "      <td>-3.347440</td>\n",
       "      <td>mature</td>\n",
       "    </tr>\n",
       "    <tr>\n",
       "      <th>S13</th>\n",
       "      <td>96.241872</td>\n",
       "      <td>31.074948</td>\n",
       "      <td>40.545691</td>\n",
       "      <td>mature</td>\n",
       "    </tr>\n",
       "    <tr>\n",
       "      <th>S14</th>\n",
       "      <td>-40.987292</td>\n",
       "      <td>6.963253</td>\n",
       "      <td>-3.442883</td>\n",
       "      <td>immature</td>\n",
       "    </tr>\n",
       "    <tr>\n",
       "      <th>S15</th>\n",
       "      <td>8.534140</td>\n",
       "      <td>-16.796547</td>\n",
       "      <td>-56.050497</td>\n",
       "      <td>immature</td>\n",
       "    </tr>\n",
       "    <tr>\n",
       "      <th>S16</th>\n",
       "      <td>42.654368</td>\n",
       "      <td>55.552508</td>\n",
       "      <td>14.577843</td>\n",
       "      <td>mature</td>\n",
       "    </tr>\n",
       "    <tr>\n",
       "      <th>S17</th>\n",
       "      <td>37.197595</td>\n",
       "      <td>-73.955499</td>\n",
       "      <td>-28.271309</td>\n",
       "      <td>immature</td>\n",
       "    </tr>\n",
       "    <tr>\n",
       "      <th>S18</th>\n",
       "      <td>-24.366786</td>\n",
       "      <td>-7.638072</td>\n",
       "      <td>42.910508</td>\n",
       "      <td>immature</td>\n",
       "    </tr>\n",
       "  </tbody>\n",
       "</table>\n",
       "</div>"
      ],
      "text/plain": [
       "              0          1          2     group\n",
       "S1   -50.895164  51.051727  -0.475594  immature\n",
       "S2    -6.621843 -16.845237 -53.126960  immature\n",
       "S3   -27.129347 -13.530018  38.690930  immature\n",
       "S4   -23.018061 -34.946561  12.429219  immature\n",
       "S5   -29.971542  -1.820914  25.019142  immature\n",
       "S6   -24.764453  14.574389  28.669515  immature\n",
       "S7   -20.374686 -11.174974  47.193818  immature\n",
       "S8   -29.401500   9.302269  -6.327138  immature\n",
       "S9   -20.940892  84.294129 -64.999387  immature\n",
       "S10   -2.446060 -51.355672   0.803399  immature\n",
       "S11   -4.313523 -31.422904 -34.798855  immature\n",
       "S12  120.603174   6.673175  -3.347440    mature\n",
       "S13   96.241872  31.074948  40.545691    mature\n",
       "S14  -40.987292   6.963253  -3.442883  immature\n",
       "S15    8.534140 -16.796547 -56.050497  immature\n",
       "S16   42.654368  55.552508  14.577843    mature\n",
       "S17   37.197595 -73.955499 -28.271309  immature\n",
       "S18  -24.366786  -7.638072  42.910508  immature"
      ]
     },
     "execution_count": 64,
     "metadata": {},
     "output_type": "execute_result"
    }
   ],
   "source": [
    "smushed_with_group = smushed.join(metadata['group'])\n",
    "smushed_with_group"
   ]
  },
  {
   "cell_type": "markdown",
   "metadata": {},
   "source": [
    "And plot our components in "
   ]
  },
  {
   "cell_type": "code",
   "execution_count": 65,
   "metadata": {
    "collapsed": false
   },
   "outputs": [
    {
     "data": {
      "text/plain": [
       "<seaborn.axisgrid.PairGrid at 0x118bd3978>"
      ]
     },
     "execution_count": 65,
     "metadata": {},
     "output_type": "execute_result"
    },
    {
     "name": "stderr",
     "output_type": "stream",
     "text": [
      "/Users/olga/anaconda3/envs/single-cell-bioinformatics/lib/python3.5/site-packages/matplotlib/figure.py:1744: UserWarning: This figure includes Axes that are not compatible with tight_layout, so its results might be incorrect.\n",
      "  warnings.warn(\"This figure includes Axes that are not \"\n"
     ]
    },
    {
     "data": {
      "image/png": "[encoded data removed]",
      "text/plain": [
       "<matplotlib.figure.Figure at 0x118bd36a0>"
      ]
     },
     "metadata": {},
     "output_type": "display_data"
    }
   ],
   "source": [
    "sns.pairplot(smushed_with_group, hue='group', palette=palette,\n",
    "             hue_order=order, plot_kws=dict(s=100,  edgecolor='white', linewidth=2))"
   ]
  },
  {
   "cell_type": "markdown",
   "metadata": {},
   "source": [
    "Now we'll make a dataframe of 20 equally spaced intervals to show the full range of the data:"
   ]
  },
  {
   "cell_type": "code",
   "execution_count": 125,
   "metadata": {
    "collapsed": false
   },
   "outputs": [
    {
     "name": "stdout",
     "output_type": "stream",
     "text": [
      "(10, 3)\n"
     ]
    },
    {
     "data": {
      "text/html": [
       "<div>\n",
       "<table border=\"1\" class=\"dataframe\">\n",
       "  <thead>\n",
       "    <tr style=\"text-align: right;\">\n",
       "      <th></th>\n",
       "      <th>0</th>\n",
       "      <th>1</th>\n",
       "      <th>2</th>\n",
       "    </tr>\n",
       "  </thead>\n",
       "  <tbody>\n",
       "    <tr>\n",
       "      <th>0</th>\n",
       "      <td>-50.895164</td>\n",
       "      <td>-73.955499</td>\n",
       "      <td>-64.999387</td>\n",
       "    </tr>\n",
       "    <tr>\n",
       "      <th>1</th>\n",
       "      <td>-31.839793</td>\n",
       "      <td>-56.372207</td>\n",
       "      <td>-52.533475</td>\n",
       "    </tr>\n",
       "    <tr>\n",
       "      <th>2</th>\n",
       "      <td>-12.784422</td>\n",
       "      <td>-38.788915</td>\n",
       "      <td>-40.067563</td>\n",
       "    </tr>\n",
       "    <tr>\n",
       "      <th>3</th>\n",
       "      <td>6.270949</td>\n",
       "      <td>-21.205623</td>\n",
       "      <td>-27.601652</td>\n",
       "    </tr>\n",
       "    <tr>\n",
       "      <th>4</th>\n",
       "      <td>25.326320</td>\n",
       "      <td>-3.622331</td>\n",
       "      <td>-15.135740</td>\n",
       "    </tr>\n",
       "  </tbody>\n",
       "</table>\n",
       "</div>"
      ],
      "text/plain": [
       "           0          1          2\n",
       "0 -50.895164 -73.955499 -64.999387\n",
       "1 -31.839793 -56.372207 -52.533475\n",
       "2 -12.784422 -38.788915 -40.067563\n",
       "3   6.270949 -21.205623 -27.601652\n",
       "4  25.326320  -3.622331 -15.135740"
      ]
     },
     "execution_count": 125,
     "metadata": {},
     "output_type": "execute_result"
    }
   ],
   "source": [
    "n_intervals = 10\n",
    "smushed_intervals = pd.DataFrame(smushed).apply(lambda x: pd.Series(np.linspace(x.min(), x.max(), n_intervals)))\n",
    "print(smushed_intervals.shape)\n",
    "smushed_intervals.head()"
   ]
  },
  {
   "cell_type": "markdown",
   "metadata": {},
   "source": [
    "Add zero to the top (the reason for this will make sense later)"
   ]
  },
  {
   "cell_type": "code",
   "execution_count": 126,
   "metadata": {
    "collapsed": false
   },
   "outputs": [
    {
     "name": "stdout",
     "output_type": "stream",
     "text": [
      "(11, 3)\n"
     ]
    },
    {
     "data": {
      "text/html": [
       "<div>\n",
       "<table border=\"1\" class=\"dataframe\">\n",
       "  <thead>\n",
       "    <tr style=\"text-align: right;\">\n",
       "      <th></th>\n",
       "      <th>0</th>\n",
       "      <th>1</th>\n",
       "      <th>2</th>\n",
       "    </tr>\n",
       "  </thead>\n",
       "  <tbody>\n",
       "    <tr>\n",
       "      <th>0</th>\n",
       "      <td>0.000000</td>\n",
       "      <td>0.000000</td>\n",
       "      <td>0.000000</td>\n",
       "    </tr>\n",
       "    <tr>\n",
       "      <th>1</th>\n",
       "      <td>-50.895164</td>\n",
       "      <td>-73.955499</td>\n",
       "      <td>-64.999387</td>\n",
       "    </tr>\n",
       "    <tr>\n",
       "      <th>2</th>\n",
       "      <td>-31.839793</td>\n",
       "      <td>-56.372207</td>\n",
       "      <td>-52.533475</td>\n",
       "    </tr>\n",
       "    <tr>\n",
       "      <th>3</th>\n",
       "      <td>-12.784422</td>\n",
       "      <td>-38.788915</td>\n",
       "      <td>-40.067563</td>\n",
       "    </tr>\n",
       "    <tr>\n",
       "      <th>4</th>\n",
       "      <td>6.270949</td>\n",
       "      <td>-21.205623</td>\n",
       "      <td>-27.601652</td>\n",
       "    </tr>\n",
       "  </tbody>\n",
       "</table>\n",
       "</div>"
      ],
      "text/plain": [
       "           0          1          2\n",
       "0   0.000000   0.000000   0.000000\n",
       "1 -50.895164 -73.955499 -64.999387\n",
       "2 -31.839793 -56.372207 -52.533475\n",
       "3 -12.784422 -38.788915 -40.067563\n",
       "4   6.270949 -21.205623 -27.601652"
      ]
     },
     "execution_count": 126,
     "metadata": {},
     "output_type": "execute_result"
    }
   ],
   "source": [
    "smushed_intervals = pd.concat([pd.DataFrame([[0, 0, 0]]), smushed_intervals], ignore_index=True)\n",
    "print(smushed_intervals.shape)\n",
    "smushed_intervals.head()"
   ]
  },
  {
   "cell_type": "markdown",
   "metadata": {},
   "source": [
    "You'll notice that the top (`head()`) has the minimum values and the bottom (`tail()`) has the maximum values:"
   ]
  },
  {
   "cell_type": "code",
   "execution_count": 127,
   "metadata": {
    "collapsed": false
   },
   "outputs": [
    {
     "data": {
      "text/html": [
       "<div>\n",
       "<table border=\"1\" class=\"dataframe\">\n",
       "  <thead>\n",
       "    <tr style=\"text-align: right;\">\n",
       "      <th></th>\n",
       "      <th>0</th>\n",
       "      <th>1</th>\n",
       "      <th>2</th>\n",
       "    </tr>\n",
       "  </thead>\n",
       "  <tbody>\n",
       "    <tr>\n",
       "      <th>6</th>\n",
       "      <td>44.381690</td>\n",
       "      <td>13.960961</td>\n",
       "      <td>-2.669829</td>\n",
       "    </tr>\n",
       "    <tr>\n",
       "      <th>7</th>\n",
       "      <td>63.437061</td>\n",
       "      <td>31.544253</td>\n",
       "      <td>9.796083</td>\n",
       "    </tr>\n",
       "    <tr>\n",
       "      <th>8</th>\n",
       "      <td>82.492432</td>\n",
       "      <td>49.127545</td>\n",
       "      <td>22.261995</td>\n",
       "    </tr>\n",
       "    <tr>\n",
       "      <th>9</th>\n",
       "      <td>101.547803</td>\n",
       "      <td>66.710837</td>\n",
       "      <td>34.727906</td>\n",
       "    </tr>\n",
       "    <tr>\n",
       "      <th>10</th>\n",
       "      <td>120.603174</td>\n",
       "      <td>84.294129</td>\n",
       "      <td>47.193818</td>\n",
       "    </tr>\n",
       "  </tbody>\n",
       "</table>\n",
       "</div>"
      ],
      "text/plain": [
       "             0          1          2\n",
       "6    44.381690  13.960961  -2.669829\n",
       "7    63.437061  31.544253   9.796083\n",
       "8    82.492432  49.127545  22.261995\n",
       "9   101.547803  66.710837  34.727906\n",
       "10  120.603174  84.294129  47.193818"
      ]
     },
     "execution_count": 127,
     "metadata": {},
     "output_type": "execute_result"
    }
   ],
   "source": [
    "smushed_intervals.tail()"
   ]
  },
  {
   "cell_type": "markdown",
   "metadata": {},
   "source": [
    "Just to convince ourselves that this actually shows the range of all values, lets plot the smushed intervals and the smushed data in teh same spot:"
   ]
  },
  {
   "cell_type": "code",
   "execution_count": 128,
   "metadata": {
    "collapsed": false
   },
   "outputs": [
    {
     "data": {
      "text/plain": [
       "<matplotlib.collections.PathCollection at 0x1194e3278>"
      ]
     },
     "execution_count": 128,
     "metadata": {},
     "output_type": "execute_result"
    },
    {
     "name": "stderr",
     "output_type": "stream",
     "text": [
      "/Users/olga/anaconda3/envs/single-cell-bioinformatics/lib/python3.5/site-packages/matplotlib/figure.py:1744: UserWarning: This figure includes Axes that are not compatible with tight_layout, so its results might be incorrect.\n",
      "  warnings.warn(\"This figure includes Axes that are not \"\n"
     ]
    },
    {
     "data": {
      "image/png": "[encoded data removed]",
      "text/plain": [
       "<matplotlib.figure.Figure at 0x11aa73128>"
      ]
     },
     "metadata": {},
     "output_type": "display_data"
    }
   ],
   "source": [
    "fig, ax = plt.subplots()\n",
    "\n",
    "ax.scatter(smushed_intervals[0], smushed_intervals[1], color='pink')\n",
    "ax.scatter(smushed[0], smushed[1], color=metadata['color'])"
   ]
  },
  {
   "cell_type": "markdown",
   "metadata": {},
   "source": [
    "Now we'll make a 2-dimensional grid of the whole space so we can plot the decision boundary"
   ]
  },
  {
   "cell_type": "code",
   "execution_count": 129,
   "metadata": {
    "collapsed": false
   },
   "outputs": [
    {
     "name": "stdout",
     "output_type": "stream",
     "text": [
      "3\n",
      "[(11, 11, 11), (11, 11, 11), (11, 11, 11)]\n"
     ]
    }
   ],
   "source": [
    "low_d_grid = np.meshgrid(*[smushed_intervals[col] for col in smushed_intervals])\n",
    "print(len(low_d_grid))\n",
    "print([x.shape for x in low_d_grid])"
   ]
  },
  {
   "cell_type": "markdown",
   "metadata": {},
   "source": [
    "Let's plot the grid so we can see it!"
   ]
  },
  {
   "cell_type": "code",
   "execution_count": 130,
   "metadata": {
    "collapsed": false
   },
   "outputs": [
    {
     "data": {
      "text/plain": [
       "<matplotlib.collections.PathCollection at 0x117e15630>"
      ]
     },
     "execution_count": 130,
     "metadata": {},
     "output_type": "execute_result"
    },
    {
     "name": "stderr",
     "output_type": "stream",
     "text": [
      "/Users/olga/anaconda3/envs/single-cell-bioinformatics/lib/python3.5/site-packages/matplotlib/figure.py:1744: UserWarning: This figure includes Axes that are not compatible with tight_layout, so its results might be incorrect.\n",
      "  warnings.warn(\"This figure includes Axes that are not \"\n"
     ]
    },
    {
     "data": {
      "image/png": "[encoded data removed]",
      "text/plain": [
       "<matplotlib.figure.Figure at 0x11843a1d0>"
      ]
     },
     "metadata": {},
     "output_type": "display_data"
    }
   ],
   "source": [
    "fig, ax = plt.subplots()\n",
    "\n",
    "ax.scatter(low_d_grid[0], low_d_grid[1], color='pink')\n",
    "ax.scatter(smushed[0], smushed[1], color=metadata['color'])"
   ]
  },
  {
   "cell_type": "code",
   "execution_count": 131,
   "metadata": {
    "collapsed": false
   },
   "outputs": [
    {
     "name": "stdout",
     "output_type": "stream",
     "text": [
      "(1331, 3)\n"
     ]
    },
    {
     "data": {
      "text/html": [
       "<div>\n",
       "<table border=\"1\" class=\"dataframe\">\n",
       "  <thead>\n",
       "    <tr style=\"text-align: right;\">\n",
       "      <th></th>\n",
       "      <th>0</th>\n",
       "      <th>1</th>\n",
       "      <th>2</th>\n",
       "    </tr>\n",
       "  </thead>\n",
       "  <tbody>\n",
       "    <tr>\n",
       "      <th>0</th>\n",
       "      <td>0.0</td>\n",
       "      <td>0.0</td>\n",
       "      <td>0.000000</td>\n",
       "    </tr>\n",
       "    <tr>\n",
       "      <th>1</th>\n",
       "      <td>0.0</td>\n",
       "      <td>0.0</td>\n",
       "      <td>-64.999387</td>\n",
       "    </tr>\n",
       "    <tr>\n",
       "      <th>2</th>\n",
       "      <td>0.0</td>\n",
       "      <td>0.0</td>\n",
       "      <td>-52.533475</td>\n",
       "    </tr>\n",
       "    <tr>\n",
       "      <th>3</th>\n",
       "      <td>0.0</td>\n",
       "      <td>0.0</td>\n",
       "      <td>-40.067563</td>\n",
       "    </tr>\n",
       "    <tr>\n",
       "      <th>4</th>\n",
       "      <td>0.0</td>\n",
       "      <td>0.0</td>\n",
       "      <td>-27.601652</td>\n",
       "    </tr>\n",
       "  </tbody>\n",
       "</table>\n",
       "</div>"
      ],
      "text/plain": [
       "     0    1          2\n",
       "0  0.0  0.0   0.000000\n",
       "1  0.0  0.0 -64.999387\n",
       "2  0.0  0.0 -52.533475\n",
       "3  0.0  0.0 -40.067563\n",
       "4  0.0  0.0 -27.601652"
      ]
     },
     "execution_count": 131,
     "metadata": {},
     "output_type": "execute_result"
    }
   ],
   "source": [
    "new_nrows = smushed_intervals.shape[0]**n_components\n",
    "new_ncols = n_components\n",
    "\n",
    "low_dimensional_vectors = pd.DataFrame(\n",
    "    np.concatenate([x.flatten() for x in low_d_grid]).reshape(new_nrows, new_ncols, order='F'))\n",
    "print(low_dimensional_vectors.shape)\n",
    "low_dimensional_vectors.head()"
   ]
  },
  {
   "cell_type": "markdown",
   "metadata": {},
   "source": [
    "Convert the smushed area into unsmushed high dimensional space"
   ]
  },
  {
   "cell_type": "code",
   "execution_count": 135,
   "metadata": {
    "collapsed": false
   },
   "outputs": [
    {
     "ename": "SyntaxError",
     "evalue": "invalid syntax (<ipython-input-135-138a212e45c5>, line 1)",
     "output_type": "error",
     "traceback": [
      "\u001b[0;36m  File \u001b[0;32m\"<ipython-input-135-138a212e45c5>\"\u001b[0;36m, line \u001b[0;32m1\u001b[0m\n\u001b[0;31m    smusher =\u001b[0m\n\u001b[0m              ^\u001b[0m\n\u001b[0;31mSyntaxError\u001b[0m\u001b[0;31m:\u001b[0m invalid syntax\n"
     ]
    }
   ],
   "source": [
    "smusher = "
   ]
  },
  {
   "cell_type": "code",
   "execution_count": 132,
   "metadata": {
    "collapsed": false
   },
   "outputs": [
    {
     "data": {
      "text/plain": [
       "(3, 20)"
      ]
     },
     "execution_count": 132,
     "metadata": {},
     "output_type": "execute_result"
    }
   ],
   "source": [
    "smusher.components_.shape"
   ]
  },
  {
   "cell_type": "code",
   "execution_count": 133,
   "metadata": {
    "collapsed": false
   },
   "outputs": [
    {
     "data": {
      "text/plain": [
       "(1331, 20)"
      ]
     },
     "execution_count": 133,
     "metadata": {},
     "output_type": "execute_result"
    }
   ],
   "source": [
    "high_dimensional_vectors = smusher.inverse_transform(low_dimensional_vectors)\n",
    "high_dimensional_vectors.shape"
   ]
  },
  {
   "cell_type": "markdown",
   "metadata": {},
   "source": [
    "Get the surface of the decision function"
   ]
  },
  {
   "cell_type": "code",
   "execution_count": 123,
   "metadata": {
    "collapsed": false
   },
   "outputs": [
    {
     "data": {
      "text/plain": [
       "(12, 12, 12)"
      ]
     },
     "execution_count": 123,
     "metadata": {},
     "output_type": "execute_result"
    }
   ],
   "source": [
    "low_d_grid[0].shape"
   ]
  },
  {
   "cell_type": "code",
   "execution_count": 124,
   "metadata": {
    "collapsed": false
   },
   "outputs": [
    {
     "ename": "ValueError",
     "evalue": "X.shape[1] = 20 should be equal to 6013, the number of features at training time",
     "output_type": "error",
     "traceback": [
      "\u001b[0;31m---------------------------------------------------------------------------\u001b[0m",
      "\u001b[0;31mValueError\u001b[0m                                Traceback (most recent call last)",
      "\u001b[0;32m<ipython-input-124-b85de00344e2>\u001b[0m in \u001b[0;36m<module>\u001b[0;34m()\u001b[0m\n\u001b[0;32m----> 1\u001b[0;31m \u001b[0mdecision_surface\u001b[0m \u001b[0;34m=\u001b[0m \u001b[0mclassifier\u001b[0m\u001b[0;34m.\u001b[0m\u001b[0mdecision_function\u001b[0m\u001b[0;34m(\u001b[0m\u001b[0mhigh_dimensional_vectors\u001b[0m\u001b[0;34m)\u001b[0m\u001b[0;34m\u001b[0m\u001b[0m\n\u001b[0m\u001b[1;32m      2\u001b[0m \u001b[0mprint\u001b[0m\u001b[0;34m(\u001b[0m\u001b[0mdecision_surface\u001b[0m\u001b[0;34m.\u001b[0m\u001b[0mshape\u001b[0m\u001b[0;34m)\u001b[0m\u001b[0;34m\u001b[0m\u001b[0m\n\u001b[1;32m      3\u001b[0m \u001b[0mdecision_surface\u001b[0m \u001b[0;34m=\u001b[0m \u001b[0mdecision_surface\u001b[0m\u001b[0;34m.\u001b[0m\u001b[0mreshape\u001b[0m\u001b[0;34m(\u001b[0m\u001b[0mlow_d_grid\u001b[0m\u001b[0;34m[\u001b[0m\u001b[0;36m0\u001b[0m\u001b[0;34m]\u001b[0m\u001b[0;34m.\u001b[0m\u001b[0mshape\u001b[0m\u001b[0;34m,\u001b[0m \u001b[0morder\u001b[0m\u001b[0;34m=\u001b[0m\u001b[0;34m'F'\u001b[0m\u001b[0;34m)\u001b[0m\u001b[0;34m\u001b[0m\u001b[0m\n\u001b[1;32m      4\u001b[0m \u001b[0mdecision_surface\u001b[0m\u001b[0;34m.\u001b[0m\u001b[0mshape\u001b[0m\u001b[0;34m\u001b[0m\u001b[0m\n",
      "\u001b[0;32m/Users/olga/anaconda3/envs/single-cell-bioinformatics/lib/python3.5/site-packages/sklearn/svm/base.py\u001b[0m in \u001b[0;36mdecision_function\u001b[0;34m(self, X)\u001b[0m\n\u001b[1;32m    540\u001b[0m             n_classes)\n\u001b[1;32m    541\u001b[0m         \"\"\"\n\u001b[0;32m--> 542\u001b[0;31m         \u001b[0mdec\u001b[0m \u001b[0;34m=\u001b[0m \u001b[0mself\u001b[0m\u001b[0;34m.\u001b[0m\u001b[0m_decision_function\u001b[0m\u001b[0;34m(\u001b[0m\u001b[0mX\u001b[0m\u001b[0;34m)\u001b[0m\u001b[0;34m\u001b[0m\u001b[0m\n\u001b[0m\u001b[1;32m    543\u001b[0m         \u001b[0;32mif\u001b[0m \u001b[0mself\u001b[0m\u001b[0;34m.\u001b[0m\u001b[0mdecision_function_shape\u001b[0m \u001b[0;32mis\u001b[0m \u001b[0;32mNone\u001b[0m \u001b[0;32mand\u001b[0m \u001b[0mlen\u001b[0m\u001b[0;34m(\u001b[0m\u001b[0mself\u001b[0m\u001b[0;34m.\u001b[0m\u001b[0mclasses_\u001b[0m\u001b[0;34m)\u001b[0m \u001b[0;34m>\u001b[0m \u001b[0;36m2\u001b[0m\u001b[0;34m:\u001b[0m\u001b[0;34m\u001b[0m\u001b[0m\n\u001b[1;32m    544\u001b[0m             warnings.warn(\"The decision_function_shape default value will \"\n",
      "\u001b[0;32m/Users/olga/anaconda3/envs/single-cell-bioinformatics/lib/python3.5/site-packages/sklearn/svm/base.py\u001b[0m in \u001b[0;36m_decision_function\u001b[0;34m(self, X)\u001b[0m\n\u001b[1;32m    397\u001b[0m         \u001b[0;31m# NOTE: _validate_for_predict contains check for is_fitted\u001b[0m\u001b[0;34m\u001b[0m\u001b[0;34m\u001b[0m\u001b[0m\n\u001b[1;32m    398\u001b[0m         \u001b[0;31m# hence must be placed before any other attributes are used.\u001b[0m\u001b[0;34m\u001b[0m\u001b[0;34m\u001b[0m\u001b[0m\n\u001b[0;32m--> 399\u001b[0;31m         \u001b[0mX\u001b[0m \u001b[0;34m=\u001b[0m \u001b[0mself\u001b[0m\u001b[0;34m.\u001b[0m\u001b[0m_validate_for_predict\u001b[0m\u001b[0;34m(\u001b[0m\u001b[0mX\u001b[0m\u001b[0;34m)\u001b[0m\u001b[0;34m\u001b[0m\u001b[0m\n\u001b[0m\u001b[1;32m    400\u001b[0m         \u001b[0mX\u001b[0m \u001b[0;34m=\u001b[0m \u001b[0mself\u001b[0m\u001b[0;34m.\u001b[0m\u001b[0m_compute_kernel\u001b[0m\u001b[0;34m(\u001b[0m\u001b[0mX\u001b[0m\u001b[0;34m)\u001b[0m\u001b[0;34m\u001b[0m\u001b[0m\n\u001b[1;32m    401\u001b[0m \u001b[0;34m\u001b[0m\u001b[0m\n",
      "\u001b[0;32m/Users/olga/anaconda3/envs/single-cell-bioinformatics/lib/python3.5/site-packages/sklearn/svm/base.py\u001b[0m in \u001b[0;36m_validate_for_predict\u001b[0;34m(self, X)\u001b[0m\n\u001b[1;32m    472\u001b[0m             raise ValueError(\"X.shape[1] = %d should be equal to %d, \"\n\u001b[1;32m    473\u001b[0m                              \u001b[0;34m\"the number of features at training time\"\u001b[0m \u001b[0;34m%\u001b[0m\u001b[0;34m\u001b[0m\u001b[0m\n\u001b[0;32m--> 474\u001b[0;31m                              (n_features, self.shape_fit_[1]))\n\u001b[0m\u001b[1;32m    475\u001b[0m         \u001b[0;32mreturn\u001b[0m \u001b[0mX\u001b[0m\u001b[0;34m\u001b[0m\u001b[0m\n\u001b[1;32m    476\u001b[0m \u001b[0;34m\u001b[0m\u001b[0m\n",
      "\u001b[0;31mValueError\u001b[0m: X.shape[1] = 20 should be equal to 6013, the number of features at training time"
     ]
    }
   ],
   "source": [
    "decision_surface = classifier.decision_function(high_dimensional_vectors)\n",
    "print(decision_surface.shape)\n",
    "decision_surface = decision_surface.reshape(low_d_grid[0].shape, order='F')\n",
    "decision_surface.shape"
   ]
  },
  {
   "cell_type": "code",
   "execution_count": 98,
   "metadata": {
    "collapsed": false
   },
   "outputs": [
    {
     "ename": "SyntaxError",
     "evalue": "invalid syntax (<ipython-input-98-de6688d32422>, line 1)",
     "output_type": "error",
     "traceback": [
      "\u001b[0;36m  File \u001b[0;32m\"<ipython-input-98-de6688d32422>\"\u001b[0;36m, line \u001b[0;32m1\u001b[0m\n\u001b[0;31m    .shape\u001b[0m\n\u001b[0m    ^\u001b[0m\n\u001b[0;31mSyntaxError\u001b[0m\u001b[0;31m:\u001b[0m invalid syntax\n"
     ]
    }
   ],
   "source": [
    ".shape"
   ]
  },
  {
   "cell_type": "code",
   "execution_count": 23,
   "metadata": {
    "collapsed": true
   },
   "outputs": [],
   "source": [
    "import itertools"
   ]
  },
  {
   "cell_type": "code",
   "execution_count": 28,
   "metadata": {
    "collapsed": false
   },
   "outputs": [
    {
     "data": {
      "text/plain": [
       "(20, 20, 20)"
      ]
     },
     "execution_count": 28,
     "metadata": {},
     "output_type": "execute_result"
    }
   ],
   "source": [
    "low_d_grid[0].shape"
   ]
  },
  {
   "cell_type": "code",
   "execution_count": 85,
   "metadata": {
    "collapsed": false
   },
   "outputs": [
    {
     "name": "stdout",
     "output_type": "stream",
     "text": [
      "Z_subset.shape (20, 20)\n"
     ]
    },
    {
     "ename": "TypeError",
     "evalue": "Length of x must be number of columns in z.",
     "output_type": "error",
     "traceback": [
      "\u001b[0;31m---------------------------------------------------------------------------\u001b[0m",
      "\u001b[0;31mTypeError\u001b[0m                                 Traceback (most recent call last)",
      "\u001b[0;32m<ipython-input-85-c2ab7213075e>\u001b[0m in \u001b[0;36m<module>\u001b[0;34m()\u001b[0m\n\u001b[1;32m     15\u001b[0m     ax.contour(smushed_intervals[i], smushed_intervals[j], Z_subset, colors='k',\n\u001b[1;32m     16\u001b[0m            \u001b[0mlevels\u001b[0m\u001b[0;34m=\u001b[0m\u001b[0;34m[\u001b[0m\u001b[0;34m-\u001b[0m\u001b[0;36m1\u001b[0m\u001b[0;34m,\u001b[0m \u001b[0;36m0\u001b[0m\u001b[0;34m,\u001b[0m \u001b[0;36m1\u001b[0m\u001b[0;34m]\u001b[0m\u001b[0;34m,\u001b[0m \u001b[0malpha\u001b[0m\u001b[0;34m=\u001b[0m\u001b[0;36m0.5\u001b[0m\u001b[0;34m,\u001b[0m\u001b[0;34m\u001b[0m\u001b[0m\n\u001b[0;32m---> 17\u001b[0;31m            linestyles=['--', '-', '--'])\n\u001b[0m",
      "\u001b[0;32m/Users/olga/anaconda3/envs/single-cell-bioinformatics/lib/python3.5/site-packages/matplotlib/__init__.py\u001b[0m in \u001b[0;36minner\u001b[0;34m(ax, *args, **kwargs)\u001b[0m\n\u001b[1;32m   1810\u001b[0m                     warnings.warn(msg % (label_namer, func.__name__),\n\u001b[1;32m   1811\u001b[0m                                   RuntimeWarning, stacklevel=2)\n\u001b[0;32m-> 1812\u001b[0;31m             \u001b[0;32mreturn\u001b[0m \u001b[0mfunc\u001b[0m\u001b[0;34m(\u001b[0m\u001b[0max\u001b[0m\u001b[0;34m,\u001b[0m \u001b[0;34m*\u001b[0m\u001b[0margs\u001b[0m\u001b[0;34m,\u001b[0m \u001b[0;34m**\u001b[0m\u001b[0mkwargs\u001b[0m\u001b[0;34m)\u001b[0m\u001b[0;34m\u001b[0m\u001b[0m\n\u001b[0m\u001b[1;32m   1813\u001b[0m         \u001b[0mpre_doc\u001b[0m \u001b[0;34m=\u001b[0m \u001b[0minner\u001b[0m\u001b[0;34m.\u001b[0m\u001b[0m__doc__\u001b[0m\u001b[0;34m\u001b[0m\u001b[0m\n\u001b[1;32m   1814\u001b[0m         \u001b[0;32mif\u001b[0m \u001b[0mpre_doc\u001b[0m \u001b[0;32mis\u001b[0m \u001b[0;32mNone\u001b[0m\u001b[0;34m:\u001b[0m\u001b[0;34m\u001b[0m\u001b[0m\n",
      "\u001b[0;32m/Users/olga/anaconda3/envs/single-cell-bioinformatics/lib/python3.5/site-packages/matplotlib/axes/_axes.py\u001b[0m in \u001b[0;36mcontour\u001b[0;34m(self, *args, **kwargs)\u001b[0m\n\u001b[1;32m   5642\u001b[0m             \u001b[0mself\u001b[0m\u001b[0;34m.\u001b[0m\u001b[0mcla\u001b[0m\u001b[0;34m(\u001b[0m\u001b[0;34m)\u001b[0m\u001b[0;34m\u001b[0m\u001b[0m\n\u001b[1;32m   5643\u001b[0m         \u001b[0mkwargs\u001b[0m\u001b[0;34m[\u001b[0m\u001b[0;34m'filled'\u001b[0m\u001b[0;34m]\u001b[0m \u001b[0;34m=\u001b[0m \u001b[0;32mFalse\u001b[0m\u001b[0;34m\u001b[0m\u001b[0m\n\u001b[0;32m-> 5644\u001b[0;31m         \u001b[0;32mreturn\u001b[0m \u001b[0mmcontour\u001b[0m\u001b[0;34m.\u001b[0m\u001b[0mQuadContourSet\u001b[0m\u001b[0;34m(\u001b[0m\u001b[0mself\u001b[0m\u001b[0;34m,\u001b[0m \u001b[0;34m*\u001b[0m\u001b[0margs\u001b[0m\u001b[0;34m,\u001b[0m \u001b[0;34m**\u001b[0m\u001b[0mkwargs\u001b[0m\u001b[0;34m)\u001b[0m\u001b[0;34m\u001b[0m\u001b[0m\n\u001b[0m\u001b[1;32m   5645\u001b[0m     \u001b[0mcontour\u001b[0m\u001b[0;34m.\u001b[0m\u001b[0m__doc__\u001b[0m \u001b[0;34m=\u001b[0m \u001b[0mmcontour\u001b[0m\u001b[0;34m.\u001b[0m\u001b[0mQuadContourSet\u001b[0m\u001b[0;34m.\u001b[0m\u001b[0mcontour_doc\u001b[0m\u001b[0;34m\u001b[0m\u001b[0m\n\u001b[1;32m   5646\u001b[0m \u001b[0;34m\u001b[0m\u001b[0m\n",
      "\u001b[0;32m/Users/olga/anaconda3/envs/single-cell-bioinformatics/lib/python3.5/site-packages/matplotlib/contour.py\u001b[0m in \u001b[0;36m__init__\u001b[0;34m(self, ax, *args, **kwargs)\u001b[0m\n\u001b[1;32m   1422\u001b[0m         \u001b[0mare\u001b[0m \u001b[0mdescribed\u001b[0m \u001b[0;32min\u001b[0m \u001b[0mQuadContourSet\u001b[0m\u001b[0;34m.\u001b[0m\u001b[0mcontour_doc\u001b[0m\u001b[0;34m.\u001b[0m\u001b[0;34m\u001b[0m\u001b[0m\n\u001b[1;32m   1423\u001b[0m         \"\"\"\n\u001b[0;32m-> 1424\u001b[0;31m         \u001b[0mContourSet\u001b[0m\u001b[0;34m.\u001b[0m\u001b[0m__init__\u001b[0m\u001b[0;34m(\u001b[0m\u001b[0mself\u001b[0m\u001b[0;34m,\u001b[0m \u001b[0max\u001b[0m\u001b[0;34m,\u001b[0m \u001b[0;34m*\u001b[0m\u001b[0margs\u001b[0m\u001b[0;34m,\u001b[0m \u001b[0;34m**\u001b[0m\u001b[0mkwargs\u001b[0m\u001b[0;34m)\u001b[0m\u001b[0;34m\u001b[0m\u001b[0m\n\u001b[0m\u001b[1;32m   1425\u001b[0m \u001b[0;34m\u001b[0m\u001b[0m\n\u001b[1;32m   1426\u001b[0m     \u001b[0;32mdef\u001b[0m \u001b[0m_process_args\u001b[0m\u001b[0;34m(\u001b[0m\u001b[0mself\u001b[0m\u001b[0;34m,\u001b[0m \u001b[0;34m*\u001b[0m\u001b[0margs\u001b[0m\u001b[0;34m,\u001b[0m \u001b[0;34m**\u001b[0m\u001b[0mkwargs\u001b[0m\u001b[0;34m)\u001b[0m\u001b[0;34m:\u001b[0m\u001b[0;34m\u001b[0m\u001b[0m\n",
      "\u001b[0;32m/Users/olga/anaconda3/envs/single-cell-bioinformatics/lib/python3.5/site-packages/matplotlib/contour.py\u001b[0m in \u001b[0;36m__init__\u001b[0;34m(self, ax, *args, **kwargs)\u001b[0m\n\u001b[1;32m    861\u001b[0m         \u001b[0mself\u001b[0m\u001b[0;34m.\u001b[0m\u001b[0m_transform\u001b[0m \u001b[0;34m=\u001b[0m \u001b[0mkwargs\u001b[0m\u001b[0;34m.\u001b[0m\u001b[0mget\u001b[0m\u001b[0;34m(\u001b[0m\u001b[0;34m'transform'\u001b[0m\u001b[0;34m,\u001b[0m \u001b[0;32mNone\u001b[0m\u001b[0;34m)\u001b[0m\u001b[0;34m\u001b[0m\u001b[0m\n\u001b[1;32m    862\u001b[0m \u001b[0;34m\u001b[0m\u001b[0m\n\u001b[0;32m--> 863\u001b[0;31m         \u001b[0mself\u001b[0m\u001b[0;34m.\u001b[0m\u001b[0m_process_args\u001b[0m\u001b[0;34m(\u001b[0m\u001b[0;34m*\u001b[0m\u001b[0margs\u001b[0m\u001b[0;34m,\u001b[0m \u001b[0;34m**\u001b[0m\u001b[0mkwargs\u001b[0m\u001b[0;34m)\u001b[0m\u001b[0;34m\u001b[0m\u001b[0m\n\u001b[0m\u001b[1;32m    864\u001b[0m         \u001b[0mself\u001b[0m\u001b[0;34m.\u001b[0m\u001b[0m_process_levels\u001b[0m\u001b[0;34m(\u001b[0m\u001b[0;34m)\u001b[0m\u001b[0;34m\u001b[0m\u001b[0m\n\u001b[1;32m    865\u001b[0m \u001b[0;34m\u001b[0m\u001b[0m\n",
      "\u001b[0;32m/Users/olga/anaconda3/envs/single-cell-bioinformatics/lib/python3.5/site-packages/matplotlib/contour.py\u001b[0m in \u001b[0;36m_process_args\u001b[0;34m(self, *args, **kwargs)\u001b[0m\n\u001b[1;32m   1443\u001b[0m                 \u001b[0mself\u001b[0m\u001b[0;34m.\u001b[0m\u001b[0m_corner_mask\u001b[0m \u001b[0;34m=\u001b[0m \u001b[0mmpl\u001b[0m\u001b[0;34m.\u001b[0m\u001b[0mrcParams\u001b[0m\u001b[0;34m[\u001b[0m\u001b[0;34m'contour.corner_mask'\u001b[0m\u001b[0;34m]\u001b[0m\u001b[0;34m\u001b[0m\u001b[0m\n\u001b[1;32m   1444\u001b[0m \u001b[0;34m\u001b[0m\u001b[0m\n\u001b[0;32m-> 1445\u001b[0;31m             \u001b[0mx\u001b[0m\u001b[0;34m,\u001b[0m \u001b[0my\u001b[0m\u001b[0;34m,\u001b[0m \u001b[0mz\u001b[0m \u001b[0;34m=\u001b[0m \u001b[0mself\u001b[0m\u001b[0;34m.\u001b[0m\u001b[0m_contour_args\u001b[0m\u001b[0;34m(\u001b[0m\u001b[0margs\u001b[0m\u001b[0;34m,\u001b[0m \u001b[0mkwargs\u001b[0m\u001b[0;34m)\u001b[0m\u001b[0;34m\u001b[0m\u001b[0m\n\u001b[0m\u001b[1;32m   1446\u001b[0m \u001b[0;34m\u001b[0m\u001b[0m\n\u001b[1;32m   1447\u001b[0m             \u001b[0m_mask\u001b[0m \u001b[0;34m=\u001b[0m \u001b[0mma\u001b[0m\u001b[0;34m.\u001b[0m\u001b[0mgetmask\u001b[0m\u001b[0;34m(\u001b[0m\u001b[0mz\u001b[0m\u001b[0;34m)\u001b[0m\u001b[0;34m\u001b[0m\u001b[0m\n",
      "\u001b[0;32m/Users/olga/anaconda3/envs/single-cell-bioinformatics/lib/python3.5/site-packages/matplotlib/contour.py\u001b[0m in \u001b[0;36m_contour_args\u001b[0;34m(self, args, kwargs)\u001b[0m\n\u001b[1;32m   1526\u001b[0m             \u001b[0margs\u001b[0m \u001b[0;34m=\u001b[0m \u001b[0margs\u001b[0m\u001b[0;34m[\u001b[0m\u001b[0;36m1\u001b[0m\u001b[0;34m:\u001b[0m\u001b[0;34m]\u001b[0m\u001b[0;34m\u001b[0m\u001b[0m\n\u001b[1;32m   1527\u001b[0m         \u001b[0;32melif\u001b[0m \u001b[0mNargs\u001b[0m \u001b[0;34m<=\u001b[0m \u001b[0;36m4\u001b[0m\u001b[0;34m:\u001b[0m\u001b[0;34m\u001b[0m\u001b[0m\n\u001b[0;32m-> 1528\u001b[0;31m             \u001b[0mx\u001b[0m\u001b[0;34m,\u001b[0m \u001b[0my\u001b[0m\u001b[0;34m,\u001b[0m \u001b[0mz\u001b[0m \u001b[0;34m=\u001b[0m \u001b[0mself\u001b[0m\u001b[0;34m.\u001b[0m\u001b[0m_check_xyz\u001b[0m\u001b[0;34m(\u001b[0m\u001b[0margs\u001b[0m\u001b[0;34m[\u001b[0m\u001b[0;34m:\u001b[0m\u001b[0;36m3\u001b[0m\u001b[0;34m]\u001b[0m\u001b[0;34m,\u001b[0m \u001b[0mkwargs\u001b[0m\u001b[0;34m)\u001b[0m\u001b[0;34m\u001b[0m\u001b[0m\n\u001b[0m\u001b[1;32m   1529\u001b[0m             \u001b[0margs\u001b[0m \u001b[0;34m=\u001b[0m \u001b[0margs\u001b[0m\u001b[0;34m[\u001b[0m\u001b[0;36m3\u001b[0m\u001b[0;34m:\u001b[0m\u001b[0;34m]\u001b[0m\u001b[0;34m\u001b[0m\u001b[0m\n\u001b[1;32m   1530\u001b[0m         \u001b[0;32melse\u001b[0m\u001b[0;34m:\u001b[0m\u001b[0;34m\u001b[0m\u001b[0m\n",
      "\u001b[0;32m/Users/olga/anaconda3/envs/single-cell-bioinformatics/lib/python3.5/site-packages/matplotlib/contour.py\u001b[0m in \u001b[0;36m_check_xyz\u001b[0;34m(self, args, kwargs)\u001b[0m\n\u001b[1;32m   1573\u001b[0m \u001b[0;34m\u001b[0m\u001b[0m\n\u001b[1;32m   1574\u001b[0m             \u001b[0;32mif\u001b[0m \u001b[0mnx\u001b[0m \u001b[0;34m!=\u001b[0m \u001b[0mNx\u001b[0m\u001b[0;34m:\u001b[0m\u001b[0;34m\u001b[0m\u001b[0m\n\u001b[0;32m-> 1575\u001b[0;31m                 \u001b[0;32mraise\u001b[0m \u001b[0mTypeError\u001b[0m\u001b[0;34m(\u001b[0m\u001b[0;34m\"Length of x must be number of columns in z.\"\u001b[0m\u001b[0;34m)\u001b[0m\u001b[0;34m\u001b[0m\u001b[0m\n\u001b[0m\u001b[1;32m   1576\u001b[0m \u001b[0;34m\u001b[0m\u001b[0m\n\u001b[1;32m   1577\u001b[0m             \u001b[0;32mif\u001b[0m \u001b[0mny\u001b[0m \u001b[0;34m!=\u001b[0m \u001b[0mNy\u001b[0m\u001b[0;34m:\u001b[0m\u001b[0;34m\u001b[0m\u001b[0m\n",
      "\u001b[0;31mTypeError\u001b[0m: Length of x must be number of columns in z."
     ]
    },
    {
     "name": "stderr",
     "output_type": "stream",
     "text": [
      "/Users/olga/anaconda3/envs/single-cell-bioinformatics/lib/python3.5/site-packages/matplotlib/figure.py:1744: UserWarning: This figure includes Axes that are not compatible with tight_layout, so its results might be incorrect.\n",
      "  warnings.warn(\"This figure includes Axes that are not \"\n"
     ]
    },
    {
     "data": {
      "image/png": "[encoded data removed]",
      "text/plain": [
       "<matplotlib.figure.Figure at 0x1184d6278>"
      ]
     },
     "metadata": {},
     "output_type": "display_data"
    }
   ],
   "source": [
    "pairgrid = sns.pairplot(smushed_with_group, hue='group')\n",
    "\n",
    "for i, j in itertools.permutations(range(n_components), 2):\n",
    "    ax = pairgrid.axes[i, j]\n",
    "    \n",
    "    # Commands to get decision surface\n",
    "    z_coords = [':' if x in (i, j) else -1 for x in range(n_components)]\n",
    "    z_command = 'Z[{}]'.format(', '.join(map(str, z_coords)))\n",
    "    Z_subset = eval(z_command)\n",
    "    print('Z_subset.shape', Z_subset.shape)\n",
    "#     Z_smushed = pd.DataFrame(smusher.fit_transform(Z_subset))\n",
    "#     print('Z_smushed.shape', Z_smushed.shape)\n",
    "#     print('Z_smushed.head()', Z_smushed.head())\n",
    "    \n",
    "    ax.contour(smushed_intervals[i], smushed_intervals[j], Z_subset, colors='k',\n",
    "           levels=[-1, 0, 1], alpha=0.5,\n",
    "           linestyles=['--', '-', '--'])\n"
   ]
  },
  {
   "cell_type": "code",
   "execution_count": null,
   "metadata": {
    "collapsed": false
   },
   "outputs": [],
   "source": [
    "fig, ax = plt.subplots()\n",
    "ax.scatter(reduced_data[:, 0], reduced_data[:, 1], c=target, cmap='Dark2')\n",
    "ax.contour(X, Y, Z, colors='k',\n",
    "           levels=[-1, 0, 1], alpha=0.5,\n",
    "           linestyles=['--', '-', '--'])"
   ]
  },
  {
   "cell_type": "code",
   "execution_count": null,
   "metadata": {
    "collapsed": true
   },
   "outputs": [],
   "source": [
    "np.reshape?"
   ]
  },
  {
   "cell_type": "markdown",
   "metadata": {},
   "source": [
    "## Evaluating classifiers through Gene Ontology (GO) Enrichment\n",
    "\n",
    "Gene ontology is a tree (aka directed acyclic graph or \"dag\") of gene annotations. The topmost node is the most general, and the bottommost nodes are the most specific. Here is an example GO graph.\n",
    "\n",
    "![](figures/example_go_graph.png)\n",
    "\n",
    "Three GO Domains:\n",
    "\n",
    "* Cellular Component (CC)\n",
    "* Molecular Function (MF)\n",
    "* Biological Process (BP)"
   ]
  },
  {
   "cell_type": "markdown",
   "metadata": {},
   "source": [
    "### Perform GO enrichment analysis (GOEA)\n",
    "\n",
    "\n",
    "#### GOEA Step 1: Download GO graph file of \"obo\" type (same for all species)\n",
    "\n",
    "This will download the file `\"go-basic.obo\"` if it doesn't already exist. This only needs to be done once."
   ]
  },
  {
   "cell_type": "code",
   "execution_count": null,
   "metadata": {
    "collapsed": false
   },
   "outputs": [],
   "source": [
    "from goatools.base import download_go_basic_obo\n",
    "obo_fname = download_go_basic_obo()\n",
    "\n",
    "# Show the filename\n",
    "obo_fname"
   ]
  },
  {
   "cell_type": "markdown",
   "metadata": {},
   "source": [
    "#### GOEA Step 2: Create the GO graph (same for all species)"
   ]
  },
  {
   "cell_type": "code",
   "execution_count": null,
   "metadata": {
    "collapsed": false
   },
   "outputs": [],
   "source": [
    "obo_dag = goatools.obo_parser.GODag(obo_file='go-basic.obo')"
   ]
  },
  {
   "cell_type": "markdown",
   "metadata": {},
   "source": [
    "#### GOEA Step 3: Get gene ID to GO id mapping (species-specific and experiment-specific)\n",
    "\n",
    "Here we are establishing the background for our GOEA. Defining your background is **very important** because, for example, tehre are lots of neural genes so if you use all human genes as background in your study of which genes are upregulated in Neuron Type X vs Neuron Type Y, you'll get a bunch of neuron genes (which is true) but not the smaller differences between X and Y. Typicall, you use *all expressed genes* as the background.\n",
    "\n",
    "For our data, we can access all expressed genes very simply by getting the column names in the dataframe: `expression.columns`."
   ]
  },
  {
   "cell_type": "code",
   "execution_count": null,
   "metadata": {
    "collapsed": true
   },
   "outputs": [],
   "source": [
    "# Initialize the \"mygene.info\" (http://mygene.info/) interface\n",
    "mg = mygene.MyGeneInfo()\n",
    "\n",
    "mygene_output = mg.querymany(expression.columns, \n",
    "                             scopes='symbol', fields=['go.BP', 'go.MF', 'go.CC'], species='mouse', \n",
    "                             returnall=True)\n",
    "\n",
    "gene_name_to_go = parse_mygene_output(mygene_output)"
   ]
  },
  {
   "cell_type": "markdown",
   "metadata": {},
   "source": [
    "#### GOEA Step 4: Create a GO enrichment calculator object `go_enricher` (species- and experiment-specific)\n",
    "\n",
    "In this step, we are using the two objects we've created (`obo_dag` from Step 2 and `gene_name_to_go` from Step 3) plus the gene ids to create a `go_enricher` object"
   ]
  },
  {
   "cell_type": "code",
   "execution_count": null,
   "metadata": {
    "collapsed": false
   },
   "outputs": [],
   "source": [
    "go_enricher = goatools.GOEnrichmentStudy(expression.columns, gene_name_to_go, obo_dag)"
   ]
  },
  {
   "cell_type": "markdown",
   "metadata": {},
   "source": [
    "#### GOEA Step 5: Calculate go enrichment!!! (species- and experiment-specific)\n",
    "\n",
    "Now we are ready to run go enrichment!! Let's take our enriched genes of interest and "
   ]
  },
  {
   "cell_type": "code",
   "execution_count": null,
   "metadata": {
    "collapsed": false
   },
   "outputs": [],
   "source": [
    "genes_of_interest = \n",
    "\n",
    "results = go.run_study(genes[:5])\n",
    "\n",
    "go_enrichment = pd.DataFrame([r.__dict__ for r in results])\n",
    "go_enrichment.head()"
   ]
  },
  {
   "cell_type": "code",
   "execution_count": null,
   "metadata": {
    "collapsed": false
   },
   "outputs": [],
   "source": []
  },
  {
   "cell_type": "code",
   "execution_count": null,
   "metadata": {
    "collapsed": true
   },
   "outputs": [],
   "source": [
    "import pandas.util.testing as pdt"
   ]
  },
  {
   "cell_type": "code",
   "execution_count": null,
   "metadata": {
    "collapsed": false
   },
   "outputs": [],
   "source": [
    "pdt.assert_numpy_array_equal(two_d_space_v1, two_d_space_v2)"
   ]
  },
  {
   "cell_type": "code",
   "execution_count": null,
   "metadata": {
    "collapsed": false
   },
   "outputs": [],
   "source": [
    "two_d_space.shape"
   ]
  },
  {
   "cell_type": "code",
   "execution_count": null,
   "metadata": {
    "collapsed": false
   },
   "outputs": [],
   "source": [
    "plt.scatter(two_d_space[:, 0], two_d_space[:, 1], color='black')"
   ]
  },
  {
   "cell_type": "code",
   "execution_count": null,
   "metadata": {
    "collapsed": true
   },
   "outputs": [],
   "source": [
    "expression.index[:10]"
   ]
  },
  {
   "cell_type": "code",
   "execution_count": null,
   "metadata": {
    "collapsed": true
   },
   "outputs": [],
   "source": [
    "clf = ExtraTreesClassifier(n_estimators=100000, n_jobs=-1, verbose=1)"
   ]
  },
  {
   "cell_type": "code",
   "execution_count": null,
   "metadata": {
    "collapsed": false
   },
   "outputs": [],
   "source": [
    "expression.index.duplicated()"
   ]
  },
  {
   "cell_type": "code",
   "execution_count": null,
   "metadata": {
    "collapsed": true
   },
   "outputs": [],
   "source": [
    "expression.drop_duplicates()"
   ]
  },
  {
   "cell_type": "code",
   "execution_count": null,
   "metadata": {
    "collapsed": false
   },
   "outputs": [],
   "source": [
    "# assoc = pd.read_table('danio-rerio-gene-ontology.txt').dropna()\n",
    "# assoc_df = assoc.groupby('Ensembl Gene ID').agg(lambda s: ';'.join(s))\n",
    "# assoc_s = assoc_df['GO Term Accession'].apply(lambda s: set(s.split(';')))\n",
    "# assoc_dict = assoc_s.to_dict()"
   ]
  },
  {
   "cell_type": "code",
   "execution_count": null,
   "metadata": {
    "collapsed": true
   },
   "outputs": [],
   "source": [
    "import goatools\n",
    "\n",
    "# cl = gene_annotation.sort(col, ascending=False)[gene_annotation[col] > 5e-4].index\n",
    "g = goatools.GOEnrichmentStudy(list(gene_annotation.index), assoc_dict, obo_dag, study=list(cl))"
   ]
  },
  {
   "cell_type": "code",
   "execution_count": null,
   "metadata": {
    "collapsed": false
   },
   "outputs": [],
   "source": []
  },
  {
   "cell_type": "code",
   "execution_count": null,
   "metadata": {
    "collapsed": true
   },
   "outputs": [],
   "source": [
    "for r in g.results[:25]:\n",
    "    print r.goterm.id, '{:.2}'.format(r.p_bonferroni), r.ratio_in_study, r.goterm.name, r.goterm.namespace"
   ]
  },
  {
   "cell_type": "code",
   "execution_count": null,
   "metadata": {
    "collapsed": false
   },
   "outputs": [],
   "source": [
    "unsmushed = smusher.inverse_transform(two_d_space)\n",
    "\n",
    "Z = classifier.decision_function(unsmushed)\n",
    "Z = Z.reshape(xx.shape)\n",
    "\n",
    "fig, ax = plt.subplots()\n",
    "ax.scatter(reduced_data[:, 0], reduced_data[:, 1], c=target, cmap='Dark2')\n",
    "ax.contour(X, Y, Z, colors='k',\n",
    "           levels=[-1, 0, 1], alpha=0.5,\n",
    "           linestyles=['--', '-', '--'])"
   ]
  },
  {
   "cell_type": "markdown",
   "metadata": {},
   "source": [
    "### Exercise 1\n",
    "\n",
    "1. Try the same analysis, but use ICA instead of PCA. \n",
    "    1. How does that change the classification? \n",
    "    2. How does it change the enriched genes?\n",
    "    2. Are the cells closer or farther from the decision boundary? \n",
    "    3. Is that a \"better\" or \"worse\" classification? Why?\n",
    "    4. Why does the reduction algorithm affect the visualization of the classification?\n",
    "2. Could you use MDS or t-SNE for plotting of the classifier boundary? Why or why not?\n",
    "3. Try the same analysis, but use the \"LPS Response\" genes and a dimensionality reduction algorithm of your choice. (... how do you subset only certain columns out of the dataframe?)\n",
    "    1. How does that change the classification? \n",
    "    2. How does it change the enriched genes?\n",
    "    2. Are the cells closer or farther from the decision boundary? \n",
    "    3. Is that a \"better\" or \"worse\" classification? Why?\n",
    "4. For (1) and (2) above, also fry using radial basis kernel (`kernel=\"rbf\"`) for SVC.\n",
    "    1. How does that change the classification? \n",
    "    2. How does it change the enriched genes?\n",
    "    2. Are the cells closer or farther from the decision boundary? \n",
    "    3. Is that a \"better\" or \"worse\" classification? Why?\n"
   ]
  },
  {
   "cell_type": "markdown",
   "metadata": {},
   "source": [
    "## Decision trees"
   ]
  },
  {
   "cell_type": "code",
   "execution_count": null,
   "metadata": {
    "collapsed": true
   },
   "outputs": [],
   "source": [
    "def visualize_tree(estimator, X, y, smusher, boundaries=True,\n",
    "                   xlim=None, ylim=None):\n",
    "    estimator.fit(X, y)\n",
    "    smushed = smusher.fit_transform(X)\n",
    "\n",
    "    if xlim is None:\n",
    "        xlim = (smushed[:, 0].min() - 0.1, smushed[:, 0].max() + 0.1)\n",
    "    if ylim is None:\n",
    "        ylim = (smushed[:, 1].min() - 0.1, smushed[:, 1].max() + 0.1)\n",
    "\n",
    "    x_min, x_max = xlim\n",
    "    y_min, y_max = ylim\n",
    "    xx, yy = np.meshgrid(np.linspace(x_min, x_max, 100),\n",
    "                         np.linspace(y_min, y_max, 100))\n",
    "    two_d_space = np.c_[xx.ravel(), yy.ravel()]\n",
    "    unsmushed = smusher.inverse_transform(two_d_space)\n",
    "    Z = estimator.predict(unsmushed)\n",
    "\n",
    "    # Put the result into a color plot\n",
    "    Z = Z.reshape(xx.shape)\n",
    "    plt.figure()\n",
    "    plt.pcolormesh(xx, yy, Z, alpha=0.2, cmap='Paired')\n",
    "    plt.clim(y.min(), y.max())\n",
    "\n",
    "    # Plot also the training points\n",
    "    plt.scatter(smushed[:, 0], smushed[:, 1], c=y, s=50, cmap='Paired')\n",
    "    plt.axis('off')\n",
    "\n",
    "    plt.xlim(x_min, x_max)\n",
    "    plt.ylim(y_min, y_max)        \n",
    "    plt.clim(y.min(), y.max())\n",
    "    \n",
    "    # Plot the decision boundaries\n",
    "    def plot_boundaries(i, xlim, ylim):\n",
    "        if i < 0:\n",
    "            return\n",
    "\n",
    "        tree = estimator.tree_\n",
    "        \n",
    "        if tree.feature[i] == 0:\n",
    "            plt.plot([tree.threshold[i], tree.threshold[i]], ylim, '-k')\n",
    "            plot_boundaries(tree.children_left[i],\n",
    "                            [xlim[0], tree.threshold[i]], ylim)\n",
    "            plot_boundaries(tree.children_right[i],\n",
    "                            [tree.threshold[i], xlim[1]], ylim)\n",
    "        \n",
    "        elif tree.feature[i] == 1:\n",
    "            plt.plot(xlim, [tree.threshold[i], tree.threshold[i]], '-k')\n",
    "            plot_boundaries(tree.children_left[i], xlim,\n",
    "                            [ylim[0], tree.threshold[i]])\n",
    "            plot_boundaries(tree.children_right[i], xlim,\n",
    "                            [tree.threshold[i], ylim[1]])\n",
    "            \n",
    "    if boundaries:\n",
    "        plot_boundaries(0, plt.xlim(), plt.ylim())"
   ]
  },
  {
   "cell_type": "code",
   "execution_count": null,
   "metadata": {
    "collapsed": false
   },
   "outputs": [],
   "source": [
    "from sklearn.tree import DecisionTreeClassifier\n",
    "classifier = DecisionTreeClassifier()\n",
    "\n",
    "\n",
    "from sklearn.decomposition import PCA, FastICA\n",
    "from sklearn.manifold import TSNE, MDS\n",
    "\n",
    "\n",
    "smusher = PCA(n_components=2)\n",
    "# reduced_data = smusher.fit_transform(singles+1)\n",
    "\n",
    "visualize_tree(classifier, singles, np.array(target), smusher)"
   ]
  },
  {
   "cell_type": "code",
   "execution_count": null,
   "metadata": {
    "collapsed": false
   },
   "outputs": [],
   "source": [
    "from sklearn.ensemble import RandomForestClassifier, ExtraTreesClassifier\n",
    "classifier = RandomForestClassifier()\n",
    "\n",
    "smusher = PCA(n_components=2)\n",
    "# reduced_data = smusher.fit_transform(singles+1)\n",
    "\n",
    "visualize_tree(classifier, singles, np.array(target), smusher, boundaries=False)"
   ]
  },
  {
   "cell_type": "code",
   "execution_count": null,
   "metadata": {
    "collapsed": false
   },
   "outputs": [],
   "source": [
    "classifier = ExtraTreesClassifier()\n",
    "\n",
    "smusher = PCA(n_components=2)\n",
    "# reduced_data = smusher.fit_transform(singles+1)\n",
    "\n",
    "visualize_tree(classifier, singles, np.array(target), smusher, boundaries=False)"
   ]
  },
  {
   "cell_type": "markdown",
   "metadata": {},
   "source": [
    "### Macaulay2016"
   ]
  },
  {
   "cell_type": "code",
   "execution_count": null,
   "metadata": {
    "collapsed": true
   },
   "outputs": [],
   "source": [
    "pd.options.display.max_columns = 50"
   ]
  },
  {
   "cell_type": "code",
   "execution_count": null,
   "metadata": {
    "collapsed": false
   },
   "outputs": [],
   "source": [
    "macaulay2016_metadata = pd.read_csv('../4._Case_Study/macaulay2016/sample_info_qc.csv', index_col=0)\n",
    "macaulay2016_metadata.head()"
   ]
  },
  {
   "cell_type": "code",
   "execution_count": null,
   "metadata": {
    "collapsed": false
   },
   "outputs": [],
   "source": [
    "macaulay2016_cluster_names = tuple(sorted(macaulay2016_metadata['cluster'].unique()))\n",
    "macaulay2016_cluster_names"
   ]
  },
  {
   "cell_type": "code",
   "execution_count": null,
   "metadata": {
    "collapsed": false
   },
   "outputs": [],
   "source": [
    "macaulay2016_target = macaulay2016_metadata['cluster'].map(lambda x: macaulay2016_cluster_names.index(x))\n",
    "macaulay2016_target"
   ]
  },
  {
   "cell_type": "code",
   "execution_count": null,
   "metadata": {
    "collapsed": true
   },
   "outputs": [],
   "source": [
    "macaulay2016_expression = pd.read_csv('../4._Case_Study/macaulay2016/gene_expression_s.csv', index_col=0).T\n"
   ]
  },
  {
   "cell_type": "code",
   "execution_count": null,
   "metadata": {
    "collapsed": false
   },
   "outputs": [],
   "source": [
    "macaulay2016_expression.head()"
   ]
  },
  {
   "cell_type": "code",
   "execution_count": null,
   "metadata": {
    "collapsed": false
   },
   "outputs": [],
   "source": [
    "macaulay2016_expression_filtered = macaulay2016_expression[[x for x in macaulay2016_expression if x.startswith(\"ENS\")]]\n",
    "macaulay2016_expression_filtered.shape"
   ]
  },
  {
   "cell_type": "code",
   "execution_count": null,
   "metadata": {
    "collapsed": true
   },
   "outputs": [],
   "source": [
    "macaulay2016_expression_filtered = macaulay2016_expression_filtered.loc[macaulay2016_metadata.index]"
   ]
  },
  {
   "cell_type": "code",
   "execution_count": null,
   "metadata": {
    "collapsed": false
   },
   "outputs": [],
   "source": [
    "macaulay2016_expression_filtered = 1e6*macaulay2016_expression_filtered.divide(macaulay2016_expression_filtered.sum(axis=1), axis=0)\n",
    "macaulay2016_expression_filtered.head()"
   ]
  },
  {
   "cell_type": "code",
   "execution_count": null,
   "metadata": {
    "collapsed": false
   },
   "outputs": [],
   "source": [
    "macaulay2016_expression_filtered = np.log10(macaulay2016_expression_filtered+1)\n",
    "macaulay2016_expression_filtered.head()"
   ]
  },
  {
   "cell_type": "code",
   "execution_count": null,
   "metadata": {
    "collapsed": false
   },
   "outputs": [],
   "source": [
    "macaulay2016_expression_filtered = macaulay2016_expression_filtered.loc[:, (macaulay2016_expression_filtered > 1).sum() >=3]\n",
    "macaulay2016_expression_filtered.shape"
   ]
  },
  {
   "cell_type": "code",
   "execution_count": null,
   "metadata": {
    "collapsed": false
   },
   "outputs": [],
   "source": [
    "# classifier = SVC(kernel='linear')\n",
    "# classifier = DecisionTreeClassifier(max_depth=10)\n",
    "classifier = ExtraTreesClassifier(n_estimators=1000)\n",
    "classifier.fit(macaulay2016_expression_filtered, macaulay2016_target)"
   ]
  },
  {
   "cell_type": "code",
   "execution_count": null,
   "metadata": {
    "collapsed": false
   },
   "outputs": [],
   "source": [
    "smusher = FastICA(n_components=2, random_state=0)\n",
    "smushed_data = smusher.fit_transform(macaulay2016_expression_filtered)\n",
    "\n",
    "x_min, x_max = smushed_data[:, 0].min(), smushed_data[:, 0].max()\n",
    "y_min, y_max = smushed_data[:, 1].min(), smushed_data[:, 1].max()\n",
    "delta_x = 0.05 * abs(x_max - x_min)\n",
    "delta_y = 0.05 * abs(x_max - x_min)\n",
    "\n",
    "x_min -= delta_x\n",
    "x_max += delta_x\n",
    "y_min -= delta_y\n",
    "y_max += delta_y\n",
    "\n",
    "X = np.linspace(x_min, x_max, 100)\n",
    "Y = np.linspace(y_min, y_max, 100)\n",
    "xx, yy = np.meshgrid(X, Y)\n",
    "\n",
    "two_d_space = np.c_[xx.ravel(), yy.ravel()]\n",
    "two_d_space"
   ]
  },
  {
   "cell_type": "code",
   "execution_count": null,
   "metadata": {
    "collapsed": false
   },
   "outputs": [],
   "source": [
    "high_dimensional_space = smusher.inverse_transform(two_d_space)"
   ]
  },
  {
   "cell_type": "code",
   "execution_count": null,
   "metadata": {
    "collapsed": false
   },
   "outputs": [],
   "source": [
    "# Get the class boundaries\n",
    "Z = classifier.predict(high_dimensional_space)"
   ]
  },
  {
   "cell_type": "code",
   "execution_count": null,
   "metadata": {
    "collapsed": false
   },
   "outputs": [],
   "source": [
    "import matplotlib as mpl\n",
    "macaulay2016_metadata['cluster_color_hex'] = macaulay2016_metadata['cluster_color'].map(lambda x: mpl.colors.rgb2hex(eval(x)))"
   ]
  },
  {
   "cell_type": "code",
   "execution_count": null,
   "metadata": {
    "collapsed": false
   },
   "outputs": [],
   "source": [
    "int_to_cluster_name = dict(zip(range(len(macaulay2016_cluster_names)), macaulay2016_cluster_names))\n",
    "int_to_cluster_name\n"
   ]
  },
  {
   "cell_type": "code",
   "execution_count": null,
   "metadata": {
    "collapsed": false
   },
   "outputs": [],
   "source": [
    "cluster_name_to_color = dict(zip(macaulay2016_metadata['cluster'], macaulay2016_metadata['cluster_color_hex']))\n",
    "cluster_name_to_color"
   ]
  },
  {
   "cell_type": "code",
   "execution_count": null,
   "metadata": {
    "collapsed": false
   },
   "outputs": [],
   "source": [
    "macaulay2016_palette = [mpl.colors.hex2color(cluster_name_to_color[int_to_cluster_name[i]]) \n",
    "                        for i in range(len(macaulay2016_cluster_names))]\n",
    "macaulay2016_palette\n"
   ]
  },
  {
   "cell_type": "code",
   "execution_count": null,
   "metadata": {
    "collapsed": false
   },
   "outputs": [],
   "source": [
    "cmap = mpl.colors.ListedColormap(macaulay2016_palette)\n",
    "cmap"
   ]
  },
  {
   "cell_type": "code",
   "execution_count": null,
   "metadata": {
    "collapsed": false
   },
   "outputs": [],
   "source": [
    "x_min, x_max"
   ]
  },
  {
   "cell_type": "code",
   "execution_count": null,
   "metadata": {
    "collapsed": false
   },
   "outputs": [],
   "source": [
    "y = macaulay2016_target\n",
    "# Put the result into a color plot\n",
    "Z = Z.reshape(xx.shape)\n",
    "plt.figure()\n",
    "plt.pcolormesh(xx, yy, Z, alpha=0.2, cmap=cmap)\n",
    "plt.clim(y.min(), y.max())\n",
    "\n",
    "# Plot also the training points\n",
    "plt.scatter(smushed_data[:, 0], smushed_data[:, 1], s=50, color=macaulay2016_metadata['cluster_color_hex'], \n",
    "            edgecolor='k') #c=macaulay2016_target, s=50, cmap='Set2')\n",
    "plt.axis('off')\n",
    "\n",
    "plt.xlim(x_min, x_max)\n",
    "plt.ylim(y_min, y_max)        \n",
    "plt.clim(y.min(), y.max())"
   ]
  },
  {
   "cell_type": "code",
   "execution_count": null,
   "metadata": {
    "collapsed": false
   },
   "outputs": [],
   "source": [
    "smusher = FastICA(n_components=4, random_state=354)\n",
    "smushed_data = pd.DataFrame(smusher.fit_transform(macaulay2016_expression_filtered))\n",
    "\n",
    "# x_min, x_max = smushed_data[:, 0].min(), smushed_data[:, 0].max()\n",
    "# y_min, y_max = smushed_data[:, 1].min(), smushed_data[:, 1].max()\n",
    "# delta_x = 0.05 * abs(x_max - x_min)\n",
    "# delta_y = 0.05 * abs(x_max - x_min)\n",
    "\n",
    "# x_min -= delta_x\n",
    "# x_max += delta_x\n",
    "# y_min -= delta_y\n",
    "# y_max += delta_y\n",
    "\n",
    "# X = np.linspace(x_min, x_max, 100)\n",
    "# Y = np.linspace(y_min, y_max, 100)\n",
    "# xx, yy = np.meshgrid(X, Y)\n",
    "\n",
    "# low_dimensional_space = np.c_[xx.ravel(), yy.ravel()]\n",
    "# low_dimensional_space"
   ]
  },
  {
   "cell_type": "code",
   "execution_count": null,
   "metadata": {
    "collapsed": false
   },
   "outputs": [],
   "source": [
    "smushed_data.max() - smushed_data.min()"
   ]
  },
  {
   "cell_type": "code",
   "execution_count": null,
   "metadata": {
    "collapsed": false
   },
   "outputs": [],
   "source": [
    "grid = smushed_data.apply(lambda x: pd.Series(np.linspace(x.min(), x.max(), 50)))\n",
    "grid.head()\n",
    "# grid = [x.ravel() for x in grid]\n",
    "# grid\n",
    "# low_dimensional_space = np.concatenate(grid, axis=0)\n",
    "# low_dimensional_space.shape\n",
    "# # low_dimensional_space = low_dimensional_space.reshape(shape)"
   ]
  },
  {
   "cell_type": "code",
   "execution_count": null,
   "metadata": {
    "collapsed": false
   },
   "outputs": [],
   "source": [
    "x1, x2, x3, x4 = np.meshgrid(*[grid[col] for col in grid])\n",
    "low_dimensional_space = np.c_[x1.ravel(), x2.ravel(), x3.ravel(), x4.ravel()]"
   ]
  },
  {
   "cell_type": "code",
   "execution_count": null,
   "metadata": {
    "collapsed": false
   },
   "outputs": [],
   "source": [
    "high_dimensional_space = smusher.inverse_transform(low_dimensional_space)"
   ]
  },
  {
   "cell_type": "code",
   "execution_count": null,
   "metadata": {
    "collapsed": true
   },
   "outputs": [],
   "source": [
    "smushed_data['hue'] = macau"
   ]
  },
  {
   "cell_type": "code",
   "execution_count": null,
   "metadata": {
    "collapsed": true
   },
   "outputs": [],
   "source": [
    "sns.pairplot(smushed_data)"
   ]
  }
 ],
 "metadata": {
  "kernelspec": {
   "display_name": "Python 3 (single-cell-bioinformatics)",
   "language": "python",
   "name": "python3"
  },
  "language_info": {
   "codemirror_mode": {
    "name": "ipython",
    "version": 3
   },
   "file_extension": ".py",
   "mimetype": "text/x-python",
   "name": "python",
   "nbconvert_exporter": "python",
   "pygments_lexer": "ipython3",
   "version": "3.5.1"
  }
 },
 "nbformat": 4,
 "nbformat_minor": 0
}
