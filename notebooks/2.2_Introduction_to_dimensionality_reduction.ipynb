{
 "cells": [
  {
   "cell_type": "markdown",
   "metadata": {},
   "source": [
    "# A first date with your data: Exploratory analyses through dimensionality reduction\n",
    "\n",
    "Flowchart of machine learning from Scikit-learn.\n",
    "\n",
    "![](figures/sklearn_ml_map.png)\n",
    "\n",
    "We're staying in the bottom half of the flowchart today - data exploration.\n",
    "\n",
    "\n",
    "\n",
    "Dimensionality reduction algorithms like PCA, ICA, MDS, t-SNE (we'll get into the acronyms in a second) are all trying to accomplish the same thing: *smush your high dimensional data into a palatable number of dimensions* (often <10).\n",
    "\n",
    "## Matrix decomposition methods: PCA and ICA\n",
    "\n",
    "Matrix decomposition methods are trying to factor a matrix $X$ into constitutent parts, $Y$ and $W$.\n",
    "\n",
    "$Y = WX$\n",
    "\n",
    "These matrix equations may be kind of intimidating so one way to think about them adding the signal from genes:\n",
    "\n",
    "$\n",
    "\\text{Component }1 = 10\\text{gene}_1 - 50\\text{gene}_2 + 2\\text{gene}_3 \\ldots\n",
    "$\n",
    "\n",
    "Depending on the algorithm the coefficients will have different constraints (have to sum to one or be independent or something annoying like that) but the idea is the same: summarize the gene expression (features) into fewer components, each of which are linear combinations of the original genes (features).\n",
    "\n",
    "\n",
    "#### [PCA](../sklearn_tutorial/notebooks/04.1-Dimensionality-PCA.ipynb)\n",
    "#### [ICA](2.4_ICA.ipynb)\n",
    "\n",
    "### [Manifold learning](2.5_Manifold_learning.ipynb)\n",
    "\n",
    "* MDS\n",
    "* t-SNE\n",
    "\n",
    "## [Comparison of methods](2.6_Compare_dimensionality_reduction.ipynb)\n",
    "\n",
    "We'll use a commonly used machine learning dataset of handwritten digits, plus a couple fake biological datasets, to explore differences between all the algorithms we've looked at so far.\n",
    "\n",
    "![](figures/digits.png)\n",
    "\n",
    "## [Application to Shalek2013 and Macaulay2016](2.7_Apply_dimensionality_reduction_on_Shalek2013_Macaulay2016.ipynb)\n",
    "\n",
    "We'll apply what we've learned so far to the Shalek2013 and Macaulay2016 datasets."
   ]
  },
  {
   "cell_type": "code",
   "execution_count": null,
   "metadata": {
    "collapsed": true
   },
   "outputs": [],
   "source": []
  }
 ],
 "metadata": {
  "kernelspec": {
   "display_name": "Python 3",
   "language": "python",
   "name": "python3"
  },
  "language_info": {
   "codemirror_mode": {
    "name": "ipython",
    "version": 3
   },
   "file_extension": ".py",
   "mimetype": "text/x-python",
   "name": "python",
   "nbconvert_exporter": "python",
   "pygments_lexer": "ipython3",
   "version": "3.5.1"
  }
 },
 "nbformat": 4,
 "nbformat_minor": 0
}
