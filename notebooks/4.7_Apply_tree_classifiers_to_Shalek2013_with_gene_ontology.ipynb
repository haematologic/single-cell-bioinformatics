{
 "cells": [
  {
   "cell_type": "markdown",
   "metadata": {},
   "source": [
    "# Applying classifiers to Shalek2013\n",
    "\n",
    "We're going to use the classifier knowledge that we've learned so far and apply it to the shalek2013 and macaulay2016 datasets.\n",
    "\n",
    "For the GO analysis, we'll need a few other packages:\n",
    "\n",
    "* `mygene` for looking up the gene ontology categories of genes\n",
    "* `goatools` for performing gene ontology enrichment analysis\n",
    "* `fishers_exact_test` for `goatools`\n",
    "\n",
    "Use the following commands at your terminal to install the packages. Some of them are on Github so it's important to get the whole command right.\n",
    "\n",
    "```\n",
    "$ pip install mygene\n",
    "$ pip install git+git://github.com/olgabot/goatools.git\n",
    "$ pip install git+https://github.com/brentp/fishers_exact_test.git\n",
    "```"
   ]
  },
  {
   "cell_type": "code",
   "execution_count": 1,
   "metadata": {
    "collapsed": false
   },
   "outputs": [
    {
     "name": "stderr",
     "output_type": "stream",
     "text": [
      "/Users/olga/anaconda3/envs/single-cell-bioinformatics/lib/python3.5/site-packages/matplotlib/__init__.py:872: UserWarning: axes.color_cycle is deprecated and replaced with axes.prop_cycle; please use the latter.\n",
      "  warnings.warn(self.msg_depr % (key, alt_key))\n"
     ]
    }
   ],
   "source": [
    "# Alphabetical order is standard\n",
    "# We're doing \"import superlongname as abbrev\" for our laziness - this way we don't have to type out the whole thing each time.\n",
    "\n",
    "# From python standard library\n",
    "import collections\n",
    "\n",
    "# Python plotting library\n",
    "import matplotlib.pyplot as plt\n",
    "\n",
    "# Numerical python library (pronounced \"num-pie\")\n",
    "import numpy as np\n",
    "\n",
    "# Dataframes in Python\n",
    "import pandas as pd\n",
    "\n",
    "# Statistical plotting library we'll use\n",
    "import seaborn as sns\n",
    "sns.set(style='whitegrid')\n",
    "\n",
    "# Label processing\n",
    "from sklearn import preprocessing\n",
    "\n",
    "# Matrix decomposition\n",
    "from sklearn.decomposition import PCA, FastICA\n",
    "\n",
    "# Matrix decomposition\n",
    "from sklearn.tree import DecisionTreeClassifier\n",
    "from sklearn.ensemble import RandomForestClassifier, ExtraTreesClassifier\n",
    "\n",
    "# Manifold learning\n",
    "from sklearn.manifold import MDS, TSNE\n",
    "\n",
    "# Gene ontology\n",
    "import goatools\n",
    "import mygene\n",
    "\n",
    "# This is necessary to show the plotted figures inside the notebook -- \"inline\" with the notebook cells\n",
    "%matplotlib inline\n"
   ]
  },
  {
   "cell_type": "markdown",
   "metadata": {},
   "source": [
    "Utility functions for gene ontology and SVM decision boundary plotting"
   ]
  },
  {
   "cell_type": "code",
   "execution_count": 2,
   "metadata": {
    "collapsed": true
   },
   "outputs": [],
   "source": [
    "def plot_svc_decision_function(clf, ax=None):\n",
    "    \"\"\"Plot the decision function for a 2D SVC\"\"\"\n",
    "    if ax is None:\n",
    "        ax = plt.gca()\n",
    "    x = np.linspace(plt.xlim()[0], plt.xlim()[1], 30)\n",
    "    y = np.linspace(plt.ylim()[0], plt.ylim()[1], 30)\n",
    "    Y, X = np.meshgrid(y, x)\n",
    "    P = np.zeros_like(X)\n",
    "    for i, xi in enumerate(x):\n",
    "        for j, yj in enumerate(y):\n",
    "            P[i, j] = clf.decision_function([[xi, yj]])\n",
    "    # plot the margins\n",
    "    ax.contour(X, Y, P, colors='k',\n",
    "               levels=[-1, 0, 1], alpha=0.5,\n",
    "               linestyles=['--', '-', '--'])\n",
    "    \n",
    "GO_KEYS = 'go.BP', 'go.MF', 'go.CC'\n",
    "\n",
    "def parse_mygene_output(mygene_output):\n",
    "    \"\"\"Convert mygene.querymany output to a gene id to go term mapping (dictionary)\n",
    "    \n",
    "    Parameters\n",
    "    ----------\n",
    "    mygene_output : dict or list\n",
    "        Dictionary (returnall=True) or list (returnall=False) of \n",
    "        output from mygene.querymany\n",
    "        \n",
    "    Output\n",
    "    ------\n",
    "    gene_name_to_go : dict\n",
    "        Mapping of gene name to a set of GO ids    \n",
    "    \"\"\"\n",
    "    # if \"returnall=True\" was specified, need to get just the \"out\" key\n",
    "    if isinstance(mygene_output, dict):\n",
    "        mygene_output = mygene_output['out']\n",
    "\n",
    "    gene_name_to_go = collections.defaultdict(set)\n",
    "\n",
    "    for line in mygene_output:\n",
    "        gene_name = line['query']\n",
    "        for go_key in GO_KEYS:\n",
    "            try:\n",
    "                go_terms = line[go_key]\n",
    "            except KeyError:\n",
    "                continue\n",
    "            if isinstance(go_terms, dict):\n",
    "                go_ids = set([go_terms['id']])\n",
    "            else:\n",
    "                go_ids = set(x['id'] for x in go_terms)\n",
    "            gene_name_to_go[gene_name] |= go_ids\n",
    "    return gene_name_to_go\n"
   ]
  },
  {
   "cell_type": "markdown",
   "metadata": {},
   "source": [
    "## Read in the Shalek2013 data"
   ]
  },
  {
   "cell_type": "code",
   "execution_count": 3,
   "metadata": {
    "collapsed": false
   },
   "outputs": [
    {
     "data": {
      "text/html": [
       "<div>\n",
       "<table border=\"1\" class=\"dataframe\">\n",
       "  <thead>\n",
       "    <tr style=\"text-align: right;\">\n",
       "      <th></th>\n",
       "      <th>phenotype</th>\n",
       "      <th>pooled</th>\n",
       "      <th>outlier</th>\n",
       "      <th>maturity</th>\n",
       "      <th>color</th>\n",
       "      <th>group</th>\n",
       "    </tr>\n",
       "  </thead>\n",
       "  <tbody>\n",
       "    <tr>\n",
       "      <th>S1</th>\n",
       "      <td>BDMC</td>\n",
       "      <td>False</td>\n",
       "      <td>False</td>\n",
       "      <td>immature</td>\n",
       "      <td>MediumTurquoise</td>\n",
       "      <td>immature</td>\n",
       "    </tr>\n",
       "    <tr>\n",
       "      <th>S2</th>\n",
       "      <td>BDMC</td>\n",
       "      <td>False</td>\n",
       "      <td>False</td>\n",
       "      <td>immature</td>\n",
       "      <td>MediumTurquoise</td>\n",
       "      <td>immature</td>\n",
       "    </tr>\n",
       "    <tr>\n",
       "      <th>S3</th>\n",
       "      <td>BDMC</td>\n",
       "      <td>False</td>\n",
       "      <td>False</td>\n",
       "      <td>immature</td>\n",
       "      <td>MediumTurquoise</td>\n",
       "      <td>immature</td>\n",
       "    </tr>\n",
       "    <tr>\n",
       "      <th>S4</th>\n",
       "      <td>BDMC</td>\n",
       "      <td>False</td>\n",
       "      <td>False</td>\n",
       "      <td>immature</td>\n",
       "      <td>MediumTurquoise</td>\n",
       "      <td>immature</td>\n",
       "    </tr>\n",
       "    <tr>\n",
       "      <th>S5</th>\n",
       "      <td>BDMC</td>\n",
       "      <td>False</td>\n",
       "      <td>False</td>\n",
       "      <td>immature</td>\n",
       "      <td>MediumTurquoise</td>\n",
       "      <td>immature</td>\n",
       "    </tr>\n",
       "    <tr>\n",
       "      <th>S6</th>\n",
       "      <td>BDMC</td>\n",
       "      <td>False</td>\n",
       "      <td>False</td>\n",
       "      <td>immature</td>\n",
       "      <td>MediumTurquoise</td>\n",
       "      <td>immature</td>\n",
       "    </tr>\n",
       "    <tr>\n",
       "      <th>S7</th>\n",
       "      <td>BDMC</td>\n",
       "      <td>False</td>\n",
       "      <td>False</td>\n",
       "      <td>immature</td>\n",
       "      <td>MediumTurquoise</td>\n",
       "      <td>immature</td>\n",
       "    </tr>\n",
       "    <tr>\n",
       "      <th>S8</th>\n",
       "      <td>BDMC</td>\n",
       "      <td>False</td>\n",
       "      <td>False</td>\n",
       "      <td>immature</td>\n",
       "      <td>MediumTurquoise</td>\n",
       "      <td>immature</td>\n",
       "    </tr>\n",
       "    <tr>\n",
       "      <th>S9</th>\n",
       "      <td>BDMC</td>\n",
       "      <td>False</td>\n",
       "      <td>False</td>\n",
       "      <td>immature</td>\n",
       "      <td>MediumTurquoise</td>\n",
       "      <td>immature</td>\n",
       "    </tr>\n",
       "    <tr>\n",
       "      <th>S10</th>\n",
       "      <td>BDMC</td>\n",
       "      <td>False</td>\n",
       "      <td>False</td>\n",
       "      <td>immature</td>\n",
       "      <td>MediumTurquoise</td>\n",
       "      <td>immature</td>\n",
       "    </tr>\n",
       "    <tr>\n",
       "      <th>S11</th>\n",
       "      <td>BDMC</td>\n",
       "      <td>False</td>\n",
       "      <td>False</td>\n",
       "      <td>immature</td>\n",
       "      <td>MediumTurquoise</td>\n",
       "      <td>immature</td>\n",
       "    </tr>\n",
       "    <tr>\n",
       "      <th>S12</th>\n",
       "      <td>BDMC</td>\n",
       "      <td>False</td>\n",
       "      <td>False</td>\n",
       "      <td>mature</td>\n",
       "      <td>Teal</td>\n",
       "      <td>mature</td>\n",
       "    </tr>\n",
       "    <tr>\n",
       "      <th>S13</th>\n",
       "      <td>BDMC</td>\n",
       "      <td>False</td>\n",
       "      <td>False</td>\n",
       "      <td>mature</td>\n",
       "      <td>Teal</td>\n",
       "      <td>mature</td>\n",
       "    </tr>\n",
       "    <tr>\n",
       "      <th>S14</th>\n",
       "      <td>BDMC</td>\n",
       "      <td>False</td>\n",
       "      <td>False</td>\n",
       "      <td>immature</td>\n",
       "      <td>MediumTurquoise</td>\n",
       "      <td>immature</td>\n",
       "    </tr>\n",
       "    <tr>\n",
       "      <th>S15</th>\n",
       "      <td>BDMC</td>\n",
       "      <td>False</td>\n",
       "      <td>False</td>\n",
       "      <td>immature</td>\n",
       "      <td>MediumTurquoise</td>\n",
       "      <td>immature</td>\n",
       "    </tr>\n",
       "    <tr>\n",
       "      <th>S16</th>\n",
       "      <td>BDMC</td>\n",
       "      <td>False</td>\n",
       "      <td>False</td>\n",
       "      <td>mature</td>\n",
       "      <td>Teal</td>\n",
       "      <td>mature</td>\n",
       "    </tr>\n",
       "    <tr>\n",
       "      <th>S17</th>\n",
       "      <td>BDMC</td>\n",
       "      <td>False</td>\n",
       "      <td>False</td>\n",
       "      <td>immature</td>\n",
       "      <td>MediumTurquoise</td>\n",
       "      <td>immature</td>\n",
       "    </tr>\n",
       "    <tr>\n",
       "      <th>S18</th>\n",
       "      <td>BDMC</td>\n",
       "      <td>False</td>\n",
       "      <td>False</td>\n",
       "      <td>immature</td>\n",
       "      <td>MediumTurquoise</td>\n",
       "      <td>immature</td>\n",
       "    </tr>\n",
       "    <tr>\n",
       "      <th>P1</th>\n",
       "      <td>BDMC</td>\n",
       "      <td>True</td>\n",
       "      <td>False</td>\n",
       "      <td>immature</td>\n",
       "      <td>black</td>\n",
       "      <td>pooled</td>\n",
       "    </tr>\n",
       "    <tr>\n",
       "      <th>P2</th>\n",
       "      <td>BDMC</td>\n",
       "      <td>True</td>\n",
       "      <td>False</td>\n",
       "      <td>immature</td>\n",
       "      <td>black</td>\n",
       "      <td>pooled</td>\n",
       "    </tr>\n",
       "    <tr>\n",
       "      <th>P3</th>\n",
       "      <td>BDMC</td>\n",
       "      <td>True</td>\n",
       "      <td>False</td>\n",
       "      <td>immature</td>\n",
       "      <td>black</td>\n",
       "      <td>pooled</td>\n",
       "    </tr>\n",
       "  </tbody>\n",
       "</table>\n",
       "</div>"
      ],
      "text/plain": [
       "    phenotype pooled outlier  maturity            color     group\n",
       "S1       BDMC  False   False  immature  MediumTurquoise  immature\n",
       "S2       BDMC  False   False  immature  MediumTurquoise  immature\n",
       "S3       BDMC  False   False  immature  MediumTurquoise  immature\n",
       "S4       BDMC  False   False  immature  MediumTurquoise  immature\n",
       "S5       BDMC  False   False  immature  MediumTurquoise  immature\n",
       "S6       BDMC  False   False  immature  MediumTurquoise  immature\n",
       "S7       BDMC  False   False  immature  MediumTurquoise  immature\n",
       "S8       BDMC  False   False  immature  MediumTurquoise  immature\n",
       "S9       BDMC  False   False  immature  MediumTurquoise  immature\n",
       "S10      BDMC  False   False  immature  MediumTurquoise  immature\n",
       "S11      BDMC  False   False  immature  MediumTurquoise  immature\n",
       "S12      BDMC  False   False    mature             Teal    mature\n",
       "S13      BDMC  False   False    mature             Teal    mature\n",
       "S14      BDMC  False   False  immature  MediumTurquoise  immature\n",
       "S15      BDMC  False   False  immature  MediumTurquoise  immature\n",
       "S16      BDMC  False   False    mature             Teal    mature\n",
       "S17      BDMC  False   False  immature  MediumTurquoise  immature\n",
       "S18      BDMC  False   False  immature  MediumTurquoise  immature\n",
       "P1       BDMC   True   False  immature            black    pooled\n",
       "P2       BDMC   True   False  immature            black    pooled\n",
       "P3       BDMC   True   False  immature            black    pooled"
      ]
     },
     "execution_count": 3,
     "metadata": {},
     "output_type": "execute_result"
    }
   ],
   "source": [
    "metadata = pd.read_csv('../data/shalek2013/metadata.csv', \n",
    "                               \n",
    "                                     # Sets the first (Python starts counting from 0 not 1) column as the row names\n",
    "                                      index_col=0)\n",
    "expression = pd.read_csv('../data/shalek2013/expression.csv', \n",
    "                               \n",
    "                                     # Sets the first (Python starts counting from 0 not 1) column as the row names\n",
    "                                      index_col=0)\n",
    "expression_feature = pd.read_csv('../data/shalek2013/expression_feature.csv', \n",
    "                               \n",
    "                                     # Sets the first (Python starts counting from 0 not 1) column as the row names\n",
    "                                      index_col=0)\n",
    "\n",
    "# creating new column indicating color\n",
    "metadata['color'] = metadata['maturity'].map(\n",
    "    lambda x: 'MediumTurquoise' if x == 'immature' else 'Teal')\n",
    "metadata.loc[metadata['pooled'], 'color'] = 'black'\n",
    "\n",
    "# Create a column indicating both maturity and pooled for coloring with seaborn, e.g. sns.pairplot\n",
    "metadata['group'] = metadata['maturity']\n",
    "metadata.loc[metadata['pooled'], 'group'] = 'pooled'\n",
    "\n",
    "# Create a palette and ordering for using with sns.pairplot\n",
    "palette = ['MediumTurquoise', 'Teal', 'black']\n",
    "order = ['immature', 'mature', 'pooled']\n",
    "\n",
    "metadata"
   ]
  },
  {
   "cell_type": "markdown",
   "metadata": {},
   "source": [
    "### Side note: getting LPS response genes using `query`\n",
    "\n",
    "Get the \"LPS response genes\" using a query:"
   ]
  },
  {
   "cell_type": "code",
   "execution_count": 4,
   "metadata": {
    "collapsed": false
   },
   "outputs": [
    {
     "data": {
      "text/html": [
       "<div>\n",
       "<table border=\"1\" class=\"dataframe\">\n",
       "  <thead>\n",
       "    <tr style=\"text-align: right;\">\n",
       "      <th></th>\n",
       "      <th>gene_category</th>\n",
       "    </tr>\n",
       "  </thead>\n",
       "  <tbody>\n",
       "    <tr>\n",
       "      <th>1110018G07RIK</th>\n",
       "      <td>LPS Response</td>\n",
       "    </tr>\n",
       "    <tr>\n",
       "      <th>1110032F04RIK</th>\n",
       "      <td>LPS Response</td>\n",
       "    </tr>\n",
       "    <tr>\n",
       "      <th>1110038F14RIK</th>\n",
       "      <td>LPS Response</td>\n",
       "    </tr>\n",
       "    <tr>\n",
       "      <th>1190002H23RIK</th>\n",
       "      <td>LPS Response</td>\n",
       "    </tr>\n",
       "    <tr>\n",
       "      <th>1200009I06RIK</th>\n",
       "      <td>LPS Response</td>\n",
       "    </tr>\n",
       "  </tbody>\n",
       "</table>\n",
       "</div>"
      ],
      "text/plain": [
       "              gene_category\n",
       "1110018G07RIK  LPS Response\n",
       "1110032F04RIK  LPS Response\n",
       "1110038F14RIK  LPS Response\n",
       "1190002H23RIK  LPS Response\n",
       "1200009I06RIK  LPS Response"
      ]
     },
     "execution_count": 4,
     "metadata": {},
     "output_type": "execute_result"
    }
   ],
   "source": [
    "subset = expression_feature.query('gene_category == \"LPS Response\"')\n",
    "subset.head()"
   ]
  },
  {
   "cell_type": "markdown",
   "metadata": {},
   "source": [
    "Assign the variable `lps_response_genes` based on the gene ids pulled out from this subset:"
   ]
  },
  {
   "cell_type": "code",
   "execution_count": 5,
   "metadata": {
    "collapsed": false
   },
   "outputs": [
    {
     "data": {
      "text/plain": [
       "Index(['1110018G07RIK', '1110032F04RIK', '1110038F14RIK', '1190002H23RIK',\n",
       "       '1200009I06RIK', '1600014C10RIK', '1810029B16RIK', '2010002M12RIK',\n",
       "       '2200002D01RIK', '2210009G21RIK',\n",
       "       ...\n",
       "       'ZCCHC2', 'ZCCHC6', 'ZDHHC21', 'ZFP36', 'ZFP558', 'ZFP800', 'ZFP811',\n",
       "       'ZHX2', 'ZNFX1', 'ZUFSP'],\n",
       "      dtype='object', length=945)"
      ]
     },
     "execution_count": 5,
     "metadata": {},
     "output_type": "execute_result"
    }
   ],
   "source": [
    "lps_response_genes = subset.index\n",
    "lps_response_genes"
   ]
  },
  {
   "cell_type": "markdown",
   "metadata": {},
   "source": [
    "For this analysis We want to compare the difference between the \"mature\" and \"immature\" cells in the Shalek2013 data."
   ]
  },
  {
   "cell_type": "code",
   "execution_count": 6,
   "metadata": {
    "collapsed": false
   },
   "outputs": [
    {
     "data": {
      "text/plain": [
       "(18, 6312)"
      ]
     },
     "execution_count": 6,
     "metadata": {},
     "output_type": "execute_result"
    }
   ],
   "source": [
    "singles_ids = [x for x in expression.index if x.startswith('S')]\n",
    "singles = expression.loc[singles_ids]\n",
    "singles.shape"
   ]
  },
  {
   "cell_type": "markdown",
   "metadata": {},
   "source": [
    "Use only the genes that are substantially expressed in single cells"
   ]
  },
  {
   "cell_type": "code",
   "execution_count": 7,
   "metadata": {
    "collapsed": false
   },
   "outputs": [
    {
     "data": {
      "text/plain": [
       "(18, 6013)"
      ]
     },
     "execution_count": 7,
     "metadata": {},
     "output_type": "execute_result"
    }
   ],
   "source": [
    "singles = singles.loc[:, (singles > 1).sum() >= 3]\n",
    "singles.shape"
   ]
  },
  {
   "cell_type": "markdown",
   "metadata": {},
   "source": [
    "Now because computers only understand numbers, we'll convert the category label of \"mature\" and \"immature\" into integers to a using a `LabelEncoder`. Let's look at that column again, only for mature cells:"
   ]
  },
  {
   "cell_type": "code",
   "execution_count": 8,
   "metadata": {
    "collapsed": false
   },
   "outputs": [
    {
     "data": {
      "text/plain": [
       "S1     immature\n",
       "S2     immature\n",
       "S3     immature\n",
       "S4     immature\n",
       "S5     immature\n",
       "S6     immature\n",
       "S7     immature\n",
       "S8     immature\n",
       "S9     immature\n",
       "S10    immature\n",
       "S11    immature\n",
       "S12      mature\n",
       "S13      mature\n",
       "S14    immature\n",
       "S15    immature\n",
       "S16      mature\n",
       "S17    immature\n",
       "S18    immature\n",
       "Name: maturity, dtype: object"
      ]
     },
     "execution_count": 8,
     "metadata": {},
     "output_type": "execute_result"
    }
   ],
   "source": [
    "singles_maturity = metadata.loc[singles.index, 'maturity']\n",
    "singles_maturity"
   ]
  },
  {
   "cell_type": "code",
   "execution_count": 9,
   "metadata": {
    "collapsed": false
   },
   "outputs": [
    {
     "data": {
      "text/plain": [
       "array([0, 0, 0, 0, 0, 0, 0, 0, 0, 0, 0, 1, 1, 0, 0, 1, 0, 0])"
      ]
     },
     "execution_count": 9,
     "metadata": {},
     "output_type": "execute_result"
    }
   ],
   "source": [
    "# Instantiate the encoder\n",
    "encoder = preprocessing.LabelEncoder()\n",
    "\n",
    "# Get number of categories and transform \"mature\"/\"immature\" to numbers\n",
    "target = encoder.fit_transform(singles_maturity)\n",
    "target"
   ]
  },
  {
   "cell_type": "markdown",
   "metadata": {},
   "source": [
    "## Run the classifier!!\n",
    "\n",
    "Yay so now we can run a classifier!"
   ]
  },
  {
   "cell_type": "code",
   "execution_count": 10,
   "metadata": {
    "collapsed": false
   },
   "outputs": [
    {
     "data": {
      "text/plain": [
       "SVC(C=1.0, cache_size=200, class_weight=None, coef0=0.0,\n",
       "  decision_function_shape=None, degree=3, gamma='auto', kernel='linear',\n",
       "  max_iter=-1, probability=False, random_state=None, shrinking=True,\n",
       "  tol=0.001, verbose=False)"
      ]
     },
     "execution_count": 10,
     "metadata": {},
     "output_type": "execute_result"
    }
   ],
   "source": [
    "from sklearn.svm import SVC\n",
    "\n",
    "classifier = SVC(kernel='linear')\n",
    "classifier.fit(singles, target)"
   ]
  },
  {
   "cell_type": "markdown",
   "metadata": {},
   "source": [
    "We'll use PCA or ICA to reduce our data for visualizing the SVM decision boundary. Stick to 32 or fewer components because the next steps will die if you use more than 32. Also, this `n_components` variable will be used later so pay attention :)"
   ]
  },
  {
   "cell_type": "code",
   "execution_count": 174,
   "metadata": {
    "collapsed": false
   },
   "outputs": [
    {
     "name": "stdout",
     "output_type": "stream",
     "text": [
      "(18, 2)\n",
      "(18, 3)\n"
     ]
    },
    {
     "data": {
      "text/html": [
       "<div>\n",
       "<table border=\"1\" class=\"dataframe\">\n",
       "  <thead>\n",
       "    <tr style=\"text-align: right;\">\n",
       "      <th></th>\n",
       "      <th>0</th>\n",
       "      <th>1</th>\n",
       "      <th>group</th>\n",
       "    </tr>\n",
       "  </thead>\n",
       "  <tbody>\n",
       "    <tr>\n",
       "      <th>S1</th>\n",
       "      <td>-50.895164</td>\n",
       "      <td>51.051727</td>\n",
       "      <td>immature</td>\n",
       "    </tr>\n",
       "    <tr>\n",
       "      <th>S2</th>\n",
       "      <td>-6.621843</td>\n",
       "      <td>-16.845237</td>\n",
       "      <td>immature</td>\n",
       "    </tr>\n",
       "    <tr>\n",
       "      <th>S3</th>\n",
       "      <td>-27.129347</td>\n",
       "      <td>-13.530018</td>\n",
       "      <td>immature</td>\n",
       "    </tr>\n",
       "    <tr>\n",
       "      <th>S4</th>\n",
       "      <td>-23.018061</td>\n",
       "      <td>-34.946561</td>\n",
       "      <td>immature</td>\n",
       "    </tr>\n",
       "    <tr>\n",
       "      <th>S5</th>\n",
       "      <td>-29.971542</td>\n",
       "      <td>-1.820914</td>\n",
       "      <td>immature</td>\n",
       "    </tr>\n",
       "  </tbody>\n",
       "</table>\n",
       "</div>"
      ],
      "text/plain": [
       "            0          1     group\n",
       "S1 -50.895164  51.051727  immature\n",
       "S2  -6.621843 -16.845237  immature\n",
       "S3 -27.129347 -13.530018  immature\n",
       "S4 -23.018061 -34.946561  immature\n",
       "S5 -29.971542  -1.820914  immature"
      ]
     },
     "execution_count": 174,
     "metadata": {},
     "output_type": "execute_result"
    }
   ],
   "source": [
    "n_components = 2\n",
    "\n",
    "smusher = PCA(n_components=n_components)\n",
    "smushed = pd.DataFrame(smusher.fit_transform(singles), index=singles.index)\n",
    "print(smushed.shape)\n",
    "smushed.head()\n",
    "\n",
    "# Let's add the group identifier here for plotting:\n",
    "\n",
    "smushed_with_group = smushed.join(metadata['group'])\n",
    "print(smushed_with_group.shape)\n",
    "smushed_with_group.head()"
   ]
  },
  {
   "cell_type": "code",
   "execution_count": 185,
   "metadata": {
    "collapsed": false
   },
   "outputs": [
    {
     "data": {
      "text/plain": [
       "<matplotlib.contour.QuadContourSet at 0x13be5a630>"
      ]
     },
     "execution_count": 185,
     "metadata": {},
     "output_type": "execute_result"
    },
    {
     "name": "stderr",
     "output_type": "stream",
     "text": [
      "/Users/olga/anaconda3/envs/single-cell-bioinformatics/lib/python3.5/site-packages/matplotlib/figure.py:1744: UserWarning: This figure includes Axes that are not compatible with tight_layout, so its results might be incorrect.\n",
      "  warnings.warn(\"This figure includes Axes that are not \"\n"
     ]
    },
    {
     "data": {
      "image/png": "[encoded data removed]",
      "text/plain": [
       "<matplotlib.figure.Figure at 0x133f47da0>"
      ]
     },
     "metadata": {},
     "output_type": "display_data"
    }
   ],
   "source": [
    "\n",
    "n_intervals = 50\n",
    "x_min, x_max = smushed[0].min() - 1, smushed[0].max() + 1\n",
    "y_min, y_max = smushed[1].min() - 1, smushed[1].max() + 1\n",
    "X = np.linspace(x_min, x_max, n_intervals)\n",
    "Y = np.linspace(y_min, y_max, n_intervals)\n",
    "xx, yy = np.meshgrid(X, Y)\n",
    "\n",
    "# Get the decision boundary\n",
    "# Z = classifier.decision_function(np.c_[xx.ravel(), yy.ravel()])\n",
    "\n",
    "two_d_space = np.c_[xx.ravel(), yy.ravel()]\n",
    "gene_space = smusher.inverse_transform(two_d_space)\n",
    "Z = classifier.decision_function(gene_space)\n",
    "Z = Z.reshape(xx.shape)\n",
    "\n",
    "support_vectors_smushed = pd.DataFrame(smusher.transform(classifier.support_vectors_))\n",
    "\n",
    "fig, ax = plt.subplots()\n",
    "\n",
    "# ax.scatter(smushed_intervals[0], smushed_intervals[1], color='pink')\n",
    "ax.scatter(smushed[0], smushed[1], color=metadata['color'], s=50)\n",
    "ax.scatter(support_vectors_smushed[0], support_vectors_smushed[1], s=200, facecolors='none')\n",
    "ax.contourf(X, Y, Z, colors='grey',\n",
    "           levels=[-1, 0, 1], alpha=0.5,\n",
    "           linestyles=['--', '-', '--'])"
   ]
  },
  {
   "cell_type": "markdown",
   "metadata": {},
   "source": [
    "That looks really cool! Almost ALL the data points are support vectors (except that one cell). Why do you think so?\n",
    "\n",
    "This was nice but how do we *biologically* assess our classifiers? We want to do that using our biological knowledge of the data. Let's first look at the distribution of the coefficients in the data. This is the coefficient assigned to each feature. We'll first make it a Series so it's easy to work with (it's currently a numpy array)."
   ]
  },
  {
   "cell_type": "code",
   "execution_count": 192,
   "metadata": {
    "collapsed": false
   },
   "outputs": [
    {
     "name": "stderr",
     "output_type": "stream",
     "text": [
      "/Users/olga/anaconda3/envs/single-cell-bioinformatics/lib/python3.5/site-packages/pandas/types/dtypes.py:127: FutureWarning: elementwise comparison failed; returning scalar instead, but in the future will perform elementwise comparison\n",
      "  if string == 'category':\n"
     ]
    },
    {
     "data": {
      "text/plain": [
       "NPL        -1.387786e-04\n",
       "QK          1.543810e-04\n",
       "AK163153    3.543145e-04\n",
       "AGPAT4     -4.594230e-04\n",
       "IGF2R       2.282964e-07\n",
       "dtype: float64"
      ]
     },
     "execution_count": 192,
     "metadata": {},
     "output_type": "execute_result"
    }
   ],
   "source": [
    "coefficients = pd.Series(classifier.coef_.flat, index=singles.columns)\n",
    "coefficients.head()"
   ]
  },
  {
   "cell_type": "markdown",
   "metadata": {},
   "source": [
    "Now let's plot the distribution of the coefficients across all featurs:"
   ]
  },
  {
   "cell_type": "code",
   "execution_count": 186,
   "metadata": {
    "collapsed": false
   },
   "outputs": [
    {
     "name": "stderr",
     "output_type": "stream",
     "text": [
      "/Users/olga/anaconda3/envs/single-cell-bioinformatics/lib/python3.5/site-packages/statsmodels/nonparametric/kdetools.py:20: VisibleDeprecationWarning: using a non-integer number instead of an integer will result in an error in the future\n",
      "  y = X[:m/2+1] + np.r_[0,X[m/2+1:],0]*1j\n"
     ]
    },
    {
     "data": {
      "text/plain": [
       "<matplotlib.axes._subplots.AxesSubplot at 0x13bbdca90>"
      ]
     },
     "execution_count": 186,
     "metadata": {},
     "output_type": "execute_result"
    },
    {
     "name": "stderr",
     "output_type": "stream",
     "text": [
      "/Users/olga/anaconda3/envs/single-cell-bioinformatics/lib/python3.5/site-packages/matplotlib/figure.py:1744: UserWarning: This figure includes Axes that are not compatible with tight_layout, so its results might be incorrect.\n",
      "  warnings.warn(\"This figure includes Axes that are not \"\n"
     ]
    },
    {
     "data": {
      "image/png": "[encoded data removed]",
      "text/plain": [
       "<matplotlib.figure.Figure at 0x133f1e400>"
      ]
     },
     "metadata": {},
     "output_type": "display_data"
    }
   ],
   "source": [
    "sns.distplot(coefficients)"
   ]
  },
  {
   "cell_type": "markdown",
   "metadata": {},
   "source": [
    "This is semi-gaussian .. what does that mean? It means that most of the features in the dataset don't actually help you tell the difference between the datasets.\n",
    "\n",
    "Let's get the features which are 2 std devs away from the mean of the data. Let's plot what that would look like"
   ]
  },
  {
   "cell_type": "code",
   "execution_count": 195,
   "metadata": {
    "collapsed": false
   },
   "outputs": [
    {
     "name": "stderr",
     "output_type": "stream",
     "text": [
      "/Users/olga/anaconda3/envs/single-cell-bioinformatics/lib/python3.5/site-packages/statsmodels/nonparametric/kdetools.py:20: VisibleDeprecationWarning: using a non-integer number instead of an integer will result in an error in the future\n",
      "  y = X[:m/2+1] + np.r_[0,X[m/2+1:],0]*1j\n"
     ]
    },
    {
     "data": {
      "text/plain": [
       "<matplotlib.collections.LineCollection at 0x13c9bab00>"
      ]
     },
     "execution_count": 195,
     "metadata": {},
     "output_type": "execute_result"
    },
    {
     "name": "stderr",
     "output_type": "stream",
     "text": [
      "/Users/olga/anaconda3/envs/single-cell-bioinformatics/lib/python3.5/site-packages/matplotlib/figure.py:1744: UserWarning: This figure includes Axes that are not compatible with tight_layout, so its results might be incorrect.\n",
      "  warnings.warn(\"This figure includes Axes that are not \"\n"
     ]
    },
    {
     "data": {
      "image/png": "[encoded data removed]",
      "text/plain": [
       "<matplotlib.figure.Figure at 0x13c9c14e0>"
      ]
     },
     "metadata": {},
     "output_type": "display_data"
    }
   ],
   "source": [
    "mean = coefficients.mean()\n",
    "std = coefficients.std()\n",
    "multiplier = 2\n",
    "lower_cutoff = mean - multiplier * std\n",
    "upper_cutoff = mean + multiplier * std\n",
    "\n",
    "fig, ax = plt.subplots()\n",
    "sns.distplot(coefficients)\n",
    "\n",
    "# Add vertical lines\n",
    "ymin, ymax = ax.get_ylim()\n",
    "ax.vlines([lower_cutoff, upper_cutoff], ymin, ymax, linestyle='--', color='Crimson')"
   ]
  },
  {
   "cell_type": "code",
   "execution_count": 197,
   "metadata": {
    "collapsed": false
   },
   "outputs": [
    {
     "name": "stdout",
     "output_type": "stream",
     "text": [
      "(172,)\n"
     ]
    },
    {
     "data": {
      "text/plain": [
       "FPR1    -0.000507\n",
       "FPR2    -0.000580\n",
       "PRDX6   -0.000543\n",
       "MYO1F   -0.000872\n",
       "TNF     -0.000727\n",
       "dtype: float64"
      ]
     },
     "execution_count": 197,
     "metadata": {},
     "output_type": "execute_result"
    }
   ],
   "source": [
    "below_cutoff = coefficients[coefficients < lower_cutoff]\n",
    "print(below_cutoff.shape)\n",
    "below_cutoff.head()"
   ]
  },
  {
   "cell_type": "code",
   "execution_count": 198,
   "metadata": {
    "collapsed": false
   },
   "outputs": [
    {
     "name": "stderr",
     "output_type": "stream",
     "text": [
      "/Users/olga/anaconda3/envs/single-cell-bioinformatics/lib/python3.5/site-packages/matplotlib/figure.py:1744: UserWarning: This figure includes Axes that are not compatible with tight_layout, so its results might be incorrect.\n",
      "  warnings.warn(\"This figure includes Axes that are not \"\n"
     ]
    },
    {
     "data": {
      "text/plain": [
       "<seaborn.matrix.ClusterGrid at 0x13c077470>"
      ]
     },
     "execution_count": 198,
     "metadata": {},
     "output_type": "execute_result"
    },
    {
     "data": {
      "image/png": "[encoded data removed]",
      "text/plain": [
       "<matplotlib.figure.Figure at 0x13c077438>"
      ]
     },
     "metadata": {},
     "output_type": "display_data"
    }
   ],
   "source": [
    "sns.clustermap(singles[below_cutoff.index])"
   ]
  },
  {
   "cell_type": "markdown",
   "metadata": {},
   "source": [
    "### Exercise 1\n",
    "\n",
    "Look "
   ]
  },
  {
   "cell_type": "markdown",
   "metadata": {},
   "source": [
    "## Evaluating classifiers through Gene Ontology (GO) Enrichment\n",
    "\n",
    "Gene ontology is a tree (aka directed acyclic graph or \"dag\") of gene annotations. The topmost node is the most general, and the bottommost nodes are the most specific. Here is an example GO graph.\n",
    "\n",
    "![](figures/example_go_graph.png)\n",
    "\n",
    "Three GO Domains:\n",
    "\n",
    "* Cellular Component (CC)\n",
    "* Molecular Function (MF)\n",
    "* Biological Process (BP)"
   ]
  },
  {
   "cell_type": "markdown",
   "metadata": {},
   "source": [
    "### Perform GO enrichment analysis (GOEA)\n",
    "\n",
    "\n",
    "#### GOEA Step 1: Download GO graph file of \"obo\" type (same for all species)\n",
    "\n",
    "This will download the file `\"go-basic.obo\"` if it doesn't already exist. This only needs to be done once."
   ]
  },
  {
   "cell_type": "code",
   "execution_count": null,
   "metadata": {
    "collapsed": false
   },
   "outputs": [],
   "source": [
    "from goatools.base import download_go_basic_obo\n",
    "obo_fname = download_go_basic_obo()\n",
    "\n",
    "# Show the filename\n",
    "obo_fname"
   ]
  },
  {
   "cell_type": "markdown",
   "metadata": {},
   "source": [
    "#### GOEA Step 2: Create the GO graph (same for all species)"
   ]
  },
  {
   "cell_type": "code",
   "execution_count": null,
   "metadata": {
    "collapsed": false
   },
   "outputs": [],
   "source": [
    "obo_dag = goatools.obo_parser.GODag(obo_file='go-basic.obo')"
   ]
  },
  {
   "cell_type": "markdown",
   "metadata": {},
   "source": [
    "#### GOEA Step 3: Get gene ID to GO id mapping (species-specific and experiment-specific)\n",
    "\n",
    "Here we are establishing the background for our GOEA. Defining your background is **very important** because, for example, tehre are lots of neural genes so if you use all human genes as background in your study of which genes are upregulated in Neuron Type X vs Neuron Type Y, you'll get a bunch of neuron genes (which is true) but not the smaller differences between X and Y. Typicall, you use *all expressed genes* as the background.\n",
    "\n",
    "For our data, we can access all expressed genes very simply by getting the column names in the dataframe: `expression.columns`."
   ]
  },
  {
   "cell_type": "code",
   "execution_count": null,
   "metadata": {
    "collapsed": true
   },
   "outputs": [],
   "source": [
    "# Initialize the \"mygene.info\" (http://mygene.info/) interface\n",
    "mg = mygene.MyGeneInfo()\n",
    "\n",
    "mygene_output = mg.querymany(expression.columns, \n",
    "                             scopes='symbol', fields=['go.BP', 'go.MF', 'go.CC'], species='mouse', \n",
    "                             returnall=True)\n",
    "\n",
    "gene_name_to_go = parse_mygene_output(mygene_output)"
   ]
  },
  {
   "cell_type": "markdown",
   "metadata": {},
   "source": [
    "#### GOEA Step 4: Create a GO enrichment calculator object `go_enricher` (species- and experiment-specific)\n",
    "\n",
    "In this step, we are using the two objects we've created (`obo_dag` from Step 2 and `gene_name_to_go` from Step 3) plus the gene ids to create a `go_enricher` object"
   ]
  },
  {
   "cell_type": "code",
   "execution_count": null,
   "metadata": {
    "collapsed": false
   },
   "outputs": [],
   "source": [
    "go_enricher = goatools.GOEnrichmentStudy(expression.columns, gene_name_to_go, obo_dag)"
   ]
  },
  {
   "cell_type": "markdown",
   "metadata": {},
   "source": [
    "#### GOEA Step 5: Calculate go enrichment!!! (species- and experiment-specific)\n",
    "\n",
    "Now we are ready to run go enrichment!! Let's take our enriched genes of interest and "
   ]
  },
  {
   "cell_type": "code",
   "execution_count": null,
   "metadata": {
    "collapsed": false
   },
   "outputs": [],
   "source": [
    "genes_of_interest = \n",
    "\n",
    "results = go.run_study(genes[:5])\n",
    "\n",
    "go_enrichment = pd.DataFrame([r.__dict__ for r in results])\n",
    "go_enrichment.head()"
   ]
  },
  {
   "cell_type": "code",
   "execution_count": null,
   "metadata": {
    "collapsed": false
   },
   "outputs": [],
   "source": []
  },
  {
   "cell_type": "code",
   "execution_count": null,
   "metadata": {
    "collapsed": true
   },
   "outputs": [],
   "source": [
    "import pandas.util.testing as pdt"
   ]
  },
  {
   "cell_type": "code",
   "execution_count": null,
   "metadata": {
    "collapsed": false
   },
   "outputs": [],
   "source": [
    "pdt.assert_numpy_array_equal(two_d_space_v1, two_d_space_v2)"
   ]
  },
  {
   "cell_type": "code",
   "execution_count": null,
   "metadata": {
    "collapsed": false
   },
   "outputs": [],
   "source": [
    "two_d_space.shape"
   ]
  },
  {
   "cell_type": "code",
   "execution_count": null,
   "metadata": {
    "collapsed": false
   },
   "outputs": [],
   "source": [
    "plt.scatter(two_d_space[:, 0], two_d_space[:, 1], color='black')"
   ]
  },
  {
   "cell_type": "code",
   "execution_count": null,
   "metadata": {
    "collapsed": true
   },
   "outputs": [],
   "source": [
    "expression.index[:10]"
   ]
  },
  {
   "cell_type": "code",
   "execution_count": null,
   "metadata": {
    "collapsed": true
   },
   "outputs": [],
   "source": [
    "clf = ExtraTreesClassifier(n_estimators=100000, n_jobs=-1, verbose=1)"
   ]
  },
  {
   "cell_type": "code",
   "execution_count": null,
   "metadata": {
    "collapsed": false
   },
   "outputs": [],
   "source": [
    "expression.index.duplicated()"
   ]
  },
  {
   "cell_type": "code",
   "execution_count": null,
   "metadata": {
    "collapsed": true
   },
   "outputs": [],
   "source": [
    "expression.drop_duplicates()"
   ]
  },
  {
   "cell_type": "code",
   "execution_count": null,
   "metadata": {
    "collapsed": false
   },
   "outputs": [],
   "source": [
    "# assoc = pd.read_table('danio-rerio-gene-ontology.txt').dropna()\n",
    "# assoc_df = assoc.groupby('Ensembl Gene ID').agg(lambda s: ';'.join(s))\n",
    "# assoc_s = assoc_df['GO Term Accession'].apply(lambda s: set(s.split(';')))\n",
    "# assoc_dict = assoc_s.to_dict()"
   ]
  },
  {
   "cell_type": "code",
   "execution_count": null,
   "metadata": {
    "collapsed": true
   },
   "outputs": [],
   "source": [
    "import goatools\n",
    "\n",
    "# cl = gene_annotation.sort(col, ascending=False)[gene_annotation[col] > 5e-4].index\n",
    "g = goatools.GOEnrichmentStudy(list(gene_annotation.index), assoc_dict, obo_dag, study=list(cl))"
   ]
  },
  {
   "cell_type": "code",
   "execution_count": null,
   "metadata": {
    "collapsed": false
   },
   "outputs": [],
   "source": []
  },
  {
   "cell_type": "code",
   "execution_count": null,
   "metadata": {
    "collapsed": true
   },
   "outputs": [],
   "source": [
    "for r in g.results[:25]:\n",
    "    print r.goterm.id, '{:.2}'.format(r.p_bonferroni), r.ratio_in_study, r.goterm.name, r.goterm.namespace"
   ]
  },
  {
   "cell_type": "code",
   "execution_count": null,
   "metadata": {
    "collapsed": false
   },
   "outputs": [],
   "source": [
    "unsmushed = smusher.inverse_transform(two_d_space)\n",
    "\n",
    "Z = classifier.decision_function(unsmushed)\n",
    "Z = Z.reshape(xx.shape)\n",
    "\n",
    "fig, ax = plt.subplots()\n",
    "ax.scatter(reduced_data[:, 0], reduced_data[:, 1], c=target, cmap='Dark2')\n",
    "ax.contour(X, Y, Z, colors='k',\n",
    "           levels=[-1, 0, 1], alpha=0.5,\n",
    "           linestyles=['--', '-', '--'])"
   ]
  },
  {
   "cell_type": "markdown",
   "metadata": {},
   "source": [
    "### Exercise 1\n",
    "\n",
    "1. Try the same analysis, but use ICA instead of PCA. \n",
    "    1. How does that change the classification? \n",
    "    2. How does it change the enriched genes?\n",
    "    2. Are the cells closer or farther from the decision boundary? \n",
    "    3. Is that a \"better\" or \"worse\" classification? Why?\n",
    "    4. Why does the reduction algorithm affect the visualization of the classification?\n",
    "2. Could you use MDS or t-SNE for plotting of the classifier boundary? Why or why not?\n",
    "3. Try the same analysis, but use the \"LPS Response\" genes and a dimensionality reduction algorithm of your choice. (... how do you subset only certain columns out of the dataframe?)\n",
    "    1. How does that change the classification? \n",
    "    2. How does it change the enriched genes?\n",
    "    2. Are the cells closer or farther from the decision boundary? \n",
    "    3. Is that a \"better\" or \"worse\" classification? Why?\n",
    "4. For (1) and (2) above, also fry using radial basis kernel (`kernel=\"rbf\"`) for SVC.\n",
    "    1. How does that change the classification? \n",
    "    2. How does it change the enriched genes?\n",
    "    2. Are the cells closer or farther from the decision boundary? \n",
    "    3. Is that a \"better\" or \"worse\" classification? Why?\n"
   ]
  },
  {
   "cell_type": "markdown",
   "metadata": {},
   "source": [
    "## Decision trees"
   ]
  },
  {
   "cell_type": "code",
   "execution_count": null,
   "metadata": {
    "collapsed": true
   },
   "outputs": [],
   "source": [
    "def visualize_tree(estimator, X, y, smusher, boundaries=True,\n",
    "                   xlim=None, ylim=None):\n",
    "    estimator.fit(X, y)\n",
    "    smushed = smusher.fit_transform(X)\n",
    "\n",
    "    if xlim is None:\n",
    "        xlim = (smushed[:, 0].min() - 0.1, smushed[:, 0].max() + 0.1)\n",
    "    if ylim is None:\n",
    "        ylim = (smushed[:, 1].min() - 0.1, smushed[:, 1].max() + 0.1)\n",
    "\n",
    "    x_min, x_max = xlim\n",
    "    y_min, y_max = ylim\n",
    "    xx, yy = np.meshgrid(np.linspace(x_min, x_max, 100),\n",
    "                         np.linspace(y_min, y_max, 100))\n",
    "    two_d_space = np.c_[xx.ravel(), yy.ravel()]\n",
    "    unsmushed = smusher.inverse_transform(two_d_space)\n",
    "    Z = estimator.predict(unsmushed)\n",
    "\n",
    "    # Put the result into a color plot\n",
    "    Z = Z.reshape(xx.shape)\n",
    "    plt.figure()\n",
    "    plt.pcolormesh(xx, yy, Z, alpha=0.2, cmap='Paired')\n",
    "    plt.clim(y.min(), y.max())\n",
    "\n",
    "    # Plot also the training points\n",
    "    plt.scatter(smushed[:, 0], smushed[:, 1], c=y, s=50, cmap='Paired')\n",
    "    plt.axis('off')\n",
    "\n",
    "    plt.xlim(x_min, x_max)\n",
    "    plt.ylim(y_min, y_max)        \n",
    "    plt.clim(y.min(), y.max())\n",
    "    \n",
    "    # Plot the decision boundaries\n",
    "    def plot_boundaries(i, xlim, ylim):\n",
    "        if i < 0:\n",
    "            return\n",
    "\n",
    "        tree = estimator.tree_\n",
    "        \n",
    "        if tree.feature[i] == 0:\n",
    "            plt.plot([tree.threshold[i], tree.threshold[i]], ylim, '-k')\n",
    "            plot_boundaries(tree.children_left[i],\n",
    "                            [xlim[0], tree.threshold[i]], ylim)\n",
    "            plot_boundaries(tree.children_right[i],\n",
    "                            [tree.threshold[i], xlim[1]], ylim)\n",
    "        \n",
    "        elif tree.feature[i] == 1:\n",
    "            plt.plot(xlim, [tree.threshold[i], tree.threshold[i]], '-k')\n",
    "            plot_boundaries(tree.children_left[i], xlim,\n",
    "                            [ylim[0], tree.threshold[i]])\n",
    "            plot_boundaries(tree.children_right[i], xlim,\n",
    "                            [tree.threshold[i], ylim[1]])\n",
    "            \n",
    "    if boundaries:\n",
    "        plot_boundaries(0, plt.xlim(), plt.ylim())"
   ]
  },
  {
   "cell_type": "code",
   "execution_count": null,
   "metadata": {
    "collapsed": false
   },
   "outputs": [],
   "source": [
    "from sklearn.tree import DecisionTreeClassifier\n",
    "classifier = DecisionTreeClassifier()\n",
    "\n",
    "\n",
    "from sklearn.decomposition import PCA, FastICA\n",
    "from sklearn.manifold import TSNE, MDS\n",
    "\n",
    "\n",
    "smusher = PCA(n_components=2)\n",
    "# reduced_data = smusher.fit_transform(singles+1)\n",
    "\n",
    "visualize_tree(classifier, singles, np.array(target), smusher)"
   ]
  },
  {
   "cell_type": "code",
   "execution_count": null,
   "metadata": {
    "collapsed": false
   },
   "outputs": [],
   "source": [
    "from sklearn.ensemble import RandomForestClassifier, ExtraTreesClassifier\n",
    "classifier = RandomForestClassifier()\n",
    "\n",
    "smusher = PCA(n_components=2)\n",
    "# reduced_data = smusher.fit_transform(singles+1)\n",
    "\n",
    "visualize_tree(classifier, singles, np.array(target), smusher, boundaries=False)"
   ]
  },
  {
   "cell_type": "code",
   "execution_count": null,
   "metadata": {
    "collapsed": false
   },
   "outputs": [],
   "source": [
    "classifier = ExtraTreesClassifier()\n",
    "\n",
    "smusher = PCA(n_components=2)\n",
    "# reduced_data = smusher.fit_transform(singles+1)\n",
    "\n",
    "visualize_tree(classifier, singles, np.array(target), smusher, boundaries=False)"
   ]
  },
  {
   "cell_type": "markdown",
   "metadata": {},
   "source": [
    "### Macaulay2016"
   ]
  },
  {
   "cell_type": "code",
   "execution_count": null,
   "metadata": {
    "collapsed": true
   },
   "outputs": [],
   "source": [
    "pd.options.display.max_columns = 50"
   ]
  },
  {
   "cell_type": "code",
   "execution_count": null,
   "metadata": {
    "collapsed": false
   },
   "outputs": [],
   "source": [
    "macaulay2016_metadata = pd.read_csv('../4._Case_Study/macaulay2016/sample_info_qc.csv', index_col=0)\n",
    "macaulay2016_metadata.head()"
   ]
  },
  {
   "cell_type": "code",
   "execution_count": null,
   "metadata": {
    "collapsed": false
   },
   "outputs": [],
   "source": [
    "macaulay2016_cluster_names = tuple(sorted(macaulay2016_metadata['cluster'].unique()))\n",
    "macaulay2016_cluster_names"
   ]
  },
  {
   "cell_type": "code",
   "execution_count": null,
   "metadata": {
    "collapsed": false
   },
   "outputs": [],
   "source": [
    "macaulay2016_target = macaulay2016_metadata['cluster'].map(lambda x: macaulay2016_cluster_names.index(x))\n",
    "macaulay2016_target"
   ]
  },
  {
   "cell_type": "code",
   "execution_count": null,
   "metadata": {
    "collapsed": true
   },
   "outputs": [],
   "source": [
    "macaulay2016_expression = pd.read_csv('../4._Case_Study/macaulay2016/gene_expression_s.csv', index_col=0).T\n"
   ]
  },
  {
   "cell_type": "code",
   "execution_count": null,
   "metadata": {
    "collapsed": false
   },
   "outputs": [],
   "source": [
    "macaulay2016_expression.head()"
   ]
  },
  {
   "cell_type": "code",
   "execution_count": null,
   "metadata": {
    "collapsed": false
   },
   "outputs": [],
   "source": [
    "macaulay2016_expression_filtered = macaulay2016_expression[[x for x in macaulay2016_expression if x.startswith(\"ENS\")]]\n",
    "macaulay2016_expression_filtered.shape"
   ]
  },
  {
   "cell_type": "code",
   "execution_count": null,
   "metadata": {
    "collapsed": true
   },
   "outputs": [],
   "source": [
    "macaulay2016_expression_filtered = macaulay2016_expression_filtered.loc[macaulay2016_metadata.index]"
   ]
  },
  {
   "cell_type": "code",
   "execution_count": null,
   "metadata": {
    "collapsed": false
   },
   "outputs": [],
   "source": [
    "macaulay2016_expression_filtered = 1e6*macaulay2016_expression_filtered.divide(macaulay2016_expression_filtered.sum(axis=1), axis=0)\n",
    "macaulay2016_expression_filtered.head()"
   ]
  },
  {
   "cell_type": "code",
   "execution_count": null,
   "metadata": {
    "collapsed": false
   },
   "outputs": [],
   "source": [
    "macaulay2016_expression_filtered = np.log10(macaulay2016_expression_filtered+1)\n",
    "macaulay2016_expression_filtered.head()"
   ]
  },
  {
   "cell_type": "code",
   "execution_count": null,
   "metadata": {
    "collapsed": false
   },
   "outputs": [],
   "source": [
    "macaulay2016_expression_filtered = macaulay2016_expression_filtered.loc[:, (macaulay2016_expression_filtered > 1).sum() >=3]\n",
    "macaulay2016_expression_filtered.shape"
   ]
  },
  {
   "cell_type": "code",
   "execution_count": null,
   "metadata": {
    "collapsed": false
   },
   "outputs": [],
   "source": [
    "# classifier = SVC(kernel='linear')\n",
    "# classifier = DecisionTreeClassifier(max_depth=10)\n",
    "classifier = ExtraTreesClassifier(n_estimators=1000)\n",
    "classifier.fit(macaulay2016_expression_filtered, macaulay2016_target)"
   ]
  },
  {
   "cell_type": "code",
   "execution_count": null,
   "metadata": {
    "collapsed": false
   },
   "outputs": [],
   "source": [
    "smusher = FastICA(n_components=2, random_state=0)\n",
    "smushed_data = smusher.fit_transform(macaulay2016_expression_filtered)\n",
    "\n",
    "x_min, x_max = smushed_data[:, 0].min(), smushed_data[:, 0].max()\n",
    "y_min, y_max = smushed_data[:, 1].min(), smushed_data[:, 1].max()\n",
    "delta_x = 0.05 * abs(x_max - x_min)\n",
    "delta_y = 0.05 * abs(x_max - x_min)\n",
    "\n",
    "x_min -= delta_x\n",
    "x_max += delta_x\n",
    "y_min -= delta_y\n",
    "y_max += delta_y\n",
    "\n",
    "X = np.linspace(x_min, x_max, 100)\n",
    "Y = np.linspace(y_min, y_max, 100)\n",
    "xx, yy = np.meshgrid(X, Y)\n",
    "\n",
    "two_d_space = np.c_[xx.ravel(), yy.ravel()]\n",
    "two_d_space"
   ]
  },
  {
   "cell_type": "code",
   "execution_count": null,
   "metadata": {
    "collapsed": false
   },
   "outputs": [],
   "source": [
    "high_dimensional_space = smusher.inverse_transform(two_d_space)"
   ]
  },
  {
   "cell_type": "code",
   "execution_count": null,
   "metadata": {
    "collapsed": false
   },
   "outputs": [],
   "source": [
    "# Get the class boundaries\n",
    "Z = classifier.predict(high_dimensional_space)"
   ]
  },
  {
   "cell_type": "code",
   "execution_count": null,
   "metadata": {
    "collapsed": false
   },
   "outputs": [],
   "source": [
    "import matplotlib as mpl\n",
    "macaulay2016_metadata['cluster_color_hex'] = macaulay2016_metadata['cluster_color'].map(lambda x: mpl.colors.rgb2hex(eval(x)))"
   ]
  },
  {
   "cell_type": "code",
   "execution_count": null,
   "metadata": {
    "collapsed": false
   },
   "outputs": [],
   "source": [
    "int_to_cluster_name = dict(zip(range(len(macaulay2016_cluster_names)), macaulay2016_cluster_names))\n",
    "int_to_cluster_name\n"
   ]
  },
  {
   "cell_type": "code",
   "execution_count": null,
   "metadata": {
    "collapsed": false
   },
   "outputs": [],
   "source": [
    "cluster_name_to_color = dict(zip(macaulay2016_metadata['cluster'], macaulay2016_metadata['cluster_color_hex']))\n",
    "cluster_name_to_color"
   ]
  },
  {
   "cell_type": "code",
   "execution_count": null,
   "metadata": {
    "collapsed": false
   },
   "outputs": [],
   "source": [
    "macaulay2016_palette = [mpl.colors.hex2color(cluster_name_to_color[int_to_cluster_name[i]]) \n",
    "                        for i in range(len(macaulay2016_cluster_names))]\n",
    "macaulay2016_palette\n"
   ]
  },
  {
   "cell_type": "code",
   "execution_count": null,
   "metadata": {
    "collapsed": false
   },
   "outputs": [],
   "source": [
    "cmap = mpl.colors.ListedColormap(macaulay2016_palette)\n",
    "cmap"
   ]
  },
  {
   "cell_type": "code",
   "execution_count": null,
   "metadata": {
    "collapsed": false
   },
   "outputs": [],
   "source": [
    "x_min, x_max"
   ]
  },
  {
   "cell_type": "code",
   "execution_count": null,
   "metadata": {
    "collapsed": false
   },
   "outputs": [],
   "source": [
    "y = macaulay2016_target\n",
    "# Put the result into a color plot\n",
    "Z = Z.reshape(xx.shape)\n",
    "plt.figure()\n",
    "plt.pcolormesh(xx, yy, Z, alpha=0.2, cmap=cmap)\n",
    "plt.clim(y.min(), y.max())\n",
    "\n",
    "# Plot also the training points\n",
    "plt.scatter(smushed_data[:, 0], smushed_data[:, 1], s=50, color=macaulay2016_metadata['cluster_color_hex'], \n",
    "            edgecolor='k') #c=macaulay2016_target, s=50, cmap='Set2')\n",
    "plt.axis('off')\n",
    "\n",
    "plt.xlim(x_min, x_max)\n",
    "plt.ylim(y_min, y_max)        \n",
    "plt.clim(y.min(), y.max())"
   ]
  },
  {
   "cell_type": "code",
   "execution_count": null,
   "metadata": {
    "collapsed": false
   },
   "outputs": [],
   "source": [
    "smusher = FastICA(n_components=4, random_state=354)\n",
    "smushed_data = pd.DataFrame(smusher.fit_transform(macaulay2016_expression_filtered))\n",
    "\n",
    "# x_min, x_max = smushed_data[:, 0].min(), smushed_data[:, 0].max()\n",
    "# y_min, y_max = smushed_data[:, 1].min(), smushed_data[:, 1].max()\n",
    "# delta_x = 0.05 * abs(x_max - x_min)\n",
    "# delta_y = 0.05 * abs(x_max - x_min)\n",
    "\n",
    "# x_min -= delta_x\n",
    "# x_max += delta_x\n",
    "# y_min -= delta_y\n",
    "# y_max += delta_y\n",
    "\n",
    "# X = np.linspace(x_min, x_max, 100)\n",
    "# Y = np.linspace(y_min, y_max, 100)\n",
    "# xx, yy = np.meshgrid(X, Y)\n",
    "\n",
    "# low_dimensional_space = np.c_[xx.ravel(), yy.ravel()]\n",
    "# low_dimensional_space"
   ]
  },
  {
   "cell_type": "code",
   "execution_count": null,
   "metadata": {
    "collapsed": false
   },
   "outputs": [],
   "source": [
    "smushed_data.max() - smushed_data.min()"
   ]
  },
  {
   "cell_type": "code",
   "execution_count": null,
   "metadata": {
    "collapsed": false
   },
   "outputs": [],
   "source": [
    "grid = smushed_data.apply(lambda x: pd.Series(np.linspace(x.min(), x.max(), 50)))\n",
    "grid.head()\n",
    "# grid = [x.ravel() for x in grid]\n",
    "# grid\n",
    "# low_dimensional_space = np.concatenate(grid, axis=0)\n",
    "# low_dimensional_space.shape\n",
    "# # low_dimensional_space = low_dimensional_space.reshape(shape)"
   ]
  },
  {
   "cell_type": "code",
   "execution_count": null,
   "metadata": {
    "collapsed": false
   },
   "outputs": [],
   "source": [
    "x1, x2, x3, x4 = np.meshgrid(*[grid[col] for col in grid])\n",
    "low_dimensional_space = np.c_[x1.ravel(), x2.ravel(), x3.ravel(), x4.ravel()]"
   ]
  },
  {
   "cell_type": "code",
   "execution_count": null,
   "metadata": {
    "collapsed": false
   },
   "outputs": [],
   "source": [
    "high_dimensional_space = smusher.inverse_transform(low_dimensional_space)"
   ]
  },
  {
   "cell_type": "code",
   "execution_count": null,
   "metadata": {
    "collapsed": true
   },
   "outputs": [],
   "source": [
    "smushed_data['hue'] = macau"
   ]
  },
  {
   "cell_type": "code",
   "execution_count": null,
   "metadata": {
    "collapsed": true
   },
   "outputs": [],
   "source": [
    "sns.pairplot(smushed_data)"
   ]
  }
 ],
 "metadata": {
  "kernelspec": {
   "display_name": "Python 3 (single-cell-bioinformatics)",
   "language": "python",
   "name": "python3"
  },
  "language_info": {
   "codemirror_mode": {
    "name": "ipython",
    "version": 3
   },
   "file_extension": ".py",
   "mimetype": "text/x-python",
   "name": "python",
   "nbconvert_exporter": "python",
   "pygments_lexer": "ipython3",
   "version": "3.5.1"
  }
 },
 "nbformat": 4,
 "nbformat_minor": 0
}
