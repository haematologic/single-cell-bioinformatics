{
 "cells": [
  {
   "cell_type": "markdown",
   "metadata": {},
   "source": [
    "# Assessing classifiers using GO in Shalek2013\n",
    "\n",
    "For the GO analysis, we'll need a few other packages:\n",
    "\n",
    "* `mygene` for looking up the gene ontology categories of genes\n",
    "* `goatools` for performing gene ontology enrichment analysis\n",
    "* `fishers_exact_test` for `goatools`\n",
    "\n",
    "Use the following commands at your terminal to install the packages. Some of them are on Github so it's important to get the whole command right.\n",
    "\n",
    "```\n",
    "$ pip install mygene\n",
    "$ pip install git+git://github.com/tanghaibao/goatools.git\n",
    "$ pip install git+https://github.com/brentp/fishers_exact_test.git\n",
    "```"
   ]
  },
  {
   "cell_type": "code",
   "execution_count": 2,
   "metadata": {
    "collapsed": false
   },
   "outputs": [],
   "source": [
    "# Alphabetical order is standard\n",
    "# We're doing \"import superlongname as abbrev\" for our laziness - this way we don't have to type out the whole thing each time.\n",
    "\n",
    "import collections\n",
    "\n",
    "# Python plotting library\n",
    "import matplotlib.pyplot as plt\n",
    "\n",
    "# Numerical python library (pronounced \"num-pie\")\n",
    "import numpy as np\n",
    "\n",
    "# Dataframes in Python\n",
    "import pandas as pd\n",
    "\n",
    "# Statistical plotting library we'll use\n",
    "import seaborn as sns\n",
    "sns.set(style='whitegrid')\n",
    "\n",
    "# Label processing\n",
    "from sklearn import preprocessing\n",
    "\n",
    "# Matrix decomposition\n",
    "from sklearn.decomposition import PCA, FastICA\n",
    "\n",
    "# Classification\n",
    "from sklearn.svm import SVC\n",
    "\n",
    "# Gene ontology\n",
    "import goatools\n",
    "import mygene\n",
    "\n",
    "# This is necessary to show the plotted figures inside the notebook -- \"inline\" with the notebook cells\n",
    "%matplotlib inline\n"
   ]
  },
  {
   "cell_type": "code",
   "execution_count": 3,
   "metadata": {
    "collapsed": false
   },
   "outputs": [
    {
     "data": {
      "text/plain": [
       "<module 'goatools.version' from '/Users/duncan/anaconda/envs/single-cell-bioinformatics/lib/python3.5/site-packages/goatools/version.py'>"
      ]
     },
     "execution_count": 3,
     "metadata": {},
     "output_type": "execute_result"
    }
   ],
   "source": [
    "goatools.version"
   ]
  },
  {
   "cell_type": "markdown",
   "metadata": {},
   "source": [
    "Utility functions for gene ontology"
   ]
  },
  {
   "cell_type": "code",
   "execution_count": 4,
   "metadata": {
    "collapsed": true
   },
   "outputs": [],
   "source": [
    "GO_KEYS = 'go.BP', 'go.MF', 'go.CC' #Biological process preferred, molecular function gives a lot of protein binding\n",
    "#CC gives cellular compartment data - e.g. mitochondrial gene enrichment.\n",
    "\n",
    "def parse_mygene_output(mygene_output):\n",
    "    \"\"\"Convert mygene.querymany output to a gene id to go term mapping (dictionary)\n",
    "    \n",
    "    Parameters\n",
    "    ----------\n",
    "    mygene_output : dict or list\n",
    "        Dictionary (returnall=True) or list (returnall=False) of \n",
    "        output from mygene.querymany\n",
    "        \n",
    "    Output\n",
    "    ------\n",
    "    gene_name_to_go : dict\n",
    "        Mapping of gene name to a set of GO ids    \n",
    "    \"\"\"\n",
    "    # if \"returnall=True\" was specified, need to get just the \"out\" key\n",
    "    if isinstance(mygene_output, dict):\n",
    "        mygene_output = mygene_output['out']\n",
    "\n",
    "    gene_name_to_go = collections.defaultdict(set)\n",
    "\n",
    "    for line in mygene_output:\n",
    "        gene_name = line['query']\n",
    "        for go_key in GO_KEYS:\n",
    "            try:\n",
    "                go_terms = line[go_key]\n",
    "            except KeyError:\n",
    "                continue\n",
    "            if isinstance(go_terms, dict):\n",
    "                go_ids = set([go_terms['id']])\n",
    "            else:\n",
    "                go_ids = set(x['id'] for x in go_terms)\n",
    "            gene_name_to_go[gene_name] |= go_ids\n",
    "    return gene_name_to_go\n"
   ]
  },
  {
   "cell_type": "markdown",
   "metadata": {},
   "source": [
    "## Read in the Shalek2013 data and classify it"
   ]
  },
  {
   "cell_type": "code",
   "execution_count": 5,
   "metadata": {
    "collapsed": false
   },
   "outputs": [
    {
     "data": {
      "text/plain": [
       "SVC(C=1.0, cache_size=200, class_weight=None, coef0=0.0,\n",
       "  decision_function_shape=None, degree=3, gamma='auto', kernel='linear',\n",
       "  max_iter=-1, probability=False, random_state=None, shrinking=True,\n",
       "  tol=0.001, verbose=False)"
      ]
     },
     "execution_count": 5,
     "metadata": {},
     "output_type": "execute_result"
    }
   ],
   "source": [
    "metadata = pd.read_csv('../data/shalek2013/metadata.csv', \n",
    "                               \n",
    "                                     # Sets the first (Python starts counting from 0 not 1) column as the row names\n",
    "                                      index_col=0)\n",
    "expression = pd.read_csv('../data/shalek2013/expression.csv', \n",
    "                               \n",
    "                                     # Sets the first (Python starts counting from 0 not 1) column as the row names\n",
    "                                      index_col=0)\n",
    "expression_feature = pd.read_csv('../data/shalek2013/expression_feature.csv', \n",
    "                               \n",
    "                                     # Sets the first (Python starts counting from 0 not 1) column as the row names\n",
    "                                      index_col=0)\n",
    "\n",
    "# creating new column indicating color\n",
    "metadata['color'] = metadata['maturity'].map(\n",
    "    lambda x: 'MediumTurquoise' if x == 'immature' else 'Teal')\n",
    "metadata.loc[metadata['pooled'], 'color'] = 'black'\n",
    "\n",
    "# Create a column indicating both maturity and pooled for coloring with seaborn, e.g. sns.pairplot\n",
    "metadata['group'] = metadata['maturity']\n",
    "metadata.loc[metadata['pooled'], 'group'] = 'pooled'\n",
    "\n",
    "# Create a palette and ordering for using with sns.pairplot\n",
    "palette = ['MediumTurquoise', 'Teal', 'black']\n",
    "order = ['immature', 'mature', 'pooled']\n",
    "\n",
    "\n",
    "singles_ids = [x for x in expression.index if x.startswith('S')]\n",
    "singles = expression.loc[singles_ids]\n",
    "\n",
    "# Use only the genes that are substantially expressed in single cells\n",
    "\n",
    "singles = singles.loc[:, (singles > 1).sum() >= 3]\n",
    "singles.shape\n",
    "\n",
    "# Now because computers only understand numbers, we'll convert the \n",
    "# category label of \"mature\" and \"immature\" into integers to a using a \n",
    "# `LabelEncoder`. Let's look at that column again, only for mature cells:\n",
    "\n",
    "singles_maturity = metadata.loc[singles.index, 'maturity']\n",
    "\n",
    "# Instantiate the encoder\n",
    "encoder = preprocessing.LabelEncoder()\n",
    "\n",
    "# Get number of categories and transform \"mature\"/\"immature\" to numbers\n",
    "target = encoder.fit_transform(singles_maturity)\n",
    "\n",
    "## Run the classifier!!\n",
    "\n",
    "# Yay so now we can run a classifier!\n",
    "\n",
    "\n",
    "classifier = SVC(kernel='linear')\n",
    "classifier.fit(singles, target)"
   ]
  },
  {
   "cell_type": "markdown",
   "metadata": {},
   "source": [
    "### Make the `coefficients` series"
   ]
  },
  {
   "cell_type": "code",
   "execution_count": 6,
   "metadata": {
    "collapsed": false
   },
   "outputs": [
    {
     "name": "stderr",
     "output_type": "stream",
     "text": [
      "/Users/duncan/anaconda/envs/single-cell-bioinformatics/lib/python3.5/site-packages/pandas/types/dtypes.py:127: FutureWarning: elementwise comparison failed; returning scalar instead, but in the future will perform elementwise comparison\n",
      "  if string == 'category':\n"
     ]
    },
    {
     "data": {
      "text/plain": [
       "NPL        -1.387786e-04\n",
       "QK          1.543810e-04\n",
       "AK163153    3.543145e-04\n",
       "AGPAT4     -4.594230e-04\n",
       "IGF2R       2.282964e-07\n",
       "dtype: float64"
      ]
     },
     "execution_count": 6,
     "metadata": {},
     "output_type": "execute_result"
    }
   ],
   "source": [
    "coefficients = pd.Series(classifier.coef_.flat, index=singles.columns)\n",
    "coefficients.head()"
   ]
  },
  {
   "cell_type": "markdown",
   "metadata": {},
   "source": [
    "Let's remind ourselves of the distribution of the coefficients again"
   ]
  },
  {
   "cell_type": "code",
   "execution_count": 7,
   "metadata": {
    "collapsed": false
   },
   "outputs": [
    {
     "name": "stderr",
     "output_type": "stream",
     "text": [
      "/Users/duncan/anaconda/envs/single-cell-bioinformatics/lib/python3.5/site-packages/statsmodels/nonparametric/kdetools.py:20: VisibleDeprecationWarning: using a non-integer number instead of an integer will result in an error in the future\n",
      "  y = X[:m/2+1] + np.r_[0,X[m/2+1:],0]*1j\n"
     ]
    },
    {
     "data": {
      "text/plain": [
       "<matplotlib.collections.LineCollection at 0x11d1029b0>"
      ]
     },
     "execution_count": 7,
     "metadata": {},
     "output_type": "execute_result"
    },
    {
     "data": {
      "image/png": "[encoded data removed]",
      "text/plain": [
       "<matplotlib.figure.Figure at 0x11d060748>"
      ]
     },
     "metadata": {},
     "output_type": "display_data"
    }
   ],
   "source": [
    "mean = coefficients.mean()\n",
    "std = coefficients.std()\n",
    "multiplier = 2\n",
    "lower_cutoff = mean - multiplier * std\n",
    "upper_cutoff = mean + multiplier * std\n",
    "\n",
    "fig, ax = plt.subplots()\n",
    "sns.distplot(coefficients)\n",
    "\n",
    "# Add vertical lines\n",
    "ymin, ymax = ax.get_ylim()\n",
    "ax.vlines([lower_cutoff, upper_cutoff], ymin, ymax, linestyle='--', color='Crimson')"
   ]
  },
  {
   "cell_type": "code",
   "execution_count": 8,
   "metadata": {
    "collapsed": false
   },
   "outputs": [
    {
     "name": "stdout",
     "output_type": "stream",
     "text": [
      "(172,)\n"
     ]
    },
    {
     "data": {
      "text/plain": [
       "FPR1    -0.000507\n",
       "FPR2    -0.000580\n",
       "PRDX6   -0.000543\n",
       "MYO1F   -0.000872\n",
       "TNF     -0.000727\n",
       "dtype: float64"
      ]
     },
     "execution_count": 8,
     "metadata": {},
     "output_type": "execute_result"
    }
   ],
   "source": [
    "below_cutoff = coefficients[coefficients < lower_cutoff]\n",
    "print(below_cutoff.shape)\n",
    "below_cutoff.head()"
   ]
  },
  {
   "cell_type": "markdown",
   "metadata": {},
   "source": [
    "How can we ***biologically*** assess what genes are found by our classifier? One way is through Gene Ontology enrichment"
   ]
  },
  {
   "cell_type": "markdown",
   "metadata": {},
   "source": [
    "## Evaluating classifiers through Gene Ontology (GO) Enrichment\n",
    "\n",
    "Gene ontology is a tree (aka directed acyclic graph or \"dag\") of gene annotations. The topmost node is the most general, and the bottommost nodes are the most specific. Here is an example GO graph.\n",
    "\n",
    "![](figures/example_go_graph.png)\n",
    "\n",
    "Three GO Domains:\n",
    "\n",
    "* Cellular Component (CC)\n",
    "* Molecular Function (MF)\n",
    "* Biological Process (BP)"
   ]
  },
  {
   "cell_type": "markdown",
   "metadata": {},
   "source": [
    "### Perform GO enrichment analysis (GOEA)\n",
    "\n",
    "\n",
    "#### GOEA Step 1: Download GO graph file of \"obo\" type (same for all species)\n",
    "\n",
    "This will download the file `\"go-basic.obo\"` if it doesn't already exist. This only needs to be done once."
   ]
  },
  {
   "cell_type": "code",
   "execution_count": 9,
   "metadata": {
    "collapsed": false
   },
   "outputs": [
    {
     "name": "stdout",
     "output_type": "stream",
     "text": [
      "  EXISTS: go-basic.obo\n"
     ]
    },
    {
     "data": {
      "text/plain": [
       "'go-basic.obo'"
      ]
     },
     "execution_count": 9,
     "metadata": {},
     "output_type": "execute_result"
    }
   ],
   "source": [
    "from goatools.base import download_go_basic_obo\n",
    "obo_fname = download_go_basic_obo()\n",
    "\n",
    "# Show the filename\n",
    "obo_fname\n",
    "\n",
    "#Above is a DAG - directed acyclic graph\n",
    "#builiding graph"
   ]
  },
  {
   "cell_type": "markdown",
   "metadata": {},
   "source": [
    "#### GOEA Step 2: Create the GO graph (same for all species)\n",
    "\n",
    "(this may take some time to build the graph)"
   ]
  },
  {
   "cell_type": "code",
   "execution_count": 10,
   "metadata": {
    "collapsed": false
   },
   "outputs": [
    {
     "name": "stderr",
     "output_type": "stream",
     "text": [
      "load obo file go-basic.obo\n"
     ]
    },
    {
     "name": "stdout",
     "output_type": "stream",
     "text": [
      "go-basic.obo: format-version(1.2) data-version(releases/2016-06-17)\n"
     ]
    },
    {
     "name": "stderr",
     "output_type": "stream",
     "text": [
      "46877 nodes imported\n"
     ]
    }
   ],
   "source": [
    "obo_dag = goatools.obo_parser.GODag(obo_file=obo_fname)"
   ]
  },
  {
   "cell_type": "code",
   "execution_count": 11,
   "metadata": {
    "collapsed": true
   },
   "outputs": [],
   "source": [
    "#Now built graph - same for all species and experiment.\n",
    "#Next build map for our expt data"
   ]
  },
  {
   "cell_type": "markdown",
   "metadata": {},
   "source": [
    "#### GOEA Step 3: Get gene ID to GO id mapping (species-specific and experiment-specific)\n",
    "\n",
    "Here we are establishing the background for our GOEA. Defining your background is **very important** because, for example, there are lots of neural genes so if you use all human genes as background in your study of which genes are upregulated in Neuron Type X vs Neuron Type Y, you'll get a bunch of neuron genes (which is true) but not the smaller differences between X and Y. Typicall, you use *all expressed genes* as the background.\n",
    "\n",
    "For our data, we can access all expressed genes very simply by getting the column names in the dataframe: `singles.columns`, which is the dataframe we used for classifying and shows *all expressed genes in single cells.* This will be our background."
   ]
  },
  {
   "cell_type": "code",
   "execution_count": null,
   "metadata": {
    "collapsed": false
   },
   "outputs": [],
   "source": []
  },
  {
   "cell_type": "code",
   "execution_count": 12,
   "metadata": {
    "collapsed": false
   },
   "outputs": [
    {
     "name": "stdout",
     "output_type": "stream",
     "text": [
      "querying 1-1000...done.\n",
      "querying 1001-2000...done.\n",
      "querying 2001-3000...done.\n",
      "querying 3001-4000...done.\n",
      "querying 4001-5000...done.\n",
      "querying 5001-6000...done.\n",
      "querying 6001-6013...done.\n",
      "Finished.\n",
      "107 input query terms found dup hits:\n",
      "\t[('GM12657', 2), ('GM6788', 2), ('GM6548', 2), ('4930519F09RIK', 2), ('2410006H16RIK', 2), ('GM9104'\n",
      "737 input query terms found no hit:\n",
      "\t['AK163153', 'AK036897', 'AK138383', 'AK164875', 'AK043564', 'AK134158', 'GM4769', '1110058L19RIK', \n"
     ]
    }
   ],
   "source": [
    "# Initialize the \"mygene.info\" (http://mygene.info/) interface\n",
    "mg = mygene.MyGeneInfo()\n",
    "\n",
    "mygene_output = mg.querymany(singles.columns, ## V important - background is singles.columns\n",
    "                             scopes='symbol', fields=['go.BP', 'go.MF', 'go.CC'], species='mouse', \n",
    "                             returnall=True)\n",
    "\n",
    "gene_name_to_go = parse_mygene_output(mygene_output)\n",
    "\n",
    "#Cool!!\n",
    "#Background is important because you don't want to interpret signal in sample as novel\n",
    "#e.g. lot of immune genes, lot of olfactory system - no doubt you will get immune genes in immune cells\n",
    "#therefore background should be expressed genes in your system\n",
    "#"
   ]
  },
  {
   "cell_type": "markdown",
   "metadata": {},
   "source": [
    "#### GOEA Step 4: Create a GO enrichment calculator object `go_enricher` (species- and experiment-specific)\n",
    "\n",
    "In this step, we are using the two objects we've created (`obo_dag` from Step 2 and `gene_name_to_go` from Step 3) plus the gene ids to create a `go_enricher` object"
   ]
  },
  {
   "cell_type": "code",
   "execution_count": 13,
   "metadata": {
    "collapsed": false
   },
   "outputs": [
    {
     "name": "stderr",
     "output_type": "stream",
     "text": [
      "Propagating term counts to parents ..\n"
     ]
    },
    {
     "name": "stdout",
     "output_type": "stream",
     "text": [
      " 5,203 out of  6,013 population items found in association\n"
     ]
    }
   ],
   "source": [
    "go_enricher = goatools.GOEnrichmentStudy(singles.columns, gene_name_to_go, obo_dag) \n",
    "###!!Propagate counts = True - all child genes also included in parent terms"
   ]
  },
  {
   "cell_type": "code",
   "execution_count": null,
   "metadata": {
    "collapsed": false
   },
   "outputs": [],
   "source": [
    "#need obo_dag - combined terms parents could be significant\n",
    "#more specific terms may not be\n",
    "#oba_dag is the DAG of all relationships of GO terms / tree show above\n",
    "#who are parents and who are children\n",
    "#may need to go to grandfather to see significant p value if test set quite generic\n"
   ]
  },
  {
   "cell_type": "markdown",
   "metadata": {},
   "source": [
    "#### GOEA Step 5: Calculate go enrichment!!! (species- and experiment-specific)\n",
    "\n",
    "Now we are ready to run go enrichment!! Let's take our enriched genes of interest and run the enrichment analysis!"
   ]
  },
  {
   "cell_type": "code",
   "execution_count": 14,
   "metadata": {
    "collapsed": false
   },
   "outputs": [
    {
     "name": "stdout",
     "output_type": "stream",
     "text": [
      "Calculating uncorrected p-values using fisher\n",
      "   158 out of    172 study items found in association\n",
      "Running multitest correction: local bonferroni\n",
      "Running multitest correction: local sidak\n",
      "Running multitest correction: local holm\n",
      "15,129 GO terms are associated with 158 of 172 study items in a population of 6,013\n",
      "(15129, 18)\n"
     ]
    },
    {
     "data": {
      "text/html": [
       "<div>\n",
       "<table border=\"1\" class=\"dataframe\">\n",
       "  <thead>\n",
       "    <tr style=\"text-align: right;\">\n",
       "      <th></th>\n",
       "      <th>GO</th>\n",
       "      <th>NS</th>\n",
       "      <th>_methods</th>\n",
       "      <th>enrichment</th>\n",
       "      <th>goterm</th>\n",
       "      <th>name</th>\n",
       "      <th>p_bonferroni</th>\n",
       "      <th>p_holm</th>\n",
       "      <th>p_sidak</th>\n",
       "      <th>p_uncorrected</th>\n",
       "      <th>pop_count</th>\n",
       "      <th>pop_items</th>\n",
       "      <th>pop_n</th>\n",
       "      <th>ratio_in_pop</th>\n",
       "      <th>ratio_in_study</th>\n",
       "      <th>study_count</th>\n",
       "      <th>study_items</th>\n",
       "      <th>study_n</th>\n",
       "    </tr>\n",
       "  </thead>\n",
       "  <tbody>\n",
       "    <tr>\n",
       "      <th>0</th>\n",
       "      <td>GO:0050715</td>\n",
       "      <td>BP</td>\n",
       "      <td>[(local, bonferroni, bonferroni), (local, sida...</td>\n",
       "      <td>e</td>\n",
       "      <td>GO:0050715\\tlevel-05\\tdepth-08\\tpositive regul...</td>\n",
       "      <td>positive regulation of cytokine secretion</td>\n",
       "      <td>0.002848</td>\n",
       "      <td>0.002848</td>\n",
       "      <td>0.002776</td>\n",
       "      <td>1.882570e-07</td>\n",
       "      <td>42</td>\n",
       "      <td>{CASP1, IL1B, FGR, LGALS9, XBP1, CD36, NCL, IL...</td>\n",
       "      <td>6013</td>\n",
       "      <td>(42, 6013)</td>\n",
       "      <td>(12, 172)</td>\n",
       "      <td>12</td>\n",
       "      <td>{CD84, CLEC4N, CSF1R, LGALS9, HSPD1, CD14, TLR...</td>\n",
       "      <td>172</td>\n",
       "    </tr>\n",
       "    <tr>\n",
       "      <th>1</th>\n",
       "      <td>GO:0070372</td>\n",
       "      <td>BP</td>\n",
       "      <td>[(local, bonferroni, bonferroni), (local, sida...</td>\n",
       "      <td>e</td>\n",
       "      <td>GO:0070372\\tlevel-06\\tdepth-09\\tregulation of ...</td>\n",
       "      <td>regulation of ERK1 and ERK2 cascade</td>\n",
       "      <td>0.004209</td>\n",
       "      <td>0.004209</td>\n",
       "      <td>0.004103</td>\n",
       "      <td>2.782195e-07</td>\n",
       "      <td>79</td>\n",
       "      <td>{RAP1B, RAPGEF2, CCL6, C5AR1, IL1B, CCR1, DAB2...</td>\n",
       "      <td>6013</td>\n",
       "      <td>(79, 6013)</td>\n",
       "      <td>(13, 172)</td>\n",
       "      <td>13</td>\n",
       "      <td>{PTPN6, CCL6, C5AR1, CCR1, CSF1R, DAB2, DYNLT1...</td>\n",
       "      <td>172</td>\n",
       "    </tr>\n",
       "    <tr>\n",
       "      <th>2</th>\n",
       "      <td>GO:0050727</td>\n",
       "      <td>BP</td>\n",
       "      <td>[(local, bonferroni, bonferroni), (local, sida...</td>\n",
       "      <td>e</td>\n",
       "      <td>GO:0050727\\tlevel-04\\tdepth-05\\tregulation of ...</td>\n",
       "      <td>regulation of inflammatory response</td>\n",
       "      <td>0.004401</td>\n",
       "      <td>0.004400</td>\n",
       "      <td>0.004290</td>\n",
       "      <td>2.909038e-07</td>\n",
       "      <td>107</td>\n",
       "      <td>{PIK3AP1, FCGR2B, CX3CL1, CCL4, RABGEF1, MGLL,...</td>\n",
       "      <td>6013</td>\n",
       "      <td>(107, 6013)</td>\n",
       "      <td>(15, 172)</td>\n",
       "      <td>15</td>\n",
       "      <td>{ACP5, IL1R2, CCL6, FCGR3, LGALS9, FCGR2B, HSP...</td>\n",
       "      <td>172</td>\n",
       "    </tr>\n",
       "    <tr>\n",
       "      <th>3</th>\n",
       "      <td>GO:0032760</td>\n",
       "      <td>BP</td>\n",
       "      <td>[(local, bonferroni, bonferroni), (local, sida...</td>\n",
       "      <td>e</td>\n",
       "      <td>GO:0032760\\tlevel-06\\tdepth-06\\tpositive regul...</td>\n",
       "      <td>positive regulation of tumor necrosis factor p...</td>\n",
       "      <td>0.004571</td>\n",
       "      <td>0.004569</td>\n",
       "      <td>0.004455</td>\n",
       "      <td>3.021031e-07</td>\n",
       "      <td>44</td>\n",
       "      <td>{PIK3R1, MYD88, LGALS9, ARHGEF2, CD36, NCL, CY...</td>\n",
       "      <td>6013</td>\n",
       "      <td>(44, 6013)</td>\n",
       "      <td>(10, 172)</td>\n",
       "      <td>10</td>\n",
       "      <td>{THBS1, CD84, FCGR3, LGALS9, HSPD1, CCL2, TLR2...</td>\n",
       "      <td>172</td>\n",
       "    </tr>\n",
       "    <tr>\n",
       "      <th>4</th>\n",
       "      <td>GO:0045087</td>\n",
       "      <td>BP</td>\n",
       "      <td>[(local, bonferroni, bonferroni), (local, sida...</td>\n",
       "      <td>e</td>\n",
       "      <td>GO:0045087\\tlevel-03\\tdepth-04\\tinnate immune ...</td>\n",
       "      <td>innate immune response</td>\n",
       "      <td>0.004610</td>\n",
       "      <td>0.004608</td>\n",
       "      <td>0.004494</td>\n",
       "      <td>3.047053e-07</td>\n",
       "      <td>154</td>\n",
       "      <td>{TEC, NLRC5, FGR, NFKB2, SLAMF7, ARHGEF2, POLR...</td>\n",
       "      <td>6013</td>\n",
       "      <td>(154, 6013)</td>\n",
       "      <td>(19, 172)</td>\n",
       "      <td>19</td>\n",
       "      <td>{CD84, PTPN6, IFITM3, IFNB1, OASL2, CLEC4N, CS...</td>\n",
       "      <td>172</td>\n",
       "    </tr>\n",
       "  </tbody>\n",
       "</table>\n",
       "</div>"
      ],
      "text/plain": [
       "           GO  NS                                           _methods  \\\n",
       "0  GO:0050715  BP  [(local, bonferroni, bonferroni), (local, sida...   \n",
       "1  GO:0070372  BP  [(local, bonferroni, bonferroni), (local, sida...   \n",
       "2  GO:0050727  BP  [(local, bonferroni, bonferroni), (local, sida...   \n",
       "3  GO:0032760  BP  [(local, bonferroni, bonferroni), (local, sida...   \n",
       "4  GO:0045087  BP  [(local, bonferroni, bonferroni), (local, sida...   \n",
       "\n",
       "  enrichment                                             goterm  \\\n",
       "0          e  GO:0050715\\tlevel-05\\tdepth-08\\tpositive regul...   \n",
       "1          e  GO:0070372\\tlevel-06\\tdepth-09\\tregulation of ...   \n",
       "2          e  GO:0050727\\tlevel-04\\tdepth-05\\tregulation of ...   \n",
       "3          e  GO:0032760\\tlevel-06\\tdepth-06\\tpositive regul...   \n",
       "4          e  GO:0045087\\tlevel-03\\tdepth-04\\tinnate immune ...   \n",
       "\n",
       "                                                name  p_bonferroni    p_holm  \\\n",
       "0          positive regulation of cytokine secretion      0.002848  0.002848   \n",
       "1                regulation of ERK1 and ERK2 cascade      0.004209  0.004209   \n",
       "2                regulation of inflammatory response      0.004401  0.004400   \n",
       "3  positive regulation of tumor necrosis factor p...      0.004571  0.004569   \n",
       "4                             innate immune response      0.004610  0.004608   \n",
       "\n",
       "    p_sidak  p_uncorrected  pop_count  \\\n",
       "0  0.002776   1.882570e-07         42   \n",
       "1  0.004103   2.782195e-07         79   \n",
       "2  0.004290   2.909038e-07        107   \n",
       "3  0.004455   3.021031e-07         44   \n",
       "4  0.004494   3.047053e-07        154   \n",
       "\n",
       "                                           pop_items  pop_n ratio_in_pop  \\\n",
       "0  {CASP1, IL1B, FGR, LGALS9, XBP1, CD36, NCL, IL...   6013   (42, 6013)   \n",
       "1  {RAP1B, RAPGEF2, CCL6, C5AR1, IL1B, CCR1, DAB2...   6013   (79, 6013)   \n",
       "2  {PIK3AP1, FCGR2B, CX3CL1, CCL4, RABGEF1, MGLL,...   6013  (107, 6013)   \n",
       "3  {PIK3R1, MYD88, LGALS9, ARHGEF2, CD36, NCL, CY...   6013   (44, 6013)   \n",
       "4  {TEC, NLRC5, FGR, NFKB2, SLAMF7, ARHGEF2, POLR...   6013  (154, 6013)   \n",
       "\n",
       "  ratio_in_study  study_count  \\\n",
       "0      (12, 172)           12   \n",
       "1      (13, 172)           13   \n",
       "2      (15, 172)           15   \n",
       "3      (10, 172)           10   \n",
       "4      (19, 172)           19   \n",
       "\n",
       "                                         study_items  study_n  \n",
       "0  {CD84, CLEC4N, CSF1R, LGALS9, HSPD1, CD14, TLR...      172  \n",
       "1  {PTPN6, CCL6, C5AR1, CCR1, CSF1R, DAB2, DYNLT1...      172  \n",
       "2  {ACP5, IL1R2, CCL6, FCGR3, LGALS9, FCGR2B, HSP...      172  \n",
       "3  {THBS1, CD84, FCGR3, LGALS9, HSPD1, CCL2, TLR2...      172  \n",
       "4  {CD84, PTPN6, IFITM3, IFNB1, OASL2, CLEC4N, CS...      172  "
      ]
     },
     "execution_count": 14,
     "metadata": {},
     "output_type": "execute_result"
    }
   ],
   "source": [
    "genes_of_interest = below_cutoff.index\n",
    "\n",
    "# \"results\" is a list and is annoying to deal with ... \n",
    "# ... so we'll make a dataframe in the next step\n",
    "results = go_enricher.run_study(genes_of_interest)\n",
    "\n",
    "# Create a dataframe of the results so it's easier to deal with\n",
    "below_cutoff_go_enrichment = pd.DataFrame([r.__dict__ for r in results])\n",
    "print(below_cutoff_go_enrichment.shape)\n",
    "below_cutoff_go_enrichment.head()"
   ]
  },
  {
   "cell_type": "markdown",
   "metadata": {},
   "source": [
    "Now we're going to ..... say it with me ...... **add a column!** that is the negative log10 of the p-value so it's easier to plot and deal with."
   ]
  },
  {
   "cell_type": "code",
   "execution_count": 15,
   "metadata": {
    "collapsed": false
   },
   "outputs": [
    {
     "name": "stdout",
     "output_type": "stream",
     "text": [
      "(15129, 19)\n"
     ]
    },
    {
     "data": {
      "text/html": [
       "<div>\n",
       "<table border=\"1\" class=\"dataframe\">\n",
       "  <thead>\n",
       "    <tr style=\"text-align: right;\">\n",
       "      <th></th>\n",
       "      <th>GO</th>\n",
       "      <th>NS</th>\n",
       "      <th>_methods</th>\n",
       "      <th>enrichment</th>\n",
       "      <th>goterm</th>\n",
       "      <th>name</th>\n",
       "      <th>p_bonferroni</th>\n",
       "      <th>p_holm</th>\n",
       "      <th>p_sidak</th>\n",
       "      <th>p_uncorrected</th>\n",
       "      <th>pop_count</th>\n",
       "      <th>pop_items</th>\n",
       "      <th>pop_n</th>\n",
       "      <th>ratio_in_pop</th>\n",
       "      <th>ratio_in_study</th>\n",
       "      <th>study_count</th>\n",
       "      <th>study_items</th>\n",
       "      <th>study_n</th>\n",
       "      <th>log10_p_bonferroni</th>\n",
       "    </tr>\n",
       "  </thead>\n",
       "  <tbody>\n",
       "    <tr>\n",
       "      <th>0</th>\n",
       "      <td>GO:0050715</td>\n",
       "      <td>BP</td>\n",
       "      <td>[(local, bonferroni, bonferroni), (local, sida...</td>\n",
       "      <td>e</td>\n",
       "      <td>GO:0050715\\tlevel-05\\tdepth-08\\tpositive regul...</td>\n",
       "      <td>positive regulation of cytokine secretion</td>\n",
       "      <td>0.002848</td>\n",
       "      <td>0.002848</td>\n",
       "      <td>0.002776</td>\n",
       "      <td>1.882570e-07</td>\n",
       "      <td>42</td>\n",
       "      <td>{CASP1, IL1B, FGR, LGALS9, XBP1, CD36, NCL, IL...</td>\n",
       "      <td>6013</td>\n",
       "      <td>(42, 6013)</td>\n",
       "      <td>(12, 172)</td>\n",
       "      <td>12</td>\n",
       "      <td>{CD84, CLEC4N, CSF1R, LGALS9, HSPD1, CD14, TLR...</td>\n",
       "      <td>172</td>\n",
       "      <td>2.545439</td>\n",
       "    </tr>\n",
       "    <tr>\n",
       "      <th>1</th>\n",
       "      <td>GO:0070372</td>\n",
       "      <td>BP</td>\n",
       "      <td>[(local, bonferroni, bonferroni), (local, sida...</td>\n",
       "      <td>e</td>\n",
       "      <td>GO:0070372\\tlevel-06\\tdepth-09\\tregulation of ...</td>\n",
       "      <td>regulation of ERK1 and ERK2 cascade</td>\n",
       "      <td>0.004209</td>\n",
       "      <td>0.004209</td>\n",
       "      <td>0.004103</td>\n",
       "      <td>2.782195e-07</td>\n",
       "      <td>79</td>\n",
       "      <td>{RAP1B, RAPGEF2, CCL6, C5AR1, IL1B, CCR1, DAB2...</td>\n",
       "      <td>6013</td>\n",
       "      <td>(79, 6013)</td>\n",
       "      <td>(13, 172)</td>\n",
       "      <td>13</td>\n",
       "      <td>{PTPN6, CCL6, C5AR1, CCR1, CSF1R, DAB2, DYNLT1...</td>\n",
       "      <td>172</td>\n",
       "      <td>2.375802</td>\n",
       "    </tr>\n",
       "    <tr>\n",
       "      <th>2</th>\n",
       "      <td>GO:0050727</td>\n",
       "      <td>BP</td>\n",
       "      <td>[(local, bonferroni, bonferroni), (local, sida...</td>\n",
       "      <td>e</td>\n",
       "      <td>GO:0050727\\tlevel-04\\tdepth-05\\tregulation of ...</td>\n",
       "      <td>regulation of inflammatory response</td>\n",
       "      <td>0.004401</td>\n",
       "      <td>0.004400</td>\n",
       "      <td>0.004290</td>\n",
       "      <td>2.909038e-07</td>\n",
       "      <td>107</td>\n",
       "      <td>{PIK3AP1, FCGR2B, CX3CL1, CCL4, RABGEF1, MGLL,...</td>\n",
       "      <td>6013</td>\n",
       "      <td>(107, 6013)</td>\n",
       "      <td>(15, 172)</td>\n",
       "      <td>15</td>\n",
       "      <td>{ACP5, IL1R2, CCL6, FCGR3, LGALS9, FCGR2B, HSP...</td>\n",
       "      <td>172</td>\n",
       "      <td>2.356440</td>\n",
       "    </tr>\n",
       "    <tr>\n",
       "      <th>3</th>\n",
       "      <td>GO:0032760</td>\n",
       "      <td>BP</td>\n",
       "      <td>[(local, bonferroni, bonferroni), (local, sida...</td>\n",
       "      <td>e</td>\n",
       "      <td>GO:0032760\\tlevel-06\\tdepth-06\\tpositive regul...</td>\n",
       "      <td>positive regulation of tumor necrosis factor p...</td>\n",
       "      <td>0.004571</td>\n",
       "      <td>0.004569</td>\n",
       "      <td>0.004455</td>\n",
       "      <td>3.021031e-07</td>\n",
       "      <td>44</td>\n",
       "      <td>{PIK3R1, MYD88, LGALS9, ARHGEF2, CD36, NCL, CY...</td>\n",
       "      <td>6013</td>\n",
       "      <td>(44, 6013)</td>\n",
       "      <td>(10, 172)</td>\n",
       "      <td>10</td>\n",
       "      <td>{THBS1, CD84, FCGR3, LGALS9, HSPD1, CCL2, TLR2...</td>\n",
       "      <td>172</td>\n",
       "      <td>2.340035</td>\n",
       "    </tr>\n",
       "    <tr>\n",
       "      <th>4</th>\n",
       "      <td>GO:0045087</td>\n",
       "      <td>BP</td>\n",
       "      <td>[(local, bonferroni, bonferroni), (local, sida...</td>\n",
       "      <td>e</td>\n",
       "      <td>GO:0045087\\tlevel-03\\tdepth-04\\tinnate immune ...</td>\n",
       "      <td>innate immune response</td>\n",
       "      <td>0.004610</td>\n",
       "      <td>0.004608</td>\n",
       "      <td>0.004494</td>\n",
       "      <td>3.047053e-07</td>\n",
       "      <td>154</td>\n",
       "      <td>{TEC, NLRC5, FGR, NFKB2, SLAMF7, ARHGEF2, POLR...</td>\n",
       "      <td>6013</td>\n",
       "      <td>(154, 6013)</td>\n",
       "      <td>(19, 172)</td>\n",
       "      <td>19</td>\n",
       "      <td>{CD84, PTPN6, IFITM3, IFNB1, OASL2, CLEC4N, CS...</td>\n",
       "      <td>172</td>\n",
       "      <td>2.336310</td>\n",
       "    </tr>\n",
       "  </tbody>\n",
       "</table>\n",
       "</div>"
      ],
      "text/plain": [
       "           GO  NS                                           _methods  \\\n",
       "0  GO:0050715  BP  [(local, bonferroni, bonferroni), (local, sida...   \n",
       "1  GO:0070372  BP  [(local, bonferroni, bonferroni), (local, sida...   \n",
       "2  GO:0050727  BP  [(local, bonferroni, bonferroni), (local, sida...   \n",
       "3  GO:0032760  BP  [(local, bonferroni, bonferroni), (local, sida...   \n",
       "4  GO:0045087  BP  [(local, bonferroni, bonferroni), (local, sida...   \n",
       "\n",
       "  enrichment                                             goterm  \\\n",
       "0          e  GO:0050715\\tlevel-05\\tdepth-08\\tpositive regul...   \n",
       "1          e  GO:0070372\\tlevel-06\\tdepth-09\\tregulation of ...   \n",
       "2          e  GO:0050727\\tlevel-04\\tdepth-05\\tregulation of ...   \n",
       "3          e  GO:0032760\\tlevel-06\\tdepth-06\\tpositive regul...   \n",
       "4          e  GO:0045087\\tlevel-03\\tdepth-04\\tinnate immune ...   \n",
       "\n",
       "                                                name  p_bonferroni    p_holm  \\\n",
       "0          positive regulation of cytokine secretion      0.002848  0.002848   \n",
       "1                regulation of ERK1 and ERK2 cascade      0.004209  0.004209   \n",
       "2                regulation of inflammatory response      0.004401  0.004400   \n",
       "3  positive regulation of tumor necrosis factor p...      0.004571  0.004569   \n",
       "4                             innate immune response      0.004610  0.004608   \n",
       "\n",
       "    p_sidak  p_uncorrected  pop_count  \\\n",
       "0  0.002776   1.882570e-07         42   \n",
       "1  0.004103   2.782195e-07         79   \n",
       "2  0.004290   2.909038e-07        107   \n",
       "3  0.004455   3.021031e-07         44   \n",
       "4  0.004494   3.047053e-07        154   \n",
       "\n",
       "                                           pop_items  pop_n ratio_in_pop  \\\n",
       "0  {CASP1, IL1B, FGR, LGALS9, XBP1, CD36, NCL, IL...   6013   (42, 6013)   \n",
       "1  {RAP1B, RAPGEF2, CCL6, C5AR1, IL1B, CCR1, DAB2...   6013   (79, 6013)   \n",
       "2  {PIK3AP1, FCGR2B, CX3CL1, CCL4, RABGEF1, MGLL,...   6013  (107, 6013)   \n",
       "3  {PIK3R1, MYD88, LGALS9, ARHGEF2, CD36, NCL, CY...   6013   (44, 6013)   \n",
       "4  {TEC, NLRC5, FGR, NFKB2, SLAMF7, ARHGEF2, POLR...   6013  (154, 6013)   \n",
       "\n",
       "  ratio_in_study  study_count  \\\n",
       "0      (12, 172)           12   \n",
       "1      (13, 172)           13   \n",
       "2      (15, 172)           15   \n",
       "3      (10, 172)           10   \n",
       "4      (19, 172)           19   \n",
       "\n",
       "                                         study_items  study_n  \\\n",
       "0  {CD84, CLEC4N, CSF1R, LGALS9, HSPD1, CD14, TLR...      172   \n",
       "1  {PTPN6, CCL6, C5AR1, CCR1, CSF1R, DAB2, DYNLT1...      172   \n",
       "2  {ACP5, IL1R2, CCL6, FCGR3, LGALS9, FCGR2B, HSP...      172   \n",
       "3  {THBS1, CD84, FCGR3, LGALS9, HSPD1, CCL2, TLR2...      172   \n",
       "4  {CD84, PTPN6, IFITM3, IFNB1, OASL2, CLEC4N, CS...      172   \n",
       "\n",
       "   log10_p_bonferroni  \n",
       "0            2.545439  \n",
       "1            2.375802  \n",
       "2            2.356440  \n",
       "3            2.340035  \n",
       "4            2.336310  "
      ]
     },
     "execution_count": 15,
     "metadata": {},
     "output_type": "execute_result"
    }
   ],
   "source": [
    "below_cutoff_go_enrichment['log10_p_bonferroni'] = -np.log10(below_cutoff_go_enrichment['p_bonferroni'])\n",
    "#add col that contains log10_p_bonferroni values\n",
    "print(below_cutoff_go_enrichment.shape)\n",
    "below_cutoff_go_enrichment.head()"
   ]
  },
  {
   "cell_type": "markdown",
   "metadata": {},
   "source": [
    "Let's make sure this dataframe is sorted in order of enrichment. By default, this is sorting in *ascending* order, and we want the most enriched to be at the top, so let's say `ascending=False`."
   ]
  },
  {
   "cell_type": "code",
   "execution_count": 16,
   "metadata": {
    "collapsed": false
   },
   "outputs": [
    {
     "name": "stdout",
     "output_type": "stream",
     "text": [
      "(29, 19)\n"
     ]
    },
    {
     "data": {
      "text/html": [
       "<div>\n",
       "<table border=\"1\" class=\"dataframe\">\n",
       "  <thead>\n",
       "    <tr style=\"text-align: right;\">\n",
       "      <th></th>\n",
       "      <th>GO</th>\n",
       "      <th>NS</th>\n",
       "      <th>_methods</th>\n",
       "      <th>enrichment</th>\n",
       "      <th>goterm</th>\n",
       "      <th>name</th>\n",
       "      <th>p_bonferroni</th>\n",
       "      <th>p_holm</th>\n",
       "      <th>p_sidak</th>\n",
       "      <th>p_uncorrected</th>\n",
       "      <th>pop_count</th>\n",
       "      <th>pop_items</th>\n",
       "      <th>pop_n</th>\n",
       "      <th>ratio_in_pop</th>\n",
       "      <th>ratio_in_study</th>\n",
       "      <th>study_count</th>\n",
       "      <th>study_items</th>\n",
       "      <th>study_n</th>\n",
       "      <th>log10_p_bonferroni</th>\n",
       "    </tr>\n",
       "  </thead>\n",
       "  <tbody>\n",
       "    <tr>\n",
       "      <th>11797</th>\n",
       "      <td>GO:0005125</td>\n",
       "      <td>MF</td>\n",
       "      <td>[(local, bonferroni, bonferroni), (local, sida...</td>\n",
       "      <td>e</td>\n",
       "      <td>GO:0005125\\tlevel-04\\tdepth-04\\tcytokine activ...</td>\n",
       "      <td>cytokine activity</td>\n",
       "      <td>0.002517</td>\n",
       "      <td>0.002517</td>\n",
       "      <td>0.002453</td>\n",
       "      <td>1.663570e-07</td>\n",
       "      <td>52</td>\n",
       "      <td>{GRN, TSLP, IFNB1, CXCL1, IL1B, CXCL10, IL27, ...</td>\n",
       "      <td>6013</td>\n",
       "      <td>(52, 6013)</td>\n",
       "      <td>(11, 172)</td>\n",
       "      <td>11</td>\n",
       "      <td>{IL1RN, GRN, IFNB1, CCL6, CXCL10, CXCL3, CCL2,...</td>\n",
       "      <td>172</td>\n",
       "      <td>2.599149</td>\n",
       "    </tr>\n",
       "    <tr>\n",
       "      <th>0</th>\n",
       "      <td>GO:0050715</td>\n",
       "      <td>BP</td>\n",
       "      <td>[(local, bonferroni, bonferroni), (local, sida...</td>\n",
       "      <td>e</td>\n",
       "      <td>GO:0050715\\tlevel-05\\tdepth-08\\tpositive regul...</td>\n",
       "      <td>positive regulation of cytokine secretion</td>\n",
       "      <td>0.002848</td>\n",
       "      <td>0.002848</td>\n",
       "      <td>0.002776</td>\n",
       "      <td>1.882570e-07</td>\n",
       "      <td>42</td>\n",
       "      <td>{CASP1, IL1B, FGR, LGALS9, XBP1, CD36, NCL, IL...</td>\n",
       "      <td>6013</td>\n",
       "      <td>(42, 6013)</td>\n",
       "      <td>(12, 172)</td>\n",
       "      <td>12</td>\n",
       "      <td>{CD84, CLEC4N, CSF1R, LGALS9, HSPD1, CD14, TLR...</td>\n",
       "      <td>172</td>\n",
       "      <td>2.545439</td>\n",
       "    </tr>\n",
       "    <tr>\n",
       "      <th>1</th>\n",
       "      <td>GO:0070372</td>\n",
       "      <td>BP</td>\n",
       "      <td>[(local, bonferroni, bonferroni), (local, sida...</td>\n",
       "      <td>e</td>\n",
       "      <td>GO:0070372\\tlevel-06\\tdepth-09\\tregulation of ...</td>\n",
       "      <td>regulation of ERK1 and ERK2 cascade</td>\n",
       "      <td>0.004209</td>\n",
       "      <td>0.004209</td>\n",
       "      <td>0.004103</td>\n",
       "      <td>2.782195e-07</td>\n",
       "      <td>79</td>\n",
       "      <td>{RAP1B, RAPGEF2, CCL6, C5AR1, IL1B, CCR1, DAB2...</td>\n",
       "      <td>6013</td>\n",
       "      <td>(79, 6013)</td>\n",
       "      <td>(13, 172)</td>\n",
       "      <td>13</td>\n",
       "      <td>{PTPN6, CCL6, C5AR1, CCR1, CSF1R, DAB2, DYNLT1...</td>\n",
       "      <td>172</td>\n",
       "      <td>2.375802</td>\n",
       "    </tr>\n",
       "    <tr>\n",
       "      <th>2</th>\n",
       "      <td>GO:0050727</td>\n",
       "      <td>BP</td>\n",
       "      <td>[(local, bonferroni, bonferroni), (local, sida...</td>\n",
       "      <td>e</td>\n",
       "      <td>GO:0050727\\tlevel-04\\tdepth-05\\tregulation of ...</td>\n",
       "      <td>regulation of inflammatory response</td>\n",
       "      <td>0.004401</td>\n",
       "      <td>0.004400</td>\n",
       "      <td>0.004290</td>\n",
       "      <td>2.909038e-07</td>\n",
       "      <td>107</td>\n",
       "      <td>{PIK3AP1, FCGR2B, CX3CL1, CCL4, RABGEF1, MGLL,...</td>\n",
       "      <td>6013</td>\n",
       "      <td>(107, 6013)</td>\n",
       "      <td>(15, 172)</td>\n",
       "      <td>15</td>\n",
       "      <td>{ACP5, IL1R2, CCL6, FCGR3, LGALS9, FCGR2B, HSP...</td>\n",
       "      <td>172</td>\n",
       "      <td>2.356440</td>\n",
       "    </tr>\n",
       "    <tr>\n",
       "      <th>3</th>\n",
       "      <td>GO:0032760</td>\n",
       "      <td>BP</td>\n",
       "      <td>[(local, bonferroni, bonferroni), (local, sida...</td>\n",
       "      <td>e</td>\n",
       "      <td>GO:0032760\\tlevel-06\\tdepth-06\\tpositive regul...</td>\n",
       "      <td>positive regulation of tumor necrosis factor p...</td>\n",
       "      <td>0.004571</td>\n",
       "      <td>0.004569</td>\n",
       "      <td>0.004455</td>\n",
       "      <td>3.021031e-07</td>\n",
       "      <td>44</td>\n",
       "      <td>{PIK3R1, MYD88, LGALS9, ARHGEF2, CD36, NCL, CY...</td>\n",
       "      <td>6013</td>\n",
       "      <td>(44, 6013)</td>\n",
       "      <td>(10, 172)</td>\n",
       "      <td>10</td>\n",
       "      <td>{THBS1, CD84, FCGR3, LGALS9, HSPD1, CCL2, TLR2...</td>\n",
       "      <td>172</td>\n",
       "      <td>2.340035</td>\n",
       "    </tr>\n",
       "  </tbody>\n",
       "</table>\n",
       "</div>"
      ],
      "text/plain": [
       "               GO  NS                                           _methods  \\\n",
       "11797  GO:0005125  MF  [(local, bonferroni, bonferroni), (local, sida...   \n",
       "0      GO:0050715  BP  [(local, bonferroni, bonferroni), (local, sida...   \n",
       "1      GO:0070372  BP  [(local, bonferroni, bonferroni), (local, sida...   \n",
       "2      GO:0050727  BP  [(local, bonferroni, bonferroni), (local, sida...   \n",
       "3      GO:0032760  BP  [(local, bonferroni, bonferroni), (local, sida...   \n",
       "\n",
       "      enrichment                                             goterm  \\\n",
       "11797          e  GO:0005125\\tlevel-04\\tdepth-04\\tcytokine activ...   \n",
       "0              e  GO:0050715\\tlevel-05\\tdepth-08\\tpositive regul...   \n",
       "1              e  GO:0070372\\tlevel-06\\tdepth-09\\tregulation of ...   \n",
       "2              e  GO:0050727\\tlevel-04\\tdepth-05\\tregulation of ...   \n",
       "3              e  GO:0032760\\tlevel-06\\tdepth-06\\tpositive regul...   \n",
       "\n",
       "                                                    name  p_bonferroni  \\\n",
       "11797                                  cytokine activity      0.002517   \n",
       "0              positive regulation of cytokine secretion      0.002848   \n",
       "1                    regulation of ERK1 and ERK2 cascade      0.004209   \n",
       "2                    regulation of inflammatory response      0.004401   \n",
       "3      positive regulation of tumor necrosis factor p...      0.004571   \n",
       "\n",
       "         p_holm   p_sidak  p_uncorrected  pop_count  \\\n",
       "11797  0.002517  0.002453   1.663570e-07         52   \n",
       "0      0.002848  0.002776   1.882570e-07         42   \n",
       "1      0.004209  0.004103   2.782195e-07         79   \n",
       "2      0.004400  0.004290   2.909038e-07        107   \n",
       "3      0.004569  0.004455   3.021031e-07         44   \n",
       "\n",
       "                                               pop_items  pop_n ratio_in_pop  \\\n",
       "11797  {GRN, TSLP, IFNB1, CXCL1, IL1B, CXCL10, IL27, ...   6013   (52, 6013)   \n",
       "0      {CASP1, IL1B, FGR, LGALS9, XBP1, CD36, NCL, IL...   6013   (42, 6013)   \n",
       "1      {RAP1B, RAPGEF2, CCL6, C5AR1, IL1B, CCR1, DAB2...   6013   (79, 6013)   \n",
       "2      {PIK3AP1, FCGR2B, CX3CL1, CCL4, RABGEF1, MGLL,...   6013  (107, 6013)   \n",
       "3      {PIK3R1, MYD88, LGALS9, ARHGEF2, CD36, NCL, CY...   6013   (44, 6013)   \n",
       "\n",
       "      ratio_in_study  study_count  \\\n",
       "11797      (11, 172)           11   \n",
       "0          (12, 172)           12   \n",
       "1          (13, 172)           13   \n",
       "2          (15, 172)           15   \n",
       "3          (10, 172)           10   \n",
       "\n",
       "                                             study_items  study_n  \\\n",
       "11797  {IL1RN, GRN, IFNB1, CCL6, CXCL10, CXCL3, CCL2,...      172   \n",
       "0      {CD84, CLEC4N, CSF1R, LGALS9, HSPD1, CD14, TLR...      172   \n",
       "1      {PTPN6, CCL6, C5AR1, CCR1, CSF1R, DAB2, DYNLT1...      172   \n",
       "2      {ACP5, IL1R2, CCL6, FCGR3, LGALS9, FCGR2B, HSP...      172   \n",
       "3      {THBS1, CD84, FCGR3, LGALS9, HSPD1, CCL2, TLR2...      172   \n",
       "\n",
       "       log10_p_bonferroni  \n",
       "11797            2.599149  \n",
       "0                2.545439  \n",
       "1                2.375802  \n",
       "2                2.356440  \n",
       "3                2.340035  "
      ]
     },
     "execution_count": 16,
     "metadata": {},
     "output_type": "execute_result"
    }
   ],
   "source": [
    "below_cutoff_go_enrichment = below_cutoff_go_enrichment.sort_values('log10_p_bonferroni', ascending=False)\n",
    "#asc false as p 10e-10 more significant than p 10e-5\n",
    "below_cutoff_go_enrichment = below_cutoff_go_enrichment.query('log10_p_bonferroni > 2')\n",
    "print(below_cutoff_go_enrichment.shape)\n",
    "below_cutoff_go_enrichment.head()\n",
    "#use name col as y axis and log10 enrichment as x axis"
   ]
  },
  {
   "cell_type": "markdown",
   "metadata": {},
   "source": [
    "Let's look at the distribution of the log10 p-values"
   ]
  },
  {
   "cell_type": "code",
   "execution_count": 17,
   "metadata": {
    "collapsed": false
   },
   "outputs": [
    {
     "name": "stderr",
     "output_type": "stream",
     "text": [
      "/Users/duncan/anaconda/envs/single-cell-bioinformatics/lib/python3.5/site-packages/statsmodels/nonparametric/kdetools.py:20: VisibleDeprecationWarning: using a non-integer number instead of an integer will result in an error in the future\n",
      "  y = X[:m/2+1] + np.r_[0,X[m/2+1:],0]*1j\n"
     ]
    },
    {
     "data": {
      "text/plain": [
       "<matplotlib.axes._subplots.AxesSubplot at 0x12b564518>"
      ]
     },
     "execution_count": 17,
     "metadata": {},
     "output_type": "execute_result"
    },
    {
     "data": {
      "image/png": "[encoded data removed]",
      "text/plain": [
       "<matplotlib.figure.Figure at 0x123c39da0>"
      ]
     },
     "metadata": {},
     "output_type": "display_data"
    }
   ],
   "source": [
    "sns.distplot(below_cutoff_go_enrichment['log10_p_bonferroni'])"
   ]
  },
  {
   "cell_type": "markdown",
   "metadata": {},
   "source": [
    "Now we can also plot this data! Let's just take a subset, say the first 10 and look at the distribution of p-values here."
   ]
  },
  {
   "cell_type": "code",
   "execution_count": 18,
   "metadata": {
    "collapsed": false
   },
   "outputs": [
    {
     "name": "stdout",
     "output_type": "stream",
     "text": [
      "(10, 19)\n"
     ]
    },
    {
     "name": "stderr",
     "output_type": "stream",
     "text": [
      "/Users/duncan/anaconda/envs/single-cell-bioinformatics/lib/python3.5/site-packages/statsmodels/nonparametric/kdetools.py:20: VisibleDeprecationWarning: using a non-integer number instead of an integer will result in an error in the future\n",
      "  y = X[:m/2+1] + np.r_[0,X[m/2+1:],0]*1j\n"
     ]
    },
    {
     "data": {
      "text/plain": [
       "<matplotlib.axes._subplots.AxesSubplot at 0x12b708cc0>"
      ]
     },
     "execution_count": 18,
     "metadata": {},
     "output_type": "execute_result"
    },
    {
     "data": {
      "image/png": "[encoded data removed]",
      "text/plain": [
       "<matplotlib.figure.Figure at 0x12b778d68>"
      ]
     },
     "metadata": {},
     "output_type": "display_data"
    }
   ],
   "source": [
    "below_cutoff_go_enrichment_subset = below_cutoff_go_enrichment.iloc[:10, :]\n",
    "print(below_cutoff_go_enrichment_subset.shape)\n",
    "sns.distplot(below_cutoff_go_enrichment_subset['log10_p_bonferroni'])"
   ]
  },
  {
   "cell_type": "markdown",
   "metadata": {},
   "source": [
    "Now let's plot the GO categories! We want to make sure they stay in the highest-lowest order by specifying \"order\" (otherwise they will be alphabetical!)"
   ]
  },
  {
   "cell_type": "code",
   "execution_count": 19,
   "metadata": {
    "collapsed": false
   },
   "outputs": [
    {
     "data": {
      "image/png": "[encoded data removed]",
      "text/plain": [
       "<matplotlib.figure.Figure at 0x12b5b9160>"
      ]
     },
     "metadata": {},
     "output_type": "display_data"
    }
   ],
   "source": [
    "order = below_cutoff_go_enrichment_subset['name']\n",
    "\n",
    "fig, ax = plt.subplots()\n",
    "sns.barplot(x='log10_p_bonferroni', y='name', data=below_cutoff_go_enrichment_subset, orient='h', order=order)\n",
    "fig.savefig(\"below_cutoff_go_enrichment.pdf\")\n",
    "#GO is performing a hypergeometric test which is equivalent to Fisher's exact test\n",
    "#All Venn diagrams one set of all genes, one of GO term and all genes of interest and is\n",
    "#calculating overlap of goi and GO term"
   ]
  },
  {
   "cell_type": "markdown",
   "metadata": {
    "collapsed": false
   },
   "source": [
    "### Exercise\n",
    "\n",
    "1. Perform GO enrichment on the genes ABOVE the upper cutoff.\n",
    "2. Plot the enrichment as a bar graph.\n",
    "4. Try using only the LPS response genes for classification, and calculate GO enrichment on those, too. Do you have to change the background as well?\n",
    "\n",
    "Use the cells below."
   ]
  },
  {
   "cell_type": "code",
   "execution_count": null,
   "metadata": {
    "collapsed": true
   },
   "outputs": [],
   "source": []
  },
  {
   "cell_type": "code",
   "execution_count": null,
   "metadata": {
    "collapsed": true
   },
   "outputs": [],
   "source": []
  },
  {
   "cell_type": "code",
   "execution_count": 20,
   "metadata": {
    "collapsed": false
   },
   "outputs": [
    {
     "name": "stdout",
     "output_type": "stream",
     "text": [
      "querying 1-1000...done.\n",
      "querying 1001-2000...done.\n",
      "querying 2001-3000...done.\n",
      "querying 3001-4000...done.\n",
      "querying 4001-5000...done.\n",
      "querying 5001-6000...done.\n",
      "querying 6001-6013...done.\n",
      "Finished.\n",
      "107 input query terms found dup hits:\n",
      "\t[('GM12657', 2), ('GM6788', 2), ('GM6548', 2), ('4930519F09RIK', 2), ('2410006H16RIK', 2), ('GM9104'\n",
      "737 input query terms found no hit:\n",
      "\t['AK163153', 'AK036897', 'AK138383', 'AK164875', 'AK043564', 'AK134158', 'GM4769', '1110058L19RIK', \n"
     ]
    }
   ],
   "source": [
    "# Initialize the \"mygene.info\" (http://mygene.info/) interface\n",
    "mg = mygene.MyGeneInfo()\n",
    "\n",
    "mygene_output = mg.querymany(singles.columns, ## V important - background is singles.columns\n",
    "                             scopes='symbol', fields=['go.BP', 'go.MF', 'go.CC'], species='mouse', \n",
    "                             returnall=True)\n",
    "\n",
    "gene_name_to_go = parse_mygene_output(mygene_output)\n",
    "\n",
    "#Cool!!\n",
    "#Background is important because you don't want to interpret signal in sample as novel\n",
    "#e.g. lot of immune genes, lot of olfactory system - no doubt you will get immune genes in immune cells\n",
    "#therefore background should be expressed genes in your system\n",
    "#"
   ]
  },
  {
   "cell_type": "code",
   "execution_count": 21,
   "metadata": {
    "collapsed": false
   },
   "outputs": [
    {
     "name": "stderr",
     "output_type": "stream",
     "text": [
      "Propagating term counts to parents ..\n"
     ]
    },
    {
     "name": "stdout",
     "output_type": "stream",
     "text": [
      " 5,203 out of  6,013 population items found in association\n"
     ]
    }
   ],
   "source": [
    "go_enricher = goatools.GOEnrichmentStudy(singles.columns, gene_name_to_go, obo_dag)"
   ]
  },
  {
   "cell_type": "code",
   "execution_count": 22,
   "metadata": {
    "collapsed": false
   },
   "outputs": [
    {
     "name": "stdout",
     "output_type": "stream",
     "text": [
      "(153,)\n"
     ]
    },
    {
     "data": {
      "text/plain": [
       "RABGAP1L    0.000636\n",
       "H2-OA       0.000502\n",
       "H2-AA       0.000576\n",
       "H2-Q7       0.000586\n",
       "STAP2       0.000658\n",
       "dtype: float64"
      ]
     },
     "execution_count": 22,
     "metadata": {},
     "output_type": "execute_result"
    }
   ],
   "source": [
    "# YOUR CODE HERE\n",
    "above_cutoff = coefficients[coefficients > upper_cutoff] # if too many genes no enrichment cf packground\n",
    "print(above_cutoff.shape)\n",
    "above_cutoff.head()"
   ]
  },
  {
   "cell_type": "code",
   "execution_count": 23,
   "metadata": {
    "collapsed": false
   },
   "outputs": [
    {
     "data": {
      "text/plain": [
       "Index(['RABGAP1L', 'H2-OA', 'H2-AA', 'H2-Q7', 'STAP2', 'ZEB1', 'AK041408',\n",
       "       'PAIP2', 'NXF1', 'AW112010',\n",
       "       ...\n",
       "       'LRRC33', 'CD86', 'KTELC1', 'TMEM39A', 'SAMSN1', 'USP16', 'SYNJ1',\n",
       "       'GCFC1', 'SLC5A3', 'MX1'],\n",
       "      dtype='object', length=153)"
      ]
     },
     "execution_count": 23,
     "metadata": {},
     "output_type": "execute_result"
    }
   ],
   "source": [
    "genes_of_interest = above_cutoff.index\n",
    "genes_of_interest"
   ]
  },
  {
   "cell_type": "code",
   "execution_count": 24,
   "metadata": {
    "collapsed": false
   },
   "outputs": [
    {
     "name": "stdout",
     "output_type": "stream",
     "text": [
      "Calculating uncorrected p-values using fisher\n",
      "   134 out of    153 study items found in association\n",
      "Running multitest correction: local bonferroni\n",
      "Running multitest correction: local sidak\n",
      "Running multitest correction: local holm\n",
      "15,129 GO terms are associated with 134 of 153 study items in a population of 6,013\n",
      "(15129, 18)\n"
     ]
    },
    {
     "data": {
      "text/html": [
       "<div>\n",
       "<table border=\"1\" class=\"dataframe\">\n",
       "  <thead>\n",
       "    <tr style=\"text-align: right;\">\n",
       "      <th></th>\n",
       "      <th>GO</th>\n",
       "      <th>NS</th>\n",
       "      <th>_methods</th>\n",
       "      <th>enrichment</th>\n",
       "      <th>goterm</th>\n",
       "      <th>name</th>\n",
       "      <th>p_bonferroni</th>\n",
       "      <th>p_holm</th>\n",
       "      <th>p_sidak</th>\n",
       "      <th>p_uncorrected</th>\n",
       "      <th>pop_count</th>\n",
       "      <th>pop_items</th>\n",
       "      <th>pop_n</th>\n",
       "      <th>ratio_in_pop</th>\n",
       "      <th>ratio_in_study</th>\n",
       "      <th>study_count</th>\n",
       "      <th>study_items</th>\n",
       "      <th>study_n</th>\n",
       "    </tr>\n",
       "  </thead>\n",
       "  <tbody>\n",
       "    <tr>\n",
       "      <th>0</th>\n",
       "      <td>GO:0002682</td>\n",
       "      <td>BP</td>\n",
       "      <td>[(local, bonferroni, bonferroni), (local, sida...</td>\n",
       "      <td>e</td>\n",
       "      <td>GO:0002682\\tlevel-02\\tdepth-02\\tregulation of ...</td>\n",
       "      <td>regulation of immune system process</td>\n",
       "      <td>0.024383</td>\n",
       "      <td>0.024383</td>\n",
       "      <td>0.023769</td>\n",
       "      <td>0.000002</td>\n",
       "      <td>468</td>\n",
       "      <td>{PNP, SLFN1, CLEC2G, HCST, BST1, POLR3C, WHSC1...</td>\n",
       "      <td>6013</td>\n",
       "      <td>(468, 6013)</td>\n",
       "      <td>(30, 153)</td>\n",
       "      <td>30</td>\n",
       "      <td>{TEC, CACNB3, H2-OA, KLRK1, JAG1, CD86, PCBP2,...</td>\n",
       "      <td>153</td>\n",
       "    </tr>\n",
       "    <tr>\n",
       "      <th>1</th>\n",
       "      <td>GO:0050789</td>\n",
       "      <td>BP</td>\n",
       "      <td>[(local, bonferroni, bonferroni), (local, sida...</td>\n",
       "      <td>e</td>\n",
       "      <td>GO:0050789\\tlevel-01\\tdepth-01\\tregulation of ...</td>\n",
       "      <td>regulation of biological process</td>\n",
       "      <td>0.118122</td>\n",
       "      <td>0.118106</td>\n",
       "      <td>0.115144</td>\n",
       "      <td>0.000008</td>\n",
       "      <td>2886</td>\n",
       "      <td>{HK1, QARS, SNF8, UBN1, RNF146, HCST, UTP11L, ...</td>\n",
       "      <td>6013</td>\n",
       "      <td>(2886, 6013)</td>\n",
       "      <td>(101, 153)</td>\n",
       "      <td>101</td>\n",
       "      <td>{TEC, CKS1B, USE1, NOSTRIN, CACNB3, AKAP9, IL1...</td>\n",
       "      <td>153</td>\n",
       "    </tr>\n",
       "    <tr>\n",
       "      <th>2</th>\n",
       "      <td>GO:1902105</td>\n",
       "      <td>BP</td>\n",
       "      <td>[(local, bonferroni, bonferroni), (local, sida...</td>\n",
       "      <td>e</td>\n",
       "      <td>GO:1902105\\tlevel-04\\tdepth-05\\tregulation of ...</td>\n",
       "      <td>regulation of leukocyte differentiation</td>\n",
       "      <td>0.156089</td>\n",
       "      <td>0.156059</td>\n",
       "      <td>0.152154</td>\n",
       "      <td>0.000010</td>\n",
       "      <td>121</td>\n",
       "      <td>{PNP, MITF, ATP11C, CLEC2G, NFKBID, AP3B1, CCR...</td>\n",
       "      <td>6013</td>\n",
       "      <td>(121, 6013)</td>\n",
       "      <td>(13, 153)</td>\n",
       "      <td>13</td>\n",
       "      <td>{ADAM8, TMEM176B, CCR7, ZEB1, RASSF2, H2-OA, I...</td>\n",
       "      <td>153</td>\n",
       "    </tr>\n",
       "    <tr>\n",
       "      <th>3</th>\n",
       "      <td>GO:0065007</td>\n",
       "      <td>BP</td>\n",
       "      <td>[(local, bonferroni, bonferroni), (local, sida...</td>\n",
       "      <td>e</td>\n",
       "      <td>GO:0065007\\tlevel-01\\tdepth-01\\tbiological reg...</td>\n",
       "      <td>biological regulation</td>\n",
       "      <td>0.261733</td>\n",
       "      <td>0.261647</td>\n",
       "      <td>0.255134</td>\n",
       "      <td>0.000017</td>\n",
       "      <td>3011</td>\n",
       "      <td>{HK1, QARS, SNF8, UBN1, RNF146, HCST, UTP11L, ...</td>\n",
       "      <td>6013</td>\n",
       "      <td>(3011, 6013)</td>\n",
       "      <td>(103, 153)</td>\n",
       "      <td>103</td>\n",
       "      <td>{TEC, CKS1B, USE1, NOSTRIN, CACNB3, AKAP9, IL1...</td>\n",
       "      <td>153</td>\n",
       "    </tr>\n",
       "    <tr>\n",
       "      <th>4</th>\n",
       "      <td>GO:0002376</td>\n",
       "      <td>BP</td>\n",
       "      <td>[(local, bonferroni, bonferroni), (local, sida...</td>\n",
       "      <td>e</td>\n",
       "      <td>GO:0002376\\tlevel-01\\tdepth-01\\timmune system ...</td>\n",
       "      <td>immune system process</td>\n",
       "      <td>0.368721</td>\n",
       "      <td>0.368575</td>\n",
       "      <td>0.359425</td>\n",
       "      <td>0.000024</td>\n",
       "      <td>507</td>\n",
       "      <td>{ARHGEF2, PFDN1, POLR3C, IFIT1, SKAP2, IPO7, F...</td>\n",
       "      <td>6013</td>\n",
       "      <td>(507, 6013)</td>\n",
       "      <td>(29, 153)</td>\n",
       "      <td>29</td>\n",
       "      <td>{TEC, PROCR, H2-Q7, TNFRSF9, PDE4D, CACNB3, H2...</td>\n",
       "      <td>153</td>\n",
       "    </tr>\n",
       "  </tbody>\n",
       "</table>\n",
       "</div>"
      ],
      "text/plain": [
       "           GO  NS                                           _methods  \\\n",
       "0  GO:0002682  BP  [(local, bonferroni, bonferroni), (local, sida...   \n",
       "1  GO:0050789  BP  [(local, bonferroni, bonferroni), (local, sida...   \n",
       "2  GO:1902105  BP  [(local, bonferroni, bonferroni), (local, sida...   \n",
       "3  GO:0065007  BP  [(local, bonferroni, bonferroni), (local, sida...   \n",
       "4  GO:0002376  BP  [(local, bonferroni, bonferroni), (local, sida...   \n",
       "\n",
       "  enrichment                                             goterm  \\\n",
       "0          e  GO:0002682\\tlevel-02\\tdepth-02\\tregulation of ...   \n",
       "1          e  GO:0050789\\tlevel-01\\tdepth-01\\tregulation of ...   \n",
       "2          e  GO:1902105\\tlevel-04\\tdepth-05\\tregulation of ...   \n",
       "3          e  GO:0065007\\tlevel-01\\tdepth-01\\tbiological reg...   \n",
       "4          e  GO:0002376\\tlevel-01\\tdepth-01\\timmune system ...   \n",
       "\n",
       "                                      name  p_bonferroni    p_holm   p_sidak  \\\n",
       "0      regulation of immune system process      0.024383  0.024383  0.023769   \n",
       "1         regulation of biological process      0.118122  0.118106  0.115144   \n",
       "2  regulation of leukocyte differentiation      0.156089  0.156059  0.152154   \n",
       "3                    biological regulation      0.261733  0.261647  0.255134   \n",
       "4                    immune system process      0.368721  0.368575  0.359425   \n",
       "\n",
       "   p_uncorrected  pop_count  \\\n",
       "0       0.000002        468   \n",
       "1       0.000008       2886   \n",
       "2       0.000010        121   \n",
       "3       0.000017       3011   \n",
       "4       0.000024        507   \n",
       "\n",
       "                                           pop_items  pop_n  ratio_in_pop  \\\n",
       "0  {PNP, SLFN1, CLEC2G, HCST, BST1, POLR3C, WHSC1...   6013   (468, 6013)   \n",
       "1  {HK1, QARS, SNF8, UBN1, RNF146, HCST, UTP11L, ...   6013  (2886, 6013)   \n",
       "2  {PNP, MITF, ATP11C, CLEC2G, NFKBID, AP3B1, CCR...   6013   (121, 6013)   \n",
       "3  {HK1, QARS, SNF8, UBN1, RNF146, HCST, UTP11L, ...   6013  (3011, 6013)   \n",
       "4  {ARHGEF2, PFDN1, POLR3C, IFIT1, SKAP2, IPO7, F...   6013   (507, 6013)   \n",
       "\n",
       "  ratio_in_study  study_count  \\\n",
       "0      (30, 153)           30   \n",
       "1     (101, 153)          101   \n",
       "2      (13, 153)           13   \n",
       "3     (103, 153)          103   \n",
       "4      (29, 153)           29   \n",
       "\n",
       "                                         study_items  study_n  \n",
       "0  {TEC, CACNB3, H2-OA, KLRK1, JAG1, CD86, PCBP2,...      153  \n",
       "1  {TEC, CKS1B, USE1, NOSTRIN, CACNB3, AKAP9, IL1...      153  \n",
       "2  {ADAM8, TMEM176B, CCR7, ZEB1, RASSF2, H2-OA, I...      153  \n",
       "3  {TEC, CKS1B, USE1, NOSTRIN, CACNB3, AKAP9, IL1...      153  \n",
       "4  {TEC, PROCR, H2-Q7, TNFRSF9, PDE4D, CACNB3, H2...      153  "
      ]
     },
     "execution_count": 24,
     "metadata": {},
     "output_type": "execute_result"
    }
   ],
   "source": [
    "# YOUR CODE HERE\n",
    "results = go_enricher.run_study(genes_of_interest)\n",
    "\n",
    "# Create a dataframe of the results so it's easier to deal with\n",
    "above_cutoff_go_enrichment = pd.DataFrame([r.__dict__ for r in results])\n",
    "print(above_cutoff_go_enrichment.shape)\n",
    "above_cutoff_go_enrichment.head()"
   ]
  },
  {
   "cell_type": "code",
   "execution_count": null,
   "metadata": {
    "collapsed": false
   },
   "outputs": [],
   "source": []
  },
  {
   "cell_type": "code",
   "execution_count": 25,
   "metadata": {
    "collapsed": false
   },
   "outputs": [
    {
     "name": "stdout",
     "output_type": "stream",
     "text": [
      "(15129, 19)\n"
     ]
    },
    {
     "data": {
      "text/html": [
       "<div>\n",
       "<table border=\"1\" class=\"dataframe\">\n",
       "  <thead>\n",
       "    <tr style=\"text-align: right;\">\n",
       "      <th></th>\n",
       "      <th>GO</th>\n",
       "      <th>NS</th>\n",
       "      <th>_methods</th>\n",
       "      <th>enrichment</th>\n",
       "      <th>goterm</th>\n",
       "      <th>name</th>\n",
       "      <th>p_bonferroni</th>\n",
       "      <th>p_holm</th>\n",
       "      <th>p_sidak</th>\n",
       "      <th>p_uncorrected</th>\n",
       "      <th>pop_count</th>\n",
       "      <th>pop_items</th>\n",
       "      <th>pop_n</th>\n",
       "      <th>ratio_in_pop</th>\n",
       "      <th>ratio_in_study</th>\n",
       "      <th>study_count</th>\n",
       "      <th>study_items</th>\n",
       "      <th>study_n</th>\n",
       "      <th>log10_p_bonferroni</th>\n",
       "    </tr>\n",
       "  </thead>\n",
       "  <tbody>\n",
       "    <tr>\n",
       "      <th>0</th>\n",
       "      <td>GO:0002682</td>\n",
       "      <td>BP</td>\n",
       "      <td>[(local, bonferroni, bonferroni), (local, sida...</td>\n",
       "      <td>e</td>\n",
       "      <td>GO:0002682\\tlevel-02\\tdepth-02\\tregulation of ...</td>\n",
       "      <td>regulation of immune system process</td>\n",
       "      <td>0.024383</td>\n",
       "      <td>0.024383</td>\n",
       "      <td>0.023769</td>\n",
       "      <td>0.000002</td>\n",
       "      <td>468</td>\n",
       "      <td>{PNP, SLFN1, CLEC2G, HCST, BST1, POLR3C, WHSC1...</td>\n",
       "      <td>6013</td>\n",
       "      <td>(468, 6013)</td>\n",
       "      <td>(30, 153)</td>\n",
       "      <td>30</td>\n",
       "      <td>{TEC, CACNB3, H2-OA, KLRK1, JAG1, CD86, PCBP2,...</td>\n",
       "      <td>153</td>\n",
       "      <td>1.612906</td>\n",
       "    </tr>\n",
       "    <tr>\n",
       "      <th>1</th>\n",
       "      <td>GO:0050789</td>\n",
       "      <td>BP</td>\n",
       "      <td>[(local, bonferroni, bonferroni), (local, sida...</td>\n",
       "      <td>e</td>\n",
       "      <td>GO:0050789\\tlevel-01\\tdepth-01\\tregulation of ...</td>\n",
       "      <td>regulation of biological process</td>\n",
       "      <td>0.118122</td>\n",
       "      <td>0.118106</td>\n",
       "      <td>0.115144</td>\n",
       "      <td>0.000008</td>\n",
       "      <td>2886</td>\n",
       "      <td>{HK1, QARS, SNF8, UBN1, RNF146, HCST, UTP11L, ...</td>\n",
       "      <td>6013</td>\n",
       "      <td>(2886, 6013)</td>\n",
       "      <td>(101, 153)</td>\n",
       "      <td>101</td>\n",
       "      <td>{TEC, CKS1B, USE1, NOSTRIN, CACNB3, AKAP9, IL1...</td>\n",
       "      <td>153</td>\n",
       "      <td>0.927669</td>\n",
       "    </tr>\n",
       "    <tr>\n",
       "      <th>2</th>\n",
       "      <td>GO:1902105</td>\n",
       "      <td>BP</td>\n",
       "      <td>[(local, bonferroni, bonferroni), (local, sida...</td>\n",
       "      <td>e</td>\n",
       "      <td>GO:1902105\\tlevel-04\\tdepth-05\\tregulation of ...</td>\n",
       "      <td>regulation of leukocyte differentiation</td>\n",
       "      <td>0.156089</td>\n",
       "      <td>0.156059</td>\n",
       "      <td>0.152154</td>\n",
       "      <td>0.000010</td>\n",
       "      <td>121</td>\n",
       "      <td>{PNP, MITF, ATP11C, CLEC2G, NFKBID, AP3B1, CCR...</td>\n",
       "      <td>6013</td>\n",
       "      <td>(121, 6013)</td>\n",
       "      <td>(13, 153)</td>\n",
       "      <td>13</td>\n",
       "      <td>{ADAM8, TMEM176B, CCR7, ZEB1, RASSF2, H2-OA, I...</td>\n",
       "      <td>153</td>\n",
       "      <td>0.806626</td>\n",
       "    </tr>\n",
       "    <tr>\n",
       "      <th>3</th>\n",
       "      <td>GO:0065007</td>\n",
       "      <td>BP</td>\n",
       "      <td>[(local, bonferroni, bonferroni), (local, sida...</td>\n",
       "      <td>e</td>\n",
       "      <td>GO:0065007\\tlevel-01\\tdepth-01\\tbiological reg...</td>\n",
       "      <td>biological regulation</td>\n",
       "      <td>0.261733</td>\n",
       "      <td>0.261647</td>\n",
       "      <td>0.255134</td>\n",
       "      <td>0.000017</td>\n",
       "      <td>3011</td>\n",
       "      <td>{HK1, QARS, SNF8, UBN1, RNF146, HCST, UTP11L, ...</td>\n",
       "      <td>6013</td>\n",
       "      <td>(3011, 6013)</td>\n",
       "      <td>(103, 153)</td>\n",
       "      <td>103</td>\n",
       "      <td>{TEC, CKS1B, USE1, NOSTRIN, CACNB3, AKAP9, IL1...</td>\n",
       "      <td>153</td>\n",
       "      <td>0.582141</td>\n",
       "    </tr>\n",
       "    <tr>\n",
       "      <th>4</th>\n",
       "      <td>GO:0002376</td>\n",
       "      <td>BP</td>\n",
       "      <td>[(local, bonferroni, bonferroni), (local, sida...</td>\n",
       "      <td>e</td>\n",
       "      <td>GO:0002376\\tlevel-01\\tdepth-01\\timmune system ...</td>\n",
       "      <td>immune system process</td>\n",
       "      <td>0.368721</td>\n",
       "      <td>0.368575</td>\n",
       "      <td>0.359425</td>\n",
       "      <td>0.000024</td>\n",
       "      <td>507</td>\n",
       "      <td>{ARHGEF2, PFDN1, POLR3C, IFIT1, SKAP2, IPO7, F...</td>\n",
       "      <td>6013</td>\n",
       "      <td>(507, 6013)</td>\n",
       "      <td>(29, 153)</td>\n",
       "      <td>29</td>\n",
       "      <td>{TEC, PROCR, H2-Q7, TNFRSF9, PDE4D, CACNB3, H2...</td>\n",
       "      <td>153</td>\n",
       "      <td>0.433302</td>\n",
       "    </tr>\n",
       "  </tbody>\n",
       "</table>\n",
       "</div>"
      ],
      "text/plain": [
       "           GO  NS                                           _methods  \\\n",
       "0  GO:0002682  BP  [(local, bonferroni, bonferroni), (local, sida...   \n",
       "1  GO:0050789  BP  [(local, bonferroni, bonferroni), (local, sida...   \n",
       "2  GO:1902105  BP  [(local, bonferroni, bonferroni), (local, sida...   \n",
       "3  GO:0065007  BP  [(local, bonferroni, bonferroni), (local, sida...   \n",
       "4  GO:0002376  BP  [(local, bonferroni, bonferroni), (local, sida...   \n",
       "\n",
       "  enrichment                                             goterm  \\\n",
       "0          e  GO:0002682\\tlevel-02\\tdepth-02\\tregulation of ...   \n",
       "1          e  GO:0050789\\tlevel-01\\tdepth-01\\tregulation of ...   \n",
       "2          e  GO:1902105\\tlevel-04\\tdepth-05\\tregulation of ...   \n",
       "3          e  GO:0065007\\tlevel-01\\tdepth-01\\tbiological reg...   \n",
       "4          e  GO:0002376\\tlevel-01\\tdepth-01\\timmune system ...   \n",
       "\n",
       "                                      name  p_bonferroni    p_holm   p_sidak  \\\n",
       "0      regulation of immune system process      0.024383  0.024383  0.023769   \n",
       "1         regulation of biological process      0.118122  0.118106  0.115144   \n",
       "2  regulation of leukocyte differentiation      0.156089  0.156059  0.152154   \n",
       "3                    biological regulation      0.261733  0.261647  0.255134   \n",
       "4                    immune system process      0.368721  0.368575  0.359425   \n",
       "\n",
       "   p_uncorrected  pop_count  \\\n",
       "0       0.000002        468   \n",
       "1       0.000008       2886   \n",
       "2       0.000010        121   \n",
       "3       0.000017       3011   \n",
       "4       0.000024        507   \n",
       "\n",
       "                                           pop_items  pop_n  ratio_in_pop  \\\n",
       "0  {PNP, SLFN1, CLEC2G, HCST, BST1, POLR3C, WHSC1...   6013   (468, 6013)   \n",
       "1  {HK1, QARS, SNF8, UBN1, RNF146, HCST, UTP11L, ...   6013  (2886, 6013)   \n",
       "2  {PNP, MITF, ATP11C, CLEC2G, NFKBID, AP3B1, CCR...   6013   (121, 6013)   \n",
       "3  {HK1, QARS, SNF8, UBN1, RNF146, HCST, UTP11L, ...   6013  (3011, 6013)   \n",
       "4  {ARHGEF2, PFDN1, POLR3C, IFIT1, SKAP2, IPO7, F...   6013   (507, 6013)   \n",
       "\n",
       "  ratio_in_study  study_count  \\\n",
       "0      (30, 153)           30   \n",
       "1     (101, 153)          101   \n",
       "2      (13, 153)           13   \n",
       "3     (103, 153)          103   \n",
       "4      (29, 153)           29   \n",
       "\n",
       "                                         study_items  study_n  \\\n",
       "0  {TEC, CACNB3, H2-OA, KLRK1, JAG1, CD86, PCBP2,...      153   \n",
       "1  {TEC, CKS1B, USE1, NOSTRIN, CACNB3, AKAP9, IL1...      153   \n",
       "2  {ADAM8, TMEM176B, CCR7, ZEB1, RASSF2, H2-OA, I...      153   \n",
       "3  {TEC, CKS1B, USE1, NOSTRIN, CACNB3, AKAP9, IL1...      153   \n",
       "4  {TEC, PROCR, H2-Q7, TNFRSF9, PDE4D, CACNB3, H2...      153   \n",
       "\n",
       "   log10_p_bonferroni  \n",
       "0            1.612906  \n",
       "1            0.927669  \n",
       "2            0.806626  \n",
       "3            0.582141  \n",
       "4            0.433302  "
      ]
     },
     "execution_count": 25,
     "metadata": {},
     "output_type": "execute_result"
    }
   ],
   "source": [
    "# YOUR CODE HERE\n",
    "above_cutoff_go_enrichment['log10_p_bonferroni'] = -np.log10(above_cutoff_go_enrichment['p_bonferroni'])\n",
    "#add col that contains log10_p_bonferroni values\n",
    "print(above_cutoff_go_enrichment.shape)\n",
    "above_cutoff_go_enrichment.head()"
   ]
  },
  {
   "cell_type": "code",
   "execution_count": 26,
   "metadata": {
    "collapsed": false
   },
   "outputs": [
    {
     "name": "stdout",
     "output_type": "stream",
     "text": [
      "(15129, 19)\n"
     ]
    },
    {
     "data": {
      "text/html": [
       "<div>\n",
       "<table border=\"1\" class=\"dataframe\">\n",
       "  <thead>\n",
       "    <tr style=\"text-align: right;\">\n",
       "      <th></th>\n",
       "      <th>GO</th>\n",
       "      <th>NS</th>\n",
       "      <th>_methods</th>\n",
       "      <th>enrichment</th>\n",
       "      <th>goterm</th>\n",
       "      <th>name</th>\n",
       "      <th>p_bonferroni</th>\n",
       "      <th>p_holm</th>\n",
       "      <th>p_sidak</th>\n",
       "      <th>p_uncorrected</th>\n",
       "      <th>pop_count</th>\n",
       "      <th>pop_items</th>\n",
       "      <th>pop_n</th>\n",
       "      <th>ratio_in_pop</th>\n",
       "      <th>ratio_in_study</th>\n",
       "      <th>study_count</th>\n",
       "      <th>study_items</th>\n",
       "      <th>study_n</th>\n",
       "      <th>log10_p_bonferroni</th>\n",
       "    </tr>\n",
       "  </thead>\n",
       "  <tbody>\n",
       "    <tr>\n",
       "      <th>0</th>\n",
       "      <td>GO:0002682</td>\n",
       "      <td>BP</td>\n",
       "      <td>[(local, bonferroni, bonferroni), (local, sida...</td>\n",
       "      <td>e</td>\n",
       "      <td>GO:0002682\\tlevel-02\\tdepth-02\\tregulation of ...</td>\n",
       "      <td>regulation of immune system process</td>\n",
       "      <td>0.024383</td>\n",
       "      <td>0.024383</td>\n",
       "      <td>0.023769</td>\n",
       "      <td>0.000002</td>\n",
       "      <td>468</td>\n",
       "      <td>{PNP, SLFN1, CLEC2G, HCST, BST1, POLR3C, WHSC1...</td>\n",
       "      <td>6013</td>\n",
       "      <td>(468, 6013)</td>\n",
       "      <td>(30, 153)</td>\n",
       "      <td>30</td>\n",
       "      <td>{TEC, CACNB3, H2-OA, KLRK1, JAG1, CD86, PCBP2,...</td>\n",
       "      <td>153</td>\n",
       "      <td>1.612906</td>\n",
       "    </tr>\n",
       "    <tr>\n",
       "      <th>10410</th>\n",
       "      <td>GO:0044459</td>\n",
       "      <td>CC</td>\n",
       "      <td>[(local, bonferroni, bonferroni), (local, sida...</td>\n",
       "      <td>e</td>\n",
       "      <td>GO:0044459\\tlevel-02\\tdepth-02\\tplasma membran...</td>\n",
       "      <td>plasma membrane part</td>\n",
       "      <td>0.042632</td>\n",
       "      <td>0.042629</td>\n",
       "      <td>0.041557</td>\n",
       "      <td>0.000003</td>\n",
       "      <td>526</td>\n",
       "      <td>{HK1, CTTN, RAPGEF2, RDH11, ARHGEF2, MAPK8IP3,...</td>\n",
       "      <td>6013</td>\n",
       "      <td>(526, 6013)</td>\n",
       "      <td>(33, 153)</td>\n",
       "      <td>33</td>\n",
       "      <td>{TEC, H2-Q7, TNFRSF9, PDE4D, CACNB3, H2-OA, KL...</td>\n",
       "      <td>153</td>\n",
       "      <td>1.370262</td>\n",
       "    </tr>\n",
       "    <tr>\n",
       "      <th>1</th>\n",
       "      <td>GO:0050789</td>\n",
       "      <td>BP</td>\n",
       "      <td>[(local, bonferroni, bonferroni), (local, sida...</td>\n",
       "      <td>e</td>\n",
       "      <td>GO:0050789\\tlevel-01\\tdepth-01\\tregulation of ...</td>\n",
       "      <td>regulation of biological process</td>\n",
       "      <td>0.118122</td>\n",
       "      <td>0.118106</td>\n",
       "      <td>0.115144</td>\n",
       "      <td>0.000008</td>\n",
       "      <td>2886</td>\n",
       "      <td>{HK1, QARS, SNF8, UBN1, RNF146, HCST, UTP11L, ...</td>\n",
       "      <td>6013</td>\n",
       "      <td>(2886, 6013)</td>\n",
       "      <td>(101, 153)</td>\n",
       "      <td>101</td>\n",
       "      <td>{TEC, CKS1B, USE1, NOSTRIN, CACNB3, AKAP9, IL1...</td>\n",
       "      <td>153</td>\n",
       "      <td>0.927669</td>\n",
       "    </tr>\n",
       "    <tr>\n",
       "      <th>2</th>\n",
       "      <td>GO:1902105</td>\n",
       "      <td>BP</td>\n",
       "      <td>[(local, bonferroni, bonferroni), (local, sida...</td>\n",
       "      <td>e</td>\n",
       "      <td>GO:1902105\\tlevel-04\\tdepth-05\\tregulation of ...</td>\n",
       "      <td>regulation of leukocyte differentiation</td>\n",
       "      <td>0.156089</td>\n",
       "      <td>0.156059</td>\n",
       "      <td>0.152154</td>\n",
       "      <td>0.000010</td>\n",
       "      <td>121</td>\n",
       "      <td>{PNP, MITF, ATP11C, CLEC2G, NFKBID, AP3B1, CCR...</td>\n",
       "      <td>6013</td>\n",
       "      <td>(121, 6013)</td>\n",
       "      <td>(13, 153)</td>\n",
       "      <td>13</td>\n",
       "      <td>{ADAM8, TMEM176B, CCR7, ZEB1, RASSF2, H2-OA, I...</td>\n",
       "      <td>153</td>\n",
       "      <td>0.806626</td>\n",
       "    </tr>\n",
       "    <tr>\n",
       "      <th>10411</th>\n",
       "      <td>GO:0005891</td>\n",
       "      <td>CC</td>\n",
       "      <td>[(local, bonferroni, bonferroni), (local, sida...</td>\n",
       "      <td>e</td>\n",
       "      <td>GO:0005891\\tlevel-04\\tdepth-08\\tvoltage-gated ...</td>\n",
       "      <td>voltage-gated calcium channel complex</td>\n",
       "      <td>0.244492</td>\n",
       "      <td>0.244428</td>\n",
       "      <td>0.238328</td>\n",
       "      <td>0.000016</td>\n",
       "      <td>3</td>\n",
       "      <td>{CACNB3, PDE4B, PDE4D}</td>\n",
       "      <td>6013</td>\n",
       "      <td>(3, 6013)</td>\n",
       "      <td>(3, 153)</td>\n",
       "      <td>3</td>\n",
       "      <td>{CACNB3, PDE4B, PDE4D}</td>\n",
       "      <td>153</td>\n",
       "      <td>0.611735</td>\n",
       "    </tr>\n",
       "  </tbody>\n",
       "</table>\n",
       "</div>"
      ],
      "text/plain": [
       "               GO  NS                                           _methods  \\\n",
       "0      GO:0002682  BP  [(local, bonferroni, bonferroni), (local, sida...   \n",
       "10410  GO:0044459  CC  [(local, bonferroni, bonferroni), (local, sida...   \n",
       "1      GO:0050789  BP  [(local, bonferroni, bonferroni), (local, sida...   \n",
       "2      GO:1902105  BP  [(local, bonferroni, bonferroni), (local, sida...   \n",
       "10411  GO:0005891  CC  [(local, bonferroni, bonferroni), (local, sida...   \n",
       "\n",
       "      enrichment                                             goterm  \\\n",
       "0              e  GO:0002682\\tlevel-02\\tdepth-02\\tregulation of ...   \n",
       "10410          e  GO:0044459\\tlevel-02\\tdepth-02\\tplasma membran...   \n",
       "1              e  GO:0050789\\tlevel-01\\tdepth-01\\tregulation of ...   \n",
       "2              e  GO:1902105\\tlevel-04\\tdepth-05\\tregulation of ...   \n",
       "10411          e  GO:0005891\\tlevel-04\\tdepth-08\\tvoltage-gated ...   \n",
       "\n",
       "                                          name  p_bonferroni    p_holm  \\\n",
       "0          regulation of immune system process      0.024383  0.024383   \n",
       "10410                     plasma membrane part      0.042632  0.042629   \n",
       "1             regulation of biological process      0.118122  0.118106   \n",
       "2      regulation of leukocyte differentiation      0.156089  0.156059   \n",
       "10411    voltage-gated calcium channel complex      0.244492  0.244428   \n",
       "\n",
       "        p_sidak  p_uncorrected  pop_count  \\\n",
       "0      0.023769       0.000002        468   \n",
       "10410  0.041557       0.000003        526   \n",
       "1      0.115144       0.000008       2886   \n",
       "2      0.152154       0.000010        121   \n",
       "10411  0.238328       0.000016          3   \n",
       "\n",
       "                                               pop_items  pop_n  ratio_in_pop  \\\n",
       "0      {PNP, SLFN1, CLEC2G, HCST, BST1, POLR3C, WHSC1...   6013   (468, 6013)   \n",
       "10410  {HK1, CTTN, RAPGEF2, RDH11, ARHGEF2, MAPK8IP3,...   6013   (526, 6013)   \n",
       "1      {HK1, QARS, SNF8, UBN1, RNF146, HCST, UTP11L, ...   6013  (2886, 6013)   \n",
       "2      {PNP, MITF, ATP11C, CLEC2G, NFKBID, AP3B1, CCR...   6013   (121, 6013)   \n",
       "10411                             {CACNB3, PDE4B, PDE4D}   6013     (3, 6013)   \n",
       "\n",
       "      ratio_in_study  study_count  \\\n",
       "0          (30, 153)           30   \n",
       "10410      (33, 153)           33   \n",
       "1         (101, 153)          101   \n",
       "2          (13, 153)           13   \n",
       "10411       (3, 153)            3   \n",
       "\n",
       "                                             study_items  study_n  \\\n",
       "0      {TEC, CACNB3, H2-OA, KLRK1, JAG1, CD86, PCBP2,...      153   \n",
       "10410  {TEC, H2-Q7, TNFRSF9, PDE4D, CACNB3, H2-OA, KL...      153   \n",
       "1      {TEC, CKS1B, USE1, NOSTRIN, CACNB3, AKAP9, IL1...      153   \n",
       "2      {ADAM8, TMEM176B, CCR7, ZEB1, RASSF2, H2-OA, I...      153   \n",
       "10411                             {CACNB3, PDE4B, PDE4D}      153   \n",
       "\n",
       "       log10_p_bonferroni  \n",
       "0                1.612906  \n",
       "10410            1.370262  \n",
       "1                0.927669  \n",
       "2                0.806626  \n",
       "10411            0.611735  "
      ]
     },
     "execution_count": 26,
     "metadata": {},
     "output_type": "execute_result"
    }
   ],
   "source": [
    "above_cutoff_go_enrichment = above_cutoff_go_enrichment.sort_values('log10_p_bonferroni', ascending=False) #largest log transform first = smallest p values\n",
    "#asc false as p 10e-10 more significant than p 10e-5\n",
    "print(above_cutoff_go_enrichment.shape)\n",
    "above_cutoff_go_enrichment.head()\n",
    "#use name col as y axis and log10 enrichment as x axis"
   ]
  },
  {
   "cell_type": "code",
   "execution_count": 27,
   "metadata": {
    "collapsed": false
   },
   "outputs": [
    {
     "name": "stderr",
     "output_type": "stream",
     "text": [
      "/Users/duncan/anaconda/envs/single-cell-bioinformatics/lib/python3.5/site-packages/statsmodels/nonparametric/kdetools.py:20: VisibleDeprecationWarning: using a non-integer number instead of an integer will result in an error in the future\n",
      "  y = X[:m/2+1] + np.r_[0,X[m/2+1:],0]*1j\n"
     ]
    },
    {
     "data": {
      "text/plain": [
       "<matplotlib.axes._subplots.AxesSubplot at 0x12aa36b00>"
      ]
     },
     "execution_count": 27,
     "metadata": {},
     "output_type": "execute_result"
    },
    {
     "data": {
      "image/png": "[encoded data removed]",
      "text/plain": [
       "<matplotlib.figure.Figure at 0x12b5b9c88>"
      ]
     },
     "metadata": {},
     "output_type": "display_data"
    }
   ],
   "source": [
    "sns.distplot(above_cutoff_go_enrichment['log10_p_bonferroni'])"
   ]
  },
  {
   "cell_type": "code",
   "execution_count": 29,
   "metadata": {
    "collapsed": false
   },
   "outputs": [
    {
     "name": "stdout",
     "output_type": "stream",
     "text": [
      "(15129, 19)\n"
     ]
    },
    {
     "name": "stderr",
     "output_type": "stream",
     "text": [
      "/Users/duncan/anaconda/envs/single-cell-bioinformatics/lib/python3.5/site-packages/statsmodels/nonparametric/kdetools.py:20: VisibleDeprecationWarning: using a non-integer number instead of an integer will result in an error in the future\n",
      "  y = X[:m/2+1] + np.r_[0,X[m/2+1:],0]*1j\n"
     ]
    },
    {
     "data": {
      "text/plain": [
       "<matplotlib.axes._subplots.AxesSubplot at 0x12ab5b4e0>"
      ]
     },
     "execution_count": 29,
     "metadata": {},
     "output_type": "execute_result"
    },
    {
     "data": {
      "image/png": "[encoded data removed]",
      "text/plain": [
       "<matplotlib.figure.Figure at 0x12b1d0f98>"
      ]
     },
     "metadata": {},
     "output_type": "display_data"
    }
   ],
   "source": [
    "above_cutoff_go_enrichment_subset = above_cutoff_go_enrichment.iloc[:10, :]\n",
    "# above_cutoff_go_enrichment_subset = above_cutoff_go_enrichment.query('log10_p_bonferroni > 2')\n",
    "print(above_cutoff_go_enrichment.shape)\n",
    "sns.distplot(above_cutoff_go_enrichment_subset['log10_p_bonferroni'])"
   ]
  },
  {
   "cell_type": "code",
   "execution_count": 30,
   "metadata": {
    "collapsed": false
   },
   "outputs": [
    {
     "data": {
      "image/png": "[encoded data removed]",
      "text/plain": [
       "<matplotlib.figure.Figure at 0x12b5ca470>"
      ]
     },
     "metadata": {},
     "output_type": "display_data"
    }
   ],
   "source": [
    "order = above_cutoff_go_enrichment_subset['name']\n",
    "\n",
    "fig, ax = plt.subplots()\n",
    "sns.barplot(x='log10_p_bonferroni', y='name', data=above_cutoff_go_enrichment_subset, orient='h', order=order)\n",
    "fig.savefig(\"above_cutoff_go_enrichment.pdf\")\n",
    "#GO is performing a hypergeometric test which is equivalent to Fisher's exact test\n",
    "#All Venn diagrams one set of all genes, one of GO term and all genes of interest and is\n",
    "#calculating overlap of goi and GO term"
   ]
  },
  {
   "cell_type": "code",
   "execution_count": 31,
   "metadata": {
    "collapsed": false
   },
   "outputs": [
    {
     "data": {
      "text/html": [
       "<div>\n",
       "<table border=\"1\" class=\"dataframe\">\n",
       "  <thead>\n",
       "    <tr style=\"text-align: right;\">\n",
       "      <th></th>\n",
       "      <th>gene_category</th>\n",
       "    </tr>\n",
       "  </thead>\n",
       "  <tbody>\n",
       "    <tr>\n",
       "      <th>1110018G07RIK</th>\n",
       "      <td>LPS Response</td>\n",
       "    </tr>\n",
       "    <tr>\n",
       "      <th>1110032F04RIK</th>\n",
       "      <td>LPS Response</td>\n",
       "    </tr>\n",
       "    <tr>\n",
       "      <th>1110038F14RIK</th>\n",
       "      <td>LPS Response</td>\n",
       "    </tr>\n",
       "    <tr>\n",
       "      <th>1190002H23RIK</th>\n",
       "      <td>LPS Response</td>\n",
       "    </tr>\n",
       "    <tr>\n",
       "      <th>1200009I06RIK</th>\n",
       "      <td>LPS Response</td>\n",
       "    </tr>\n",
       "  </tbody>\n",
       "</table>\n",
       "</div>"
      ],
      "text/plain": [
       "              gene_category\n",
       "1110018G07RIK  LPS Response\n",
       "1110032F04RIK  LPS Response\n",
       "1110038F14RIK  LPS Response\n",
       "1190002H23RIK  LPS Response\n",
       "1200009I06RIK  LPS Response"
      ]
     },
     "execution_count": 31,
     "metadata": {},
     "output_type": "execute_result"
    }
   ],
   "source": [
    "subset = expression_feature.query('gene_category == \"LPS Response\"')\n",
    "subset.head(5)"
   ]
  },
  {
   "cell_type": "code",
   "execution_count": 32,
   "metadata": {
    "collapsed": false
   },
   "outputs": [
    {
     "data": {
      "text/plain": [
       "Index(['1110018G07RIK', '1110032F04RIK', '1110038F14RIK', '1190002H23RIK',\n",
       "       '1200009I06RIK', '1600014C10RIK', '1810029B16RIK', '2010002M12RIK',\n",
       "       '2200002D01RIK', '2210009G21RIK',\n",
       "       ...\n",
       "       'ZCCHC2', 'ZCCHC6', 'ZDHHC21', 'ZFP36', 'ZFP558', 'ZFP800', 'ZFP811',\n",
       "       'ZHX2', 'ZNFX1', 'ZUFSP'],\n",
       "      dtype='object', length=945)"
      ]
     },
     "execution_count": 32,
     "metadata": {},
     "output_type": "execute_result"
    }
   ],
   "source": [
    "lps_response_genes = subset.index #row names = genes, columns = samples / features\n",
    "lps_response_genes\n",
    "#expression feature data\n",
    "#this times genes are samples\n",
    "#and rows features\n",
    "#e.g. whether TF\n",
    "#e.g. whether LPS response"
   ]
  },
  {
   "cell_type": "code",
   "execution_count": 33,
   "metadata": {
    "collapsed": false
   },
   "outputs": [
    {
     "data": {
      "text/plain": [
       "(18, 6312)"
      ]
     },
     "execution_count": 33,
     "metadata": {},
     "output_type": "execute_result"
    }
   ],
   "source": [
    "singles_ids = [x for x in expression.index if x.startswith('S')]\n",
    "singles = expression.loc[singles_ids]\n",
    "singles.shape"
   ]
  },
  {
   "cell_type": "code",
   "execution_count": 34,
   "metadata": {
    "collapsed": false
   },
   "outputs": [
    {
     "name": "stdout",
     "output_type": "stream",
     "text": [
      "(18, 6013)\n"
     ]
    },
    {
     "data": {
      "text/html": [
       "<div>\n",
       "<table border=\"1\" class=\"dataframe\">\n",
       "  <thead>\n",
       "    <tr style=\"text-align: right;\">\n",
       "      <th></th>\n",
       "      <th>NPL</th>\n",
       "      <th>QK</th>\n",
       "      <th>AK163153</th>\n",
       "      <th>AGPAT4</th>\n",
       "      <th>IGF2R</th>\n",
       "      <th>MRPL18</th>\n",
       "      <th>TCP1</th>\n",
       "      <th>RNASEL</th>\n",
       "      <th>ACAT2</th>\n",
       "      <th>WTAP</th>\n",
       "      <th>...</th>\n",
       "      <th>MIR692-1</th>\n",
       "      <th>RSPH3B</th>\n",
       "      <th>TAGAP1</th>\n",
       "      <th>RNASET2A</th>\n",
       "      <th>RPS6KA2</th>\n",
       "      <th>DHX9</th>\n",
       "      <th>RNASET2B</th>\n",
       "      <th>FGFR1OP</th>\n",
       "      <th>BRP44L</th>\n",
       "      <th>SFT2D1</th>\n",
       "    </tr>\n",
       "  </thead>\n",
       "  <tbody>\n",
       "    <tr>\n",
       "      <th>S14</th>\n",
       "      <td>0.099121</td>\n",
       "      <td>2.294456</td>\n",
       "      <td>1.110511</td>\n",
       "      <td>4.430612</td>\n",
       "      <td>0.703213</td>\n",
       "      <td>5.805900</td>\n",
       "      <td>5.127292</td>\n",
       "      <td>4.373110</td>\n",
       "      <td>4.634034</td>\n",
       "      <td>2.364453</td>\n",
       "      <td>...</td>\n",
       "      <td>3.708960</td>\n",
       "      <td>2.816471</td>\n",
       "      <td>0.353337</td>\n",
       "      <td>3.171981</td>\n",
       "      <td>0.598556</td>\n",
       "      <td>2.634747</td>\n",
       "      <td>4.574811</td>\n",
       "      <td>4.060312</td>\n",
       "      <td>7.261360</td>\n",
       "      <td>0.946980</td>\n",
       "    </tr>\n",
       "    <tr>\n",
       "      <th>S15</th>\n",
       "      <td>0.100920</td>\n",
       "      <td>0.301120</td>\n",
       "      <td>1.202271</td>\n",
       "      <td>0.000000</td>\n",
       "      <td>0.000000</td>\n",
       "      <td>0.280902</td>\n",
       "      <td>6.703530</td>\n",
       "      <td>0.000000</td>\n",
       "      <td>0.131139</td>\n",
       "      <td>0.120001</td>\n",
       "      <td>...</td>\n",
       "      <td>4.338427</td>\n",
       "      <td>0.000000</td>\n",
       "      <td>0.000000</td>\n",
       "      <td>1.249966</td>\n",
       "      <td>4.866136</td>\n",
       "      <td>0.203168</td>\n",
       "      <td>3.606193</td>\n",
       "      <td>3.981172</td>\n",
       "      <td>6.776869</td>\n",
       "      <td>0.000000</td>\n",
       "    </tr>\n",
       "    <tr>\n",
       "      <th>S16</th>\n",
       "      <td>0.206361</td>\n",
       "      <td>3.547688</td>\n",
       "      <td>4.446612</td>\n",
       "      <td>0.000000</td>\n",
       "      <td>0.599134</td>\n",
       "      <td>4.636011</td>\n",
       "      <td>4.934580</td>\n",
       "      <td>0.000000</td>\n",
       "      <td>0.072570</td>\n",
       "      <td>0.540513</td>\n",
       "      <td>...</td>\n",
       "      <td>3.304521</td>\n",
       "      <td>2.184800</td>\n",
       "      <td>0.338401</td>\n",
       "      <td>1.352671</td>\n",
       "      <td>3.314155</td>\n",
       "      <td>3.511727</td>\n",
       "      <td>3.200499</td>\n",
       "      <td>0.000000</td>\n",
       "      <td>4.288363</td>\n",
       "      <td>0.146869</td>\n",
       "    </tr>\n",
       "    <tr>\n",
       "      <th>S17</th>\n",
       "      <td>0.104884</td>\n",
       "      <td>2.185832</td>\n",
       "      <td>1.367261</td>\n",
       "      <td>4.219120</td>\n",
       "      <td>0.163095</td>\n",
       "      <td>0.156241</td>\n",
       "      <td>5.317671</td>\n",
       "      <td>0.000000</td>\n",
       "      <td>0.000000</td>\n",
       "      <td>0.507563</td>\n",
       "      <td>...</td>\n",
       "      <td>3.618070</td>\n",
       "      <td>2.465683</td>\n",
       "      <td>0.097507</td>\n",
       "      <td>0.747714</td>\n",
       "      <td>0.088512</td>\n",
       "      <td>0.579376</td>\n",
       "      <td>0.000000</td>\n",
       "      <td>0.000000</td>\n",
       "      <td>6.877628</td>\n",
       "      <td>5.181148</td>\n",
       "    </tr>\n",
       "    <tr>\n",
       "      <th>S18</th>\n",
       "      <td>0.000000</td>\n",
       "      <td>0.040923</td>\n",
       "      <td>0.428320</td>\n",
       "      <td>0.171028</td>\n",
       "      <td>2.456613</td>\n",
       "      <td>4.820447</td>\n",
       "      <td>4.619659</td>\n",
       "      <td>4.334508</td>\n",
       "      <td>0.107746</td>\n",
       "      <td>0.682873</td>\n",
       "      <td>...</td>\n",
       "      <td>2.627022</td>\n",
       "      <td>1.101847</td>\n",
       "      <td>0.094660</td>\n",
       "      <td>3.751406</td>\n",
       "      <td>1.075959</td>\n",
       "      <td>1.809603</td>\n",
       "      <td>1.431793</td>\n",
       "      <td>0.000000</td>\n",
       "      <td>6.542975</td>\n",
       "      <td>1.800422</td>\n",
       "    </tr>\n",
       "  </tbody>\n",
       "</table>\n",
       "<p>5 rows × 6013 columns</p>\n",
       "</div>"
      ],
      "text/plain": [
       "          NPL        QK  AK163153    AGPAT4     IGF2R    MRPL18      TCP1  \\\n",
       "S14  0.099121  2.294456  1.110511  4.430612  0.703213  5.805900  5.127292   \n",
       "S15  0.100920  0.301120  1.202271  0.000000  0.000000  0.280902  6.703530   \n",
       "S16  0.206361  3.547688  4.446612  0.000000  0.599134  4.636011  4.934580   \n",
       "S17  0.104884  2.185832  1.367261  4.219120  0.163095  0.156241  5.317671   \n",
       "S18  0.000000  0.040923  0.428320  0.171028  2.456613  4.820447  4.619659   \n",
       "\n",
       "       RNASEL     ACAT2      WTAP    ...     MIR692-1    RSPH3B    TAGAP1  \\\n",
       "S14  4.373110  4.634034  2.364453    ...     3.708960  2.816471  0.353337   \n",
       "S15  0.000000  0.131139  0.120001    ...     4.338427  0.000000  0.000000   \n",
       "S16  0.000000  0.072570  0.540513    ...     3.304521  2.184800  0.338401   \n",
       "S17  0.000000  0.000000  0.507563    ...     3.618070  2.465683  0.097507   \n",
       "S18  4.334508  0.107746  0.682873    ...     2.627022  1.101847  0.094660   \n",
       "\n",
       "     RNASET2A   RPS6KA2      DHX9  RNASET2B   FGFR1OP    BRP44L    SFT2D1  \n",
       "S14  3.171981  0.598556  2.634747  4.574811  4.060312  7.261360  0.946980  \n",
       "S15  1.249966  4.866136  0.203168  3.606193  3.981172  6.776869  0.000000  \n",
       "S16  1.352671  3.314155  3.511727  3.200499  0.000000  4.288363  0.146869  \n",
       "S17  0.747714  0.088512  0.579376  0.000000  0.000000  6.877628  5.181148  \n",
       "S18  3.751406  1.075959  1.809603  1.431793  0.000000  6.542975  1.800422  \n",
       "\n",
       "[5 rows x 6013 columns]"
      ]
     },
     "execution_count": 34,
     "metadata": {},
     "output_type": "execute_result"
    }
   ],
   "source": [
    "singles = singles.loc[:, (singles > 1).sum() >= 3]\n",
    "print(singles.shape)\n",
    "singles.tail()\n",
    "# expression.tail()"
   ]
  },
  {
   "cell_type": "code",
   "execution_count": 35,
   "metadata": {
    "collapsed": false
   },
   "outputs": [
    {
     "data": {
      "text/plain": [
       "S1     immature\n",
       "S2     immature\n",
       "S3     immature\n",
       "S4     immature\n",
       "S5     immature\n",
       "S6     immature\n",
       "S7     immature\n",
       "S8     immature\n",
       "S9     immature\n",
       "S10    immature\n",
       "S11    immature\n",
       "S12      mature\n",
       "S13      mature\n",
       "S14    immature\n",
       "S15    immature\n",
       "S16      mature\n",
       "S17    immature\n",
       "S18    immature\n",
       "Name: maturity, dtype: object"
      ]
     },
     "execution_count": 35,
     "metadata": {},
     "output_type": "execute_result"
    }
   ],
   "source": [
    "singles_maturity = metadata.loc[singles.index, 'maturity']\n",
    "singles_maturity"
   ]
  },
  {
   "cell_type": "code",
   "execution_count": 36,
   "metadata": {
    "collapsed": false
   },
   "outputs": [
    {
     "name": "stdout",
     "output_type": "stream",
     "text": [
      "(18, 945)\n"
     ]
    },
    {
     "data": {
      "text/html": [
       "<div>\n",
       "<table border=\"1\" class=\"dataframe\">\n",
       "  <thead>\n",
       "    <tr style=\"text-align: right;\">\n",
       "      <th></th>\n",
       "      <th>1110018G07RIK</th>\n",
       "      <th>1110032F04RIK</th>\n",
       "      <th>1110038F14RIK</th>\n",
       "      <th>1190002H23RIK</th>\n",
       "      <th>1200009I06RIK</th>\n",
       "      <th>1600014C10RIK</th>\n",
       "      <th>1810029B16RIK</th>\n",
       "      <th>2010002M12RIK</th>\n",
       "      <th>2200002D01RIK</th>\n",
       "      <th>2210009G21RIK</th>\n",
       "      <th>...</th>\n",
       "      <th>ZCCHC2</th>\n",
       "      <th>ZCCHC6</th>\n",
       "      <th>ZDHHC21</th>\n",
       "      <th>ZFP36</th>\n",
       "      <th>ZFP558</th>\n",
       "      <th>ZFP800</th>\n",
       "      <th>ZFP811</th>\n",
       "      <th>ZHX2</th>\n",
       "      <th>ZNFX1</th>\n",
       "      <th>ZUFSP</th>\n",
       "    </tr>\n",
       "  </thead>\n",
       "  <tbody>\n",
       "    <tr>\n",
       "      <th>S1</th>\n",
       "      <td>3.711442</td>\n",
       "      <td>NaN</td>\n",
       "      <td>0.000000</td>\n",
       "      <td>NaN</td>\n",
       "      <td>3.275468</td>\n",
       "      <td>0.000000</td>\n",
       "      <td>5.609305</td>\n",
       "      <td>NaN</td>\n",
       "      <td>NaN</td>\n",
       "      <td>0.000000</td>\n",
       "      <td>...</td>\n",
       "      <td>0.035344</td>\n",
       "      <td>3.042277</td>\n",
       "      <td>4.425735</td>\n",
       "      <td>4.092559</td>\n",
       "      <td>NaN</td>\n",
       "      <td>4.025124</td>\n",
       "      <td>NaN</td>\n",
       "      <td>0.779382</td>\n",
       "      <td>2.998800</td>\n",
       "      <td>0.000000</td>\n",
       "    </tr>\n",
       "    <tr>\n",
       "      <th>S2</th>\n",
       "      <td>4.361671</td>\n",
       "      <td>NaN</td>\n",
       "      <td>0.147643</td>\n",
       "      <td>NaN</td>\n",
       "      <td>0.000000</td>\n",
       "      <td>0.000000</td>\n",
       "      <td>5.478071</td>\n",
       "      <td>NaN</td>\n",
       "      <td>NaN</td>\n",
       "      <td>0.000000</td>\n",
       "      <td>...</td>\n",
       "      <td>2.251330</td>\n",
       "      <td>1.018315</td>\n",
       "      <td>4.955713</td>\n",
       "      <td>0.356008</td>\n",
       "      <td>NaN</td>\n",
       "      <td>4.297776</td>\n",
       "      <td>NaN</td>\n",
       "      <td>0.032569</td>\n",
       "      <td>3.091207</td>\n",
       "      <td>5.000843</td>\n",
       "    </tr>\n",
       "    <tr>\n",
       "      <th>S3</th>\n",
       "      <td>0.000000</td>\n",
       "      <td>NaN</td>\n",
       "      <td>3.737014</td>\n",
       "      <td>NaN</td>\n",
       "      <td>2.987093</td>\n",
       "      <td>0.063526</td>\n",
       "      <td>5.320993</td>\n",
       "      <td>NaN</td>\n",
       "      <td>NaN</td>\n",
       "      <td>0.000000</td>\n",
       "      <td>...</td>\n",
       "      <td>0.094925</td>\n",
       "      <td>0.126673</td>\n",
       "      <td>3.952273</td>\n",
       "      <td>1.956983</td>\n",
       "      <td>NaN</td>\n",
       "      <td>0.000000</td>\n",
       "      <td>NaN</td>\n",
       "      <td>0.000000</td>\n",
       "      <td>3.794063</td>\n",
       "      <td>2.928699</td>\n",
       "    </tr>\n",
       "    <tr>\n",
       "      <th>S4</th>\n",
       "      <td>2.719587</td>\n",
       "      <td>NaN</td>\n",
       "      <td>0.000000</td>\n",
       "      <td>NaN</td>\n",
       "      <td>0.045823</td>\n",
       "      <td>0.000000</td>\n",
       "      <td>0.488049</td>\n",
       "      <td>NaN</td>\n",
       "      <td>NaN</td>\n",
       "      <td>0.000000</td>\n",
       "      <td>...</td>\n",
       "      <td>0.137427</td>\n",
       "      <td>2.025546</td>\n",
       "      <td>4.193989</td>\n",
       "      <td>2.372572</td>\n",
       "      <td>NaN</td>\n",
       "      <td>0.121924</td>\n",
       "      <td>NaN</td>\n",
       "      <td>0.000000</td>\n",
       "      <td>0.230278</td>\n",
       "      <td>0.430168</td>\n",
       "    </tr>\n",
       "    <tr>\n",
       "      <th>S5</th>\n",
       "      <td>2.982073</td>\n",
       "      <td>NaN</td>\n",
       "      <td>0.000000</td>\n",
       "      <td>NaN</td>\n",
       "      <td>2.829152</td>\n",
       "      <td>0.000000</td>\n",
       "      <td>5.093188</td>\n",
       "      <td>NaN</td>\n",
       "      <td>NaN</td>\n",
       "      <td>0.000000</td>\n",
       "      <td>...</td>\n",
       "      <td>0.616401</td>\n",
       "      <td>0.000000</td>\n",
       "      <td>4.039816</td>\n",
       "      <td>0.000000</td>\n",
       "      <td>NaN</td>\n",
       "      <td>4.714087</td>\n",
       "      <td>NaN</td>\n",
       "      <td>1.565475</td>\n",
       "      <td>0.860254</td>\n",
       "      <td>4.866979</td>\n",
       "    </tr>\n",
       "    <tr>\n",
       "      <th>S6</th>\n",
       "      <td>0.000000</td>\n",
       "      <td>NaN</td>\n",
       "      <td>0.851146</td>\n",
       "      <td>NaN</td>\n",
       "      <td>1.016506</td>\n",
       "      <td>3.500878</td>\n",
       "      <td>6.097377</td>\n",
       "      <td>NaN</td>\n",
       "      <td>NaN</td>\n",
       "      <td>0.721829</td>\n",
       "      <td>...</td>\n",
       "      <td>3.635734</td>\n",
       "      <td>3.437551</td>\n",
       "      <td>3.687978</td>\n",
       "      <td>1.033553</td>\n",
       "      <td>NaN</td>\n",
       "      <td>3.110635</td>\n",
       "      <td>NaN</td>\n",
       "      <td>2.192246</td>\n",
       "      <td>3.108098</td>\n",
       "      <td>2.597904</td>\n",
       "    </tr>\n",
       "    <tr>\n",
       "      <th>S7</th>\n",
       "      <td>3.881965</td>\n",
       "      <td>NaN</td>\n",
       "      <td>1.628513</td>\n",
       "      <td>NaN</td>\n",
       "      <td>2.743949</td>\n",
       "      <td>0.000000</td>\n",
       "      <td>5.956346</td>\n",
       "      <td>NaN</td>\n",
       "      <td>NaN</td>\n",
       "      <td>0.000000</td>\n",
       "      <td>...</td>\n",
       "      <td>0.025485</td>\n",
       "      <td>0.000000</td>\n",
       "      <td>3.730004</td>\n",
       "      <td>3.654413</td>\n",
       "      <td>NaN</td>\n",
       "      <td>1.278290</td>\n",
       "      <td>NaN</td>\n",
       "      <td>0.000000</td>\n",
       "      <td>1.197472</td>\n",
       "      <td>2.694247</td>\n",
       "    </tr>\n",
       "    <tr>\n",
       "      <th>S8</th>\n",
       "      <td>3.034992</td>\n",
       "      <td>NaN</td>\n",
       "      <td>0.000000</td>\n",
       "      <td>NaN</td>\n",
       "      <td>3.948293</td>\n",
       "      <td>4.506814</td>\n",
       "      <td>7.140110</td>\n",
       "      <td>NaN</td>\n",
       "      <td>NaN</td>\n",
       "      <td>0.242281</td>\n",
       "      <td>...</td>\n",
       "      <td>0.526813</td>\n",
       "      <td>3.475191</td>\n",
       "      <td>4.001580</td>\n",
       "      <td>6.502297</td>\n",
       "      <td>NaN</td>\n",
       "      <td>0.179204</td>\n",
       "      <td>NaN</td>\n",
       "      <td>0.000000</td>\n",
       "      <td>2.762293</td>\n",
       "      <td>0.412426</td>\n",
       "    </tr>\n",
       "    <tr>\n",
       "      <th>S9</th>\n",
       "      <td>0.031110</td>\n",
       "      <td>NaN</td>\n",
       "      <td>4.911391</td>\n",
       "      <td>NaN</td>\n",
       "      <td>0.000000</td>\n",
       "      <td>0.000000</td>\n",
       "      <td>6.510856</td>\n",
       "      <td>NaN</td>\n",
       "      <td>NaN</td>\n",
       "      <td>4.080961</td>\n",
       "      <td>...</td>\n",
       "      <td>0.059599</td>\n",
       "      <td>0.471974</td>\n",
       "      <td>4.701420</td>\n",
       "      <td>5.403925</td>\n",
       "      <td>NaN</td>\n",
       "      <td>3.443843</td>\n",
       "      <td>NaN</td>\n",
       "      <td>0.000000</td>\n",
       "      <td>3.096213</td>\n",
       "      <td>0.231651</td>\n",
       "    </tr>\n",
       "    <tr>\n",
       "      <th>S10</th>\n",
       "      <td>0.000000</td>\n",
       "      <td>NaN</td>\n",
       "      <td>3.882599</td>\n",
       "      <td>NaN</td>\n",
       "      <td>3.372394</td>\n",
       "      <td>0.000000</td>\n",
       "      <td>6.745099</td>\n",
       "      <td>NaN</td>\n",
       "      <td>NaN</td>\n",
       "      <td>0.000000</td>\n",
       "      <td>...</td>\n",
       "      <td>0.843348</td>\n",
       "      <td>1.035731</td>\n",
       "      <td>4.664242</td>\n",
       "      <td>0.141537</td>\n",
       "      <td>NaN</td>\n",
       "      <td>5.477474</td>\n",
       "      <td>NaN</td>\n",
       "      <td>0.136784</td>\n",
       "      <td>0.017415</td>\n",
       "      <td>0.000000</td>\n",
       "    </tr>\n",
       "    <tr>\n",
       "      <th>S11</th>\n",
       "      <td>1.072535</td>\n",
       "      <td>NaN</td>\n",
       "      <td>0.000000</td>\n",
       "      <td>NaN</td>\n",
       "      <td>0.038419</td>\n",
       "      <td>0.033219</td>\n",
       "      <td>6.112849</td>\n",
       "      <td>NaN</td>\n",
       "      <td>NaN</td>\n",
       "      <td>0.000000</td>\n",
       "      <td>...</td>\n",
       "      <td>0.000000</td>\n",
       "      <td>0.000000</td>\n",
       "      <td>4.837758</td>\n",
       "      <td>4.385338</td>\n",
       "      <td>NaN</td>\n",
       "      <td>0.052734</td>\n",
       "      <td>NaN</td>\n",
       "      <td>0.000000</td>\n",
       "      <td>0.517347</td>\n",
       "      <td>0.154631</td>\n",
       "    </tr>\n",
       "    <tr>\n",
       "      <th>S12</th>\n",
       "      <td>0.000000</td>\n",
       "      <td>NaN</td>\n",
       "      <td>0.000000</td>\n",
       "      <td>NaN</td>\n",
       "      <td>4.331986</td>\n",
       "      <td>0.000000</td>\n",
       "      <td>1.001878</td>\n",
       "      <td>NaN</td>\n",
       "      <td>NaN</td>\n",
       "      <td>0.000000</td>\n",
       "      <td>...</td>\n",
       "      <td>0.054584</td>\n",
       "      <td>4.897049</td>\n",
       "      <td>5.817964</td>\n",
       "      <td>3.789241</td>\n",
       "      <td>NaN</td>\n",
       "      <td>0.000000</td>\n",
       "      <td>NaN</td>\n",
       "      <td>4.408194</td>\n",
       "      <td>2.863896</td>\n",
       "      <td>6.192744</td>\n",
       "    </tr>\n",
       "    <tr>\n",
       "      <th>S13</th>\n",
       "      <td>0.000000</td>\n",
       "      <td>NaN</td>\n",
       "      <td>3.747344</td>\n",
       "      <td>NaN</td>\n",
       "      <td>4.064328</td>\n",
       "      <td>5.143276</td>\n",
       "      <td>5.313024</td>\n",
       "      <td>NaN</td>\n",
       "      <td>NaN</td>\n",
       "      <td>0.000000</td>\n",
       "      <td>...</td>\n",
       "      <td>0.058471</td>\n",
       "      <td>0.000000</td>\n",
       "      <td>4.933427</td>\n",
       "      <td>3.702712</td>\n",
       "      <td>NaN</td>\n",
       "      <td>0.181313</td>\n",
       "      <td>NaN</td>\n",
       "      <td>0.034676</td>\n",
       "      <td>1.042585</td>\n",
       "      <td>0.081720</td>\n",
       "    </tr>\n",
       "    <tr>\n",
       "      <th>S14</th>\n",
       "      <td>0.000000</td>\n",
       "      <td>NaN</td>\n",
       "      <td>0.000000</td>\n",
       "      <td>NaN</td>\n",
       "      <td>3.082016</td>\n",
       "      <td>2.174287</td>\n",
       "      <td>5.670914</td>\n",
       "      <td>NaN</td>\n",
       "      <td>NaN</td>\n",
       "      <td>2.932343</td>\n",
       "      <td>...</td>\n",
       "      <td>2.625148</td>\n",
       "      <td>0.032476</td>\n",
       "      <td>4.549237</td>\n",
       "      <td>0.341248</td>\n",
       "      <td>NaN</td>\n",
       "      <td>0.101219</td>\n",
       "      <td>NaN</td>\n",
       "      <td>0.000000</td>\n",
       "      <td>2.911903</td>\n",
       "      <td>4.222469</td>\n",
       "    </tr>\n",
       "    <tr>\n",
       "      <th>S15</th>\n",
       "      <td>4.344132</td>\n",
       "      <td>NaN</td>\n",
       "      <td>5.280771</td>\n",
       "      <td>NaN</td>\n",
       "      <td>0.000000</td>\n",
       "      <td>0.000000</td>\n",
       "      <td>5.173887</td>\n",
       "      <td>NaN</td>\n",
       "      <td>NaN</td>\n",
       "      <td>0.051816</td>\n",
       "      <td>...</td>\n",
       "      <td>2.741397</td>\n",
       "      <td>0.238112</td>\n",
       "      <td>4.427446</td>\n",
       "      <td>0.457467</td>\n",
       "      <td>NaN</td>\n",
       "      <td>5.467421</td>\n",
       "      <td>NaN</td>\n",
       "      <td>0.302258</td>\n",
       "      <td>2.598149</td>\n",
       "      <td>5.068936</td>\n",
       "    </tr>\n",
       "    <tr>\n",
       "      <th>S16</th>\n",
       "      <td>3.115420</td>\n",
       "      <td>NaN</td>\n",
       "      <td>0.000000</td>\n",
       "      <td>NaN</td>\n",
       "      <td>5.174344</td>\n",
       "      <td>3.928550</td>\n",
       "      <td>4.657044</td>\n",
       "      <td>NaN</td>\n",
       "      <td>NaN</td>\n",
       "      <td>2.220592</td>\n",
       "      <td>...</td>\n",
       "      <td>0.000000</td>\n",
       "      <td>0.070087</td>\n",
       "      <td>5.233667</td>\n",
       "      <td>6.028923</td>\n",
       "      <td>NaN</td>\n",
       "      <td>0.075195</td>\n",
       "      <td>NaN</td>\n",
       "      <td>0.000000</td>\n",
       "      <td>2.254262</td>\n",
       "      <td>4.854934</td>\n",
       "    </tr>\n",
       "    <tr>\n",
       "      <th>S17</th>\n",
       "      <td>0.000000</td>\n",
       "      <td>NaN</td>\n",
       "      <td>0.000000</td>\n",
       "      <td>NaN</td>\n",
       "      <td>0.052970</td>\n",
       "      <td>0.000000</td>\n",
       "      <td>4.832783</td>\n",
       "      <td>NaN</td>\n",
       "      <td>NaN</td>\n",
       "      <td>0.000000</td>\n",
       "      <td>...</td>\n",
       "      <td>0.028056</td>\n",
       "      <td>4.915632</td>\n",
       "      <td>5.181689</td>\n",
       "      <td>4.282346</td>\n",
       "      <td>NaN</td>\n",
       "      <td>3.051319</td>\n",
       "      <td>NaN</td>\n",
       "      <td>0.530822</td>\n",
       "      <td>0.050568</td>\n",
       "      <td>3.958240</td>\n",
       "    </tr>\n",
       "    <tr>\n",
       "      <th>S18</th>\n",
       "      <td>0.044827</td>\n",
       "      <td>NaN</td>\n",
       "      <td>0.119081</td>\n",
       "      <td>NaN</td>\n",
       "      <td>0.000000</td>\n",
       "      <td>2.501923</td>\n",
       "      <td>5.106801</td>\n",
       "      <td>NaN</td>\n",
       "      <td>NaN</td>\n",
       "      <td>0.000000</td>\n",
       "      <td>...</td>\n",
       "      <td>4.366350</td>\n",
       "      <td>0.026988</td>\n",
       "      <td>3.901602</td>\n",
       "      <td>1.710988</td>\n",
       "      <td>NaN</td>\n",
       "      <td>3.026766</td>\n",
       "      <td>NaN</td>\n",
       "      <td>0.000000</td>\n",
       "      <td>2.313860</td>\n",
       "      <td>0.000000</td>\n",
       "    </tr>\n",
       "  </tbody>\n",
       "</table>\n",
       "<p>18 rows × 945 columns</p>\n",
       "</div>"
      ],
      "text/plain": [
       "     1110018G07RIK  1110032F04RIK  1110038F14RIK  1190002H23RIK  \\\n",
       "S1        3.711442            NaN       0.000000            NaN   \n",
       "S2        4.361671            NaN       0.147643            NaN   \n",
       "S3        0.000000            NaN       3.737014            NaN   \n",
       "S4        2.719587            NaN       0.000000            NaN   \n",
       "S5        2.982073            NaN       0.000000            NaN   \n",
       "S6        0.000000            NaN       0.851146            NaN   \n",
       "S7        3.881965            NaN       1.628513            NaN   \n",
       "S8        3.034992            NaN       0.000000            NaN   \n",
       "S9        0.031110            NaN       4.911391            NaN   \n",
       "S10       0.000000            NaN       3.882599            NaN   \n",
       "S11       1.072535            NaN       0.000000            NaN   \n",
       "S12       0.000000            NaN       0.000000            NaN   \n",
       "S13       0.000000            NaN       3.747344            NaN   \n",
       "S14       0.000000            NaN       0.000000            NaN   \n",
       "S15       4.344132            NaN       5.280771            NaN   \n",
       "S16       3.115420            NaN       0.000000            NaN   \n",
       "S17       0.000000            NaN       0.000000            NaN   \n",
       "S18       0.044827            NaN       0.119081            NaN   \n",
       "\n",
       "     1200009I06RIK  1600014C10RIK  1810029B16RIK  2010002M12RIK  \\\n",
       "S1        3.275468       0.000000       5.609305            NaN   \n",
       "S2        0.000000       0.000000       5.478071            NaN   \n",
       "S3        2.987093       0.063526       5.320993            NaN   \n",
       "S4        0.045823       0.000000       0.488049            NaN   \n",
       "S5        2.829152       0.000000       5.093188            NaN   \n",
       "S6        1.016506       3.500878       6.097377            NaN   \n",
       "S7        2.743949       0.000000       5.956346            NaN   \n",
       "S8        3.948293       4.506814       7.140110            NaN   \n",
       "S9        0.000000       0.000000       6.510856            NaN   \n",
       "S10       3.372394       0.000000       6.745099            NaN   \n",
       "S11       0.038419       0.033219       6.112849            NaN   \n",
       "S12       4.331986       0.000000       1.001878            NaN   \n",
       "S13       4.064328       5.143276       5.313024            NaN   \n",
       "S14       3.082016       2.174287       5.670914            NaN   \n",
       "S15       0.000000       0.000000       5.173887            NaN   \n",
       "S16       5.174344       3.928550       4.657044            NaN   \n",
       "S17       0.052970       0.000000       4.832783            NaN   \n",
       "S18       0.000000       2.501923       5.106801            NaN   \n",
       "\n",
       "     2200002D01RIK  2210009G21RIK    ...       ZCCHC2    ZCCHC6   ZDHHC21  \\\n",
       "S1             NaN       0.000000    ...     0.035344  3.042277  4.425735   \n",
       "S2             NaN       0.000000    ...     2.251330  1.018315  4.955713   \n",
       "S3             NaN       0.000000    ...     0.094925  0.126673  3.952273   \n",
       "S4             NaN       0.000000    ...     0.137427  2.025546  4.193989   \n",
       "S5             NaN       0.000000    ...     0.616401  0.000000  4.039816   \n",
       "S6             NaN       0.721829    ...     3.635734  3.437551  3.687978   \n",
       "S7             NaN       0.000000    ...     0.025485  0.000000  3.730004   \n",
       "S8             NaN       0.242281    ...     0.526813  3.475191  4.001580   \n",
       "S9             NaN       4.080961    ...     0.059599  0.471974  4.701420   \n",
       "S10            NaN       0.000000    ...     0.843348  1.035731  4.664242   \n",
       "S11            NaN       0.000000    ...     0.000000  0.000000  4.837758   \n",
       "S12            NaN       0.000000    ...     0.054584  4.897049  5.817964   \n",
       "S13            NaN       0.000000    ...     0.058471  0.000000  4.933427   \n",
       "S14            NaN       2.932343    ...     2.625148  0.032476  4.549237   \n",
       "S15            NaN       0.051816    ...     2.741397  0.238112  4.427446   \n",
       "S16            NaN       2.220592    ...     0.000000  0.070087  5.233667   \n",
       "S17            NaN       0.000000    ...     0.028056  4.915632  5.181689   \n",
       "S18            NaN       0.000000    ...     4.366350  0.026988  3.901602   \n",
       "\n",
       "        ZFP36  ZFP558    ZFP800  ZFP811      ZHX2     ZNFX1     ZUFSP  \n",
       "S1   4.092559     NaN  4.025124     NaN  0.779382  2.998800  0.000000  \n",
       "S2   0.356008     NaN  4.297776     NaN  0.032569  3.091207  5.000843  \n",
       "S3   1.956983     NaN  0.000000     NaN  0.000000  3.794063  2.928699  \n",
       "S4   2.372572     NaN  0.121924     NaN  0.000000  0.230278  0.430168  \n",
       "S5   0.000000     NaN  4.714087     NaN  1.565475  0.860254  4.866979  \n",
       "S6   1.033553     NaN  3.110635     NaN  2.192246  3.108098  2.597904  \n",
       "S7   3.654413     NaN  1.278290     NaN  0.000000  1.197472  2.694247  \n",
       "S8   6.502297     NaN  0.179204     NaN  0.000000  2.762293  0.412426  \n",
       "S9   5.403925     NaN  3.443843     NaN  0.000000  3.096213  0.231651  \n",
       "S10  0.141537     NaN  5.477474     NaN  0.136784  0.017415  0.000000  \n",
       "S11  4.385338     NaN  0.052734     NaN  0.000000  0.517347  0.154631  \n",
       "S12  3.789241     NaN  0.000000     NaN  4.408194  2.863896  6.192744  \n",
       "S13  3.702712     NaN  0.181313     NaN  0.034676  1.042585  0.081720  \n",
       "S14  0.341248     NaN  0.101219     NaN  0.000000  2.911903  4.222469  \n",
       "S15  0.457467     NaN  5.467421     NaN  0.302258  2.598149  5.068936  \n",
       "S16  6.028923     NaN  0.075195     NaN  0.000000  2.254262  4.854934  \n",
       "S17  4.282346     NaN  3.051319     NaN  0.530822  0.050568  3.958240  \n",
       "S18  1.710988     NaN  3.026766     NaN  0.000000  2.313860  0.000000  \n",
       "\n",
       "[18 rows x 945 columns]"
      ]
     },
     "execution_count": 36,
     "metadata": {},
     "output_type": "execute_result"
    }
   ],
   "source": [
    "singles_lps_response = singles.loc[:,lps_response_genes]\n",
    "print(singles_lps_response.shape)\n",
    "singles_lps_response.head(20)"
   ]
  },
  {
   "cell_type": "code",
   "execution_count": 37,
   "metadata": {
    "collapsed": false
   },
   "outputs": [
    {
     "data": {
      "text/html": [
       "<div>\n",
       "<table border=\"1\" class=\"dataframe\">\n",
       "  <thead>\n",
       "    <tr style=\"text-align: right;\">\n",
       "      <th></th>\n",
       "      <th>1110018G07RIK</th>\n",
       "      <th>1110032F04RIK</th>\n",
       "      <th>1110038F14RIK</th>\n",
       "      <th>1190002H23RIK</th>\n",
       "      <th>1200009I06RIK</th>\n",
       "      <th>1600014C10RIK</th>\n",
       "      <th>1810029B16RIK</th>\n",
       "      <th>2010002M12RIK</th>\n",
       "      <th>2200002D01RIK</th>\n",
       "      <th>2210009G21RIK</th>\n",
       "      <th>...</th>\n",
       "      <th>ZCCHC2</th>\n",
       "      <th>ZCCHC6</th>\n",
       "      <th>ZDHHC21</th>\n",
       "      <th>ZFP36</th>\n",
       "      <th>ZFP558</th>\n",
       "      <th>ZFP800</th>\n",
       "      <th>ZFP811</th>\n",
       "      <th>ZHX2</th>\n",
       "      <th>ZNFX1</th>\n",
       "      <th>ZUFSP</th>\n",
       "    </tr>\n",
       "  </thead>\n",
       "  <tbody>\n",
       "  </tbody>\n",
       "</table>\n",
       "<p>0 rows × 945 columns</p>\n",
       "</div>"
      ],
      "text/plain": [
       "Empty DataFrame\n",
       "Columns: [1110018G07RIK, 1110032F04RIK, 1110038F14RIK, 1190002H23RIK, 1200009I06RIK, 1600014C10RIK, 1810029B16RIK, 2010002M12RIK, 2200002D01RIK, 2210009G21RIK, 2310014L17RIK, 2310042D19RIK, 2810474O19RIK, 3110001I22RIK, 4921513D23RIK, 4930523C07RIK, 5730508B09RIK, 6330409N04RIK, 6330512M04RIK, 9030425E11RIK, 9030625A04RIK, 9130014G24RIK, 9130017N09RIK, 9230105E10RIK, 9430076C15RIK, 9930111J21RIK1, 9930111J21RIK2, A130040M12RIK, A430084P05RIK, A630001G21RIK, A630012P03RIK, A630072M18RIK, A930015D03RIK, AA467197, AA960436, ABCB1A, ABTB2, ACPP, ACSL1, ACVR1, ADAMTS4, ADAP2, ADAR, ADHFE1, ADORA2A, AFF1, AFTPH, AGRN, AI607873, AIDA, AIM1, AIM2, AK014726, AK016417, AK018624, AK019366, AK021368, AK028012, AK035387, AK036897, AK042010, AK045681, AK050909, AK080258, AK084432, AK084517, AK085986, AK086288, AK086460, AK136619, AK136742, AK138792, AK141659, AK142678, AK142879, AK145253, AK151815, AK155239, AK156902, AK157632, AK161362, AK163103, AK163331, AK170409, AK172683, AK202078, AK202663, AK204799, AK217863, AKAP12, AKT3, ALCAM, ALDH1A2, ALDH1B1, ALPK2, AMIGO3, ANGPT1, ANKRD17, ANKRD33B, ANXA7, ...]\n",
       "Index: []\n",
       "\n",
       "[0 rows x 945 columns]"
      ]
     },
     "execution_count": 37,
     "metadata": {},
     "output_type": "execute_result"
    }
   ],
   "source": [
    "singles_lps_response.dropna()"
   ]
  },
  {
   "cell_type": "code",
   "execution_count": 38,
   "metadata": {
    "collapsed": false
   },
   "outputs": [
    {
     "name": "stdout",
     "output_type": "stream",
     "text": [
      "(18, 616)\n"
     ]
    },
    {
     "data": {
      "text/html": [
       "<div>\n",
       "<table border=\"1\" class=\"dataframe\">\n",
       "  <thead>\n",
       "    <tr style=\"text-align: right;\">\n",
       "      <th></th>\n",
       "      <th>1110018G07RIK</th>\n",
       "      <th>1110038F14RIK</th>\n",
       "      <th>1200009I06RIK</th>\n",
       "      <th>1600014C10RIK</th>\n",
       "      <th>1810029B16RIK</th>\n",
       "      <th>2210009G21RIK</th>\n",
       "      <th>2810474O19RIK</th>\n",
       "      <th>3110001I22RIK</th>\n",
       "      <th>4921513D23RIK</th>\n",
       "      <th>4930523C07RIK</th>\n",
       "      <th>...</th>\n",
       "      <th>ZC3H12C</th>\n",
       "      <th>ZC3HAV1</th>\n",
       "      <th>ZCCHC2</th>\n",
       "      <th>ZCCHC6</th>\n",
       "      <th>ZDHHC21</th>\n",
       "      <th>ZFP36</th>\n",
       "      <th>ZFP800</th>\n",
       "      <th>ZHX2</th>\n",
       "      <th>ZNFX1</th>\n",
       "      <th>ZUFSP</th>\n",
       "    </tr>\n",
       "  </thead>\n",
       "  <tbody>\n",
       "    <tr>\n",
       "      <th>S1</th>\n",
       "      <td>3.711442</td>\n",
       "      <td>0.000000</td>\n",
       "      <td>3.275468</td>\n",
       "      <td>0.000000</td>\n",
       "      <td>5.609305</td>\n",
       "      <td>0.0</td>\n",
       "      <td>0.000000</td>\n",
       "      <td>3.828860</td>\n",
       "      <td>1.314573</td>\n",
       "      <td>3.778275</td>\n",
       "      <td>...</td>\n",
       "      <td>3.972904</td>\n",
       "      <td>3.509979</td>\n",
       "      <td>0.035344</td>\n",
       "      <td>3.042277</td>\n",
       "      <td>4.425735</td>\n",
       "      <td>4.092559</td>\n",
       "      <td>4.025124</td>\n",
       "      <td>0.779382</td>\n",
       "      <td>2.998800</td>\n",
       "      <td>0.000000</td>\n",
       "    </tr>\n",
       "    <tr>\n",
       "      <th>S2</th>\n",
       "      <td>4.361671</td>\n",
       "      <td>0.147643</td>\n",
       "      <td>0.000000</td>\n",
       "      <td>0.000000</td>\n",
       "      <td>5.478071</td>\n",
       "      <td>0.0</td>\n",
       "      <td>3.407342</td>\n",
       "      <td>0.000000</td>\n",
       "      <td>1.531443</td>\n",
       "      <td>0.000000</td>\n",
       "      <td>...</td>\n",
       "      <td>4.794306</td>\n",
       "      <td>4.984262</td>\n",
       "      <td>2.251330</td>\n",
       "      <td>1.018315</td>\n",
       "      <td>4.955713</td>\n",
       "      <td>0.356008</td>\n",
       "      <td>4.297776</td>\n",
       "      <td>0.032569</td>\n",
       "      <td>3.091207</td>\n",
       "      <td>5.000843</td>\n",
       "    </tr>\n",
       "    <tr>\n",
       "      <th>S3</th>\n",
       "      <td>0.000000</td>\n",
       "      <td>3.737014</td>\n",
       "      <td>2.987093</td>\n",
       "      <td>0.063526</td>\n",
       "      <td>5.320993</td>\n",
       "      <td>0.0</td>\n",
       "      <td>3.372359</td>\n",
       "      <td>0.058163</td>\n",
       "      <td>1.105115</td>\n",
       "      <td>0.025043</td>\n",
       "      <td>...</td>\n",
       "      <td>4.882749</td>\n",
       "      <td>0.807258</td>\n",
       "      <td>0.094925</td>\n",
       "      <td>0.126673</td>\n",
       "      <td>3.952273</td>\n",
       "      <td>1.956983</td>\n",
       "      <td>0.000000</td>\n",
       "      <td>0.000000</td>\n",
       "      <td>3.794063</td>\n",
       "      <td>2.928699</td>\n",
       "    </tr>\n",
       "    <tr>\n",
       "      <th>S4</th>\n",
       "      <td>2.719587</td>\n",
       "      <td>0.000000</td>\n",
       "      <td>0.045823</td>\n",
       "      <td>0.000000</td>\n",
       "      <td>0.488049</td>\n",
       "      <td>0.0</td>\n",
       "      <td>5.127847</td>\n",
       "      <td>0.000000</td>\n",
       "      <td>2.303969</td>\n",
       "      <td>0.000000</td>\n",
       "      <td>...</td>\n",
       "      <td>4.833354</td>\n",
       "      <td>4.538699</td>\n",
       "      <td>0.137427</td>\n",
       "      <td>2.025546</td>\n",
       "      <td>4.193989</td>\n",
       "      <td>2.372572</td>\n",
       "      <td>0.121924</td>\n",
       "      <td>0.000000</td>\n",
       "      <td>0.230278</td>\n",
       "      <td>0.430168</td>\n",
       "    </tr>\n",
       "    <tr>\n",
       "      <th>S5</th>\n",
       "      <td>2.982073</td>\n",
       "      <td>0.000000</td>\n",
       "      <td>2.829152</td>\n",
       "      <td>0.000000</td>\n",
       "      <td>5.093188</td>\n",
       "      <td>0.0</td>\n",
       "      <td>0.065122</td>\n",
       "      <td>4.635671</td>\n",
       "      <td>1.015640</td>\n",
       "      <td>0.461296</td>\n",
       "      <td>...</td>\n",
       "      <td>4.446634</td>\n",
       "      <td>0.157178</td>\n",
       "      <td>0.616401</td>\n",
       "      <td>0.000000</td>\n",
       "      <td>4.039816</td>\n",
       "      <td>0.000000</td>\n",
       "      <td>4.714087</td>\n",
       "      <td>1.565475</td>\n",
       "      <td>0.860254</td>\n",
       "      <td>4.866979</td>\n",
       "    </tr>\n",
       "  </tbody>\n",
       "</table>\n",
       "<p>5 rows × 616 columns</p>\n",
       "</div>"
      ],
      "text/plain": [
       "    1110018G07RIK  1110038F14RIK  1200009I06RIK  1600014C10RIK  1810029B16RIK  \\\n",
       "S1       3.711442       0.000000       3.275468       0.000000       5.609305   \n",
       "S2       4.361671       0.147643       0.000000       0.000000       5.478071   \n",
       "S3       0.000000       3.737014       2.987093       0.063526       5.320993   \n",
       "S4       2.719587       0.000000       0.045823       0.000000       0.488049   \n",
       "S5       2.982073       0.000000       2.829152       0.000000       5.093188   \n",
       "\n",
       "    2210009G21RIK  2810474O19RIK  3110001I22RIK  4921513D23RIK  4930523C07RIK  \\\n",
       "S1            0.0       0.000000       3.828860       1.314573       3.778275   \n",
       "S2            0.0       3.407342       0.000000       1.531443       0.000000   \n",
       "S3            0.0       3.372359       0.058163       1.105115       0.025043   \n",
       "S4            0.0       5.127847       0.000000       2.303969       0.000000   \n",
       "S5            0.0       0.065122       4.635671       1.015640       0.461296   \n",
       "\n",
       "      ...      ZC3H12C   ZC3HAV1    ZCCHC2    ZCCHC6   ZDHHC21     ZFP36  \\\n",
       "S1    ...     3.972904  3.509979  0.035344  3.042277  4.425735  4.092559   \n",
       "S2    ...     4.794306  4.984262  2.251330  1.018315  4.955713  0.356008   \n",
       "S3    ...     4.882749  0.807258  0.094925  0.126673  3.952273  1.956983   \n",
       "S4    ...     4.833354  4.538699  0.137427  2.025546  4.193989  2.372572   \n",
       "S5    ...     4.446634  0.157178  0.616401  0.000000  4.039816  0.000000   \n",
       "\n",
       "      ZFP800      ZHX2     ZNFX1     ZUFSP  \n",
       "S1  4.025124  0.779382  2.998800  0.000000  \n",
       "S2  4.297776  0.032569  3.091207  5.000843  \n",
       "S3  0.000000  0.000000  3.794063  2.928699  \n",
       "S4  0.121924  0.000000  0.230278  0.430168  \n",
       "S5  4.714087  1.565475  0.860254  4.866979  \n",
       "\n",
       "[5 rows x 616 columns]"
      ]
     },
     "execution_count": 38,
     "metadata": {},
     "output_type": "execute_result"
    }
   ],
   "source": [
    "singles_lps_response_no_na = singles_lps_response.dropna(axis=1)\n",
    "print(singles_lps_response_no_na.shape)\n",
    "singles_lps_response_no_na.head()"
   ]
  },
  {
   "cell_type": "code",
   "execution_count": 39,
   "metadata": {
    "collapsed": true
   },
   "outputs": [],
   "source": [
    "singles_subset = singles_lps_response_no_na"
   ]
  },
  {
   "cell_type": "code",
   "execution_count": 40,
   "metadata": {
    "collapsed": false
   },
   "outputs": [
    {
     "name": "stdout",
     "output_type": "stream",
     "text": [
      "querying 1-616...done.\n",
      "Finished.\n",
      "13 input query terms found dup hits:\n",
      "\t[('GM7609', 2), ('A630072M18RIK', 2), ('GM8979', 2), ('GBP6', 2), ('GM6548', 2), ('BAMBI-PS1', 2), (\n",
      "62 input query terms found no hit:\n",
      "\t['1110018G07RIK', '1200009I06RIK', '1810029B16RIK', '2210009G21RIK', '4921513D23RIK', '6330409N04RIK\n"
     ]
    }
   ],
   "source": [
    "# Initialize the \"mygene.info\" (http://mygene.info/) interface\n",
    "mg = mygene.MyGeneInfo()\n",
    "\n",
    "mygene_output = mg.querymany(singles_subset.columns, ## V important - background is singles.columns\n",
    "                             scopes='symbol', fields=['go.BP', 'go.MF', 'go.CC'], species='mouse', \n",
    "                             returnall=True)\n",
    "\n",
    "gene_name_to_go = parse_mygene_output(mygene_output)\n",
    "\n",
    "#Cool!!\n",
    "#Background is important because you don't want to interpret signal in sample as novel\n",
    "#e.g. lot of immune genes, lot of olfactory system - no doubt you will get immune genes in immune cells\n",
    "#therefore background should be expressed genes in your system\n",
    "#"
   ]
  },
  {
   "cell_type": "code",
   "execution_count": 41,
   "metadata": {
    "collapsed": false
   },
   "outputs": [
    {
     "name": "stderr",
     "output_type": "stream",
     "text": [
      "Propagating term counts to parents ..\n"
     ]
    },
    {
     "name": "stdout",
     "output_type": "stream",
     "text": [
      "   543 out of    616 population items found in association\n"
     ]
    }
   ],
   "source": [
    "go_enricher = goatools.GOEnrichmentStudy(singles_subset.columns, gene_name_to_go, obo_dag)"
   ]
  },
  {
   "cell_type": "code",
   "execution_count": 44,
   "metadata": {
    "collapsed": false
   },
   "outputs": [
    {
     "data": {
      "text/plain": [
       "Index(['1110018G07RIK', '1110038F14RIK', '1200009I06RIK', '1600014C10RIK',\n",
       "       '1810029B16RIK', '2210009G21RIK', '2810474O19RIK', '3110001I22RIK',\n",
       "       '4921513D23RIK', '4930523C07RIK',\n",
       "       ...\n",
       "       'ZC3H12C', 'ZC3HAV1', 'ZCCHC2', 'ZCCHC6', 'ZDHHC21', 'ZFP36', 'ZFP800',\n",
       "       'ZHX2', 'ZNFX1', 'ZUFSP'],\n",
       "      dtype='object', length=616)"
      ]
     },
     "execution_count": 44,
     "metadata": {},
     "output_type": "execute_result"
    }
   ],
   "source": [
    "singles_subset.columns"
   ]
  },
  {
   "cell_type": "code",
   "execution_count": 46,
   "metadata": {
    "collapsed": true
   },
   "outputs": [],
   "source": [
    "singles_subset_maturity = metadata.loc[singles_subset.index, 'maturity']\n",
    "subset_target = encoder.fit_transform(singles_subset_maturity)"
   ]
  },
  {
   "cell_type": "code",
   "execution_count": 47,
   "metadata": {
    "collapsed": false
   },
   "outputs": [
    {
     "data": {
      "text/plain": [
       "SVC(C=1.0, cache_size=200, class_weight=None, coef0=0.0,\n",
       "  decision_function_shape=None, degree=3, gamma='auto', kernel='linear',\n",
       "  max_iter=-1, probability=False, random_state=None, shrinking=True,\n",
       "  tol=0.001, verbose=False)"
      ]
     },
     "execution_count": 47,
     "metadata": {},
     "output_type": "execute_result"
    }
   ],
   "source": [
    "classifier.fit(singles_subset, subset_target)"
   ]
  },
  {
   "cell_type": "code",
   "execution_count": 48,
   "metadata": {
    "collapsed": false
   },
   "outputs": [
    {
     "name": "stderr",
     "output_type": "stream",
     "text": [
      "/Users/duncan/anaconda/envs/single-cell-bioinformatics/lib/python3.5/site-packages/pandas/types/dtypes.py:127: FutureWarning: elementwise comparison failed; returning scalar instead, but in the future will perform elementwise comparison\n",
      "  if string == 'category':\n"
     ]
    },
    {
     "data": {
      "text/plain": [
       "1110018G07RIK    0.000399\n",
       "1110038F14RIK   -0.001395\n",
       "1200009I06RIK    0.004301\n",
       "1600014C10RIK    0.002402\n",
       "1810029B16RIK   -0.001964\n",
       "dtype: float64"
      ]
     },
     "execution_count": 48,
     "metadata": {},
     "output_type": "execute_result"
    }
   ],
   "source": [
    "coefficients = pd.Series(classifier.coef_.flat, index=singles_subset.columns)\n",
    "coefficients.head()"
   ]
  },
  {
   "cell_type": "code",
   "execution_count": 49,
   "metadata": {
    "collapsed": false
   },
   "outputs": [
    {
     "name": "stderr",
     "output_type": "stream",
     "text": [
      "/Users/duncan/anaconda/envs/single-cell-bioinformatics/lib/python3.5/site-packages/statsmodels/nonparametric/kdetools.py:20: VisibleDeprecationWarning: using a non-integer number instead of an integer will result in an error in the future\n",
      "  y = X[:m/2+1] + np.r_[0,X[m/2+1:],0]*1j\n"
     ]
    },
    {
     "data": {
      "text/plain": [
       "<matplotlib.collections.LineCollection at 0x12b3a0860>"
      ]
     },
     "execution_count": 49,
     "metadata": {},
     "output_type": "execute_result"
    },
    {
     "data": {
      "image/png": "[encoded data removed]",
      "text/plain": [
       "<matplotlib.figure.Figure at 0x12b3a06a0>"
      ]
     },
     "metadata": {},
     "output_type": "display_data"
    }
   ],
   "source": [
    "mean = coefficients.mean()\n",
    "std = coefficients.std()\n",
    "multiplier = 2\n",
    "lower_cutoff = mean - multiplier * std\n",
    "upper_cutoff = mean + multiplier * std\n",
    "\n",
    "fig, ax = plt.subplots()\n",
    "sns.distplot(coefficients)\n",
    "\n",
    "# Add vertical lines\n",
    "ymin, ymax = ax.get_ylim()\n",
    "ax.vlines([lower_cutoff, upper_cutoff], ymin, ymax, linestyle='--', color='Crimson')"
   ]
  },
  {
   "cell_type": "code",
   "execution_count": 43,
   "metadata": {
    "collapsed": false
   },
   "outputs": [
    {
     "name": "stdout",
     "output_type": "stream",
     "text": [
      "Calculating uncorrected p-values using fisher\n",
      "    34 out of    172 study items found in association\n",
      "Running multitest correction: local bonferroni\n",
      "Running multitest correction: local sidak\n",
      "Running multitest correction: local holm\n",
      "6,810 GO terms are associated with 34 of 172 study items in a population of 616\n",
      "(6810, 18)\n"
     ]
    },
    {
     "data": {
      "text/html": [
       "<div>\n",
       "<table border=\"1\" class=\"dataframe\">\n",
       "  <thead>\n",
       "    <tr style=\"text-align: right;\">\n",
       "      <th></th>\n",
       "      <th>GO</th>\n",
       "      <th>NS</th>\n",
       "      <th>_methods</th>\n",
       "      <th>enrichment</th>\n",
       "      <th>goterm</th>\n",
       "      <th>name</th>\n",
       "      <th>p_bonferroni</th>\n",
       "      <th>p_holm</th>\n",
       "      <th>p_sidak</th>\n",
       "      <th>p_uncorrected</th>\n",
       "      <th>pop_count</th>\n",
       "      <th>pop_items</th>\n",
       "      <th>pop_n</th>\n",
       "      <th>ratio_in_pop</th>\n",
       "      <th>ratio_in_study</th>\n",
       "      <th>study_count</th>\n",
       "      <th>study_items</th>\n",
       "      <th>study_n</th>\n",
       "    </tr>\n",
       "  </thead>\n",
       "  <tbody>\n",
       "    <tr>\n",
       "      <th>0</th>\n",
       "      <td>GO:0090304</td>\n",
       "      <td>BP</td>\n",
       "      <td>[(local, bonferroni, bonferroni), (local, sida...</td>\n",
       "      <td>p</td>\n",
       "      <td>GO:0090304\\tlevel-04\\tdepth-05\\tnucleic acid m...</td>\n",
       "      <td>nucleic acid metabolic process</td>\n",
       "      <td>0.005304</td>\n",
       "      <td>0.005303</td>\n",
       "      <td>0.005170</td>\n",
       "      <td>7.788640e-07</td>\n",
       "      <td>80</td>\n",
       "      <td>{PAPD7, EREG, ETS2, IRF9, MITF, PCGF5, TRIM30A...</td>\n",
       "      <td>616</td>\n",
       "      <td>(80, 616)</td>\n",
       "      <td>(4, 172)</td>\n",
       "      <td>4</td>\n",
       "      <td>{ZFP800, REL, MITF, BATF}</td>\n",
       "      <td>172</td>\n",
       "    </tr>\n",
       "    <tr>\n",
       "      <th>1</th>\n",
       "      <td>GO:0036211</td>\n",
       "      <td>BP</td>\n",
       "      <td>[(local, bonferroni, bonferroni), (local, sida...</td>\n",
       "      <td>p</td>\n",
       "      <td>GO:0036211\\tlevel-04\\tdepth-05\\tprotein modifi...</td>\n",
       "      <td>protein modification process</td>\n",
       "      <td>0.005304</td>\n",
       "      <td>0.005303</td>\n",
       "      <td>0.005170</td>\n",
       "      <td>7.788640e-07</td>\n",
       "      <td>80</td>\n",
       "      <td>{ST3GAL5, TLK2, MYD88, IL1B, PPP1R15B, TRIM30A...</td>\n",
       "      <td>616</td>\n",
       "      <td>(80, 616)</td>\n",
       "      <td>(2, 172)</td>\n",
       "      <td>2</td>\n",
       "      <td>{MDM2, TNF}</td>\n",
       "      <td>172</td>\n",
       "    </tr>\n",
       "    <tr>\n",
       "      <th>2</th>\n",
       "      <td>GO:0006464</td>\n",
       "      <td>BP</td>\n",
       "      <td>[(local, bonferroni, bonferroni), (local, sida...</td>\n",
       "      <td>p</td>\n",
       "      <td>GO:0006464\\tlevel-05\\tdepth-06\\tcellular prote...</td>\n",
       "      <td>cellular protein modification process</td>\n",
       "      <td>0.005304</td>\n",
       "      <td>0.005303</td>\n",
       "      <td>0.005170</td>\n",
       "      <td>7.788640e-07</td>\n",
       "      <td>80</td>\n",
       "      <td>{ST3GAL5, TLK2, MYD88, IL1B, PPP1R15B, TRIM30A...</td>\n",
       "      <td>616</td>\n",
       "      <td>(80, 616)</td>\n",
       "      <td>(2, 172)</td>\n",
       "      <td>2</td>\n",
       "      <td>{MDM2, TNF}</td>\n",
       "      <td>172</td>\n",
       "    </tr>\n",
       "    <tr>\n",
       "      <th>3</th>\n",
       "      <td>GO:0006996</td>\n",
       "      <td>BP</td>\n",
       "      <td>[(local, bonferroni, bonferroni), (local, sida...</td>\n",
       "      <td>p</td>\n",
       "      <td>GO:0006996\\tlevel-03\\tdepth-03\\torganelle orga...</td>\n",
       "      <td>organelle organization</td>\n",
       "      <td>0.007377</td>\n",
       "      <td>0.007367</td>\n",
       "      <td>0.007191</td>\n",
       "      <td>1.083199e-06</td>\n",
       "      <td>60</td>\n",
       "      <td>{DNAJC13, BCL2A1B, LNP, PAPD7, EREG, PALLD, PN...</td>\n",
       "      <td>616</td>\n",
       "      <td>(60, 616)</td>\n",
       "      <td>(2, 172)</td>\n",
       "      <td>2</td>\n",
       "      <td>{CCL2, TNF}</td>\n",
       "      <td>172</td>\n",
       "    </tr>\n",
       "    <tr>\n",
       "      <th>4</th>\n",
       "      <td>GO:1901360</td>\n",
       "      <td>BP</td>\n",
       "      <td>[(local, bonferroni, bonferroni), (local, sida...</td>\n",
       "      <td>p</td>\n",
       "      <td>GO:1901360\\tlevel-03\\tdepth-03\\torganic cyclic...</td>\n",
       "      <td>organic cyclic compound metabolic process</td>\n",
       "      <td>0.007836</td>\n",
       "      <td>0.007823</td>\n",
       "      <td>0.007639</td>\n",
       "      <td>1.150680e-06</td>\n",
       "      <td>105</td>\n",
       "      <td>{PNP, ETS2, IRF9, MITF, CCDC86, NFKB2, STAT2, ...</td>\n",
       "      <td>616</td>\n",
       "      <td>(105, 616)</td>\n",
       "      <td>(6, 172)</td>\n",
       "      <td>6</td>\n",
       "      <td>{ZFP800, MITF, OASL2, UPP1, REL, BATF}</td>\n",
       "      <td>172</td>\n",
       "    </tr>\n",
       "  </tbody>\n",
       "</table>\n",
       "</div>"
      ],
      "text/plain": [
       "           GO  NS                                           _methods  \\\n",
       "0  GO:0090304  BP  [(local, bonferroni, bonferroni), (local, sida...   \n",
       "1  GO:0036211  BP  [(local, bonferroni, bonferroni), (local, sida...   \n",
       "2  GO:0006464  BP  [(local, bonferroni, bonferroni), (local, sida...   \n",
       "3  GO:0006996  BP  [(local, bonferroni, bonferroni), (local, sida...   \n",
       "4  GO:1901360  BP  [(local, bonferroni, bonferroni), (local, sida...   \n",
       "\n",
       "  enrichment                                             goterm  \\\n",
       "0          p  GO:0090304\\tlevel-04\\tdepth-05\\tnucleic acid m...   \n",
       "1          p  GO:0036211\\tlevel-04\\tdepth-05\\tprotein modifi...   \n",
       "2          p  GO:0006464\\tlevel-05\\tdepth-06\\tcellular prote...   \n",
       "3          p  GO:0006996\\tlevel-03\\tdepth-03\\torganelle orga...   \n",
       "4          p  GO:1901360\\tlevel-03\\tdepth-03\\torganic cyclic...   \n",
       "\n",
       "                                        name  p_bonferroni    p_holm  \\\n",
       "0             nucleic acid metabolic process      0.005304  0.005303   \n",
       "1               protein modification process      0.005304  0.005303   \n",
       "2      cellular protein modification process      0.005304  0.005303   \n",
       "3                     organelle organization      0.007377  0.007367   \n",
       "4  organic cyclic compound metabolic process      0.007836  0.007823   \n",
       "\n",
       "    p_sidak  p_uncorrected  pop_count  \\\n",
       "0  0.005170   7.788640e-07         80   \n",
       "1  0.005170   7.788640e-07         80   \n",
       "2  0.005170   7.788640e-07         80   \n",
       "3  0.007191   1.083199e-06         60   \n",
       "4  0.007639   1.150680e-06        105   \n",
       "\n",
       "                                           pop_items  pop_n ratio_in_pop  \\\n",
       "0  {PAPD7, EREG, ETS2, IRF9, MITF, PCGF5, TRIM30A...    616    (80, 616)   \n",
       "1  {ST3GAL5, TLK2, MYD88, IL1B, PPP1R15B, TRIM30A...    616    (80, 616)   \n",
       "2  {ST3GAL5, TLK2, MYD88, IL1B, PPP1R15B, TRIM30A...    616    (80, 616)   \n",
       "3  {DNAJC13, BCL2A1B, LNP, PAPD7, EREG, PALLD, PN...    616    (60, 616)   \n",
       "4  {PNP, ETS2, IRF9, MITF, CCDC86, NFKB2, STAT2, ...    616   (105, 616)   \n",
       "\n",
       "  ratio_in_study  study_count                             study_items  study_n  \n",
       "0       (4, 172)            4               {ZFP800, REL, MITF, BATF}      172  \n",
       "1       (2, 172)            2                             {MDM2, TNF}      172  \n",
       "2       (2, 172)            2                             {MDM2, TNF}      172  \n",
       "3       (2, 172)            2                             {CCL2, TNF}      172  \n",
       "4       (6, 172)            6  {ZFP800, MITF, OASL2, UPP1, REL, BATF}      172  "
      ]
     },
     "execution_count": 43,
     "metadata": {},
     "output_type": "execute_result"
    }
   ],
   "source": [
    "genes_of_interest = below_cutoff.index\n",
    "\n",
    "# \"results\" is a list and is annoying to deal with ... \n",
    "# ... so we'll make a dataframe in the next step\n",
    "results = go_enricher.run_study(genes_of_interest)\n",
    "\n",
    "# Create a dataframe of the results so it's easier to deal with\n",
    "below_cutoff_go_enrichment = pd.DataFrame([r.__dict__ for r in results])\n",
    "print(below_cutoff_go_enrichment.shape)\n",
    "below_cutoff_go_enrichment.head()"
   ]
  },
  {
   "cell_type": "code",
   "execution_count": null,
   "metadata": {
    "collapsed": true
   },
   "outputs": [],
   "source": []
  }
 ],
 "metadata": {
  "kernelspec": {
   "display_name": "Python 3",
   "language": "python",
   "name": "python3"
  },
  "language_info": {
   "codemirror_mode": {
    "name": "ipython",
    "version": 3
   },
   "file_extension": ".py",
   "mimetype": "text/x-python",
   "name": "python",
   "nbconvert_exporter": "python",
   "pygments_lexer": "ipython3",
   "version": "3.5.1"
  }
 },
 "nbformat": 4,
 "nbformat_minor": 0
}
