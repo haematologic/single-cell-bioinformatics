{
 "cells": [
  {
   "cell_type": "markdown",
   "metadata": {},
   "source": [
    "# Assessing classifiers using GO in Shalek2013\n",
    "\n",
    "For the GO analysis, we'll need a few other packages:\n",
    "\n",
    "* `mygene` for looking up the gene ontology categories of genes\n",
    "* `goatools` for performing gene ontology enrichment analysis\n",
    "* `fishers_exact_test` for `goatools`\n",
    "\n",
    "Use the following commands at your terminal to install the packages. Some of them are on Github so it's important to get the whole command right.\n",
    "\n",
    "```\n",
    "$ pip install mygene\n",
    "$ pip install git+git://github.com/tanghaibao/goatools.git\n",
    "$ pip install git+https://github.com/brentp/fishers_exact_test.git\n",
    "```"
   ]
  },
  {
   "cell_type": "code",
   "execution_count": null,
   "metadata": {
    "collapsed": false
   },
   "outputs": [],
   "source": [
    "# Alphabetical order is standard\n",
    "# We're doing \"import superlongname as abbrev\" for our laziness - this way we don't have to type out the whole thing each time.\n",
    "\n",
    "import collections\n",
    "\n",
    "# Python plotting library\n",
    "import matplotlib.pyplot as plt\n",
    "\n",
    "# Numerical python library (pronounced \"num-pie\")\n",
    "import numpy as np\n",
    "\n",
    "# Dataframes in Python\n",
    "import pandas as pd\n",
    "\n",
    "# Statistical plotting library we'll use\n",
    "import seaborn as sns\n",
    "sns.set(style='whitegrid')\n",
    "\n",
    "# Label processing\n",
    "from sklearn import preprocessing\n",
    "\n",
    "# Matrix decomposition\n",
    "from sklearn.decomposition import PCA, FastICA\n",
    "\n",
    "# Classification\n",
    "from sklearn.svm import SVC\n",
    "\n",
    "# Gene ontology\n",
    "import goatools\n",
    "import mygene\n",
    "\n",
    "# This is necessary to show the plotted figures inside the notebook -- \"inline\" with the notebook cells\n",
    "%matplotlib inline\n"
   ]
  },
  {
   "cell_type": "markdown",
   "metadata": {},
   "source": [
    "Utility functions for gene ontology"
   ]
  },
  {
   "cell_type": "code",
   "execution_count": null,
   "metadata": {
    "collapsed": true
   },
   "outputs": [],
   "source": [
    "GO_KEYS = 'go.BP', 'go.MF', 'go.CC'\n",
    "\n",
    "def parse_mygene_output(mygene_output):\n",
    "    \"\"\"Convert mygene.querymany output to a gene id to go term mapping (dictionary)\n",
    "    \n",
    "    Parameters\n",
    "    ----------\n",
    "    mygene_output : dict or list\n",
    "        Dictionary (returnall=True) or list (returnall=False) of \n",
    "        output from mygene.querymany\n",
    "        \n",
    "    Output\n",
    "    ------\n",
    "    gene_name_to_go : dict\n",
    "        Mapping of gene name to a set of GO ids    \n",
    "    \"\"\"\n",
    "    # if \"returnall=True\" was specified, need to get just the \"out\" key\n",
    "    if isinstance(mygene_output, dict):\n",
    "        mygene_output = mygene_output['out']\n",
    "\n",
    "    gene_name_to_go = collections.defaultdict(set)\n",
    "\n",
    "    for line in mygene_output:\n",
    "        gene_name = line['query']\n",
    "        for go_key in GO_KEYS:\n",
    "            try:\n",
    "                go_terms = line[go_key]\n",
    "            except KeyError:\n",
    "                continue\n",
    "            if isinstance(go_terms, dict):\n",
    "                go_ids = set([go_terms['id']])\n",
    "            else:\n",
    "                go_ids = set(x['id'] for x in go_terms)\n",
    "            gene_name_to_go[gene_name] |= go_ids\n",
    "    return gene_name_to_go\n"
   ]
  },
  {
   "cell_type": "markdown",
   "metadata": {},
   "source": [
    "## Read in the Shalek2013 data and classify it"
   ]
  },
  {
   "cell_type": "code",
   "execution_count": null,
   "metadata": {
    "collapsed": false
   },
   "outputs": [],
   "source": [
    "metadata = pd.read_csv('../data/shalek2013/metadata.csv', \n",
    "                               \n",
    "                                     # Sets the first (Python starts counting from 0 not 1) column as the row names\n",
    "                                      index_col=0)\n",
    "expression = pd.read_csv('../data/shalek2013/expression.csv', \n",
    "                               \n",
    "                                     # Sets the first (Python starts counting from 0 not 1) column as the row names\n",
    "                                      index_col=0)\n",
    "expression_feature = pd.read_csv('../data/shalek2013/expression_feature.csv', \n",
    "                               \n",
    "                                     # Sets the first (Python starts counting from 0 not 1) column as the row names\n",
    "                                      index_col=0)\n",
    "\n",
    "# creating new column indicating color\n",
    "metadata['color'] = metadata['maturity'].map(\n",
    "    lambda x: 'MediumTurquoise' if x == 'immature' else 'Teal')\n",
    "metadata.loc[metadata['pooled'], 'color'] = 'black'\n",
    "\n",
    "# Create a column indicating both maturity and pooled for coloring with seaborn, e.g. sns.pairplot\n",
    "metadata['group'] = metadata['maturity']\n",
    "metadata.loc[metadata['pooled'], 'group'] = 'pooled'\n",
    "\n",
    "# Create a palette and ordering for using with sns.pairplot\n",
    "palette = ['MediumTurquoise', 'Teal', 'black']\n",
    "order = ['immature', 'mature', 'pooled']\n",
    "\n",
    "\n",
    "singles_ids = [x for x in expression.index if x.startswith('S')]\n",
    "singles = expression.loc[singles_ids]\n",
    "\n",
    "# Use only the genes that are substantially expressed in single cells\n",
    "\n",
    "singles = singles.loc[:, (singles > 1).sum() >= 3]\n",
    "singles.shape\n",
    "\n",
    "# Now because computers only understand numbers, we'll convert the \n",
    "# category label of \"mature\" and \"immature\" into integers to a using a \n",
    "# `LabelEncoder`. Let's look at that column again, only for mature cells:\n",
    "\n",
    "singles_maturity = metadata.loc[singles.index, 'maturity']\n",
    "\n",
    "# Instantiate the encoder\n",
    "encoder = preprocessing.LabelEncoder()\n",
    "\n",
    "# Get number of categories and transform \"mature\"/\"immature\" to numbers\n",
    "target = encoder.fit_transform(singles_maturity)\n",
    "\n",
    "## Run the classifier!!\n",
    "\n",
    "# Yay so now we can run a classifier!\n",
    "\n",
    "\n",
    "classifier = SVC(kernel='linear')\n",
    "classifier.fit(singles, target)"
   ]
  },
  {
   "cell_type": "markdown",
   "metadata": {},
   "source": [
    "### Make the `coefficients` series"
   ]
  },
  {
   "cell_type": "code",
   "execution_count": null,
   "metadata": {
    "collapsed": false
   },
   "outputs": [],
   "source": [
    "coefficients = pd.Series(classifier.coef_.flat, index=singles.columns)\n",
    "coefficients.head()"
   ]
  },
  {
   "cell_type": "markdown",
   "metadata": {},
   "source": [
    "Let's remind ourselves of the distribution of the coefficients again"
   ]
  },
  {
   "cell_type": "code",
   "execution_count": null,
   "metadata": {
    "collapsed": false
   },
   "outputs": [],
   "source": [
    "mean = coefficients.mean()\n",
    "std = coefficients.std()\n",
    "multiplier = 2\n",
    "lower_cutoff = mean - multiplier * std\n",
    "upper_cutoff = mean + multiplier * std\n",
    "\n",
    "fig, ax = plt.subplots()\n",
    "sns.distplot(coefficients)\n",
    "\n",
    "# Add vertical lines\n",
    "ymin, ymax = ax.get_ylim()\n",
    "ax.vlines([lower_cutoff, upper_cutoff], ymin, ymax, linestyle='--', color='Crimson')"
   ]
  },
  {
   "cell_type": "code",
   "execution_count": null,
   "metadata": {
    "collapsed": false
   },
   "outputs": [],
   "source": [
    "below_cutoff = coefficients[coefficients < lower_cutoff]\n",
    "print(below_cutoff.shape)\n",
    "below_cutoff.head()"
   ]
  },
  {
   "cell_type": "markdown",
   "metadata": {},
   "source": [
    "How can we ***biologically*** assess what genes are found by our classifier? One way is through Gene Ontology enrichment"
   ]
  },
  {
   "cell_type": "markdown",
   "metadata": {},
   "source": [
    "## Evaluating classifiers through Gene Ontology (GO) Enrichment\n",
    "\n",
    "Gene ontology is a tree (aka directed acyclic graph or \"dag\") of gene annotations. The topmost node is the most general, and the bottommost nodes are the most specific. Here is an example GO graph.\n",
    "\n",
    "![](figures/example_go_graph.png)\n",
    "\n",
    "Three GO Domains:\n",
    "\n",
    "* Cellular Component (CC)\n",
    "* Molecular Function (MF)\n",
    "* Biological Process (BP)"
   ]
  },
  {
   "cell_type": "markdown",
   "metadata": {},
   "source": [
    "### Perform GO enrichment analysis (GOEA)\n",
    "\n",
    "\n",
    "#### GOEA Step 1: Download GO graph file of \"obo\" type (same for all species)\n",
    "\n",
    "This will download the file `\"go-basic.obo\"` if it doesn't already exist. This only needs to be done once."
   ]
  },
  {
   "cell_type": "code",
   "execution_count": null,
   "metadata": {
    "collapsed": false
   },
   "outputs": [],
   "source": [
    "from goatools.base import download_go_basic_obo\n",
    "obo_fname = download_go_basic_obo()\n",
    "\n",
    "# Show the filename\n",
    "obo_fname"
   ]
  },
  {
   "cell_type": "markdown",
   "metadata": {},
   "source": [
    "#### GOEA Step 2: Create the GO graph (same for all species)\n",
    "\n",
    "(this may take some time to build the graph)"
   ]
  },
  {
   "cell_type": "code",
   "execution_count": null,
   "metadata": {
    "collapsed": false
   },
   "outputs": [],
   "source": [
    "obo_dag = goatools.obo_parser.GODag(obo_file=obo_fname)"
   ]
  },
  {
   "cell_type": "markdown",
   "metadata": {},
   "source": [
    "#### GOEA Step 3: Get gene ID to GO id mapping (species-specific and experiment-specific)\n",
    "\n",
    "Here we are establishing the background for our GOEA. Defining your background is **very important** because, for example, there are lots of neural genes so if you use all human genes as background in your study of which genes are upregulated in Neuron Type X vs Neuron Type Y, you'll get a bunch of neuron genes (which is true) but not the smaller differences between X and Y. Typicall, you use *all expressed genes* as the background.\n",
    "\n",
    "For our data, we can access all expressed genes very simply by getting the column names in the dataframe: `singles.columns`, which is the dataframe we used for classifying and shows *all expressed genes in single cells.* This will be our background."
   ]
  },
  {
   "cell_type": "code",
   "execution_count": null,
   "metadata": {
    "collapsed": false
   },
   "outputs": [],
   "source": [
    "# Initialize the \"mygene.info\" (http://mygene.info/) interface\n",
    "mg = mygene.MyGeneInfo()\n",
    "\n",
    "mygene_output = mg.querymany(singles.columns, \n",
    "                             scopes='symbol', fields=['go.BP', 'go.MF', 'go.CC'], species='mouse', \n",
    "                             returnall=True)\n",
    "\n",
    "gene_name_to_go = parse_mygene_output(mygene_output)"
   ]
  },
  {
   "cell_type": "markdown",
   "metadata": {},
   "source": [
    "#### GOEA Step 4: Create a GO enrichment calculator object `go_enricher` (species- and experiment-specific)\n",
    "\n",
    "In this step, we are using the two objects we've created (`obo_dag` from Step 2 and `gene_name_to_go` from Step 3) plus the gene ids to create a `go_enricher` object"
   ]
  },
  {
   "cell_type": "code",
   "execution_count": null,
   "metadata": {
    "collapsed": false
   },
   "outputs": [],
   "source": [
    "go_enricher = goatools.GOEnrichmentStudy(singles.columns, gene_name_to_go, obo_dag)"
   ]
  },
  {
   "cell_type": "markdown",
   "metadata": {},
   "source": [
    "#### GOEA Step 5: Calculate go enrichment!!! (species- and experiment-specific)\n",
    "\n",
    "Now we are ready to run go enrichment!! Let's take our enriched genes of interest and run the enrichment analysis!"
   ]
  },
  {
   "cell_type": "code",
   "execution_count": null,
   "metadata": {
    "collapsed": false
   },
   "outputs": [],
   "source": [
    "genes_of_interest = below_cutoff.index\n",
    "\n",
    "# \"results\" is a list and is annoying to deal with ... \n",
    "# ... so we'll make a dataframe in the next step\n",
    "results = go_enricher.run_study(genes_of_interest)\n",
    "\n",
    "# Create a dataframe of the results so it's easier to deal with\n",
    "below_cutoff_go_enrichment = pd.DataFrame([r.__dict__ for r in results])\n",
    "print(below_cutoff_go_enrichment.shape)\n",
    "below_cutoff_go_enrichment.head()"
   ]
  },
  {
   "cell_type": "markdown",
   "metadata": {},
   "source": [
    "Now we're going to ..... say it with me ...... **add a column!** that is the negative log10 of the p-value so it's easier to plot and deal with."
   ]
  },
  {
   "cell_type": "code",
   "execution_count": null,
   "metadata": {
    "collapsed": false
   },
   "outputs": [],
   "source": [
    "below_cutoff_go_enrichment['log10_p_bonferroni'] = -np.log10(below_cutoff_go_enrichment['p_bonferroni'])\n",
    "print(below_cutoff_go_enrichment.shape)\n",
    "below_cutoff_go_enrichment.head()"
   ]
  },
  {
   "cell_type": "markdown",
   "metadata": {},
   "source": [
    "Let's make sure this dataframe is sorted in order of enrichment. By default, this is sorting in *ascending* order, and we want the most enriched to be at the top, so let's say `ascending=False`."
   ]
  },
  {
   "cell_type": "code",
   "execution_count": null,
   "metadata": {
    "collapsed": false
   },
   "outputs": [],
   "source": [
    "below_cutoff_go_enrichment = below_cutoff_go_enrichment.sort_values('log10_p_bonferroni', ascending=False)\n",
    "print(below_cutoff_go_enrichment.shape)\n",
    "below_cutoff_go_enrichment.head()"
   ]
  },
  {
   "cell_type": "markdown",
   "metadata": {},
   "source": [
    "Let's look at the distribution of the log10 p-values"
   ]
  },
  {
   "cell_type": "code",
   "execution_count": null,
   "metadata": {
    "collapsed": false
   },
   "outputs": [],
   "source": [
    "sns.distplot(below_cutoff_go_enrichment['log10_p_bonferroni'])"
   ]
  },
  {
   "cell_type": "markdown",
   "metadata": {},
   "source": [
    "Now we can also plot this data! Let's just take a subset, say the first 10 and look at the distribution of p-values here."
   ]
  },
  {
   "cell_type": "code",
   "execution_count": null,
   "metadata": {
    "collapsed": false
   },
   "outputs": [],
   "source": [
    "below_cutoff_go_enrichment_subset = below_cutoff_go_enrichment.iloc[:10, :]\n",
    "\n",
    "sns.distplot(below_cutoff_go_enrichment_subset['log10_p_bonferroni'])"
   ]
  },
  {
   "cell_type": "markdown",
   "metadata": {},
   "source": [
    "Now let's plot the GO categories! We want to make sure they stay in the highest-lowest order by specifying \"order\" (otherwise they will be alphabetical!)"
   ]
  },
  {
   "cell_type": "code",
   "execution_count": null,
   "metadata": {
    "collapsed": false
   },
   "outputs": [],
   "source": [
    "order = below_cutoff_go_enrichment_subset['name']\n",
    "\n",
    "fig, ax = plt.subplots()\n",
    "sns.barplot(x='log10_p_bonferroni', y='name', data=below_cutoff_go_enrichment_subset, orient='h', order=order)\n",
    "fig.savefig(\"below_cutoff_go_enrichment.pdf\")"
   ]
  },
  {
   "cell_type": "markdown",
   "metadata": {
    "collapsed": false
   },
   "source": [
    "### Exercise\n",
    "\n",
    "1. Perform GO enrichment on the genes ABOVE the upper cutoff.\n",
    "2. Plot the enrichment as a bar graph.\n",
    "4. Try using only the LPS response genes for classification, and calculate GO enrichment on those, too. Do you have to change the background as well?\n",
    "\n",
    "Use the cells below."
   ]
  },
  {
   "cell_type": "code",
   "execution_count": null,
   "metadata": {
    "collapsed": true
   },
   "outputs": [],
   "source": [
    "# YOUR CODE HERE"
   ]
  },
  {
   "cell_type": "code",
   "execution_count": null,
   "metadata": {
    "collapsed": true
   },
   "outputs": [],
   "source": [
    "# YOUR CODE HERE"
   ]
  },
  {
   "cell_type": "code",
   "execution_count": null,
   "metadata": {
    "collapsed": true
   },
   "outputs": [],
   "source": [
    "# YOUR CODE HERE"
   ]
  },
  {
   "cell_type": "code",
   "execution_count": null,
   "metadata": {
    "collapsed": false
   },
   "outputs": [],
   "source": []
  },
  {
   "cell_type": "code",
   "execution_count": null,
   "metadata": {
    "collapsed": true
   },
   "outputs": [],
   "source": []
  }
 ],
 "metadata": {
  "kernelspec": {
   "display_name": "Python 3 (single-cell-bioinformatics)",
   "language": "python",
   "name": "python3"
  },
  "language_info": {
   "codemirror_mode": {
    "name": "ipython",
    "version": 3
   },
   "file_extension": ".py",
   "mimetype": "text/x-python",
   "name": "python",
   "nbconvert_exporter": "python",
   "pygments_lexer": "ipython3",
   "version": "3.5.1"
  }
 },
 "nbformat": 4,
 "nbformat_minor": 0
}
