{
 "cells": [
  {
   "cell_type": "markdown",
   "metadata": {},
   "source": [
    "# Applying SVM classifier to Shalek2013\n",
    "\n",
    "We're going to use the classifier knowledge that we've learned so far and apply it to the shalek2013 dataset."
   ]
  },
  {
   "cell_type": "code",
   "execution_count": null,
   "metadata": {
    "collapsed": false
   },
   "outputs": [],
   "source": [
    "# Alphabetical order is standard\n",
    "# We're doing \"import superlongname as abbrev\" for our laziness - this way we don't have to type out the whole thing each time.\n",
    "\n",
    "# Python plotting library\n",
    "import matplotlib.pyplot as plt\n",
    "\n",
    "# Numerical python library (pronounced \"num-pie\")\n",
    "import numpy as np\n",
    "\n",
    "# Dataframes in Python\n",
    "import pandas as pd\n",
    "\n",
    "# Statistical plotting library we'll use\n",
    "import seaborn as sns\n",
    "sns.set(style='whitegrid')\n",
    "\n",
    "# Label processing\n",
    "from sklearn import preprocessing\n",
    "\n",
    "# Matrix decomposition\n",
    "from sklearn.decomposition import PCA, FastICA\n",
    "\n",
    "# Classification\n",
    "from sklearn.svm import SVC\n",
    "\n",
    "\n",
    "# This is necessary to show the plotted figures inside the notebook -- \"inline\" with the notebook cells\n",
    "%matplotlib inline\n"
   ]
  },
  {
   "cell_type": "markdown",
   "metadata": {},
   "source": [
    "Utility functions for gene ontology and SVM decision boundary plotting"
   ]
  },
  {
   "cell_type": "code",
   "execution_count": null,
   "metadata": {
    "collapsed": true
   },
   "outputs": [],
   "source": [
    "def plot_svc_decision_function(clf, ax=None):\n",
    "    \"\"\"Plot the decision function for a 2D SVC\"\"\"\n",
    "    if ax is None:\n",
    "        ax = plt.gca()\n",
    "    x = np.linspace(plt.xlim()[0], plt.xlim()[1], 30)\n",
    "    y = np.linspace(plt.ylim()[0], plt.ylim()[1], 30)\n",
    "    Y, X = np.meshgrid(y, x)\n",
    "    P = np.zeros_like(X)\n",
    "    for i, xi in enumerate(x):\n",
    "        for j, yj in enumerate(y):\n",
    "            P[i, j] = clf.decision_function([[xi, yj]])\n",
    "    # plot the margins\n",
    "    ax.contour(X, Y, P, colors='k',\n",
    "               levels=[-1, 0, 1], alpha=0.5,\n",
    "               linestyles=['--', '-', '--'])"
   ]
  },
  {
   "cell_type": "markdown",
   "metadata": {},
   "source": [
    "## Read in the Shalek2013 data"
   ]
  },
  {
   "cell_type": "code",
   "execution_count": null,
   "metadata": {
    "collapsed": false
   },
   "outputs": [],
   "source": [
    "metadata = pd.read_csv('../data/shalek2013/metadata.csv', \n",
    "                               \n",
    "                                     # Sets the first (Python starts counting from 0 not 1) column as the row names\n",
    "                                      index_col=0)\n",
    "expression = pd.read_csv('../data/shalek2013/expression.csv', \n",
    "                               \n",
    "                                     # Sets the first (Python starts counting from 0 not 1) column as the row names\n",
    "                                      index_col=0)\n",
    "expression_feature = pd.read_csv('../data/shalek2013/expression_feature.csv', \n",
    "                               \n",
    "                                     # Sets the first (Python starts counting from 0 not 1) column as the row names\n",
    "                                      index_col=0)\n",
    "\n",
    "expression = expression\n",
    "\n",
    "# creating new column indicating color\n",
    "metadata['color'] = metadata['maturity'].map(\n",
    "    lambda x: 'MediumTurquoise' if x == 'immature' else 'Teal')\n",
    "metadata.loc[metadata['pooled'], 'color'] = 'black'\n",
    "\n",
    "# Create a column indicating both maturity and pooled for coloring with seaborn, e.g. sns.pairplot\n",
    "metadata['group'] = metadata['maturity']\n",
    "metadata.loc[metadata['pooled'], 'group'] = 'pooled'\n",
    "\n",
    "\n",
    "metadata"
   ]
  },
  {
   "cell_type": "markdown",
   "metadata": {},
   "source": [
    "### Side note: getting LPS response genes using `query`\n",
    "\n",
    "Get the \"LPS response genes\" using a query:"
   ]
  },
  {
   "cell_type": "code",
   "execution_count": null,
   "metadata": {
    "collapsed": false
   },
   "outputs": [],
   "source": [
    "subset = expression_feature.query('gene_category == \"LPS Response\"')\n",
    "subset.head()"
   ]
  },
  {
   "cell_type": "markdown",
   "metadata": {},
   "source": [
    "Assign the variable `lps_response_genes` based on the gene ids pulled out from this subset:"
   ]
  },
  {
   "cell_type": "code",
   "execution_count": null,
   "metadata": {
    "collapsed": false
   },
   "outputs": [],
   "source": [
    "lps_response_genes = subset.index\n",
    "lps_response_genes"
   ]
  },
  {
   "cell_type": "markdown",
   "metadata": {},
   "source": [
    "For this analysis We want to compare the difference between the \"mature\" and \"immature\" cells in the Shalek2013 data."
   ]
  },
  {
   "cell_type": "code",
   "execution_count": null,
   "metadata": {
    "collapsed": false
   },
   "outputs": [],
   "source": [
    "singles_ids = [x for x in expression.index if x.startswith('S')]\n",
    "singles = expression.loc[singles_ids]\n",
    "singles.shape"
   ]
  },
  {
   "cell_type": "markdown",
   "metadata": {},
   "source": [
    "Use only the genes that are substantially expressed in single cells"
   ]
  },
  {
   "cell_type": "code",
   "execution_count": null,
   "metadata": {
    "collapsed": false
   },
   "outputs": [],
   "source": [
    "singles = singles.loc[:, (singles > 1).sum() >= 3]\n",
    "singles.shape"
   ]
  },
  {
   "cell_type": "markdown",
   "metadata": {},
   "source": [
    "Now because computers only understand numbers, we'll convert the category label of \"mature\" and \"immature\" into integers to a using a `LabelEncoder`. Let's look at that column again, only for mature cells:"
   ]
  },
  {
   "cell_type": "code",
   "execution_count": null,
   "metadata": {
    "collapsed": false
   },
   "outputs": [],
   "source": [
    "singles_maturity = metadata.loc[singles.index, 'maturity']\n",
    "singles_maturity"
   ]
  },
  {
   "cell_type": "code",
   "execution_count": null,
   "metadata": {
    "collapsed": false
   },
   "outputs": [],
   "source": [
    "# Instantiate the encoder\n",
    "encoder = preprocessing.LabelEncoder()\n",
    "\n",
    "# Get number of categories and transform \"mature\"/\"immature\" to numbers\n",
    "target = encoder.fit_transform(singles_maturity)\n",
    "target"
   ]
  },
  {
   "cell_type": "markdown",
   "metadata": {},
   "source": [
    "## Run the classifier!!\n",
    "\n",
    "Yay so now we can run a classifier!"
   ]
  },
  {
   "cell_type": "code",
   "execution_count": null,
   "metadata": {
    "collapsed": false
   },
   "outputs": [],
   "source": [
    "from sklearn.svm import SVC\n",
    "\n",
    "classifier = SVC(kernel='linear')\n",
    "classifier.fit(singles, target)"
   ]
  },
  {
   "cell_type": "markdown",
   "metadata": {},
   "source": [
    "We'll use PCA or ICA to reduce our data for visualizing the SVM decision boundary. We'll only use two components for visualization so please don't change this to more components unless you like broken code!"
   ]
  },
  {
   "cell_type": "code",
   "execution_count": null,
   "metadata": {
    "collapsed": false
   },
   "outputs": [],
   "source": [
    "n_components = 2\n",
    "\n",
    "smusher = PCA(n_components=n_components)\n",
    "smushed = pd.DataFrame(smusher.fit_transform(singles), index=singles.index)\n",
    "print(smushed.shape)\n",
    "smushed.head()\n",
    "\n",
    "# Let's add the group identifier here for plotting:\n",
    "\n",
    "smushed_with_group = smushed.join(metadata['group'])\n",
    "print(smushed_with_group.shape)\n",
    "smushed_with_group.head()"
   ]
  },
  {
   "cell_type": "code",
   "execution_count": null,
   "metadata": {
    "collapsed": false
   },
   "outputs": [],
   "source": [
    "# Make a grid of the 2d PCA space\n",
    "n_intervals = 50\n",
    "x_min, x_max = smushed[0].min() - 1, smushed[0].max() + 1\n",
    "y_min, y_max = smushed[1].min() - 1, smushed[1].max() + 1\n",
    "X = np.linspace(x_min, x_max, n_intervals)\n",
    "Y = np.linspace(y_min, y_max, n_intervals)\n",
    "xx, yy = np.meshgrid(X, Y)\n",
    "two_d_space = np.c_[xx.ravel(), yy.ravel()]\n",
    "\n",
    "# Transform the two PCA space ot gene space\n",
    "gene_space = smusher.inverse_transform(two_d_space)\n",
    "\n",
    "# Get the decision boundary\n",
    "Z = classifier.decision_function(gene_space)\n",
    "Z = Z.reshape(xx.shape)\n",
    "\n",
    "support_vectors_smushed = pd.DataFrame(smusher.transform(classifier.support_vectors_))\n",
    "\n",
    "fig, ax = plt.subplots()\n",
    "\n",
    "# ax.scatter(smushed_intervals[0], smushed_intervals[1], color='pink')\n",
    "ax.scatter(smushed[0], smushed[1], color=metadata['color'], s=50)\n",
    "ax.scatter(support_vectors_smushed[0], support_vectors_smushed[1], s=200, facecolors='none')\n",
    "ax.contourf(X, Y, Z, colors='grey',\n",
    "           levels=[-1, 0, 1], alpha=0.5,\n",
    "           linestyles=['--', '-', '--'])"
   ]
  },
  {
   "cell_type": "markdown",
   "metadata": {},
   "source": [
    "That looks really cool! Almost ALL the data points are support vectors (except that one cell). Why do you think so?\n",
    "\n",
    "### Exercise 1\n",
    "\n",
    "1. Use an SVM classifier, but use ICA instead of PCA to visualize the decision boundary.\n",
    "    1. How does that change the classification? \n",
    "    2. Are the cells closer or farther from the decision boundary? Is that a \"better\" or \"worse\" classification? Why?\n",
    "    4. Why does the reduction algorithm affect the visualization of the classification?\n",
    "2. Could you use MDS or t-SNE for plotting of the classifier boundary? Why or why not?\n",
    "3. Try the same analysis, but use the \"LPS Response\" genes and a dimensionality reduction algorithm of your choice. (... how do you subset only certain columns out of the dataframe?)\n",
    "    1. How does that change the classification? \n",
    "    2. Are the cells closer or farther from the decision boundary? \n",
    "    3. Is that a \"better\" or \"worse\" classification? Why?\n",
    "4. For (1) and (2) above, also fry using radial basis kernel (`kernel=\"rbf\"`) for SVC.\n",
    "    1. How does that change the classification? \n",
    "    2. Are the cells closer or farther from the decision boundary? \n",
    "    3. Is that a \"better\" or \"worse\" classification? Why?\n",
    "\n",
    "\n",
    "\n",
    "This was nice but how do we *biologically* assess our classifiers? We want to do that using our biological knowledge of the data. Let's first look at the distribution of the coefficients in the data. This is the coefficient assigned to each feature. We'll first make it a Series so it's easy to work with (it's currently a numpy array)."
   ]
  },
  {
   "cell_type": "code",
   "execution_count": null,
   "metadata": {
    "collapsed": false
   },
   "outputs": [],
   "source": [
    "coefficients = pd.Series(classifier.coef_.flat, index=singles.columns)\n",
    "coefficients.head()"
   ]
  },
  {
   "cell_type": "markdown",
   "metadata": {},
   "source": [
    "Now let's plot the distribution of the coefficients across all featurs:"
   ]
  },
  {
   "cell_type": "code",
   "execution_count": null,
   "metadata": {
    "collapsed": false
   },
   "outputs": [],
   "source": [
    "sns.distplot(coefficients)"
   ]
  },
  {
   "cell_type": "markdown",
   "metadata": {},
   "source": [
    "This is semi-gaussian .. what does that mean? It means that most of the features in the dataset don't actually help you tell the difference between the datasets.\n",
    "\n",
    "Let's get the features which are 2 std devs away from the mean of the data. Let's plot what that would look like"
   ]
  },
  {
   "cell_type": "code",
   "execution_count": null,
   "metadata": {
    "collapsed": false
   },
   "outputs": [],
   "source": [
    "mean = coefficients.mean()\n",
    "std = coefficients.std()\n",
    "multiplier = 2\n",
    "lower_cutoff = mean - multiplier * std\n",
    "upper_cutoff = mean + multiplier * std\n",
    "\n",
    "fig, ax = plt.subplots()\n",
    "sns.distplot(coefficients)\n",
    "\n",
    "# Add vertical lines\n",
    "ymin, ymax = ax.get_ylim()\n",
    "ax.vlines([lower_cutoff, upper_cutoff], ymin, ymax, linestyle='--', color='Crimson')"
   ]
  },
  {
   "cell_type": "code",
   "execution_count": null,
   "metadata": {
    "collapsed": false
   },
   "outputs": [],
   "source": [
    "below_cutoff = coefficients[coefficients < lower_cutoff]\n",
    "print(below_cutoff.shape)\n",
    "below_cutoff.head()"
   ]
  },
  {
   "cell_type": "code",
   "execution_count": null,
   "metadata": {
    "collapsed": false
   },
   "outputs": [],
   "source": [
    "sns.clustermap(singles[below_cutoff.index])"
   ]
  },
  {
   "cell_type": "markdown",
   "metadata": {},
   "source": [
    "Are these genes more expressed in the 3-cell mature population or the 15-cell immature population?\n",
    "\n",
    "### Exercise 2\n",
    "\n",
    "Get the genes that are *above* the cutoff and look at their clustered heatmap"
   ]
  },
  {
   "cell_type": "code",
   "execution_count": null,
   "metadata": {
    "collapsed": true
   },
   "outputs": [],
   "source": [
    "# YOUR CODE HERE"
   ]
  },
  {
   "cell_type": "code",
   "execution_count": null,
   "metadata": {
    "collapsed": true
   },
   "outputs": [],
   "source": [
    "# YOUR CODE HERE"
   ]
  },
  {
   "cell_type": "code",
   "execution_count": null,
   "metadata": {
    "collapsed": true
   },
   "outputs": [],
   "source": [
    "# YOUR CODE HERE"
   ]
  }
 ],
 "metadata": {
  "kernelspec": {
   "display_name": "Python 3 (single-cell-bioinformatics)",
   "language": "python",
   "name": "python3"
  },
  "language_info": {
   "codemirror_mode": {
    "name": "ipython",
    "version": 3
   },
   "file_extension": ".py",
   "mimetype": "text/x-python",
   "name": "python",
   "nbconvert_exporter": "python",
   "pygments_lexer": "ipython3",
   "version": "3.5.1"
  }
 },
 "nbformat": 4,
 "nbformat_minor": 0
}
