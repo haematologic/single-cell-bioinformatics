{
 "cells": [
  {
   "cell_type": "markdown",
   "metadata": {},
   "source": [
    "# Look at the classified genes with violinplots in Shalek2013\n",
    "\n",
    "What single cell paper would be complete without violinplots?!? \n",
    "\n",
    "Now we're going to look at the top genes by plotting each of them, separated by the two groups"
   ]
  },
  {
   "cell_type": "code",
   "execution_count": null,
   "metadata": {
    "collapsed": false
   },
   "outputs": [],
   "source": [
    "# Alphabetical order is standard\n",
    "# We're doing \"import superlongname as abbrev\" for our laziness - this way we don't have to type out the whole thing each time.\n",
    "\n",
    "# Python plotting library\n",
    "import matplotlib.pyplot as plt\n",
    "\n",
    "# Numerical python library (pronounced \"num-pie\")\n",
    "import numpy as np\n",
    "\n",
    "# Dataframes in Python\n",
    "import pandas as pd\n",
    "\n",
    "# Statistical plotting library we'll use\n",
    "import seaborn as sns\n",
    "sns.set(style='whitegrid')\n",
    "\n",
    "# Label processing\n",
    "from sklearn import preprocessing\n",
    "\n",
    "# Matrix decomposition\n",
    "from sklearn.decomposition import PCA, FastICA\n",
    "\n",
    "# Classification\n",
    "from sklearn.svm import SVC\n",
    "\n",
    "# This is necessary to show the plotted figures inside the notebook -- \"inline\" with the notebook cells\n",
    "%matplotlib inline\n"
   ]
  },
  {
   "cell_type": "markdown",
   "metadata": {},
   "source": [
    "## Read in the Shalek2013 data and classify it"
   ]
  },
  {
   "cell_type": "code",
   "execution_count": null,
   "metadata": {
    "collapsed": true
   },
   "outputs": [],
   "source": [
    "metadata = pd.read_csv('../data/shalek2013/metadata.csv', \n",
    "                               \n",
    "                                     # Sets the first (Python starts counting from 0 not 1) column as the row names\n",
    "                                      index_col=0)\n",
    "expression = pd.read_csv('../data/shalek2013/expression.csv', \n",
    "                               \n",
    "                                     # Sets the first (Python starts counting from 0 not 1) column as the row names\n",
    "                                      index_col=0)\n",
    "expression_feature = pd.read_csv('../data/shalek2013/expression_feature.csv', \n",
    "                               \n",
    "                                     # Sets the first (Python starts counting from 0 not 1) column as the row names\n",
    "                                      index_col=0)\n",
    "\n",
    "# creating new column indicating color\n",
    "metadata['color'] = metadata['maturity'].map(\n",
    "    lambda x: 'MediumTurquoise' if x == 'immature' else 'Teal')\n",
    "metadata.loc[metadata['pooled'], 'color'] = 'black'\n",
    "\n",
    "# Create a column indicating both maturity and pooled for coloring with seaborn, e.g. sns.pairplot\n",
    "metadata['group'] = metadata['maturity']\n",
    "metadata.loc[metadata['pooled'], 'group'] = 'pooled'\n",
    "\n",
    "# Create a palette and ordering for using with sns.pairplot\n",
    "palette = ['MediumTurquoise', 'Teal', 'black']\n",
    "order = ['immature', 'mature', 'pooled']\n",
    "\n",
    "\n",
    "singles_ids = [x for x in expression.index if x.startswith('S')]\n",
    "singles = expression.loc[singles_ids]\n",
    "\n",
    "# Use only the genes that are substantially expressed in single cells\n",
    "\n",
    "singles = singles.loc[:, (singles > 1).sum() >= 3]\n",
    "singles.shape\n",
    "\n",
    "# Now because computers only understand numbers, we'll convert the \n",
    "# category label of \"mature\" and \"immature\" into integers to a using a \n",
    "# `LabelEncoder`. Let's look at that column again, only for mature cells:\n",
    "\n",
    "singles_maturity = metadata.loc[singles.index, 'maturity']\n",
    "\n",
    "# Instantiate the encoder\n",
    "encoder = preprocessing.LabelEncoder()\n",
    "\n",
    "# Get number of categories and transform \"mature\"/\"immature\" to numbers\n",
    "target = encoder.fit_transform(singles_maturity)\n",
    "\n",
    "## Run the classifier!!\n",
    "\n",
    "# Yay so now we can run a classifier!\n",
    "\n",
    "\n",
    "classifier = SVC(kernel='linear')\n",
    "classifier.fit(singles, target)"
   ]
  },
  {
   "cell_type": "markdown",
   "metadata": {},
   "source": [
    "Let's create that `coefficients` series again which we'll use extensively."
   ]
  },
  {
   "cell_type": "code",
   "execution_count": null,
   "metadata": {
    "collapsed": false
   },
   "outputs": [],
   "source": [
    "coefficients = pd.Series(classifier.coef_.flat, index=singles.columns)\n",
    "coefficients.head()"
   ]
  },
  {
   "cell_type": "markdown",
   "metadata": {},
   "source": [
    "## Violinplots!!\n",
    "\n",
    "To make violinplots, let's first get smaller subset of our data to plot with."
   ]
  },
  {
   "cell_type": "code",
   "execution_count": null,
   "metadata": {
    "collapsed": false
   },
   "outputs": [],
   "source": [
    "below_stringent_cutoff = coefficients[coefficients < (coefficients.mean() - 3*coefficients.std())]\n",
    "print(below_stringent_cutoff.shape)\n",
    "below_stringent_cutoff.head()"
   ]
  },
  {
   "cell_type": "markdown",
   "metadata": {},
   "source": [
    "And get just the genes from this cutoff"
   ]
  },
  {
   "cell_type": "code",
   "execution_count": null,
   "metadata": {
    "collapsed": false
   },
   "outputs": [],
   "source": [
    "singles_below_stringent_cutoff = singles[below_stringent_cutoff.index]\n",
    "print(singles_below_stringent_cutoff.shape)\n",
    "singles_below_stringent_cutoff.head()"
   ]
  },
  {
   "cell_type": "markdown",
   "metadata": {},
   "source": [
    "We **could** plot all of these genes right now but that doesn't tell us about how these genes are different between the groups. We'll need to make this into *tidy data* for that."
   ]
  },
  {
   "cell_type": "code",
   "execution_count": null,
   "metadata": {
    "collapsed": false
   },
   "outputs": [],
   "source": [
    "sns.violinplot(data=singles_below_stringent_cutoff)"
   ]
  },
  {
   "cell_type": "markdown",
   "metadata": {},
   "source": [
    "## Tidy data\n",
    "\n",
    "Now we need to make this data into a [tidy](http://vita.had.co.nz/papers/tidy-data.pdf) dataframe, where every row is a single observation of a gene and a sample. We will do this with two commands `.unstack()` and `.reset_index()`:"
   ]
  },
  {
   "cell_type": "code",
   "execution_count": null,
   "metadata": {
    "collapsed": false
   },
   "outputs": [],
   "source": [
    "singles_below_stringent_cutoff_unstacked = singles_below_stringent_cutoff.unstack()\n",
    "print(singles_below_stringent_cutoff_unstacked.shape)\n",
    "singles_below_stringent_cutoff_unstacked.head()"
   ]
  },
  {
   "cell_type": "markdown",
   "metadata": {},
   "source": [
    "Now we'll \"reset\" the index, meaning, move all the row names into the dataframe instead of as the row labels:"
   ]
  },
  {
   "cell_type": "code",
   "execution_count": null,
   "metadata": {
    "collapsed": false
   },
   "outputs": [],
   "source": [
    "singles_below_stringent_cutoff_reset_index = singles_below_stringent_cutoff_unstacked.reset_index()\n",
    "print(singles_below_stringent_cutoff_reset_index.shape)\n",
    "singles_below_stringent_cutoff_reset_index.head()"
   ]
  },
  {
   "cell_type": "markdown",
   "metadata": {},
   "source": [
    "Let's rename the columns to something more meaningful"
   ]
  },
  {
   "cell_type": "code",
   "execution_count": null,
   "metadata": {
    "collapsed": false
   },
   "outputs": [],
   "source": [
    "singles_below_stringent_cutoff_tidy = singles_below_stringent_cutoff_reset_index.rename(\n",
    "    columns={'level_0': 'gene_id', 'level_1': 'sample_id', 0:'log2(TPM+1)'})\n",
    "print(singles_below_stringent_cutoff_tidy.shape)\n",
    "singles_below_stringent_cutoff_tidy.head()"
   ]
  },
  {
   "cell_type": "markdown",
   "metadata": {},
   "source": [
    "Now we'll want to add our metadata so we have the information for plotting"
   ]
  },
  {
   "cell_type": "code",
   "execution_count": null,
   "metadata": {
    "collapsed": false
   },
   "outputs": [],
   "source": [
    "singles_below_stringent_cutoff_tidy_metadata = singles_below_stringent_cutoff_tidy.join(metadata, on='sample_id')\n",
    "print(singles_below_stringent_cutoff_tidy_metadata.shape)\n",
    "singles_below_stringent_cutoff_tidy_metadata.head()"
   ]
  },
  {
   "cell_type": "markdown",
   "metadata": {},
   "source": [
    "Now we can plot! We'll specify that the `hue` should indicate the mature/immature group so they'll get compared side by side:"
   ]
  },
  {
   "cell_type": "code",
   "execution_count": null,
   "metadata": {
    "collapsed": false
   },
   "outputs": [],
   "source": [
    "fig, ax = plt.subplots()\n",
    "sns.violinplot(hue='group', y='log2(TPM+1)', x='gene_id', \n",
    "               data=singles_below_stringent_cutoff_tidy_metadata, kind='violin')"
   ]
  },
  {
   "cell_type": "markdown",
   "metadata": {},
   "source": [
    "We can make it bigger and wider:"
   ]
  },
  {
   "cell_type": "code",
   "execution_count": null,
   "metadata": {
    "collapsed": false
   },
   "outputs": [],
   "source": [
    "figwidth = 16\n",
    "figheight = 4\n",
    "\n",
    "fig, ax = plt.subplots(figsize=(figwidth, figheight))\n",
    "sns.violinplot(hue='group', y='log2(TPM+1)', x='gene_id', \n",
    "               data=singles_below_stringent_cutoff_tidy_metadata, kind='violin')"
   ]
  },
  {
   "cell_type": "markdown",
   "metadata": {},
   "source": [
    "Hmm the genes are still hard to read .. maybe we can orient this horizontally? Notice that we have to swap the `figwidth` and `figheight`:\n",
    "\n",
    "    figheight = 16\n",
    "    figwidth = 4\n",
    "    \n",
    "**And** change the orientation to \"h\" (horizontal):\n",
    "\n",
    "    orient='h'\n",
    "    \n",
    "**And** swap the `x` and `y`:\n",
    "\n",
    "    x='log2(TPM+1)', y='gene_id'"
   ]
  },
  {
   "cell_type": "code",
   "execution_count": null,
   "metadata": {
    "collapsed": false
   },
   "outputs": [],
   "source": [
    "figheight = 10\n",
    "figwidth = 4\n",
    "\n",
    "fig, ax = plt.subplots(figsize=(figwidth, figheight))\n",
    "sns.violinplot(hue='group', x='log2(TPM+1)', y='gene_id', orient='h',\n",
    "               data=singles_below_stringent_cutoff_tidy_metadata)"
   ]
  },
  {
   "cell_type": "markdown",
   "metadata": {},
   "source": [
    "My personal preference is I like ...\n",
    "\n",
    "* `inner=None`: the inside to not have the mean and std dev info, but rather be empty\n",
    "* `scale='width'`: the violinplot to be maximal width, even if it's very long. The default is for the whole area to be integrated to 1 but I think it's harder to read.\n",
    "* `palette=palette`: Create a `palette` variable that we created earlier\n",
    "* `hue_order=order`: make sure the sample are in the order that we want"
   ]
  },
  {
   "cell_type": "code",
   "execution_count": null,
   "metadata": {
    "collapsed": false
   },
   "outputs": [],
   "source": [
    "singles_below_stringent_cutoff_tidy_metadata.head()"
   ]
  },
  {
   "cell_type": "code",
   "execution_count": null,
   "metadata": {
    "collapsed": false
   },
   "outputs": [],
   "source": [
    "figheight = 10\n",
    "figwidth = 4\n",
    "\n",
    "# Create a palette and ordering for using with seaborn\n",
    "palette = ['MediumTurquoise', 'Teal']\n",
    "order = ['immature', 'mature']\n",
    "\n",
    "\n",
    "fig, ax = plt.subplots(figsize=(figwidth, figheight))\n",
    "sns.violinplot(hue='group', x='log2(TPM+1)', y='gene_id', orient='h',\n",
    "               data=singles_below_stringent_cutoff_tidy_metadata, \n",
    "               inner=None, scale='width', hue_order=order, palette=palette, ax=ax)"
   ]
  },
  {
   "cell_type": "markdown",
   "metadata": {},
   "source": [
    "Since we just have two categories, we could also do `split=True` to show two separate distributions (which looks cool *and* is useful - a rare treat!)\n",
    "\n",
    "**Note: this only works if you have exactly two `hue` categories!**"
   ]
  },
  {
   "cell_type": "code",
   "execution_count": null,
   "metadata": {
    "collapsed": false
   },
   "outputs": [],
   "source": [
    "figheight = 10\n",
    "figwidth = 4\n",
    "\n",
    "# Create a palette and ordering for using with seaborn\n",
    "palette = ['MediumTurquoise', 'Teal',]\n",
    "order = ['immature', 'mature',]\n",
    "\n",
    "\n",
    "fig, ax = plt.subplots(figsize=(figwidth, figheight))\n",
    "sns.violinplot(hue='group', x='log2(TPM+1)', y='gene_id', orient='h',\n",
    "               data=singles_below_stringent_cutoff_tidy_metadata, \n",
    "               inner=None, scale='width', hue_order=order, palette=palette, ax=ax, split=True)"
   ]
  },
  {
   "cell_type": "markdown",
   "metadata": {},
   "source": [
    "I also like to add a `stripplot` which adds the individual cell observations"
   ]
  },
  {
   "cell_type": "code",
   "execution_count": null,
   "metadata": {
    "collapsed": false
   },
   "outputs": [],
   "source": [
    "figheight = 10\n",
    "figwidth = 4\n",
    "\n",
    "# Create a palette and ordering for using with seaborn\n",
    "palette = ['MediumTurquoise', 'Teal',]\n",
    "order = ['immature', 'mature',]\n",
    "\n",
    "\n",
    "fig, ax = plt.subplots(figsize=(figwidth, figheight))\n",
    "sns.violinplot(hue='group', x='log2(TPM+1)', y='gene_id', orient='h',\n",
    "               data=singles_below_stringent_cutoff_tidy_metadata, \n",
    "               inner=None, scale='width', hue_order=order, palette=palette, ax=ax, split=True)\n",
    "sns.stripplot(hue='group', x='log2(TPM+1)', y='gene_id', orient='h',\n",
    "               data=singles_below_stringent_cutoff_tidy_metadata,\n",
    "               hue_order=order, palette=palette, ax=ax, split=True, \n",
    "              edgecolor='white', linewidth=1, jitter=True)"
   ]
  },
  {
   "cell_type": "markdown",
   "metadata": {},
   "source": [
    "### Facetgrids\n",
    "\n",
    "Facetgrids are another way that you can make violinplots, and are very useful when you have many genes and especially many categories (e.g. clusters) that you want to plot.\n",
    "\n",
    "We can save the figure with `facetgrid.savefig`"
   ]
  },
  {
   "cell_type": "code",
   "execution_count": null,
   "metadata": {
    "collapsed": false
   },
   "outputs": [],
   "source": [
    "facetgrid = sns.factorplot(x='group', y='log2(TPM+1)', col='gene_id',\n",
    "                           data=singles_below_stringent_cutoff_tidy_metadata, kind='violin')\n",
    "facetgrid.savefig('shalek2013_singles_below_stringent_cutoff_violins.pdf')"
   ]
  },
  {
   "cell_type": "markdown",
   "metadata": {},
   "source": [
    "Yikes, that's so wide! Let's wrap the columns around after they reach length 4 with:\n",
    "\n",
    "    col_wrap=4"
   ]
  },
  {
   "cell_type": "code",
   "execution_count": null,
   "metadata": {
    "collapsed": false,
    "scrolled": false
   },
   "outputs": [],
   "source": [
    "facetgrid = sns.factorplot(x='group', y='log2(TPM+1)', col='gene_id', col_wrap=4,\n",
    "                           data=singles_below_stringent_cutoff_tidy_metadata, kind='violin')\n",
    "facetgrid.savefig('shalek2013_singles_below_stringent_cutoff_violins_col_wrapped.pdf')"
   ]
  },
  {
   "cell_type": "markdown",
   "metadata": {},
   "source": [
    "Let's pass the same parameters that we used for the violins before with:\n",
    "\n",
    "    inner=None, scale='width', palette=palette, order=order"
   ]
  },
  {
   "cell_type": "code",
   "execution_count": null,
   "metadata": {
    "collapsed": false
   },
   "outputs": [],
   "source": [
    "facetgrid = sns.factorplot(x='group', y='log2(TPM+1)', col='gene_id', col_wrap=4,\n",
    "                           data=singles_below_stringent_cutoff_tidy_metadata, kind='violin', \n",
    "                           inner=None, scale='width', palette=palette, order=order)\n",
    "facetgrid.savefig('shalek2013_singles_below_stringent_cutoff_violins_palette.pdf')"
   ]
  },
  {
   "cell_type": "markdown",
   "metadata": {},
   "source": [
    "We can also add `stripplot`!! We'll send each facet (individual axes) the data it needs with `map_dataframe`"
   ]
  },
  {
   "cell_type": "code",
   "execution_count": null,
   "metadata": {
    "collapsed": false,
    "scrolled": false
   },
   "outputs": [],
   "source": [
    "facetgrid = sns.factorplot(x='group', y='log2(TPM+1)', col='gene_id', col_wrap=4,\n",
    "                            data=singles_below_stringent_cutoff_tidy_metadata, kind='violin', \n",
    "                           inner=None, scale='width', palette=palette, order=order,)\n",
    "facetgrid.map_dataframe(sns.stripplot, x='group', y='log2(TPM+1)', palette=palette, \n",
    "                        order=order, jitter=True, edgecolor='white', linewidth=1)\n",
    "facetgrid.savefig('shalek2013_singles_below_stringent_cutoff_violins_stripplot.pdf')"
   ]
  },
  {
   "cell_type": "markdown",
   "metadata": {},
   "source": [
    "### Exercise\n",
    "\n",
    "1. Make a horizontally oriented, split `violinplot`+`stripplot` of the top-enriched genes ABOVE the upper cutoff.\n",
    "2. Make a factorplot of `violinplot`+`stripplot` of the top-enriched genes ABOVE the upper cutoff.\n",
    "3. Change the palette colors to [colors of your choice](https://en.wikipedia.org/wiki/Web_colors#X11_color_names) and swap the order to be mature first, immature second\n",
    "\n",
    "Use as many code cells as you need."
   ]
  },
  {
   "cell_type": "code",
   "execution_count": null,
   "metadata": {
    "collapsed": true
   },
   "outputs": [],
   "source": [
    "# YOUR CODE HERE"
   ]
  },
  {
   "cell_type": "code",
   "execution_count": null,
   "metadata": {
    "collapsed": true
   },
   "outputs": [],
   "source": [
    "# YOUR CODE HERE"
   ]
  },
  {
   "cell_type": "code",
   "execution_count": null,
   "metadata": {
    "collapsed": true
   },
   "outputs": [],
   "source": [
    "# YOUR CODE HERE"
   ]
  }
 ],
 "metadata": {
  "kernelspec": {
   "display_name": "Python 3 (single-cell-bioinformatics)",
   "language": "python",
   "name": "python3"
  },
  "language_info": {
   "codemirror_mode": {
    "name": "ipython",
    "version": 3
   },
   "file_extension": ".py",
   "mimetype": "text/x-python",
   "name": "python",
   "nbconvert_exporter": "python",
   "pygments_lexer": "ipython3",
   "version": "3.5.1"
  }
 },
 "nbformat": 4,
 "nbformat_minor": 0
}
