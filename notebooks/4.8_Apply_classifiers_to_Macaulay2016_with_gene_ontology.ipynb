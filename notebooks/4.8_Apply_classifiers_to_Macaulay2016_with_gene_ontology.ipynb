{
 "cells": [
  {
   "cell_type": "markdown",
   "metadata": {},
   "source": [
    "# Applying classifiers to Macaulay2016\n",
    "\n",
    "We're going to use the classifier knowledge that we've learned so far and apply it to the shalek2013 and macaulay2016 datasets.\n",
    "\n",
    "For the GO analysis, we'll need a few other packages:\n",
    "\n",
    "* `mygene` for looking up the gene ontology categories of genes\n",
    "* `goatools` for performing gene ontology enrichment analysis\n",
    "* `fishers_exact_test` for `goatools`\n",
    "\n",
    "Use the following commands at your terminal to install the packages. Some of them are on Github so it's important to get the whole command right.\n",
    "\n",
    "```\n",
    "$ pip install mygene\n",
    "$ pip install git+git://github.com/olgabot/goatools.git\n",
    "$ pip install git+https://github.com/brentp/fishers_exact_test.git\n",
    "```"
   ]
  },
  {
   "cell_type": "code",
   "execution_count": 1,
   "metadata": {
    "collapsed": false
   },
   "outputs": [
    {
     "name": "stderr",
     "output_type": "stream",
     "text": [
      "/Users/olga/anaconda3/envs/single-cell-bioinformatics/lib/python3.5/site-packages/matplotlib/__init__.py:872: UserWarning: axes.color_cycle is deprecated and replaced with axes.prop_cycle; please use the latter.\n",
      "  warnings.warn(self.msg_depr % (key, alt_key))\n"
     ]
    }
   ],
   "source": [
    "# Alphabetical order is standard\n",
    "# We're doing \"import superlongname as abbrev\" for our laziness - this way we don't have to type out the whole thing each time.\n",
    "\n",
    "# From python standard library\n",
    "import collections\n",
    "\n",
    "# Python plotting library\n",
    "import matplotlib.pyplot as plt\n",
    "\n",
    "# Numerical python library (pronounced \"num-pie\")\n",
    "import numpy as np\n",
    "\n",
    "# Dataframes in Python\n",
    "import pandas as pd\n",
    "\n",
    "# Statistical plotting library we'll use\n",
    "import seaborn as sns\n",
    "sns.set(style='whitegrid')\n",
    "\n",
    "# Matrix decomposition\n",
    "from sklearn.decomposition import PCA, FastICA\n",
    "\n",
    "# Matrix decomposition\n",
    "from sklearn.tree import DecisionTreeClassifier\n",
    "from sklearn.ensemble import RandomForestClassifier, ExtraTreesClassifier\n",
    "\n",
    "# Manifold learning\n",
    "from sklearn.manifold import MDS, TSNE\n",
    "\n",
    "# Gene ontology\n",
    "import goatools\n",
    "import mygene\n",
    "\n",
    "# Initialize the \"mygene.info\" (http://mygene.info/) interface\n",
    "mg = mygene.MyGeneInfo()\n",
    "\n",
    "\n",
    "# This is necessary to show the plotted figures inside the notebook -- \"inline\" with the notebook cells\n",
    "%matplotlib inline\n"
   ]
  },
  {
   "cell_type": "code",
   "execution_count": 2,
   "metadata": {
    "collapsed": false
   },
   "outputs": [],
   "source": [
    "shalek2013_metadata = pd.read_csv('../data/shalek2013/metadata.csv', \n",
    "                               \n",
    "                                     # Sets the first (Python starts counting from 0 not 1) column as the row names\n",
    "                                      index_col=0)\n",
    "shalek2013_expression = pd.read_csv('../data/shalek2013/expression.csv', \n",
    "                               \n",
    "                                     # Sets the first (Python starts counting from 0 not 1) column as the row names\n",
    "                                      index_col=0)\n",
    "shalek2013_expression_feature = pd.read_csv('../data/shalek2013/expression_feature.csv', \n",
    "                               \n",
    "                                     # Sets the first (Python starts counting from 0 not 1) column as the row names\n",
    "                                      index_col=0)"
   ]
  },
  {
   "cell_type": "markdown",
   "metadata": {},
   "source": [
    "## Gene Ontology (GO) Enrichment\n",
    "\n",
    "Gene ontology is a tree (directed acyclic graph) of gene annotations. The topmost node is the most general, and the bottommost nodes are the most specific. Here is an example GO graph\n",
    "\n",
    "![](figures/example_go_graph.png)"
   ]
  },
  {
   "cell_type": "markdown",
   "metadata": {},
   "source": [
    "## Perform GO enrichment analysis (GOEA)\n",
    "\n",
    "\n",
    "### GOEA Step 1: Download GO graph file of \"obo\" type (same for all species)\n",
    "\n",
    "This will download the file `\"go-basic.obo\"` if it doesn't already exist. This only needs to be done once."
   ]
  },
  {
   "cell_type": "code",
   "execution_count": 3,
   "metadata": {
    "collapsed": false
   },
   "outputs": [
    {
     "name": "stdout",
     "output_type": "stream",
     "text": [
      "  EXISTS: go-basic.obo\n"
     ]
    },
    {
     "data": {
      "text/plain": [
       "'go-basic.obo'"
      ]
     },
     "execution_count": 3,
     "metadata": {},
     "output_type": "execute_result"
    }
   ],
   "source": [
    "from goatools.base import download_go_basic_obo\n",
    "obo_fname = download_go_basic_obo()\n",
    "\n",
    "# Show the filename\n",
    "obo_fname"
   ]
  },
  {
   "cell_type": "markdown",
   "metadata": {},
   "source": [
    "### GOEA Step 2: Create the GO graph (same for all species)"
   ]
  },
  {
   "cell_type": "code",
   "execution_count": 4,
   "metadata": {
    "collapsed": false
   },
   "outputs": [
    {
     "name": "stderr",
     "output_type": "stream",
     "text": [
      "load obo file go-basic.obo\n"
     ]
    },
    {
     "name": "stdout",
     "output_type": "stream",
     "text": [
      "go-basic.obo: format-version(1.2) data-version(releases/2016-06-15)\n"
     ]
    },
    {
     "name": "stderr",
     "output_type": "stream",
     "text": [
      "46823 nodes imported\n"
     ]
    }
   ],
   "source": [
    "obo_dag = goatools.obo_parser.GODag(obo_file='go-basic.obo')"
   ]
  },
  {
   "cell_type": "markdown",
   "metadata": {},
   "source": [
    "### GOEA Step 3: Get gene ID to GO id mapping (species-specific and experiment-specific)\n",
    "\n",
    "Here we are establishing the background for our GOEA. Defining your background is **very important** because, for example, tehre are lots of neural genes so if you use all human genes as background in your study of which genes are upregulated in Neuron Type X vs Neuron Type Y, you'll get a bunch of neuron genes (which is true) but not the smaller differences between X and Y. Typicall, you use *all expressed genes* as the background.\n",
    "\n",
    "For our data, we can access all expressed genes very simply by getting the column names in the dataframe: `shalek2013_expression.columns`."
   ]
  },
  {
   "cell_type": "code",
   "execution_count": null,
   "metadata": {
    "collapsed": true
   },
   "outputs": [],
   "source": [
    "GO_KEYS = 'go.BP', 'go.MF', 'go.CC'\n",
    "\n",
    "\n",
    "mygene_output = mg.querymany(shalek2013_expression.columns, \n",
    "                             scopes='symbol', fields=GO_KEYS, species='mouse', \n",
    "                             returnall=True)\n",
    "\n",
    "def parse_mygene_output(mygene_output):\n",
    "    \"\"\"Convert mygene.querymany output to a gene id to go term mapping\n",
    "    \n",
    "    Parameters\n",
    "    ----------\n",
    "    mygene_output : dict or list\n",
    "        Dictionary (returnall=True) or list (returnall=False) of \n",
    "        output from mygene.querymany\n",
    "        \n",
    "    Output\n",
    "    ------\n",
    "    gene_name_to_go : dict\n",
    "        Mapping of gene name to a set of GO ids    \n",
    "    \"\"\"\n",
    "    # if \"returnall=True\" was specified, need to get just the \"out\" key\n",
    "    if isinstance(mygene_output, dict):\n",
    "        mygene_output = mygene_output['out']\n",
    "\n",
    "    gene_name_to_go = collections.defaultdict(set)\n",
    "\n",
    "    for line in mygene_output:\n",
    "        gene_name = line['query']\n",
    "        for go_key in GO_KEYS:\n",
    "            try:\n",
    "                go_terms = line[go_key]\n",
    "            except KeyError:\n",
    "                continue\n",
    "            if isinstance(go_terms, dict):\n",
    "                go_ids = set([go_terms['id']])\n",
    "            else:\n",
    "                go_ids = set(x['id'] for x in go_terms)\n",
    "            gene_name_to_go[gene_name] |= go_ids\n",
    "    return gene_name_to_go\n",
    "\n",
    "gene_name_to_go = parse_mygene_output(mygene_output)"
   ]
  },
  {
   "cell_type": "markdown",
   "metadata": {},
   "source": [
    "### GOEA Step 4: Create a GO enrichment calculator object `go_enricher` (species- and experiment-specific)\n",
    "\n",
    "In this step, we are using the two objects we've created (`obo_dag` from Step 2 and `gene_name_to_go` from Step 3) plus the gene ids to create a `go_enricher` object"
   ]
  },
  {
   "cell_type": "code",
   "execution_count": 7,
   "metadata": {
    "collapsed": false
   },
   "outputs": [
    {
     "name": "stderr",
     "output_type": "stream",
     "text": [
      "Propagating term counts to parents ..\n"
     ]
    },
    {
     "name": "stdout",
     "output_type": "stream",
     "text": [
      " 5,425 out of  6,312 population items found in association\n"
     ]
    }
   ],
   "source": [
    "go_enricher = goatools.GOEnrichmentStudy(shalek2013_expression.columns, gene_name_to_go, obo_dag)"
   ]
  },
  {
   "cell_type": "code",
   "execution_count": 54,
   "metadata": {
    "collapsed": false
   },
   "outputs": [
    {
     "name": "stderr",
     "output_type": "stream",
     "text": [
      "Propagating term counts to parents ..\n"
     ]
    },
    {
     "name": "stdout",
     "output_type": "stream",
     "text": [
      "     9 out of     10 population items found in association\n",
      "Calculating uncorrected p-values using fisher\n",
      "     4 out of      5 study items found in association\n",
      "Running multitest correction: local bonferroni\n",
      "Running multitest correction: local sidak\n",
      "Running multitest correction: local holm\n",
      "1,004 GO terms are associated with 4 of 5 study items in a population of 10\n"
     ]
    },
    {
     "data": {
      "text/html": [
       "<div>\n",
       "<table border=\"1\" class=\"dataframe\">\n",
       "  <thead>\n",
       "    <tr style=\"text-align: right;\">\n",
       "      <th></th>\n",
       "      <th>GO</th>\n",
       "      <th>NS</th>\n",
       "      <th>_methods</th>\n",
       "      <th>enrichment</th>\n",
       "      <th>goterm</th>\n",
       "      <th>name</th>\n",
       "      <th>p_bonferroni</th>\n",
       "      <th>p_holm</th>\n",
       "      <th>p_sidak</th>\n",
       "      <th>p_uncorrected</th>\n",
       "      <th>pop_count</th>\n",
       "      <th>pop_items</th>\n",
       "      <th>pop_n</th>\n",
       "      <th>ratio_in_pop</th>\n",
       "      <th>ratio_in_study</th>\n",
       "      <th>study_count</th>\n",
       "      <th>study_items</th>\n",
       "      <th>study_n</th>\n",
       "    </tr>\n",
       "  </thead>\n",
       "  <tbody>\n",
       "    <tr>\n",
       "      <th>0</th>\n",
       "      <td>GO:0044710</td>\n",
       "      <td>BP</td>\n",
       "      <td>[(local, bonferroni, bonferroni), (local, sida...</td>\n",
       "      <td>e</td>\n",
       "      <td>GO:0044710\\tlevel-02\\tdepth-02\\tsingle-organis...</td>\n",
       "      <td>single-organism metabolic process</td>\n",
       "      <td>1.0</td>\n",
       "      <td>1.0</td>\n",
       "      <td>1.0</td>\n",
       "      <td>0.047619</td>\n",
       "      <td>4</td>\n",
       "      <td>{PARK2, AGPAT4, NPL, QK}</td>\n",
       "      <td>10</td>\n",
       "      <td>(4, 10)</td>\n",
       "      <td>(4, 5)</td>\n",
       "      <td>4</td>\n",
       "      <td>{PARK2, AGPAT4, NPL, QK}</td>\n",
       "      <td>5</td>\n",
       "    </tr>\n",
       "    <tr>\n",
       "      <th>1</th>\n",
       "      <td>GO:0045597</td>\n",
       "      <td>BP</td>\n",
       "      <td>[(local, bonferroni, bonferroni), (local, sida...</td>\n",
       "      <td>e</td>\n",
       "      <td>GO:0045597\\tlevel-05\\tdepth-05\\tpositive regul...</td>\n",
       "      <td>positive regulation of cell differentiation</td>\n",
       "      <td>1.0</td>\n",
       "      <td>1.0</td>\n",
       "      <td>1.0</td>\n",
       "      <td>0.444444</td>\n",
       "      <td>2</td>\n",
       "      <td>{PARK2, QK}</td>\n",
       "      <td>10</td>\n",
       "      <td>(2, 10)</td>\n",
       "      <td>(2, 5)</td>\n",
       "      <td>2</td>\n",
       "      <td>{PARK2, QK}</td>\n",
       "      <td>5</td>\n",
       "    </tr>\n",
       "    <tr>\n",
       "      <th>2</th>\n",
       "      <td>GO:0044707</td>\n",
       "      <td>BP</td>\n",
       "      <td>[(local, bonferroni, bonferroni), (local, sida...</td>\n",
       "      <td>e</td>\n",
       "      <td>GO:0044707\\tlevel-02\\tdepth-02\\tsingle-multice...</td>\n",
       "      <td>single-multicellular organism process</td>\n",
       "      <td>1.0</td>\n",
       "      <td>1.0</td>\n",
       "      <td>1.0</td>\n",
       "      <td>0.444444</td>\n",
       "      <td>2</td>\n",
       "      <td>{PARK2, QK}</td>\n",
       "      <td>10</td>\n",
       "      <td>(2, 10)</td>\n",
       "      <td>(2, 5)</td>\n",
       "      <td>2</td>\n",
       "      <td>{PARK2, QK}</td>\n",
       "      <td>5</td>\n",
       "    </tr>\n",
       "    <tr>\n",
       "      <th>3</th>\n",
       "      <td>GO:0009890</td>\n",
       "      <td>BP</td>\n",
       "      <td>[(local, bonferroni, bonferroni), (local, sida...</td>\n",
       "      <td>e</td>\n",
       "      <td>GO:0009890\\tlevel-05\\tdepth-05\\tnegative regul...</td>\n",
       "      <td>negative regulation of biosynthetic process</td>\n",
       "      <td>1.0</td>\n",
       "      <td>1.0</td>\n",
       "      <td>1.0</td>\n",
       "      <td>0.444444</td>\n",
       "      <td>2</td>\n",
       "      <td>{PARK2, QK}</td>\n",
       "      <td>10</td>\n",
       "      <td>(2, 10)</td>\n",
       "      <td>(2, 5)</td>\n",
       "      <td>2</td>\n",
       "      <td>{PARK2, QK}</td>\n",
       "      <td>5</td>\n",
       "    </tr>\n",
       "    <tr>\n",
       "      <th>4</th>\n",
       "      <td>GO:0031344</td>\n",
       "      <td>BP</td>\n",
       "      <td>[(local, bonferroni, bonferroni), (local, sida...</td>\n",
       "      <td>e</td>\n",
       "      <td>GO:0031344\\tlevel-05\\tdepth-05\\tregulation of ...</td>\n",
       "      <td>regulation of cell projection organization</td>\n",
       "      <td>1.0</td>\n",
       "      <td>1.0</td>\n",
       "      <td>1.0</td>\n",
       "      <td>0.444444</td>\n",
       "      <td>2</td>\n",
       "      <td>{PARK2, QK}</td>\n",
       "      <td>10</td>\n",
       "      <td>(2, 10)</td>\n",
       "      <td>(2, 5)</td>\n",
       "      <td>2</td>\n",
       "      <td>{PARK2, QK}</td>\n",
       "      <td>5</td>\n",
       "    </tr>\n",
       "    <tr>\n",
       "      <th>5</th>\n",
       "      <td>GO:0044255</td>\n",
       "      <td>BP</td>\n",
       "      <td>[(local, bonferroni, bonferroni), (local, sida...</td>\n",
       "      <td>e</td>\n",
       "      <td>GO:0044255\\tlevel-03\\tdepth-04\\tcellular lipid...</td>\n",
       "      <td>cellular lipid metabolic process</td>\n",
       "      <td>1.0</td>\n",
       "      <td>1.0</td>\n",
       "      <td>1.0</td>\n",
       "      <td>0.444444</td>\n",
       "      <td>2</td>\n",
       "      <td>{AGPAT4, QK}</td>\n",
       "      <td>10</td>\n",
       "      <td>(2, 10)</td>\n",
       "      <td>(2, 5)</td>\n",
       "      <td>2</td>\n",
       "      <td>{AGPAT4, QK}</td>\n",
       "      <td>5</td>\n",
       "    </tr>\n",
       "    <tr>\n",
       "      <th>6</th>\n",
       "      <td>GO:0009892</td>\n",
       "      <td>BP</td>\n",
       "      <td>[(local, bonferroni, bonferroni), (local, sida...</td>\n",
       "      <td>e</td>\n",
       "      <td>GO:0009892\\tlevel-04\\tdepth-04\\tnegative regul...</td>\n",
       "      <td>negative regulation of metabolic process</td>\n",
       "      <td>1.0</td>\n",
       "      <td>1.0</td>\n",
       "      <td>1.0</td>\n",
       "      <td>0.444444</td>\n",
       "      <td>2</td>\n",
       "      <td>{PARK2, QK}</td>\n",
       "      <td>10</td>\n",
       "      <td>(2, 10)</td>\n",
       "      <td>(2, 5)</td>\n",
       "      <td>2</td>\n",
       "      <td>{PARK2, QK}</td>\n",
       "      <td>5</td>\n",
       "    </tr>\n",
       "    <tr>\n",
       "      <th>7</th>\n",
       "      <td>GO:0006082</td>\n",
       "      <td>BP</td>\n",
       "      <td>[(local, bonferroni, bonferroni), (local, sida...</td>\n",
       "      <td>e</td>\n",
       "      <td>GO:0006082\\tlevel-03\\tdepth-04\\torganic acid m...</td>\n",
       "      <td>organic acid metabolic process</td>\n",
       "      <td>1.0</td>\n",
       "      <td>1.0</td>\n",
       "      <td>1.0</td>\n",
       "      <td>0.444444</td>\n",
       "      <td>2</td>\n",
       "      <td>{NPL, QK}</td>\n",
       "      <td>10</td>\n",
       "      <td>(2, 10)</td>\n",
       "      <td>(2, 5)</td>\n",
       "      <td>2</td>\n",
       "      <td>{NPL, QK}</td>\n",
       "      <td>5</td>\n",
       "    </tr>\n",
       "    <tr>\n",
       "      <th>8</th>\n",
       "      <td>GO:0010976</td>\n",
       "      <td>BP</td>\n",
       "      <td>[(local, bonferroni, bonferroni), (local, sida...</td>\n",
       "      <td>e</td>\n",
       "      <td>GO:0010976\\tlevel-07\\tdepth-09\\tpositive regul...</td>\n",
       "      <td>positive regulation of neuron projection devel...</td>\n",
       "      <td>1.0</td>\n",
       "      <td>1.0</td>\n",
       "      <td>1.0</td>\n",
       "      <td>0.444444</td>\n",
       "      <td>2</td>\n",
       "      <td>{PARK2, QK}</td>\n",
       "      <td>10</td>\n",
       "      <td>(2, 10)</td>\n",
       "      <td>(2, 5)</td>\n",
       "      <td>2</td>\n",
       "      <td>{PARK2, QK}</td>\n",
       "      <td>5</td>\n",
       "    </tr>\n",
       "    <tr>\n",
       "      <th>9</th>\n",
       "      <td>GO:0044248</td>\n",
       "      <td>BP</td>\n",
       "      <td>[(local, bonferroni, bonferroni), (local, sida...</td>\n",
       "      <td>e</td>\n",
       "      <td>GO:0044248\\tlevel-03\\tdepth-03\\tcellular catab...</td>\n",
       "      <td>cellular catabolic process</td>\n",
       "      <td>1.0</td>\n",
       "      <td>1.0</td>\n",
       "      <td>1.0</td>\n",
       "      <td>0.444444</td>\n",
       "      <td>2</td>\n",
       "      <td>{PARK2, NPL}</td>\n",
       "      <td>10</td>\n",
       "      <td>(2, 10)</td>\n",
       "      <td>(2, 5)</td>\n",
       "      <td>2</td>\n",
       "      <td>{PARK2, NPL}</td>\n",
       "      <td>5</td>\n",
       "    </tr>\n",
       "    <tr>\n",
       "      <th>10</th>\n",
       "      <td>GO:0051172</td>\n",
       "      <td>BP</td>\n",
       "      <td>[(local, bonferroni, bonferroni), (local, sida...</td>\n",
       "      <td>e</td>\n",
       "      <td>GO:0051172\\tlevel-05\\tdepth-05\\tnegative regul...</td>\n",
       "      <td>negative regulation of nitrogen compound metab...</td>\n",
       "      <td>1.0</td>\n",
       "      <td>1.0</td>\n",
       "      <td>1.0</td>\n",
       "      <td>0.444444</td>\n",
       "      <td>2</td>\n",
       "      <td>{PARK2, QK}</td>\n",
       "      <td>10</td>\n",
       "      <td>(2, 10)</td>\n",
       "      <td>(2, 5)</td>\n",
       "      <td>2</td>\n",
       "      <td>{PARK2, QK}</td>\n",
       "      <td>5</td>\n",
       "    </tr>\n",
       "    <tr>\n",
       "      <th>11</th>\n",
       "      <td>GO:0050767</td>\n",
       "      <td>BP</td>\n",
       "      <td>[(local, bonferroni, bonferroni), (local, sida...</td>\n",
       "      <td>e</td>\n",
       "      <td>GO:0050767\\tlevel-06\\tdepth-06\\tregulation of ...</td>\n",
       "      <td>regulation of neurogenesis</td>\n",
       "      <td>1.0</td>\n",
       "      <td>1.0</td>\n",
       "      <td>1.0</td>\n",
       "      <td>0.444444</td>\n",
       "      <td>2</td>\n",
       "      <td>{PARK2, QK}</td>\n",
       "      <td>10</td>\n",
       "      <td>(2, 10)</td>\n",
       "      <td>(2, 5)</td>\n",
       "      <td>2</td>\n",
       "      <td>{PARK2, QK}</td>\n",
       "      <td>5</td>\n",
       "    </tr>\n",
       "    <tr>\n",
       "      <th>12</th>\n",
       "      <td>GO:0051094</td>\n",
       "      <td>BP</td>\n",
       "      <td>[(local, bonferroni, bonferroni), (local, sida...</td>\n",
       "      <td>e</td>\n",
       "      <td>GO:0051094\\tlevel-04\\tdepth-04\\tpositive regul...</td>\n",
       "      <td>positive regulation of developmental process</td>\n",
       "      <td>1.0</td>\n",
       "      <td>1.0</td>\n",
       "      <td>1.0</td>\n",
       "      <td>0.444444</td>\n",
       "      <td>2</td>\n",
       "      <td>{PARK2, QK}</td>\n",
       "      <td>10</td>\n",
       "      <td>(2, 10)</td>\n",
       "      <td>(2, 5)</td>\n",
       "      <td>2</td>\n",
       "      <td>{PARK2, QK}</td>\n",
       "      <td>5</td>\n",
       "    </tr>\n",
       "    <tr>\n",
       "      <th>13</th>\n",
       "      <td>GO:2000113</td>\n",
       "      <td>BP</td>\n",
       "      <td>[(local, bonferroni, bonferroni), (local, sida...</td>\n",
       "      <td>e</td>\n",
       "      <td>GO:2000113\\tlevel-07\\tdepth-07\\tnegative regul...</td>\n",
       "      <td>negative regulation of cellular macromolecule ...</td>\n",
       "      <td>1.0</td>\n",
       "      <td>1.0</td>\n",
       "      <td>1.0</td>\n",
       "      <td>0.444444</td>\n",
       "      <td>2</td>\n",
       "      <td>{PARK2, QK}</td>\n",
       "      <td>10</td>\n",
       "      <td>(2, 10)</td>\n",
       "      <td>(2, 5)</td>\n",
       "      <td>2</td>\n",
       "      <td>{PARK2, QK}</td>\n",
       "      <td>5</td>\n",
       "    </tr>\n",
       "    <tr>\n",
       "      <th>14</th>\n",
       "      <td>GO:0051960</td>\n",
       "      <td>BP</td>\n",
       "      <td>[(local, bonferroni, bonferroni), (local, sida...</td>\n",
       "      <td>e</td>\n",
       "      <td>GO:0051960\\tlevel-05\\tdepth-05\\tregulation of ...</td>\n",
       "      <td>regulation of nervous system development</td>\n",
       "      <td>1.0</td>\n",
       "      <td>1.0</td>\n",
       "      <td>1.0</td>\n",
       "      <td>0.444444</td>\n",
       "      <td>2</td>\n",
       "      <td>{PARK2, QK}</td>\n",
       "      <td>10</td>\n",
       "      <td>(2, 10)</td>\n",
       "      <td>(2, 5)</td>\n",
       "      <td>2</td>\n",
       "      <td>{PARK2, QK}</td>\n",
       "      <td>5</td>\n",
       "    </tr>\n",
       "    <tr>\n",
       "      <th>15</th>\n",
       "      <td>GO:0044281</td>\n",
       "      <td>BP</td>\n",
       "      <td>[(local, bonferroni, bonferroni), (local, sida...</td>\n",
       "      <td>e</td>\n",
       "      <td>GO:0044281\\tlevel-03\\tdepth-03\\tsmall molecule...</td>\n",
       "      <td>small molecule metabolic process</td>\n",
       "      <td>1.0</td>\n",
       "      <td>1.0</td>\n",
       "      <td>1.0</td>\n",
       "      <td>0.444444</td>\n",
       "      <td>2</td>\n",
       "      <td>{NPL, QK}</td>\n",
       "      <td>10</td>\n",
       "      <td>(2, 10)</td>\n",
       "      <td>(2, 5)</td>\n",
       "      <td>2</td>\n",
       "      <td>{NPL, QK}</td>\n",
       "      <td>5</td>\n",
       "    </tr>\n",
       "    <tr>\n",
       "      <th>16</th>\n",
       "      <td>GO:0051248</td>\n",
       "      <td>BP</td>\n",
       "      <td>[(local, bonferroni, bonferroni), (local, sida...</td>\n",
       "      <td>e</td>\n",
       "      <td>GO:0051248\\tlevel-06\\tdepth-06\\tnegative regul...</td>\n",
       "      <td>negative regulation of protein metabolic process</td>\n",
       "      <td>1.0</td>\n",
       "      <td>1.0</td>\n",
       "      <td>1.0</td>\n",
       "      <td>0.444444</td>\n",
       "      <td>2</td>\n",
       "      <td>{PARK2, QK}</td>\n",
       "      <td>10</td>\n",
       "      <td>(2, 10)</td>\n",
       "      <td>(2, 5)</td>\n",
       "      <td>2</td>\n",
       "      <td>{PARK2, QK}</td>\n",
       "      <td>5</td>\n",
       "    </tr>\n",
       "    <tr>\n",
       "      <th>17</th>\n",
       "      <td>GO:0010629</td>\n",
       "      <td>BP</td>\n",
       "      <td>[(local, bonferroni, bonferroni), (local, sida...</td>\n",
       "      <td>e</td>\n",
       "      <td>GO:0010629\\tlevel-06\\tdepth-06\\tnegative regul...</td>\n",
       "      <td>negative regulation of gene expression</td>\n",
       "      <td>1.0</td>\n",
       "      <td>1.0</td>\n",
       "      <td>1.0</td>\n",
       "      <td>0.444444</td>\n",
       "      <td>2</td>\n",
       "      <td>{PARK2, QK}</td>\n",
       "      <td>10</td>\n",
       "      <td>(2, 10)</td>\n",
       "      <td>(2, 5)</td>\n",
       "      <td>2</td>\n",
       "      <td>{PARK2, QK}</td>\n",
       "      <td>5</td>\n",
       "    </tr>\n",
       "    <tr>\n",
       "      <th>18</th>\n",
       "      <td>GO:0043436</td>\n",
       "      <td>BP</td>\n",
       "      <td>[(local, bonferroni, bonferroni), (local, sida...</td>\n",
       "      <td>e</td>\n",
       "      <td>GO:0043436\\tlevel-04\\tdepth-05\\toxoacid metabo...</td>\n",
       "      <td>oxoacid metabolic process</td>\n",
       "      <td>1.0</td>\n",
       "      <td>1.0</td>\n",
       "      <td>1.0</td>\n",
       "      <td>0.444444</td>\n",
       "      <td>2</td>\n",
       "      <td>{NPL, QK}</td>\n",
       "      <td>10</td>\n",
       "      <td>(2, 10)</td>\n",
       "      <td>(2, 5)</td>\n",
       "      <td>2</td>\n",
       "      <td>{NPL, QK}</td>\n",
       "      <td>5</td>\n",
       "    </tr>\n",
       "    <tr>\n",
       "      <th>19</th>\n",
       "      <td>GO:0032269</td>\n",
       "      <td>BP</td>\n",
       "      <td>[(local, bonferroni, bonferroni), (local, sida...</td>\n",
       "      <td>e</td>\n",
       "      <td>GO:0032269\\tlevel-06\\tdepth-07\\tnegative regul...</td>\n",
       "      <td>negative regulation of cellular protein metabo...</td>\n",
       "      <td>1.0</td>\n",
       "      <td>1.0</td>\n",
       "      <td>1.0</td>\n",
       "      <td>0.444444</td>\n",
       "      <td>2</td>\n",
       "      <td>{PARK2, QK}</td>\n",
       "      <td>10</td>\n",
       "      <td>(2, 10)</td>\n",
       "      <td>(2, 5)</td>\n",
       "      <td>2</td>\n",
       "      <td>{PARK2, QK}</td>\n",
       "      <td>5</td>\n",
       "    </tr>\n",
       "    <tr>\n",
       "      <th>20</th>\n",
       "      <td>GO:0032501</td>\n",
       "      <td>BP</td>\n",
       "      <td>[(local, bonferroni, bonferroni), (local, sida...</td>\n",
       "      <td>e</td>\n",
       "      <td>GO:0032501\\tlevel-01\\tdepth-01\\tmulticellular ...</td>\n",
       "      <td>multicellular organismal process</td>\n",
       "      <td>1.0</td>\n",
       "      <td>1.0</td>\n",
       "      <td>1.0</td>\n",
       "      <td>0.444444</td>\n",
       "      <td>2</td>\n",
       "      <td>{PARK2, QK}</td>\n",
       "      <td>10</td>\n",
       "      <td>(2, 10)</td>\n",
       "      <td>(2, 5)</td>\n",
       "      <td>2</td>\n",
       "      <td>{PARK2, QK}</td>\n",
       "      <td>5</td>\n",
       "    </tr>\n",
       "    <tr>\n",
       "      <th>21</th>\n",
       "      <td>GO:1901575</td>\n",
       "      <td>BP</td>\n",
       "      <td>[(local, bonferroni, bonferroni), (local, sida...</td>\n",
       "      <td>e</td>\n",
       "      <td>GO:1901575\\tlevel-03\\tdepth-03\\torganic substa...</td>\n",
       "      <td>organic substance catabolic process</td>\n",
       "      <td>1.0</td>\n",
       "      <td>1.0</td>\n",
       "      <td>1.0</td>\n",
       "      <td>0.444444</td>\n",
       "      <td>2</td>\n",
       "      <td>{PARK2, NPL}</td>\n",
       "      <td>10</td>\n",
       "      <td>(2, 10)</td>\n",
       "      <td>(2, 5)</td>\n",
       "      <td>2</td>\n",
       "      <td>{PARK2, NPL}</td>\n",
       "      <td>5</td>\n",
       "    </tr>\n",
       "    <tr>\n",
       "      <th>22</th>\n",
       "      <td>GO:0010605</td>\n",
       "      <td>BP</td>\n",
       "      <td>[(local, bonferroni, bonferroni), (local, sida...</td>\n",
       "      <td>e</td>\n",
       "      <td>GO:0010605\\tlevel-05\\tdepth-05\\tnegative regul...</td>\n",
       "      <td>negative regulation of macromolecule metabolic...</td>\n",
       "      <td>1.0</td>\n",
       "      <td>1.0</td>\n",
       "      <td>1.0</td>\n",
       "      <td>0.444444</td>\n",
       "      <td>2</td>\n",
       "      <td>{PARK2, QK}</td>\n",
       "      <td>10</td>\n",
       "      <td>(2, 10)</td>\n",
       "      <td>(2, 5)</td>\n",
       "      <td>2</td>\n",
       "      <td>{PARK2, QK}</td>\n",
       "      <td>5</td>\n",
       "    </tr>\n",
       "    <tr>\n",
       "      <th>23</th>\n",
       "      <td>GO:0044712</td>\n",
       "      <td>BP</td>\n",
       "      <td>[(local, bonferroni, bonferroni), (local, sida...</td>\n",
       "      <td>e</td>\n",
       "      <td>GO:0044712\\tlevel-03\\tdepth-03\\tsingle-organis...</td>\n",
       "      <td>single-organism catabolic process</td>\n",
       "      <td>1.0</td>\n",
       "      <td>1.0</td>\n",
       "      <td>1.0</td>\n",
       "      <td>0.444444</td>\n",
       "      <td>2</td>\n",
       "      <td>{PARK2, NPL}</td>\n",
       "      <td>10</td>\n",
       "      <td>(2, 10)</td>\n",
       "      <td>(2, 5)</td>\n",
       "      <td>2</td>\n",
       "      <td>{PARK2, NPL}</td>\n",
       "      <td>5</td>\n",
       "    </tr>\n",
       "    <tr>\n",
       "      <th>24</th>\n",
       "      <td>GO:0050769</td>\n",
       "      <td>BP</td>\n",
       "      <td>[(local, bonferroni, bonferroni), (local, sida...</td>\n",
       "      <td>e</td>\n",
       "      <td>GO:0050769\\tlevel-06\\tdepth-07\\tpositive regul...</td>\n",
       "      <td>positive regulation of neurogenesis</td>\n",
       "      <td>1.0</td>\n",
       "      <td>1.0</td>\n",
       "      <td>1.0</td>\n",
       "      <td>0.444444</td>\n",
       "      <td>2</td>\n",
       "      <td>{PARK2, QK}</td>\n",
       "      <td>10</td>\n",
       "      <td>(2, 10)</td>\n",
       "      <td>(2, 5)</td>\n",
       "      <td>2</td>\n",
       "      <td>{PARK2, QK}</td>\n",
       "      <td>5</td>\n",
       "    </tr>\n",
       "    <tr>\n",
       "      <th>25</th>\n",
       "      <td>GO:0050793</td>\n",
       "      <td>BP</td>\n",
       "      <td>[(local, bonferroni, bonferroni), (local, sida...</td>\n",
       "      <td>e</td>\n",
       "      <td>GO:0050793\\tlevel-03\\tdepth-03\\tregulation of ...</td>\n",
       "      <td>regulation of developmental process</td>\n",
       "      <td>1.0</td>\n",
       "      <td>1.0</td>\n",
       "      <td>1.0</td>\n",
       "      <td>0.444444</td>\n",
       "      <td>2</td>\n",
       "      <td>{PARK2, QK}</td>\n",
       "      <td>10</td>\n",
       "      <td>(2, 10)</td>\n",
       "      <td>(2, 5)</td>\n",
       "      <td>2</td>\n",
       "      <td>{PARK2, QK}</td>\n",
       "      <td>5</td>\n",
       "    </tr>\n",
       "    <tr>\n",
       "      <th>26</th>\n",
       "      <td>GO:0051246</td>\n",
       "      <td>BP</td>\n",
       "      <td>[(local, bonferroni, bonferroni), (local, sida...</td>\n",
       "      <td>e</td>\n",
       "      <td>GO:0051246\\tlevel-05\\tdepth-05\\tregulation of ...</td>\n",
       "      <td>regulation of protein metabolic process</td>\n",
       "      <td>1.0</td>\n",
       "      <td>1.0</td>\n",
       "      <td>1.0</td>\n",
       "      <td>0.444444</td>\n",
       "      <td>2</td>\n",
       "      <td>{PARK2, QK}</td>\n",
       "      <td>10</td>\n",
       "      <td>(2, 10)</td>\n",
       "      <td>(2, 5)</td>\n",
       "      <td>2</td>\n",
       "      <td>{PARK2, QK}</td>\n",
       "      <td>5</td>\n",
       "    </tr>\n",
       "    <tr>\n",
       "      <th>27</th>\n",
       "      <td>GO:0045664</td>\n",
       "      <td>BP</td>\n",
       "      <td>[(local, bonferroni, bonferroni), (local, sida...</td>\n",
       "      <td>e</td>\n",
       "      <td>GO:0045664\\tlevel-07\\tdepth-07\\tregulation of ...</td>\n",
       "      <td>regulation of neuron differentiation</td>\n",
       "      <td>1.0</td>\n",
       "      <td>1.0</td>\n",
       "      <td>1.0</td>\n",
       "      <td>0.444444</td>\n",
       "      <td>2</td>\n",
       "      <td>{PARK2, QK}</td>\n",
       "      <td>10</td>\n",
       "      <td>(2, 10)</td>\n",
       "      <td>(2, 5)</td>\n",
       "      <td>2</td>\n",
       "      <td>{PARK2, QK}</td>\n",
       "      <td>5</td>\n",
       "    </tr>\n",
       "    <tr>\n",
       "      <th>28</th>\n",
       "      <td>GO:0006629</td>\n",
       "      <td>BP</td>\n",
       "      <td>[(local, bonferroni, bonferroni), (local, sida...</td>\n",
       "      <td>e</td>\n",
       "      <td>GO:0006629\\tlevel-03\\tdepth-03\\tlipid metaboli...</td>\n",
       "      <td>lipid metabolic process</td>\n",
       "      <td>1.0</td>\n",
       "      <td>1.0</td>\n",
       "      <td>1.0</td>\n",
       "      <td>0.444444</td>\n",
       "      <td>2</td>\n",
       "      <td>{AGPAT4, QK}</td>\n",
       "      <td>10</td>\n",
       "      <td>(2, 10)</td>\n",
       "      <td>(2, 5)</td>\n",
       "      <td>2</td>\n",
       "      <td>{AGPAT4, QK}</td>\n",
       "      <td>5</td>\n",
       "    </tr>\n",
       "    <tr>\n",
       "      <th>29</th>\n",
       "      <td>GO:0043066</td>\n",
       "      <td>BP</td>\n",
       "      <td>[(local, bonferroni, bonferroni), (local, sida...</td>\n",
       "      <td>e</td>\n",
       "      <td>GO:0043066\\tlevel-07\\tdepth-07\\tnegative regul...</td>\n",
       "      <td>negative regulation of apoptotic process</td>\n",
       "      <td>1.0</td>\n",
       "      <td>1.0</td>\n",
       "      <td>1.0</td>\n",
       "      <td>0.444444</td>\n",
       "      <td>2</td>\n",
       "      <td>{PARK2, QK}</td>\n",
       "      <td>10</td>\n",
       "      <td>(2, 10)</td>\n",
       "      <td>(2, 5)</td>\n",
       "      <td>2</td>\n",
       "      <td>{PARK2, QK}</td>\n",
       "      <td>5</td>\n",
       "    </tr>\n",
       "    <tr>\n",
       "      <th>...</th>\n",
       "      <td>...</td>\n",
       "      <td>...</td>\n",
       "      <td>...</td>\n",
       "      <td>...</td>\n",
       "      <td>...</td>\n",
       "      <td>...</td>\n",
       "      <td>...</td>\n",
       "      <td>...</td>\n",
       "      <td>...</td>\n",
       "      <td>...</td>\n",
       "      <td>...</td>\n",
       "      <td>...</td>\n",
       "      <td>...</td>\n",
       "      <td>...</td>\n",
       "      <td>...</td>\n",
       "      <td>...</td>\n",
       "      <td>...</td>\n",
       "      <td>...</td>\n",
       "    </tr>\n",
       "    <tr>\n",
       "      <th>974</th>\n",
       "      <td>GO:0004871</td>\n",
       "      <td>MF</td>\n",
       "      <td>[(local, bonferroni, bonferroni), (local, sida...</td>\n",
       "      <td>p</td>\n",
       "      <td>GO:0004871\\tlevel-01\\tdepth-01\\tsignal transdu...</td>\n",
       "      <td>signal transducer activity</td>\n",
       "      <td>1.0</td>\n",
       "      <td>1.0</td>\n",
       "      <td>1.0</td>\n",
       "      <td>1.000000</td>\n",
       "      <td>1</td>\n",
       "      <td>{IGF2R}</td>\n",
       "      <td>10</td>\n",
       "      <td>(1, 10)</td>\n",
       "      <td>(0, 5)</td>\n",
       "      <td>0</td>\n",
       "      <td>{}</td>\n",
       "      <td>5</td>\n",
       "    </tr>\n",
       "    <tr>\n",
       "      <th>975</th>\n",
       "      <td>GO:0003735</td>\n",
       "      <td>MF</td>\n",
       "      <td>[(local, bonferroni, bonferroni), (local, sida...</td>\n",
       "      <td>p</td>\n",
       "      <td>GO:0003735\\tlevel-02\\tdepth-02\\tstructural con...</td>\n",
       "      <td>structural constituent of ribosome</td>\n",
       "      <td>1.0</td>\n",
       "      <td>1.0</td>\n",
       "      <td>1.0</td>\n",
       "      <td>1.000000</td>\n",
       "      <td>1</td>\n",
       "      <td>{MRPL18}</td>\n",
       "      <td>10</td>\n",
       "      <td>(1, 10)</td>\n",
       "      <td>(0, 5)</td>\n",
       "      <td>0</td>\n",
       "      <td>{}</td>\n",
       "      <td>5</td>\n",
       "    </tr>\n",
       "    <tr>\n",
       "      <th>976</th>\n",
       "      <td>GO:0019901</td>\n",
       "      <td>MF</td>\n",
       "      <td>[(local, bonferroni, bonferroni), (local, sida...</td>\n",
       "      <td>e</td>\n",
       "      <td>GO:0019901\\tlevel-05\\tdepth-05\\tprotein kinase...</td>\n",
       "      <td>protein kinase binding</td>\n",
       "      <td>1.0</td>\n",
       "      <td>1.0</td>\n",
       "      <td>1.0</td>\n",
       "      <td>1.000000</td>\n",
       "      <td>1</td>\n",
       "      <td>{PARK2}</td>\n",
       "      <td>10</td>\n",
       "      <td>(1, 10)</td>\n",
       "      <td>(1, 5)</td>\n",
       "      <td>1</td>\n",
       "      <td>{PARK2}</td>\n",
       "      <td>5</td>\n",
       "    </tr>\n",
       "    <tr>\n",
       "      <th>977</th>\n",
       "      <td>GO:0016879</td>\n",
       "      <td>MF</td>\n",
       "      <td>[(local, bonferroni, bonferroni), (local, sida...</td>\n",
       "      <td>e</td>\n",
       "      <td>GO:0016879\\tlevel-03\\tdepth-03\\tligase activit...</td>\n",
       "      <td>ligase activity, forming carbon-nitrogen bonds</td>\n",
       "      <td>1.0</td>\n",
       "      <td>1.0</td>\n",
       "      <td>1.0</td>\n",
       "      <td>1.000000</td>\n",
       "      <td>1</td>\n",
       "      <td>{PARK2}</td>\n",
       "      <td>10</td>\n",
       "      <td>(1, 10)</td>\n",
       "      <td>(1, 5)</td>\n",
       "      <td>1</td>\n",
       "      <td>{PARK2}</td>\n",
       "      <td>5</td>\n",
       "    </tr>\n",
       "    <tr>\n",
       "      <th>978</th>\n",
       "      <td>GO:0019900</td>\n",
       "      <td>MF</td>\n",
       "      <td>[(local, bonferroni, bonferroni), (local, sida...</td>\n",
       "      <td>e</td>\n",
       "      <td>GO:0019900\\tlevel-04\\tdepth-04\\tkinase binding...</td>\n",
       "      <td>kinase binding</td>\n",
       "      <td>1.0</td>\n",
       "      <td>1.0</td>\n",
       "      <td>1.0</td>\n",
       "      <td>1.000000</td>\n",
       "      <td>1</td>\n",
       "      <td>{PARK2}</td>\n",
       "      <td>10</td>\n",
       "      <td>(1, 10)</td>\n",
       "      <td>(1, 5)</td>\n",
       "      <td>1</td>\n",
       "      <td>{PARK2}</td>\n",
       "      <td>5</td>\n",
       "    </tr>\n",
       "    <tr>\n",
       "      <th>979</th>\n",
       "      <td>GO:0004521</td>\n",
       "      <td>MF</td>\n",
       "      <td>[(local, bonferroni, bonferroni), (local, sida...</td>\n",
       "      <td>p</td>\n",
       "      <td>GO:0004521\\tlevel-06\\tdepth-06\\tendoribonuclea...</td>\n",
       "      <td>endoribonuclease activity</td>\n",
       "      <td>1.0</td>\n",
       "      <td>1.0</td>\n",
       "      <td>1.0</td>\n",
       "      <td>1.000000</td>\n",
       "      <td>1</td>\n",
       "      <td>{RNASEL}</td>\n",
       "      <td>10</td>\n",
       "      <td>(1, 10)</td>\n",
       "      <td>(0, 5)</td>\n",
       "      <td>0</td>\n",
       "      <td>{}</td>\n",
       "      <td>5</td>\n",
       "    </tr>\n",
       "    <tr>\n",
       "      <th>980</th>\n",
       "      <td>GO:0016881</td>\n",
       "      <td>MF</td>\n",
       "      <td>[(local, bonferroni, bonferroni), (local, sida...</td>\n",
       "      <td>e</td>\n",
       "      <td>GO:0016881\\tlevel-04\\tdepth-04\\tacid-amino aci...</td>\n",
       "      <td>acid-amino acid ligase activity</td>\n",
       "      <td>1.0</td>\n",
       "      <td>1.0</td>\n",
       "      <td>1.0</td>\n",
       "      <td>1.000000</td>\n",
       "      <td>1</td>\n",
       "      <td>{PARK2}</td>\n",
       "      <td>10</td>\n",
       "      <td>(1, 10)</td>\n",
       "      <td>(1, 5)</td>\n",
       "      <td>1</td>\n",
       "      <td>{PARK2}</td>\n",
       "      <td>5</td>\n",
       "    </tr>\n",
       "    <tr>\n",
       "      <th>981</th>\n",
       "      <td>GO:0005520</td>\n",
       "      <td>MF</td>\n",
       "      <td>[(local, bonferroni, bonferroni), (local, sida...</td>\n",
       "      <td>p</td>\n",
       "      <td>GO:0005520\\tlevel-04\\tdepth-04\\tinsulin-like g...</td>\n",
       "      <td>insulin-like growth factor binding</td>\n",
       "      <td>1.0</td>\n",
       "      <td>1.0</td>\n",
       "      <td>1.0</td>\n",
       "      <td>1.000000</td>\n",
       "      <td>1</td>\n",
       "      <td>{IGF2R}</td>\n",
       "      <td>10</td>\n",
       "      <td>(1, 10)</td>\n",
       "      <td>(0, 5)</td>\n",
       "      <td>0</td>\n",
       "      <td>{}</td>\n",
       "      <td>5</td>\n",
       "    </tr>\n",
       "    <tr>\n",
       "      <th>982</th>\n",
       "      <td>GO:0042826</td>\n",
       "      <td>MF</td>\n",
       "      <td>[(local, bonferroni, bonferroni), (local, sida...</td>\n",
       "      <td>e</td>\n",
       "      <td>GO:0042826\\tlevel-04\\tdepth-04\\thistone deacet...</td>\n",
       "      <td>histone deacetylase binding</td>\n",
       "      <td>1.0</td>\n",
       "      <td>1.0</td>\n",
       "      <td>1.0</td>\n",
       "      <td>1.000000</td>\n",
       "      <td>1</td>\n",
       "      <td>{PARK2}</td>\n",
       "      <td>10</td>\n",
       "      <td>(1, 10)</td>\n",
       "      <td>(1, 5)</td>\n",
       "      <td>1</td>\n",
       "      <td>{PARK2}</td>\n",
       "      <td>5</td>\n",
       "    </tr>\n",
       "    <tr>\n",
       "      <th>983</th>\n",
       "      <td>GO:0032296</td>\n",
       "      <td>MF</td>\n",
       "      <td>[(local, bonferroni, bonferroni), (local, sida...</td>\n",
       "      <td>p</td>\n",
       "      <td>GO:0032296\\tlevel-06\\tdepth-06\\tdouble-strande...</td>\n",
       "      <td>double-stranded RNA-specific ribonuclease acti...</td>\n",
       "      <td>1.0</td>\n",
       "      <td>1.0</td>\n",
       "      <td>1.0</td>\n",
       "      <td>1.000000</td>\n",
       "      <td>1</td>\n",
       "      <td>{RNASEL}</td>\n",
       "      <td>10</td>\n",
       "      <td>(1, 10)</td>\n",
       "      <td>(0, 5)</td>\n",
       "      <td>0</td>\n",
       "      <td>{}</td>\n",
       "      <td>5</td>\n",
       "    </tr>\n",
       "    <tr>\n",
       "      <th>984</th>\n",
       "      <td>GO:0001664</td>\n",
       "      <td>MF</td>\n",
       "      <td>[(local, bonferroni, bonferroni), (local, sida...</td>\n",
       "      <td>e</td>\n",
       "      <td>GO:0001664\\tlevel-04\\tdepth-04\\tG-protein coup...</td>\n",
       "      <td>G-protein coupled receptor binding</td>\n",
       "      <td>1.0</td>\n",
       "      <td>1.0</td>\n",
       "      <td>1.0</td>\n",
       "      <td>1.000000</td>\n",
       "      <td>1</td>\n",
       "      <td>{PARK2}</td>\n",
       "      <td>10</td>\n",
       "      <td>(1, 10)</td>\n",
       "      <td>(1, 5)</td>\n",
       "      <td>1</td>\n",
       "      <td>{PARK2}</td>\n",
       "      <td>5</td>\n",
       "    </tr>\n",
       "    <tr>\n",
       "      <th>985</th>\n",
       "      <td>GO:0099600</td>\n",
       "      <td>MF</td>\n",
       "      <td>[(local, bonferroni, bonferroni), (local, sida...</td>\n",
       "      <td>p</td>\n",
       "      <td>GO:0099600\\tlevel-03\\tdepth-03\\ttransmembrane ...</td>\n",
       "      <td>transmembrane receptor activity</td>\n",
       "      <td>1.0</td>\n",
       "      <td>1.0</td>\n",
       "      <td>1.0</td>\n",
       "      <td>1.000000</td>\n",
       "      <td>1</td>\n",
       "      <td>{IGF2R}</td>\n",
       "      <td>10</td>\n",
       "      <td>(1, 10)</td>\n",
       "      <td>(0, 5)</td>\n",
       "      <td>0</td>\n",
       "      <td>{}</td>\n",
       "      <td>5</td>\n",
       "    </tr>\n",
       "    <tr>\n",
       "      <th>986</th>\n",
       "      <td>GO:0004672</td>\n",
       "      <td>MF</td>\n",
       "      <td>[(local, bonferroni, bonferroni), (local, sida...</td>\n",
       "      <td>p</td>\n",
       "      <td>GO:0004672\\tlevel-05\\tdepth-05\\tprotein kinase...</td>\n",
       "      <td>protein kinase activity</td>\n",
       "      <td>1.0</td>\n",
       "      <td>1.0</td>\n",
       "      <td>1.0</td>\n",
       "      <td>1.000000</td>\n",
       "      <td>1</td>\n",
       "      <td>{RNASEL}</td>\n",
       "      <td>10</td>\n",
       "      <td>(1, 10)</td>\n",
       "      <td>(0, 5)</td>\n",
       "      <td>0</td>\n",
       "      <td>{}</td>\n",
       "      <td>5</td>\n",
       "    </tr>\n",
       "    <tr>\n",
       "      <th>987</th>\n",
       "      <td>GO:0018169</td>\n",
       "      <td>MF</td>\n",
       "      <td>[(local, bonferroni, bonferroni), (local, sida...</td>\n",
       "      <td>e</td>\n",
       "      <td>GO:0018169\\tlevel-06\\tdepth-06\\tribosomal S6-g...</td>\n",
       "      <td>ribosomal S6-glutamic acid ligase activity</td>\n",
       "      <td>1.0</td>\n",
       "      <td>1.0</td>\n",
       "      <td>1.0</td>\n",
       "      <td>1.000000</td>\n",
       "      <td>1</td>\n",
       "      <td>{PARK2}</td>\n",
       "      <td>10</td>\n",
       "      <td>(1, 10)</td>\n",
       "      <td>(1, 5)</td>\n",
       "      <td>1</td>\n",
       "      <td>{PARK2}</td>\n",
       "      <td>5</td>\n",
       "    </tr>\n",
       "    <tr>\n",
       "      <th>988</th>\n",
       "      <td>GO:0016893</td>\n",
       "      <td>MF</td>\n",
       "      <td>[(local, bonferroni, bonferroni), (local, sida...</td>\n",
       "      <td>p</td>\n",
       "      <td>GO:0016893\\tlevel-06\\tdepth-06\\tendonuclease a...</td>\n",
       "      <td>endonuclease activity, active with either ribo...</td>\n",
       "      <td>1.0</td>\n",
       "      <td>1.0</td>\n",
       "      <td>1.0</td>\n",
       "      <td>1.000000</td>\n",
       "      <td>1</td>\n",
       "      <td>{RNASEL}</td>\n",
       "      <td>10</td>\n",
       "      <td>(1, 10)</td>\n",
       "      <td>(0, 5)</td>\n",
       "      <td>0</td>\n",
       "      <td>{}</td>\n",
       "      <td>5</td>\n",
       "    </tr>\n",
       "    <tr>\n",
       "      <th>989</th>\n",
       "      <td>GO:0031406</td>\n",
       "      <td>MF</td>\n",
       "      <td>[(local, bonferroni, bonferroni), (local, sida...</td>\n",
       "      <td>p</td>\n",
       "      <td>GO:0031406\\tlevel-04\\tdepth-04\\tcarboxylic aci...</td>\n",
       "      <td>carboxylic acid binding</td>\n",
       "      <td>1.0</td>\n",
       "      <td>1.0</td>\n",
       "      <td>1.0</td>\n",
       "      <td>1.000000</td>\n",
       "      <td>1</td>\n",
       "      <td>{IGF2R}</td>\n",
       "      <td>10</td>\n",
       "      <td>(1, 10)</td>\n",
       "      <td>(0, 5)</td>\n",
       "      <td>0</td>\n",
       "      <td>{}</td>\n",
       "      <td>5</td>\n",
       "    </tr>\n",
       "    <tr>\n",
       "      <th>990</th>\n",
       "      <td>GO:0004842</td>\n",
       "      <td>MF</td>\n",
       "      <td>[(local, bonferroni, bonferroni), (local, sida...</td>\n",
       "      <td>e</td>\n",
       "      <td>GO:0004842\\tlevel-04\\tdepth-04\\tubiquitin-prot...</td>\n",
       "      <td>ubiquitin-protein transferase activity</td>\n",
       "      <td>1.0</td>\n",
       "      <td>1.0</td>\n",
       "      <td>1.0</td>\n",
       "      <td>1.000000</td>\n",
       "      <td>1</td>\n",
       "      <td>{PARK2}</td>\n",
       "      <td>10</td>\n",
       "      <td>(1, 10)</td>\n",
       "      <td>(1, 5)</td>\n",
       "      <td>1</td>\n",
       "      <td>{PARK2}</td>\n",
       "      <td>5</td>\n",
       "    </tr>\n",
       "    <tr>\n",
       "      <th>991</th>\n",
       "      <td>GO:0003729</td>\n",
       "      <td>MF</td>\n",
       "      <td>[(local, bonferroni, bonferroni), (local, sida...</td>\n",
       "      <td>e</td>\n",
       "      <td>GO:0003729\\tlevel-06\\tdepth-06\\tmRNA binding [...</td>\n",
       "      <td>mRNA binding</td>\n",
       "      <td>1.0</td>\n",
       "      <td>1.0</td>\n",
       "      <td>1.0</td>\n",
       "      <td>1.000000</td>\n",
       "      <td>1</td>\n",
       "      <td>{QK}</td>\n",
       "      <td>10</td>\n",
       "      <td>(1, 10)</td>\n",
       "      <td>(1, 5)</td>\n",
       "      <td>1</td>\n",
       "      <td>{QK}</td>\n",
       "      <td>5</td>\n",
       "    </tr>\n",
       "    <tr>\n",
       "      <th>992</th>\n",
       "      <td>GO:0019838</td>\n",
       "      <td>MF</td>\n",
       "      <td>[(local, bonferroni, bonferroni), (local, sida...</td>\n",
       "      <td>p</td>\n",
       "      <td>GO:0019838\\tlevel-03\\tdepth-03\\tgrowth factor ...</td>\n",
       "      <td>growth factor binding</td>\n",
       "      <td>1.0</td>\n",
       "      <td>1.0</td>\n",
       "      <td>1.0</td>\n",
       "      <td>1.000000</td>\n",
       "      <td>1</td>\n",
       "      <td>{IGF2R}</td>\n",
       "      <td>10</td>\n",
       "      <td>(1, 10)</td>\n",
       "      <td>(0, 5)</td>\n",
       "      <td>0</td>\n",
       "      <td>{}</td>\n",
       "      <td>5</td>\n",
       "    </tr>\n",
       "    <tr>\n",
       "      <th>993</th>\n",
       "      <td>GO:0016408</td>\n",
       "      <td>MF</td>\n",
       "      <td>[(local, bonferroni, bonferroni), (local, sida...</td>\n",
       "      <td>p</td>\n",
       "      <td>GO:0016408\\tlevel-05\\tdepth-05\\tC-acyltransfer...</td>\n",
       "      <td>C-acyltransferase activity</td>\n",
       "      <td>1.0</td>\n",
       "      <td>1.0</td>\n",
       "      <td>1.0</td>\n",
       "      <td>1.000000</td>\n",
       "      <td>1</td>\n",
       "      <td>{ACAT2}</td>\n",
       "      <td>10</td>\n",
       "      <td>(1, 10)</td>\n",
       "      <td>(0, 5)</td>\n",
       "      <td>0</td>\n",
       "      <td>{}</td>\n",
       "      <td>5</td>\n",
       "    </tr>\n",
       "    <tr>\n",
       "      <th>994</th>\n",
       "      <td>GO:0003690</td>\n",
       "      <td>MF</td>\n",
       "      <td>[(local, bonferroni, bonferroni), (local, sida...</td>\n",
       "      <td>e</td>\n",
       "      <td>GO:0003690\\tlevel-05\\tdepth-05\\tdouble-strande...</td>\n",
       "      <td>double-stranded DNA binding</td>\n",
       "      <td>1.0</td>\n",
       "      <td>1.0</td>\n",
       "      <td>1.0</td>\n",
       "      <td>1.000000</td>\n",
       "      <td>1</td>\n",
       "      <td>{PARK2}</td>\n",
       "      <td>10</td>\n",
       "      <td>(1, 10)</td>\n",
       "      <td>(1, 5)</td>\n",
       "      <td>1</td>\n",
       "      <td>{PARK2}</td>\n",
       "      <td>5</td>\n",
       "    </tr>\n",
       "    <tr>\n",
       "      <th>995</th>\n",
       "      <td>GO:0008747</td>\n",
       "      <td>MF</td>\n",
       "      <td>[(local, bonferroni, bonferroni), (local, sida...</td>\n",
       "      <td>e</td>\n",
       "      <td>GO:0008747\\tlevel-05\\tdepth-05\\tN-acetylneuram...</td>\n",
       "      <td>N-acetylneuraminate lyase activity</td>\n",
       "      <td>1.0</td>\n",
       "      <td>1.0</td>\n",
       "      <td>1.0</td>\n",
       "      <td>1.000000</td>\n",
       "      <td>1</td>\n",
       "      <td>{NPL}</td>\n",
       "      <td>10</td>\n",
       "      <td>(1, 10)</td>\n",
       "      <td>(1, 5)</td>\n",
       "      <td>1</td>\n",
       "      <td>{NPL}</td>\n",
       "      <td>5</td>\n",
       "    </tr>\n",
       "    <tr>\n",
       "      <th>996</th>\n",
       "      <td>GO:0016874</td>\n",
       "      <td>MF</td>\n",
       "      <td>[(local, bonferroni, bonferroni), (local, sida...</td>\n",
       "      <td>e</td>\n",
       "      <td>GO:0016874\\tlevel-02\\tdepth-02\\tligase activit...</td>\n",
       "      <td>ligase activity</td>\n",
       "      <td>1.0</td>\n",
       "      <td>1.0</td>\n",
       "      <td>1.0</td>\n",
       "      <td>1.000000</td>\n",
       "      <td>1</td>\n",
       "      <td>{PARK2}</td>\n",
       "      <td>10</td>\n",
       "      <td>(1, 10)</td>\n",
       "      <td>(1, 5)</td>\n",
       "      <td>1</td>\n",
       "      <td>{PARK2}</td>\n",
       "      <td>5</td>\n",
       "    </tr>\n",
       "    <tr>\n",
       "      <th>997</th>\n",
       "      <td>GO:0033293</td>\n",
       "      <td>MF</td>\n",
       "      <td>[(local, bonferroni, bonferroni), (local, sida...</td>\n",
       "      <td>p</td>\n",
       "      <td>GO:0033293\\tlevel-05\\tdepth-05\\tmonocarboxylic...</td>\n",
       "      <td>monocarboxylic acid binding</td>\n",
       "      <td>1.0</td>\n",
       "      <td>1.0</td>\n",
       "      <td>1.0</td>\n",
       "      <td>1.000000</td>\n",
       "      <td>1</td>\n",
       "      <td>{IGF2R}</td>\n",
       "      <td>10</td>\n",
       "      <td>(1, 10)</td>\n",
       "      <td>(0, 5)</td>\n",
       "      <td>0</td>\n",
       "      <td>{}</td>\n",
       "      <td>5</td>\n",
       "    </tr>\n",
       "    <tr>\n",
       "      <th>998</th>\n",
       "      <td>GO:0070739</td>\n",
       "      <td>MF</td>\n",
       "      <td>[(local, bonferroni, bonferroni), (local, sida...</td>\n",
       "      <td>e</td>\n",
       "      <td>GO:0070739\\tlevel-05\\tdepth-05\\tprotein-glutam...</td>\n",
       "      <td>protein-glutamic acid ligase activity</td>\n",
       "      <td>1.0</td>\n",
       "      <td>1.0</td>\n",
       "      <td>1.0</td>\n",
       "      <td>1.000000</td>\n",
       "      <td>1</td>\n",
       "      <td>{PARK2}</td>\n",
       "      <td>10</td>\n",
       "      <td>(1, 10)</td>\n",
       "      <td>(1, 5)</td>\n",
       "      <td>1</td>\n",
       "      <td>{PARK2}</td>\n",
       "      <td>5</td>\n",
       "    </tr>\n",
       "    <tr>\n",
       "      <th>999</th>\n",
       "      <td>GO:0016411</td>\n",
       "      <td>MF</td>\n",
       "      <td>[(local, bonferroni, bonferroni), (local, sida...</td>\n",
       "      <td>e</td>\n",
       "      <td>GO:0016411\\tlevel-06\\tdepth-06\\tacylglycerol O...</td>\n",
       "      <td>acylglycerol O-acyltransferase activity</td>\n",
       "      <td>1.0</td>\n",
       "      <td>1.0</td>\n",
       "      <td>1.0</td>\n",
       "      <td>1.000000</td>\n",
       "      <td>1</td>\n",
       "      <td>{AGPAT4}</td>\n",
       "      <td>10</td>\n",
       "      <td>(1, 10)</td>\n",
       "      <td>(1, 5)</td>\n",
       "      <td>1</td>\n",
       "      <td>{AGPAT4}</td>\n",
       "      <td>5</td>\n",
       "    </tr>\n",
       "    <tr>\n",
       "      <th>1000</th>\n",
       "      <td>GO:0003677</td>\n",
       "      <td>MF</td>\n",
       "      <td>[(local, bonferroni, bonferroni), (local, sida...</td>\n",
       "      <td>e</td>\n",
       "      <td>GO:0003677\\tlevel-04\\tdepth-04\\tDNA binding [m...</td>\n",
       "      <td>DNA binding</td>\n",
       "      <td>1.0</td>\n",
       "      <td>1.0</td>\n",
       "      <td>1.0</td>\n",
       "      <td>1.000000</td>\n",
       "      <td>1</td>\n",
       "      <td>{PARK2}</td>\n",
       "      <td>10</td>\n",
       "      <td>(1, 10)</td>\n",
       "      <td>(1, 5)</td>\n",
       "      <td>1</td>\n",
       "      <td>{PARK2}</td>\n",
       "      <td>5</td>\n",
       "    </tr>\n",
       "    <tr>\n",
       "      <th>1001</th>\n",
       "      <td>GO:0097602</td>\n",
       "      <td>MF</td>\n",
       "      <td>[(local, bonferroni, bonferroni), (local, sida...</td>\n",
       "      <td>e</td>\n",
       "      <td>GO:0097602\\tlevel-03\\tdepth-03\\tcullin family ...</td>\n",
       "      <td>cullin family protein binding</td>\n",
       "      <td>1.0</td>\n",
       "      <td>1.0</td>\n",
       "      <td>1.0</td>\n",
       "      <td>1.000000</td>\n",
       "      <td>1</td>\n",
       "      <td>{PARK2}</td>\n",
       "      <td>10</td>\n",
       "      <td>(1, 10)</td>\n",
       "      <td>(1, 5)</td>\n",
       "      <td>1</td>\n",
       "      <td>{PARK2}</td>\n",
       "      <td>5</td>\n",
       "    </tr>\n",
       "    <tr>\n",
       "      <th>1002</th>\n",
       "      <td>GO:0016453</td>\n",
       "      <td>MF</td>\n",
       "      <td>[(local, bonferroni, bonferroni), (local, sida...</td>\n",
       "      <td>p</td>\n",
       "      <td>GO:0016453\\tlevel-06\\tdepth-06\\tC-acetyltransf...</td>\n",
       "      <td>C-acetyltransferase activity</td>\n",
       "      <td>1.0</td>\n",
       "      <td>1.0</td>\n",
       "      <td>1.0</td>\n",
       "      <td>1.000000</td>\n",
       "      <td>1</td>\n",
       "      <td>{ACAT2}</td>\n",
       "      <td>10</td>\n",
       "      <td>(1, 10)</td>\n",
       "      <td>(0, 5)</td>\n",
       "      <td>0</td>\n",
       "      <td>{}</td>\n",
       "      <td>5</td>\n",
       "    </tr>\n",
       "    <tr>\n",
       "      <th>1003</th>\n",
       "      <td>GO:0043177</td>\n",
       "      <td>MF</td>\n",
       "      <td>[(local, bonferroni, bonferroni), (local, sida...</td>\n",
       "      <td>p</td>\n",
       "      <td>GO:0043177\\tlevel-03\\tdepth-03\\torganic acid b...</td>\n",
       "      <td>organic acid binding</td>\n",
       "      <td>1.0</td>\n",
       "      <td>1.0</td>\n",
       "      <td>1.0</td>\n",
       "      <td>1.000000</td>\n",
       "      <td>1</td>\n",
       "      <td>{IGF2R}</td>\n",
       "      <td>10</td>\n",
       "      <td>(1, 10)</td>\n",
       "      <td>(0, 5)</td>\n",
       "      <td>0</td>\n",
       "      <td>{}</td>\n",
       "      <td>5</td>\n",
       "    </tr>\n",
       "  </tbody>\n",
       "</table>\n",
       "<p>1004 rows × 18 columns</p>\n",
       "</div>"
      ],
      "text/plain": [
       "              GO  NS                                           _methods  \\\n",
       "0     GO:0044710  BP  [(local, bonferroni, bonferroni), (local, sida...   \n",
       "1     GO:0045597  BP  [(local, bonferroni, bonferroni), (local, sida...   \n",
       "2     GO:0044707  BP  [(local, bonferroni, bonferroni), (local, sida...   \n",
       "3     GO:0009890  BP  [(local, bonferroni, bonferroni), (local, sida...   \n",
       "4     GO:0031344  BP  [(local, bonferroni, bonferroni), (local, sida...   \n",
       "5     GO:0044255  BP  [(local, bonferroni, bonferroni), (local, sida...   \n",
       "6     GO:0009892  BP  [(local, bonferroni, bonferroni), (local, sida...   \n",
       "7     GO:0006082  BP  [(local, bonferroni, bonferroni), (local, sida...   \n",
       "8     GO:0010976  BP  [(local, bonferroni, bonferroni), (local, sida...   \n",
       "9     GO:0044248  BP  [(local, bonferroni, bonferroni), (local, sida...   \n",
       "10    GO:0051172  BP  [(local, bonferroni, bonferroni), (local, sida...   \n",
       "11    GO:0050767  BP  [(local, bonferroni, bonferroni), (local, sida...   \n",
       "12    GO:0051094  BP  [(local, bonferroni, bonferroni), (local, sida...   \n",
       "13    GO:2000113  BP  [(local, bonferroni, bonferroni), (local, sida...   \n",
       "14    GO:0051960  BP  [(local, bonferroni, bonferroni), (local, sida...   \n",
       "15    GO:0044281  BP  [(local, bonferroni, bonferroni), (local, sida...   \n",
       "16    GO:0051248  BP  [(local, bonferroni, bonferroni), (local, sida...   \n",
       "17    GO:0010629  BP  [(local, bonferroni, bonferroni), (local, sida...   \n",
       "18    GO:0043436  BP  [(local, bonferroni, bonferroni), (local, sida...   \n",
       "19    GO:0032269  BP  [(local, bonferroni, bonferroni), (local, sida...   \n",
       "20    GO:0032501  BP  [(local, bonferroni, bonferroni), (local, sida...   \n",
       "21    GO:1901575  BP  [(local, bonferroni, bonferroni), (local, sida...   \n",
       "22    GO:0010605  BP  [(local, bonferroni, bonferroni), (local, sida...   \n",
       "23    GO:0044712  BP  [(local, bonferroni, bonferroni), (local, sida...   \n",
       "24    GO:0050769  BP  [(local, bonferroni, bonferroni), (local, sida...   \n",
       "25    GO:0050793  BP  [(local, bonferroni, bonferroni), (local, sida...   \n",
       "26    GO:0051246  BP  [(local, bonferroni, bonferroni), (local, sida...   \n",
       "27    GO:0045664  BP  [(local, bonferroni, bonferroni), (local, sida...   \n",
       "28    GO:0006629  BP  [(local, bonferroni, bonferroni), (local, sida...   \n",
       "29    GO:0043066  BP  [(local, bonferroni, bonferroni), (local, sida...   \n",
       "...          ...  ..                                                ...   \n",
       "974   GO:0004871  MF  [(local, bonferroni, bonferroni), (local, sida...   \n",
       "975   GO:0003735  MF  [(local, bonferroni, bonferroni), (local, sida...   \n",
       "976   GO:0019901  MF  [(local, bonferroni, bonferroni), (local, sida...   \n",
       "977   GO:0016879  MF  [(local, bonferroni, bonferroni), (local, sida...   \n",
       "978   GO:0019900  MF  [(local, bonferroni, bonferroni), (local, sida...   \n",
       "979   GO:0004521  MF  [(local, bonferroni, bonferroni), (local, sida...   \n",
       "980   GO:0016881  MF  [(local, bonferroni, bonferroni), (local, sida...   \n",
       "981   GO:0005520  MF  [(local, bonferroni, bonferroni), (local, sida...   \n",
       "982   GO:0042826  MF  [(local, bonferroni, bonferroni), (local, sida...   \n",
       "983   GO:0032296  MF  [(local, bonferroni, bonferroni), (local, sida...   \n",
       "984   GO:0001664  MF  [(local, bonferroni, bonferroni), (local, sida...   \n",
       "985   GO:0099600  MF  [(local, bonferroni, bonferroni), (local, sida...   \n",
       "986   GO:0004672  MF  [(local, bonferroni, bonferroni), (local, sida...   \n",
       "987   GO:0018169  MF  [(local, bonferroni, bonferroni), (local, sida...   \n",
       "988   GO:0016893  MF  [(local, bonferroni, bonferroni), (local, sida...   \n",
       "989   GO:0031406  MF  [(local, bonferroni, bonferroni), (local, sida...   \n",
       "990   GO:0004842  MF  [(local, bonferroni, bonferroni), (local, sida...   \n",
       "991   GO:0003729  MF  [(local, bonferroni, bonferroni), (local, sida...   \n",
       "992   GO:0019838  MF  [(local, bonferroni, bonferroni), (local, sida...   \n",
       "993   GO:0016408  MF  [(local, bonferroni, bonferroni), (local, sida...   \n",
       "994   GO:0003690  MF  [(local, bonferroni, bonferroni), (local, sida...   \n",
       "995   GO:0008747  MF  [(local, bonferroni, bonferroni), (local, sida...   \n",
       "996   GO:0016874  MF  [(local, bonferroni, bonferroni), (local, sida...   \n",
       "997   GO:0033293  MF  [(local, bonferroni, bonferroni), (local, sida...   \n",
       "998   GO:0070739  MF  [(local, bonferroni, bonferroni), (local, sida...   \n",
       "999   GO:0016411  MF  [(local, bonferroni, bonferroni), (local, sida...   \n",
       "1000  GO:0003677  MF  [(local, bonferroni, bonferroni), (local, sida...   \n",
       "1001  GO:0097602  MF  [(local, bonferroni, bonferroni), (local, sida...   \n",
       "1002  GO:0016453  MF  [(local, bonferroni, bonferroni), (local, sida...   \n",
       "1003  GO:0043177  MF  [(local, bonferroni, bonferroni), (local, sida...   \n",
       "\n",
       "     enrichment                                             goterm  \\\n",
       "0             e  GO:0044710\\tlevel-02\\tdepth-02\\tsingle-organis...   \n",
       "1             e  GO:0045597\\tlevel-05\\tdepth-05\\tpositive regul...   \n",
       "2             e  GO:0044707\\tlevel-02\\tdepth-02\\tsingle-multice...   \n",
       "3             e  GO:0009890\\tlevel-05\\tdepth-05\\tnegative regul...   \n",
       "4             e  GO:0031344\\tlevel-05\\tdepth-05\\tregulation of ...   \n",
       "5             e  GO:0044255\\tlevel-03\\tdepth-04\\tcellular lipid...   \n",
       "6             e  GO:0009892\\tlevel-04\\tdepth-04\\tnegative regul...   \n",
       "7             e  GO:0006082\\tlevel-03\\tdepth-04\\torganic acid m...   \n",
       "8             e  GO:0010976\\tlevel-07\\tdepth-09\\tpositive regul...   \n",
       "9             e  GO:0044248\\tlevel-03\\tdepth-03\\tcellular catab...   \n",
       "10            e  GO:0051172\\tlevel-05\\tdepth-05\\tnegative regul...   \n",
       "11            e  GO:0050767\\tlevel-06\\tdepth-06\\tregulation of ...   \n",
       "12            e  GO:0051094\\tlevel-04\\tdepth-04\\tpositive regul...   \n",
       "13            e  GO:2000113\\tlevel-07\\tdepth-07\\tnegative regul...   \n",
       "14            e  GO:0051960\\tlevel-05\\tdepth-05\\tregulation of ...   \n",
       "15            e  GO:0044281\\tlevel-03\\tdepth-03\\tsmall molecule...   \n",
       "16            e  GO:0051248\\tlevel-06\\tdepth-06\\tnegative regul...   \n",
       "17            e  GO:0010629\\tlevel-06\\tdepth-06\\tnegative regul...   \n",
       "18            e  GO:0043436\\tlevel-04\\tdepth-05\\toxoacid metabo...   \n",
       "19            e  GO:0032269\\tlevel-06\\tdepth-07\\tnegative regul...   \n",
       "20            e  GO:0032501\\tlevel-01\\tdepth-01\\tmulticellular ...   \n",
       "21            e  GO:1901575\\tlevel-03\\tdepth-03\\torganic substa...   \n",
       "22            e  GO:0010605\\tlevel-05\\tdepth-05\\tnegative regul...   \n",
       "23            e  GO:0044712\\tlevel-03\\tdepth-03\\tsingle-organis...   \n",
       "24            e  GO:0050769\\tlevel-06\\tdepth-07\\tpositive regul...   \n",
       "25            e  GO:0050793\\tlevel-03\\tdepth-03\\tregulation of ...   \n",
       "26            e  GO:0051246\\tlevel-05\\tdepth-05\\tregulation of ...   \n",
       "27            e  GO:0045664\\tlevel-07\\tdepth-07\\tregulation of ...   \n",
       "28            e  GO:0006629\\tlevel-03\\tdepth-03\\tlipid metaboli...   \n",
       "29            e  GO:0043066\\tlevel-07\\tdepth-07\\tnegative regul...   \n",
       "...         ...                                                ...   \n",
       "974           p  GO:0004871\\tlevel-01\\tdepth-01\\tsignal transdu...   \n",
       "975           p  GO:0003735\\tlevel-02\\tdepth-02\\tstructural con...   \n",
       "976           e  GO:0019901\\tlevel-05\\tdepth-05\\tprotein kinase...   \n",
       "977           e  GO:0016879\\tlevel-03\\tdepth-03\\tligase activit...   \n",
       "978           e  GO:0019900\\tlevel-04\\tdepth-04\\tkinase binding...   \n",
       "979           p  GO:0004521\\tlevel-06\\tdepth-06\\tendoribonuclea...   \n",
       "980           e  GO:0016881\\tlevel-04\\tdepth-04\\tacid-amino aci...   \n",
       "981           p  GO:0005520\\tlevel-04\\tdepth-04\\tinsulin-like g...   \n",
       "982           e  GO:0042826\\tlevel-04\\tdepth-04\\thistone deacet...   \n",
       "983           p  GO:0032296\\tlevel-06\\tdepth-06\\tdouble-strande...   \n",
       "984           e  GO:0001664\\tlevel-04\\tdepth-04\\tG-protein coup...   \n",
       "985           p  GO:0099600\\tlevel-03\\tdepth-03\\ttransmembrane ...   \n",
       "986           p  GO:0004672\\tlevel-05\\tdepth-05\\tprotein kinase...   \n",
       "987           e  GO:0018169\\tlevel-06\\tdepth-06\\tribosomal S6-g...   \n",
       "988           p  GO:0016893\\tlevel-06\\tdepth-06\\tendonuclease a...   \n",
       "989           p  GO:0031406\\tlevel-04\\tdepth-04\\tcarboxylic aci...   \n",
       "990           e  GO:0004842\\tlevel-04\\tdepth-04\\tubiquitin-prot...   \n",
       "991           e  GO:0003729\\tlevel-06\\tdepth-06\\tmRNA binding [...   \n",
       "992           p  GO:0019838\\tlevel-03\\tdepth-03\\tgrowth factor ...   \n",
       "993           p  GO:0016408\\tlevel-05\\tdepth-05\\tC-acyltransfer...   \n",
       "994           e  GO:0003690\\tlevel-05\\tdepth-05\\tdouble-strande...   \n",
       "995           e  GO:0008747\\tlevel-05\\tdepth-05\\tN-acetylneuram...   \n",
       "996           e  GO:0016874\\tlevel-02\\tdepth-02\\tligase activit...   \n",
       "997           p  GO:0033293\\tlevel-05\\tdepth-05\\tmonocarboxylic...   \n",
       "998           e  GO:0070739\\tlevel-05\\tdepth-05\\tprotein-glutam...   \n",
       "999           e  GO:0016411\\tlevel-06\\tdepth-06\\tacylglycerol O...   \n",
       "1000          e  GO:0003677\\tlevel-04\\tdepth-04\\tDNA binding [m...   \n",
       "1001          e  GO:0097602\\tlevel-03\\tdepth-03\\tcullin family ...   \n",
       "1002          p  GO:0016453\\tlevel-06\\tdepth-06\\tC-acetyltransf...   \n",
       "1003          p  GO:0043177\\tlevel-03\\tdepth-03\\torganic acid b...   \n",
       "\n",
       "                                                   name  p_bonferroni  p_holm  \\\n",
       "0                     single-organism metabolic process           1.0     1.0   \n",
       "1           positive regulation of cell differentiation           1.0     1.0   \n",
       "2                 single-multicellular organism process           1.0     1.0   \n",
       "3           negative regulation of biosynthetic process           1.0     1.0   \n",
       "4            regulation of cell projection organization           1.0     1.0   \n",
       "5                      cellular lipid metabolic process           1.0     1.0   \n",
       "6              negative regulation of metabolic process           1.0     1.0   \n",
       "7                        organic acid metabolic process           1.0     1.0   \n",
       "8     positive regulation of neuron projection devel...           1.0     1.0   \n",
       "9                            cellular catabolic process           1.0     1.0   \n",
       "10    negative regulation of nitrogen compound metab...           1.0     1.0   \n",
       "11                           regulation of neurogenesis           1.0     1.0   \n",
       "12         positive regulation of developmental process           1.0     1.0   \n",
       "13    negative regulation of cellular macromolecule ...           1.0     1.0   \n",
       "14             regulation of nervous system development           1.0     1.0   \n",
       "15                     small molecule metabolic process           1.0     1.0   \n",
       "16     negative regulation of protein metabolic process           1.0     1.0   \n",
       "17               negative regulation of gene expression           1.0     1.0   \n",
       "18                            oxoacid metabolic process           1.0     1.0   \n",
       "19    negative regulation of cellular protein metabo...           1.0     1.0   \n",
       "20                     multicellular organismal process           1.0     1.0   \n",
       "21                  organic substance catabolic process           1.0     1.0   \n",
       "22    negative regulation of macromolecule metabolic...           1.0     1.0   \n",
       "23                    single-organism catabolic process           1.0     1.0   \n",
       "24                  positive regulation of neurogenesis           1.0     1.0   \n",
       "25                  regulation of developmental process           1.0     1.0   \n",
       "26              regulation of protein metabolic process           1.0     1.0   \n",
       "27                 regulation of neuron differentiation           1.0     1.0   \n",
       "28                              lipid metabolic process           1.0     1.0   \n",
       "29             negative regulation of apoptotic process           1.0     1.0   \n",
       "...                                                 ...           ...     ...   \n",
       "974                          signal transducer activity           1.0     1.0   \n",
       "975                  structural constituent of ribosome           1.0     1.0   \n",
       "976                              protein kinase binding           1.0     1.0   \n",
       "977      ligase activity, forming carbon-nitrogen bonds           1.0     1.0   \n",
       "978                                      kinase binding           1.0     1.0   \n",
       "979                           endoribonuclease activity           1.0     1.0   \n",
       "980                     acid-amino acid ligase activity           1.0     1.0   \n",
       "981                  insulin-like growth factor binding           1.0     1.0   \n",
       "982                         histone deacetylase binding           1.0     1.0   \n",
       "983   double-stranded RNA-specific ribonuclease acti...           1.0     1.0   \n",
       "984                  G-protein coupled receptor binding           1.0     1.0   \n",
       "985                     transmembrane receptor activity           1.0     1.0   \n",
       "986                             protein kinase activity           1.0     1.0   \n",
       "987          ribosomal S6-glutamic acid ligase activity           1.0     1.0   \n",
       "988   endonuclease activity, active with either ribo...           1.0     1.0   \n",
       "989                             carboxylic acid binding           1.0     1.0   \n",
       "990              ubiquitin-protein transferase activity           1.0     1.0   \n",
       "991                                        mRNA binding           1.0     1.0   \n",
       "992                               growth factor binding           1.0     1.0   \n",
       "993                          C-acyltransferase activity           1.0     1.0   \n",
       "994                         double-stranded DNA binding           1.0     1.0   \n",
       "995                  N-acetylneuraminate lyase activity           1.0     1.0   \n",
       "996                                     ligase activity           1.0     1.0   \n",
       "997                         monocarboxylic acid binding           1.0     1.0   \n",
       "998               protein-glutamic acid ligase activity           1.0     1.0   \n",
       "999             acylglycerol O-acyltransferase activity           1.0     1.0   \n",
       "1000                                        DNA binding           1.0     1.0   \n",
       "1001                      cullin family protein binding           1.0     1.0   \n",
       "1002                       C-acetyltransferase activity           1.0     1.0   \n",
       "1003                               organic acid binding           1.0     1.0   \n",
       "\n",
       "      p_sidak  p_uncorrected  pop_count                 pop_items  pop_n  \\\n",
       "0         1.0       0.047619          4  {PARK2, AGPAT4, NPL, QK}     10   \n",
       "1         1.0       0.444444          2               {PARK2, QK}     10   \n",
       "2         1.0       0.444444          2               {PARK2, QK}     10   \n",
       "3         1.0       0.444444          2               {PARK2, QK}     10   \n",
       "4         1.0       0.444444          2               {PARK2, QK}     10   \n",
       "5         1.0       0.444444          2              {AGPAT4, QK}     10   \n",
       "6         1.0       0.444444          2               {PARK2, QK}     10   \n",
       "7         1.0       0.444444          2                 {NPL, QK}     10   \n",
       "8         1.0       0.444444          2               {PARK2, QK}     10   \n",
       "9         1.0       0.444444          2              {PARK2, NPL}     10   \n",
       "10        1.0       0.444444          2               {PARK2, QK}     10   \n",
       "11        1.0       0.444444          2               {PARK2, QK}     10   \n",
       "12        1.0       0.444444          2               {PARK2, QK}     10   \n",
       "13        1.0       0.444444          2               {PARK2, QK}     10   \n",
       "14        1.0       0.444444          2               {PARK2, QK}     10   \n",
       "15        1.0       0.444444          2                 {NPL, QK}     10   \n",
       "16        1.0       0.444444          2               {PARK2, QK}     10   \n",
       "17        1.0       0.444444          2               {PARK2, QK}     10   \n",
       "18        1.0       0.444444          2                 {NPL, QK}     10   \n",
       "19        1.0       0.444444          2               {PARK2, QK}     10   \n",
       "20        1.0       0.444444          2               {PARK2, QK}     10   \n",
       "21        1.0       0.444444          2              {PARK2, NPL}     10   \n",
       "22        1.0       0.444444          2               {PARK2, QK}     10   \n",
       "23        1.0       0.444444          2              {PARK2, NPL}     10   \n",
       "24        1.0       0.444444          2               {PARK2, QK}     10   \n",
       "25        1.0       0.444444          2               {PARK2, QK}     10   \n",
       "26        1.0       0.444444          2               {PARK2, QK}     10   \n",
       "27        1.0       0.444444          2               {PARK2, QK}     10   \n",
       "28        1.0       0.444444          2              {AGPAT4, QK}     10   \n",
       "29        1.0       0.444444          2               {PARK2, QK}     10   \n",
       "...       ...            ...        ...                       ...    ...   \n",
       "974       1.0       1.000000          1                   {IGF2R}     10   \n",
       "975       1.0       1.000000          1                  {MRPL18}     10   \n",
       "976       1.0       1.000000          1                   {PARK2}     10   \n",
       "977       1.0       1.000000          1                   {PARK2}     10   \n",
       "978       1.0       1.000000          1                   {PARK2}     10   \n",
       "979       1.0       1.000000          1                  {RNASEL}     10   \n",
       "980       1.0       1.000000          1                   {PARK2}     10   \n",
       "981       1.0       1.000000          1                   {IGF2R}     10   \n",
       "982       1.0       1.000000          1                   {PARK2}     10   \n",
       "983       1.0       1.000000          1                  {RNASEL}     10   \n",
       "984       1.0       1.000000          1                   {PARK2}     10   \n",
       "985       1.0       1.000000          1                   {IGF2R}     10   \n",
       "986       1.0       1.000000          1                  {RNASEL}     10   \n",
       "987       1.0       1.000000          1                   {PARK2}     10   \n",
       "988       1.0       1.000000          1                  {RNASEL}     10   \n",
       "989       1.0       1.000000          1                   {IGF2R}     10   \n",
       "990       1.0       1.000000          1                   {PARK2}     10   \n",
       "991       1.0       1.000000          1                      {QK}     10   \n",
       "992       1.0       1.000000          1                   {IGF2R}     10   \n",
       "993       1.0       1.000000          1                   {ACAT2}     10   \n",
       "994       1.0       1.000000          1                   {PARK2}     10   \n",
       "995       1.0       1.000000          1                     {NPL}     10   \n",
       "996       1.0       1.000000          1                   {PARK2}     10   \n",
       "997       1.0       1.000000          1                   {IGF2R}     10   \n",
       "998       1.0       1.000000          1                   {PARK2}     10   \n",
       "999       1.0       1.000000          1                  {AGPAT4}     10   \n",
       "1000      1.0       1.000000          1                   {PARK2}     10   \n",
       "1001      1.0       1.000000          1                   {PARK2}     10   \n",
       "1002      1.0       1.000000          1                   {ACAT2}     10   \n",
       "1003      1.0       1.000000          1                   {IGF2R}     10   \n",
       "\n",
       "     ratio_in_pop ratio_in_study  study_count               study_items  \\\n",
       "0         (4, 10)         (4, 5)            4  {PARK2, AGPAT4, NPL, QK}   \n",
       "1         (2, 10)         (2, 5)            2               {PARK2, QK}   \n",
       "2         (2, 10)         (2, 5)            2               {PARK2, QK}   \n",
       "3         (2, 10)         (2, 5)            2               {PARK2, QK}   \n",
       "4         (2, 10)         (2, 5)            2               {PARK2, QK}   \n",
       "5         (2, 10)         (2, 5)            2              {AGPAT4, QK}   \n",
       "6         (2, 10)         (2, 5)            2               {PARK2, QK}   \n",
       "7         (2, 10)         (2, 5)            2                 {NPL, QK}   \n",
       "8         (2, 10)         (2, 5)            2               {PARK2, QK}   \n",
       "9         (2, 10)         (2, 5)            2              {PARK2, NPL}   \n",
       "10        (2, 10)         (2, 5)            2               {PARK2, QK}   \n",
       "11        (2, 10)         (2, 5)            2               {PARK2, QK}   \n",
       "12        (2, 10)         (2, 5)            2               {PARK2, QK}   \n",
       "13        (2, 10)         (2, 5)            2               {PARK2, QK}   \n",
       "14        (2, 10)         (2, 5)            2               {PARK2, QK}   \n",
       "15        (2, 10)         (2, 5)            2                 {NPL, QK}   \n",
       "16        (2, 10)         (2, 5)            2               {PARK2, QK}   \n",
       "17        (2, 10)         (2, 5)            2               {PARK2, QK}   \n",
       "18        (2, 10)         (2, 5)            2                 {NPL, QK}   \n",
       "19        (2, 10)         (2, 5)            2               {PARK2, QK}   \n",
       "20        (2, 10)         (2, 5)            2               {PARK2, QK}   \n",
       "21        (2, 10)         (2, 5)            2              {PARK2, NPL}   \n",
       "22        (2, 10)         (2, 5)            2               {PARK2, QK}   \n",
       "23        (2, 10)         (2, 5)            2              {PARK2, NPL}   \n",
       "24        (2, 10)         (2, 5)            2               {PARK2, QK}   \n",
       "25        (2, 10)         (2, 5)            2               {PARK2, QK}   \n",
       "26        (2, 10)         (2, 5)            2               {PARK2, QK}   \n",
       "27        (2, 10)         (2, 5)            2               {PARK2, QK}   \n",
       "28        (2, 10)         (2, 5)            2              {AGPAT4, QK}   \n",
       "29        (2, 10)         (2, 5)            2               {PARK2, QK}   \n",
       "...           ...            ...          ...                       ...   \n",
       "974       (1, 10)         (0, 5)            0                        {}   \n",
       "975       (1, 10)         (0, 5)            0                        {}   \n",
       "976       (1, 10)         (1, 5)            1                   {PARK2}   \n",
       "977       (1, 10)         (1, 5)            1                   {PARK2}   \n",
       "978       (1, 10)         (1, 5)            1                   {PARK2}   \n",
       "979       (1, 10)         (0, 5)            0                        {}   \n",
       "980       (1, 10)         (1, 5)            1                   {PARK2}   \n",
       "981       (1, 10)         (0, 5)            0                        {}   \n",
       "982       (1, 10)         (1, 5)            1                   {PARK2}   \n",
       "983       (1, 10)         (0, 5)            0                        {}   \n",
       "984       (1, 10)         (1, 5)            1                   {PARK2}   \n",
       "985       (1, 10)         (0, 5)            0                        {}   \n",
       "986       (1, 10)         (0, 5)            0                        {}   \n",
       "987       (1, 10)         (1, 5)            1                   {PARK2}   \n",
       "988       (1, 10)         (0, 5)            0                        {}   \n",
       "989       (1, 10)         (0, 5)            0                        {}   \n",
       "990       (1, 10)         (1, 5)            1                   {PARK2}   \n",
       "991       (1, 10)         (1, 5)            1                      {QK}   \n",
       "992       (1, 10)         (0, 5)            0                        {}   \n",
       "993       (1, 10)         (0, 5)            0                        {}   \n",
       "994       (1, 10)         (1, 5)            1                   {PARK2}   \n",
       "995       (1, 10)         (1, 5)            1                     {NPL}   \n",
       "996       (1, 10)         (1, 5)            1                   {PARK2}   \n",
       "997       (1, 10)         (0, 5)            0                        {}   \n",
       "998       (1, 10)         (1, 5)            1                   {PARK2}   \n",
       "999       (1, 10)         (1, 5)            1                  {AGPAT4}   \n",
       "1000      (1, 10)         (1, 5)            1                   {PARK2}   \n",
       "1001      (1, 10)         (1, 5)            1                   {PARK2}   \n",
       "1002      (1, 10)         (0, 5)            0                        {}   \n",
       "1003      (1, 10)         (0, 5)            0                        {}   \n",
       "\n",
       "      study_n  \n",
       "0           5  \n",
       "1           5  \n",
       "2           5  \n",
       "3           5  \n",
       "4           5  \n",
       "5           5  \n",
       "6           5  \n",
       "7           5  \n",
       "8           5  \n",
       "9           5  \n",
       "10          5  \n",
       "11          5  \n",
       "12          5  \n",
       "13          5  \n",
       "14          5  \n",
       "15          5  \n",
       "16          5  \n",
       "17          5  \n",
       "18          5  \n",
       "19          5  \n",
       "20          5  \n",
       "21          5  \n",
       "22          5  \n",
       "23          5  \n",
       "24          5  \n",
       "25          5  \n",
       "26          5  \n",
       "27          5  \n",
       "28          5  \n",
       "29          5  \n",
       "...       ...  \n",
       "974         5  \n",
       "975         5  \n",
       "976         5  \n",
       "977         5  \n",
       "978         5  \n",
       "979         5  \n",
       "980         5  \n",
       "981         5  \n",
       "982         5  \n",
       "983         5  \n",
       "984         5  \n",
       "985         5  \n",
       "986         5  \n",
       "987         5  \n",
       "988         5  \n",
       "989         5  \n",
       "990         5  \n",
       "991         5  \n",
       "992         5  \n",
       "993         5  \n",
       "994         5  \n",
       "995         5  \n",
       "996         5  \n",
       "997         5  \n",
       "998         5  \n",
       "999         5  \n",
       "1000        5  \n",
       "1001        5  \n",
       "1002        5  \n",
       "1003        5  \n",
       "\n",
       "[1004 rows x 18 columns]"
      ]
     },
     "execution_count": 54,
     "metadata": {},
     "output_type": "execute_result"
    }
   ],
   "source": [
    "# cl = gene_annotation.sort(col, ascending=False)[gene_annotation[col] > 5e-4].index\n",
    "\n",
    "go_enricher = goatools.GOEnrichmentStudy(genes, gene_name_to_go, obo_dag)\n",
    "\n",
    "results = go.run_study(genes[:5])\n",
    "\n",
    "go_enrichment = pd.DataFrame([r.__dict__ for r in results])\n",
    "go_enrichment"
   ]
  },
  {
   "cell_type": "code",
   "execution_count": 6,
   "metadata": {
    "collapsed": true
   },
   "outputs": [],
   "source": [
    "from sklearn.svm import SVC"
   ]
  },
  {
   "cell_type": "code",
   "execution_count": null,
   "metadata": {
    "collapsed": true
   },
   "outputs": [],
   "source": []
  },
  {
   "cell_type": "code",
   "execution_count": 10,
   "metadata": {
    "collapsed": true
   },
   "outputs": [],
   "source": [
    "classifier = SVC(kernel='linear')"
   ]
  },
  {
   "cell_type": "code",
   "execution_count": 11,
   "metadata": {
    "collapsed": true
   },
   "outputs": [],
   "source": [
    "def plot_svc_decision_function(clf, ax=None):\n",
    "    \"\"\"Plot the decision function for a 2D SVC\"\"\"\n",
    "    if ax is None:\n",
    "        ax = plt.gca()\n",
    "    x = np.linspace(plt.xlim()[0], plt.xlim()[1], 30)\n",
    "    y = np.linspace(plt.ylim()[0], plt.ylim()[1], 30)\n",
    "    Y, X = np.meshgrid(y, x)\n",
    "    P = np.zeros_like(X)\n",
    "    for i, xi in enumerate(x):\n",
    "        for j, yj in enumerate(y):\n",
    "            P[i, j] = clf.decision_function([[xi, yj]])\n",
    "    # plot the margins\n",
    "    ax.contour(X, Y, P, colors='k',\n",
    "               levels=[-1, 0, 1], alpha=0.5,\n",
    "               linestyles=['--', '-', '--'])"
   ]
  },
  {
   "cell_type": "code",
   "execution_count": 12,
   "metadata": {
    "collapsed": false
   },
   "outputs": [
    {
     "data": {
      "text/plain": [
       "(18, 6312)"
      ]
     },
     "execution_count": 12,
     "metadata": {},
     "output_type": "execute_result"
    }
   ],
   "source": [
    "shalek2013_singles = shalek2013_expression.loc[[x for x in shalek2013_expression.index if x.startswith('S')]]\n",
    "shalek2013_singles.shape"
   ]
  },
  {
   "cell_type": "code",
   "execution_count": 13,
   "metadata": {
    "collapsed": false
   },
   "outputs": [
    {
     "data": {
      "text/plain": [
       "(18, 6013)"
      ]
     },
     "execution_count": 13,
     "metadata": {},
     "output_type": "execute_result"
    }
   ],
   "source": [
    "shalek2013_singles = shalek2013_singles.loc[:, (shalek2013_singles > 1).sum() >= 3]\n",
    "shalek2013_singles.shape"
   ]
  },
  {
   "cell_type": "code",
   "execution_count": 14,
   "metadata": {
    "collapsed": false
   },
   "outputs": [
    {
     "data": {
      "text/plain": [
       "[0, 0, 0, 0, 0, 0, 0, 0, 0, 0, 0, 1, 1, 0, 0, 1, 0, 0]"
      ]
     },
     "execution_count": 14,
     "metadata": {},
     "output_type": "execute_result"
    }
   ],
   "source": [
    "mature = 'S12', 'S13', 'S16'\n",
    "target = [1 if x in mature else 0 for x in shalek2013_singles.index]\n",
    "target"
   ]
  },
  {
   "cell_type": "code",
   "execution_count": 15,
   "metadata": {
    "collapsed": false
   },
   "outputs": [
    {
     "data": {
      "text/plain": [
       "SVC(C=1.0, cache_size=200, class_weight=None, coef0=0.0,\n",
       "  decision_function_shape=None, degree=3, gamma='auto', kernel='linear',\n",
       "  max_iter=-1, probability=False, random_state=None, shrinking=True,\n",
       "  tol=0.001, verbose=False)"
      ]
     },
     "execution_count": 15,
     "metadata": {},
     "output_type": "execute_result"
    }
   ],
   "source": [
    "classifier.fit(shalek2013_singles, target)"
   ]
  },
  {
   "cell_type": "code",
   "execution_count": 16,
   "metadata": {
    "collapsed": false
   },
   "outputs": [
    {
     "name": "stderr",
     "output_type": "stream",
     "text": [
      "/Users/olga/anaconda3/envs/single-cell-bioinformatics/lib/python3.5/site-packages/sklearn/decomposition/fastica_.py:116: UserWarning: FastICA did not converge. Consider increasing tolerance or the maximum number of iterations.\n",
      "  warnings.warn('FastICA did not converge. Consider increasing '\n"
     ]
    }
   ],
   "source": [
    "from sklearn.decomposition import PCA, FastICA\n",
    "from sklearn.manifold import TSNE, MDS\n",
    "\n",
    "\n",
    "smusher = FastICA(n_components=4)\n",
    "reduced_data = smusher.fit_transform(shalek2013_singles+1)"
   ]
  },
  {
   "cell_type": "code",
   "execution_count": 17,
   "metadata": {
    "collapsed": false
   },
   "outputs": [],
   "source": [
    "reduced_data_df = pd.DataFrame(reduced_data)"
   ]
  },
  {
   "cell_type": "code",
   "execution_count": 18,
   "metadata": {
    "collapsed": false
   },
   "outputs": [
    {
     "data": {
      "text/plain": [
       "0   -0.556400\n",
       "1   -0.643007\n",
       "2   -0.299692\n",
       "3   -0.382223\n",
       "dtype: float64"
      ]
     },
     "execution_count": 18,
     "metadata": {},
     "output_type": "execute_result"
    }
   ],
   "source": [
    "reduced_data_df.min()"
   ]
  },
  {
   "cell_type": "code",
   "execution_count": 19,
   "metadata": {
    "collapsed": false
   },
   "outputs": [
    {
     "data": {
      "text/plain": [
       "0    0.212303\n",
       "1    0.387360\n",
       "2    0.864751\n",
       "3    0.332152\n",
       "dtype: float64"
      ]
     },
     "execution_count": 19,
     "metadata": {},
     "output_type": "execute_result"
    }
   ],
   "source": [
    "reduced_data_df.max()"
   ]
  },
  {
   "cell_type": "code",
   "execution_count": 20,
   "metadata": {
    "collapsed": false
   },
   "outputs": [
    {
     "data": {
      "text/plain": [
       "0    0.212303\n",
       "1    0.387360\n",
       "2    0.864751\n",
       "3    0.332152\n",
       "dtype: float64"
      ]
     },
     "execution_count": 20,
     "metadata": {},
     "output_type": "execute_result"
    }
   ],
   "source": [
    "reduced_data_df.quantile(1)"
   ]
  },
  {
   "cell_type": "code",
   "execution_count": 21,
   "metadata": {
    "collapsed": false
   },
   "outputs": [],
   "source": [
    "low_d_space = pd.DataFrame(reduced_data).apply(lambda x: pd.Series(np.linspace(x.min(), x.max(), 50)))"
   ]
  },
  {
   "cell_type": "code",
   "execution_count": 22,
   "metadata": {
    "collapsed": false
   },
   "outputs": [
    {
     "ename": "ValueError",
     "evalue": "need at least one array to concatenate",
     "output_type": "error",
     "traceback": [
      "\u001b[0;31m---------------------------------------------------------------------------\u001b[0m",
      "\u001b[0;31mValueError\u001b[0m                                Traceback (most recent call last)",
      "\u001b[0;32m<ipython-input-22-4abe8f52bb01>\u001b[0m in \u001b[0;36m<module>\u001b[0;34m()\u001b[0m\n\u001b[1;32m     10\u001b[0m \u001b[0;31m# two_d_space = np.c_[xx.ravel(), yy.ravel()]\u001b[0m\u001b[0;34m\u001b[0m\u001b[0;34m\u001b[0m\u001b[0m\n\u001b[1;32m     11\u001b[0m \u001b[0;31m# two_d_space\u001b[0m\u001b[0;34m\u001b[0m\u001b[0;34m\u001b[0m\u001b[0m\n\u001b[0;32m---> 12\u001b[0;31m \u001b[0mlow_d_space\u001b[0m \u001b[0;34m=\u001b[0m \u001b[0mnp\u001b[0m\u001b[0;34m.\u001b[0m\u001b[0mconcatenate\u001b[0m\u001b[0;34m(\u001b[0m\u001b[0;34m[\u001b[0m\u001b[0;34m]\u001b[0m\u001b[0;34m)\u001b[0m\u001b[0;34m\u001b[0m\u001b[0m\n\u001b[0m",
      "\u001b[0;31mValueError\u001b[0m: need at least one array to concatenate"
     ]
    }
   ],
   "source": [
    "x_min, x_max = reduced_data[:, 0].min() - 1, reduced_data[:, 0].max() + 1\n",
    "y_min, y_max = reduced_data[:, 1].min() - 1, reduced_data[:, 1].max() + 1\n",
    "X = np.linspace(x_min, x_max, 50)\n",
    "Y = np.linspace(y_min, y_max, 50)\n",
    "xx, yy = np.meshgrid(X, Y)\n",
    "\n",
    "# Get the decision boundary\n",
    "# Z = classifier.decision_function(np.c_[xx.ravel(), yy.ravel()])\n",
    "\n",
    "# two_d_space = np.c_[xx.ravel(), yy.ravel()]\n",
    "# two_d_space\n",
    "low_d_space = np.concatenate([])"
   ]
  },
  {
   "cell_type": "code",
   "execution_count": null,
   "metadata": {
    "collapsed": false
   },
   "outputs": [],
   "source": [
    "xx.shape"
   ]
  },
  {
   "cell_type": "code",
   "execution_count": null,
   "metadata": {
    "collapsed": false
   },
   "outputs": [],
   "source": [
    "np.concatenate([xx.ravel(), yy.ravel()]).reshape(50**2, 2)"
   ]
  },
  {
   "cell_type": "code",
   "execution_count": null,
   "metadata": {
    "collapsed": false
   },
   "outputs": [],
   "source": [
    "two_d_space.shape"
   ]
  },
  {
   "cell_type": "code",
   "execution_count": null,
   "metadata": {
    "collapsed": false
   },
   "outputs": [],
   "source": [
    "plt.scatter(two_d_space[:, 0], two_d_space[:, 1], color='black')"
   ]
  },
  {
   "cell_type": "code",
   "execution_count": null,
   "metadata": {
    "collapsed": true
   },
   "outputs": [],
   "source": [
    "import goatools"
   ]
  },
  {
   "cell_type": "code",
   "execution_count": null,
   "metadata": {
    "collapsed": true
   },
   "outputs": [],
   "source": [
    "shalek2013_expression.index[:10]"
   ]
  },
  {
   "cell_type": "code",
   "execution_count": 31,
   "metadata": {
    "collapsed": false
   },
   "outputs": [
    {
     "name": "stdout",
     "output_type": "stream",
     "text": [
      "  EXISTS: go-basic.obo\n"
     ]
    },
    {
     "data": {
      "text/plain": [
       "'go-basic.obo'"
      ]
     },
     "execution_count": 31,
     "metadata": {},
     "output_type": "execute_result"
    }
   ],
   "source": [
    "\n",
    "# Get http://geneontology.org/ontology/go-basic.obo\n",
    "from goatools.base import download_go_basic_obo\n",
    "obo_fname = download_go_basic_obo()\n",
    "obo_fname"
   ]
  },
  {
   "cell_type": "code",
   "execution_count": null,
   "metadata": {
    "collapsed": true
   },
   "outputs": [],
   "source": [
    "\n",
    "# Get ftp://ftp.ncbi.nlm.nih.gov/gene/DATA/gene2go.gz\n",
    "from goatools.base import download_ncbi_associations\n",
    "gene2go = download_ncbi_associations()"
   ]
  },
  {
   "cell_type": "code",
   "execution_count": 32,
   "metadata": {
    "collapsed": false
   },
   "outputs": [
    {
     "name": "stderr",
     "output_type": "stream",
     "text": [
      "load obo file go-basic.obo\n"
     ]
    },
    {
     "name": "stdout",
     "output_type": "stream",
     "text": [
      "go-basic.obo: format-version(1.2) data-version(releases/2016-06-15)\n"
     ]
    },
    {
     "name": "stderr",
     "output_type": "stream",
     "text": [
      "46823 nodes imported\n"
     ]
    },
    {
     "ename": "NameError",
     "evalue": "name 'gene_annotation' is not defined",
     "output_type": "error",
     "traceback": [
      "\u001b[0;31m---------------------------------------------------------------------------\u001b[0m",
      "\u001b[0;31mNameError\u001b[0m                                 Traceback (most recent call last)",
      "\u001b[0;32m<ipython-input-32-183177986a6c>\u001b[0m in \u001b[0;36m<module>\u001b[0;34m()\u001b[0m\n\u001b[1;32m      4\u001b[0m \u001b[0;34m\u001b[0m\u001b[0m\n\u001b[1;32m      5\u001b[0m \u001b[0;31m# cl = gene_annotation.sort(col, ascending=False)[gene_annotation[col] > 5e-4].index\u001b[0m\u001b[0;34m\u001b[0m\u001b[0;34m\u001b[0m\u001b[0m\n\u001b[0;32m----> 6\u001b[0;31m \u001b[0mg\u001b[0m \u001b[0;34m=\u001b[0m \u001b[0mgoatools\u001b[0m\u001b[0;34m.\u001b[0m\u001b[0mGOEnrichmentStudy\u001b[0m\u001b[0;34m(\u001b[0m\u001b[0mlist\u001b[0m\u001b[0;34m(\u001b[0m\u001b[0mgene_annotation\u001b[0m\u001b[0;34m.\u001b[0m\u001b[0mindex\u001b[0m\u001b[0;34m)\u001b[0m\u001b[0;34m,\u001b[0m \u001b[0massoc_dict\u001b[0m\u001b[0;34m,\u001b[0m \u001b[0mobo_dag\u001b[0m\u001b[0;34m,\u001b[0m \u001b[0mstudy\u001b[0m\u001b[0;34m=\u001b[0m\u001b[0mlist\u001b[0m\u001b[0;34m(\u001b[0m\u001b[0mcl\u001b[0m\u001b[0;34m)\u001b[0m\u001b[0;34m)\u001b[0m\u001b[0;34m\u001b[0m\u001b[0m\n\u001b[0m",
      "\u001b[0;31mNameError\u001b[0m: name 'gene_annotation' is not defined"
     ]
    }
   ],
   "source": [
    "obo_dag = goatools.obo_parser.GODag(obo_file=obo_fname)\n",
    "\n",
    "import goatools\n",
    "\n",
    "# cl = gene_annotation.sort(col, ascending=False)[gene_annotation[col] > 5e-4].index\n",
    "g = goatools.GOEnrichmentStudy(list(gene_annotation.index), assoc_dict, obo_dag, study=list(cl))"
   ]
  },
  {
   "cell_type": "code",
   "execution_count": null,
   "metadata": {
    "collapsed": true
   },
   "outputs": [],
   "source": []
  },
  {
   "cell_type": "code",
   "execution_count": 3,
   "metadata": {
    "collapsed": false
   },
   "outputs": [
    {
     "name": "stderr",
     "output_type": "stream",
     "text": [
      "load obo file ../data/macaulay2016/go-basic.obo\n"
     ]
    },
    {
     "ename": "Exception",
     "evalue": "download obo file first\n [http://geneontology.org/ontology/go-basic.obo]",
     "output_type": "error",
     "traceback": [
      "\u001b[0;31m---------------------------------------------------------------------------\u001b[0m",
      "\u001b[0;31mException\u001b[0m                                 Traceback (most recent call last)",
      "\u001b[0;32m<ipython-input-3-ec6a9e36b6e5>\u001b[0m in \u001b[0;36m<module>\u001b[0;34m()\u001b[0m\n\u001b[0;32m----> 1\u001b[0;31m \u001b[0mobo_dag\u001b[0m \u001b[0;34m=\u001b[0m \u001b[0mgoatools\u001b[0m\u001b[0;34m.\u001b[0m\u001b[0mobo_parser\u001b[0m\u001b[0;34m.\u001b[0m\u001b[0mGODag\u001b[0m\u001b[0;34m(\u001b[0m\u001b[0mobo_file\u001b[0m\u001b[0;34m=\u001b[0m\u001b[0;34m'../data/macaulay2016/go-basic.obo'\u001b[0m\u001b[0;34m)\u001b[0m\u001b[0;34m\u001b[0m\u001b[0m\n\u001b[0m\u001b[1;32m      2\u001b[0m \u001b[0;34m\u001b[0m\u001b[0m\n\u001b[1;32m      3\u001b[0m \u001b[0;31m# assoc = pd.read_table('danio-rerio-gene-ontology.txt').dropna()\u001b[0m\u001b[0;34m\u001b[0m\u001b[0;34m\u001b[0m\u001b[0m\n\u001b[1;32m      4\u001b[0m \u001b[0;31m# assoc_df = assoc.groupby('Ensembl Gene ID').agg(lambda s: ';'.join(s))\u001b[0m\u001b[0;34m\u001b[0m\u001b[0;34m\u001b[0m\u001b[0m\n\u001b[1;32m      5\u001b[0m \u001b[0;31m# assoc_s = assoc_df['GO Term Accession'].apply(lambda s: set(s.split(';')))\u001b[0m\u001b[0;34m\u001b[0m\u001b[0;34m\u001b[0m\u001b[0m\n",
      "\u001b[0;32m/Users/olga/anaconda3/envs/single-cell-bioinformatics/lib/python3.5/site-packages/goatools/obo_parser.py\u001b[0m in \u001b[0;36m__init__\u001b[0;34m(self, obo_file, optional_attrs)\u001b[0m\n\u001b[1;32m    386\u001b[0m \u001b[0;34m\u001b[0m\u001b[0m\n\u001b[1;32m    387\u001b[0m     \u001b[0;32mdef\u001b[0m \u001b[0m__init__\u001b[0m\u001b[0;34m(\u001b[0m\u001b[0mself\u001b[0m\u001b[0;34m,\u001b[0m \u001b[0mobo_file\u001b[0m\u001b[0;34m=\u001b[0m\u001b[0;34m\"go-basic.obo\"\u001b[0m\u001b[0;34m,\u001b[0m \u001b[0moptional_attrs\u001b[0m\u001b[0;34m=\u001b[0m\u001b[0;32mNone\u001b[0m\u001b[0;34m)\u001b[0m\u001b[0;34m:\u001b[0m\u001b[0;34m\u001b[0m\u001b[0m\n\u001b[0;32m--> 388\u001b[0;31m         \u001b[0mself\u001b[0m\u001b[0;34m.\u001b[0m\u001b[0mload_obo_file\u001b[0m\u001b[0;34m(\u001b[0m\u001b[0mobo_file\u001b[0m\u001b[0;34m,\u001b[0m \u001b[0moptional_attrs\u001b[0m\u001b[0;34m)\u001b[0m\u001b[0;34m\u001b[0m\u001b[0m\n\u001b[0m\u001b[1;32m    389\u001b[0m \u001b[0;34m\u001b[0m\u001b[0m\n\u001b[1;32m    390\u001b[0m     \u001b[0;32mdef\u001b[0m \u001b[0mload_obo_file\u001b[0m\u001b[0;34m(\u001b[0m\u001b[0mself\u001b[0m\u001b[0;34m,\u001b[0m \u001b[0mobo_file\u001b[0m\u001b[0;34m,\u001b[0m \u001b[0moptional_attrs\u001b[0m\u001b[0;34m)\u001b[0m\u001b[0;34m:\u001b[0m\u001b[0;34m\u001b[0m\u001b[0m\n",
      "\u001b[0;32m/Users/olga/anaconda3/envs/single-cell-bioinformatics/lib/python3.5/site-packages/goatools/obo_parser.py\u001b[0m in \u001b[0;36mload_obo_file\u001b[0;34m(self, obo_file, optional_attrs)\u001b[0m\n\u001b[1;32m    391\u001b[0m \u001b[0;34m\u001b[0m\u001b[0m\n\u001b[1;32m    392\u001b[0m         \u001b[0mprint\u001b[0m\u001b[0;34m(\u001b[0m\u001b[0;34m\"load obo file %s\"\u001b[0m \u001b[0;34m%\u001b[0m \u001b[0mobo_file\u001b[0m\u001b[0;34m,\u001b[0m \u001b[0mfile\u001b[0m\u001b[0;34m=\u001b[0m\u001b[0msys\u001b[0m\u001b[0;34m.\u001b[0m\u001b[0mstderr\u001b[0m\u001b[0;34m)\u001b[0m\u001b[0;34m\u001b[0m\u001b[0m\n\u001b[0;32m--> 393\u001b[0;31m         \u001b[0mreader\u001b[0m \u001b[0;34m=\u001b[0m \u001b[0mOBOReader\u001b[0m\u001b[0;34m(\u001b[0m\u001b[0mobo_file\u001b[0m\u001b[0;34m,\u001b[0m \u001b[0moptional_attrs\u001b[0m\u001b[0;34m)\u001b[0m\u001b[0;34m\u001b[0m\u001b[0m\n\u001b[0m\u001b[1;32m    394\u001b[0m         \u001b[0;32mfor\u001b[0m \u001b[0mrec\u001b[0m \u001b[0;32min\u001b[0m \u001b[0mreader\u001b[0m\u001b[0;34m:\u001b[0m\u001b[0;34m\u001b[0m\u001b[0m\n\u001b[1;32m    395\u001b[0m             \u001b[0mself\u001b[0m\u001b[0;34m[\u001b[0m\u001b[0mrec\u001b[0m\u001b[0;34m.\u001b[0m\u001b[0mid\u001b[0m\u001b[0;34m]\u001b[0m \u001b[0;34m=\u001b[0m \u001b[0mrec\u001b[0m\u001b[0;34m\u001b[0m\u001b[0m\n",
      "\u001b[0;32m/Users/olga/anaconda3/envs/single-cell-bioinformatics/lib/python3.5/site-packages/goatools/obo_parser.py\u001b[0m in \u001b[0;36m__init__\u001b[0;34m(self, obo_file, optional_attrs)\u001b[0m\n\u001b[1;32m     40\u001b[0m             \u001b[0;31m# GOTerm attributes that are necessary for any operations:\u001b[0m\u001b[0;34m\u001b[0m\u001b[0;34m\u001b[0m\u001b[0m\n\u001b[1;32m     41\u001b[0m         \u001b[0;32melse\u001b[0m\u001b[0;34m:\u001b[0m\u001b[0;34m\u001b[0m\u001b[0m\n\u001b[0;32m---> 42\u001b[0;31m             raise Exception(\"download obo file first\\n \"\n\u001b[0m\u001b[1;32m     43\u001b[0m                             \u001b[0;34m\"[http://geneontology.org/ontology/\"\u001b[0m\u001b[0;34m\u001b[0m\u001b[0m\n\u001b[1;32m     44\u001b[0m                             \"go-basic.obo]\")\n",
      "\u001b[0;31mException\u001b[0m: download obo file first\n [http://geneontology.org/ontology/go-basic.obo]"
     ]
    }
   ],
   "source": [
    "# assoc = pd.read_table('danio-rerio-gene-ontology.txt').dropna()\n",
    "# assoc_df = assoc.groupby('Ensembl Gene ID').agg(lambda s: ';'.join(s))\n",
    "# assoc_s = assoc_df['GO Term Accession'].apply(lambda s: set(s.split(';')))\n",
    "# assoc_dict = assoc_s.to_dict()"
   ]
  },
  {
   "cell_type": "code",
   "execution_count": 19,
   "metadata": {
    "collapsed": true
   },
   "outputs": [],
   "source": [
    "import goatools\n",
    "\n",
    "# cl = gene_annotation.sort(col, ascending=False)[gene_annotation[col] > 5e-4].index\n",
    "g = goatools.GOEnrichmentStudy(list(gene_annotation.index), assoc_dict, obo_dag, study=list(cl))"
   ]
  },
  {
   "cell_type": "code",
   "execution_count": 6,
   "metadata": {
    "collapsed": false
   },
   "outputs": [
    {
     "name": "stderr",
     "output_type": "stream",
     "text": [
      "/Users/olga/anaconda3/envs/single-cell-bioinformatics/lib/python3.5/site-packages/matplotlib/__init__.py:872: UserWarning: axes.color_cycle is deprecated and replaced with axes.prop_cycle; please use the latter.\n",
      "  warnings.warn(self.msg_depr % (key, alt_key))\n"
     ]
    }
   ],
   "source": []
  },
  {
   "cell_type": "code",
   "execution_count": null,
   "metadata": {
    "collapsed": true
   },
   "outputs": [],
   "source": [
    "for r in g.results[:25]:\n",
    "    print r.goterm.id, '{:.2}'.format(r.p_bonferroni), r.ratio_in_study, r.goterm.name, r.goterm.namespace"
   ]
  },
  {
   "cell_type": "code",
   "execution_count": 21,
   "metadata": {
    "collapsed": false
   },
   "outputs": [
    {
     "ename": "ValueError",
     "evalue": "shapes (2500,2) and (4,6013) not aligned: 2 (dim 1) != 4 (dim 0)",
     "output_type": "error",
     "traceback": [
      "\u001b[0;31m---------------------------------------------------------------------------\u001b[0m",
      "\u001b[0;31mValueError\u001b[0m                                Traceback (most recent call last)",
      "\u001b[0;32m<ipython-input-21-6cebabe76618>\u001b[0m in \u001b[0;36m<module>\u001b[0;34m()\u001b[0m\n\u001b[0;32m----> 1\u001b[0;31m \u001b[0munsmushed\u001b[0m \u001b[0;34m=\u001b[0m \u001b[0msmusher\u001b[0m\u001b[0;34m.\u001b[0m\u001b[0minverse_transform\u001b[0m\u001b[0;34m(\u001b[0m\u001b[0mtwo_d_space\u001b[0m\u001b[0;34m)\u001b[0m\u001b[0;34m\u001b[0m\u001b[0m\n\u001b[0m",
      "\u001b[0;32m/Users/olga/anaconda3/envs/single-cell-bioinformatics/lib/python3.5/site-packages/sklearn/decomposition/fastica_.py\u001b[0m in \u001b[0;36minverse_transform\u001b[0;34m(self, X, copy)\u001b[0m\n\u001b[1;32m    566\u001b[0m \u001b[0;34m\u001b[0m\u001b[0m\n\u001b[1;32m    567\u001b[0m         \u001b[0mX\u001b[0m \u001b[0;34m=\u001b[0m \u001b[0mcheck_array\u001b[0m\u001b[0;34m(\u001b[0m\u001b[0mX\u001b[0m\u001b[0;34m,\u001b[0m \u001b[0mcopy\u001b[0m\u001b[0;34m=\u001b[0m\u001b[0;34m(\u001b[0m\u001b[0mcopy\u001b[0m \u001b[0;32mand\u001b[0m \u001b[0mself\u001b[0m\u001b[0;34m.\u001b[0m\u001b[0mwhiten\u001b[0m\u001b[0;34m)\u001b[0m\u001b[0;34m,\u001b[0m \u001b[0mdtype\u001b[0m\u001b[0;34m=\u001b[0m\u001b[0mFLOAT_DTYPES\u001b[0m\u001b[0;34m)\u001b[0m\u001b[0;34m\u001b[0m\u001b[0m\n\u001b[0;32m--> 568\u001b[0;31m         \u001b[0mX\u001b[0m \u001b[0;34m=\u001b[0m \u001b[0mfast_dot\u001b[0m\u001b[0;34m(\u001b[0m\u001b[0mX\u001b[0m\u001b[0;34m,\u001b[0m \u001b[0mself\u001b[0m\u001b[0;34m.\u001b[0m\u001b[0mmixing_\u001b[0m\u001b[0;34m.\u001b[0m\u001b[0mT\u001b[0m\u001b[0;34m)\u001b[0m\u001b[0;34m\u001b[0m\u001b[0m\n\u001b[0m\u001b[1;32m    569\u001b[0m         \u001b[0;32mif\u001b[0m \u001b[0mself\u001b[0m\u001b[0;34m.\u001b[0m\u001b[0mwhiten\u001b[0m\u001b[0;34m:\u001b[0m\u001b[0;34m\u001b[0m\u001b[0m\n\u001b[1;32m    570\u001b[0m             \u001b[0mX\u001b[0m \u001b[0;34m+=\u001b[0m \u001b[0mself\u001b[0m\u001b[0;34m.\u001b[0m\u001b[0mmean_\u001b[0m\u001b[0;34m\u001b[0m\u001b[0m\n",
      "\u001b[0;31mValueError\u001b[0m: shapes (2500,2) and (4,6013) not aligned: 2 (dim 1) != 4 (dim 0)"
     ]
    }
   ],
   "source": [
    "unsmushed = smusher.inverse_transform(two_d_space)"
   ]
  },
  {
   "cell_type": "code",
   "execution_count": 57,
   "metadata": {
    "collapsed": false
   },
   "outputs": [
    {
     "ename": "NameError",
     "evalue": "name 'unsmushed' is not defined",
     "output_type": "error",
     "traceback": [
      "\u001b[0;31m---------------------------------------------------------------------------\u001b[0m",
      "\u001b[0;31mNameError\u001b[0m                                 Traceback (most recent call last)",
      "\u001b[0;32m<ipython-input-57-2bcd1d6f9dd1>\u001b[0m in \u001b[0;36m<module>\u001b[0;34m()\u001b[0m\n\u001b[0;32m----> 1\u001b[0;31m \u001b[0mZ\u001b[0m \u001b[0;34m=\u001b[0m \u001b[0mclassifier\u001b[0m\u001b[0;34m.\u001b[0m\u001b[0mdecision_function\u001b[0m\u001b[0;34m(\u001b[0m\u001b[0munsmushed\u001b[0m\u001b[0;34m)\u001b[0m\u001b[0;34m\u001b[0m\u001b[0m\n\u001b[0m\u001b[1;32m      2\u001b[0m \u001b[0mZ\u001b[0m \u001b[0;34m=\u001b[0m \u001b[0mZ\u001b[0m\u001b[0;34m.\u001b[0m\u001b[0mreshape\u001b[0m\u001b[0;34m(\u001b[0m\u001b[0mxx\u001b[0m\u001b[0;34m.\u001b[0m\u001b[0mshape\u001b[0m\u001b[0;34m)\u001b[0m\u001b[0;34m\u001b[0m\u001b[0m\n",
      "\u001b[0;31mNameError\u001b[0m: name 'unsmushed' is not defined"
     ]
    }
   ],
   "source": [
    "Z = classifier.decision_function(unsmushed)\n",
    "Z = Z.reshape(xx.shape)"
   ]
  },
  {
   "cell_type": "code",
   "execution_count": null,
   "metadata": {
    "collapsed": false
   },
   "outputs": [],
   "source": [
    "fig, ax = plt.subplots()\n",
    "ax.scatter(reduced_data[:, 0], reduced_data[:, 1], c=target, cmap='Dark2')\n",
    "ax.contour(X, Y, Z, colors='k',\n",
    "           levels=[-1, 0, 1], alpha=0.5,\n",
    "           linestyles=['--', '-', '--'])"
   ]
  },
  {
   "cell_type": "markdown",
   "metadata": {},
   "source": [
    "### Exercise 1\n",
    "\n",
    "1. Try the same analysis, but use ICA instead of PCA. \n",
    "    1. How are the results different? \n",
    "    2. Are the cells closer or farther from the decision boundary? \n",
    "    3. Is that a \"better\" or \"worse\" classification? Why?\n",
    "    4. Why does the reduction algorithm affect the visualization of the classification?\n",
    "2. Try the same analysis, but use MDS or t-SNE instead of PCA. \n",
    "    1. How are the results different? \n",
    "    2. Are the cells closer or farther from the decision boundary? \n",
    "    3. Is that a \"better\" or \"worse\" classification? Why?\n",
    "3. Try the same analysis, but use the \"LPS Response\" genes and a dimensionality reduction algorithm of your choice.\n",
    "    1. How are the results different? \n",
    "    2. Are the cells closer or farther from the decision boundary? \n",
    "    3. Is that a \"better\" or \"worse\" classification? Why?"
   ]
  },
  {
   "cell_type": "markdown",
   "metadata": {},
   "source": [
    "## Decision trees"
   ]
  },
  {
   "cell_type": "code",
   "execution_count": null,
   "metadata": {
    "collapsed": true
   },
   "outputs": [],
   "source": [
    "def visualize_tree(estimator, X, y, smusher, boundaries=True,\n",
    "                   xlim=None, ylim=None):\n",
    "    estimator.fit(X, y)\n",
    "    smushed = smusher.fit_transform(X)\n",
    "\n",
    "    if xlim is None:\n",
    "        xlim = (smushed[:, 0].min() - 0.1, smushed[:, 0].max() + 0.1)\n",
    "    if ylim is None:\n",
    "        ylim = (smushed[:, 1].min() - 0.1, smushed[:, 1].max() + 0.1)\n",
    "\n",
    "    x_min, x_max = xlim\n",
    "    y_min, y_max = ylim\n",
    "    xx, yy = np.meshgrid(np.linspace(x_min, x_max, 100),\n",
    "                         np.linspace(y_min, y_max, 100))\n",
    "    two_d_space = np.c_[xx.ravel(), yy.ravel()]\n",
    "    unsmushed = smusher.inverse_transform(two_d_space)\n",
    "    Z = estimator.predict(unsmushed)\n",
    "\n",
    "    # Put the result into a color plot\n",
    "    Z = Z.reshape(xx.shape)\n",
    "    plt.figure()\n",
    "    plt.pcolormesh(xx, yy, Z, alpha=0.2, cmap='Paired')\n",
    "    plt.clim(y.min(), y.max())\n",
    "\n",
    "    # Plot also the training points\n",
    "    plt.scatter(smushed[:, 0], smushed[:, 1], c=y, s=50, cmap='Paired')\n",
    "    plt.axis('off')\n",
    "\n",
    "    plt.xlim(x_min, x_max)\n",
    "    plt.ylim(y_min, y_max)        \n",
    "    plt.clim(y.min(), y.max())\n",
    "    \n",
    "    # Plot the decision boundaries\n",
    "    def plot_boundaries(i, xlim, ylim):\n",
    "        if i < 0:\n",
    "            return\n",
    "\n",
    "        tree = estimator.tree_\n",
    "        \n",
    "        if tree.feature[i] == 0:\n",
    "            plt.plot([tree.threshold[i], tree.threshold[i]], ylim, '-k')\n",
    "            plot_boundaries(tree.children_left[i],\n",
    "                            [xlim[0], tree.threshold[i]], ylim)\n",
    "            plot_boundaries(tree.children_right[i],\n",
    "                            [tree.threshold[i], xlim[1]], ylim)\n",
    "        \n",
    "        elif tree.feature[i] == 1:\n",
    "            plt.plot(xlim, [tree.threshold[i], tree.threshold[i]], '-k')\n",
    "            plot_boundaries(tree.children_left[i], xlim,\n",
    "                            [ylim[0], tree.threshold[i]])\n",
    "            plot_boundaries(tree.children_right[i], xlim,\n",
    "                            [tree.threshold[i], ylim[1]])\n",
    "            \n",
    "    if boundaries:\n",
    "        plot_boundaries(0, plt.xlim(), plt.ylim())"
   ]
  },
  {
   "cell_type": "code",
   "execution_count": null,
   "metadata": {
    "collapsed": false
   },
   "outputs": [],
   "source": [
    "from sklearn.tree import DecisionTreeClassifier\n",
    "classifier = DecisionTreeClassifier()\n",
    "\n",
    "\n",
    "from sklearn.decomposition import PCA, FastICA\n",
    "from sklearn.manifold import TSNE, MDS\n",
    "\n",
    "\n",
    "smusher = PCA(n_components=2)\n",
    "# reduced_data = smusher.fit_transform(shalek2013_singles+1)\n",
    "\n",
    "visualize_tree(classifier, shalek2013_singles, np.array(target), smusher)"
   ]
  },
  {
   "cell_type": "code",
   "execution_count": null,
   "metadata": {
    "collapsed": false
   },
   "outputs": [],
   "source": [
    "from sklearn.ensemble import RandomForestClassifier, ExtraTreesClassifier\n",
    "classifier = RandomForestClassifier()\n",
    "\n",
    "smusher = PCA(n_components=2)\n",
    "# reduced_data = smusher.fit_transform(shalek2013_singles+1)\n",
    "\n",
    "visualize_tree(classifier, shalek2013_singles, np.array(target), smusher, boundaries=False)"
   ]
  },
  {
   "cell_type": "code",
   "execution_count": null,
   "metadata": {
    "collapsed": false
   },
   "outputs": [],
   "source": [
    "classifier = ExtraTreesClassifier()\n",
    "\n",
    "smusher = PCA(n_components=2)\n",
    "# reduced_data = smusher.fit_transform(shalek2013_singles+1)\n",
    "\n",
    "visualize_tree(classifier, shalek2013_singles, np.array(target), smusher, boundaries=False)"
   ]
  },
  {
   "cell_type": "markdown",
   "metadata": {},
   "source": [
    "### Macaulay2016"
   ]
  },
  {
   "cell_type": "code",
   "execution_count": null,
   "metadata": {
    "collapsed": true
   },
   "outputs": [],
   "source": [
    "pd.options.display.max_columns = 50"
   ]
  },
  {
   "cell_type": "code",
   "execution_count": null,
   "metadata": {
    "collapsed": false
   },
   "outputs": [],
   "source": [
    "macaulay2016_metadata = pd.read_csv('../4._Case_Study/macaulay2016/sample_info_qc.csv', index_col=0)\n",
    "macaulay2016_metadata.head()"
   ]
  },
  {
   "cell_type": "code",
   "execution_count": null,
   "metadata": {
    "collapsed": false
   },
   "outputs": [],
   "source": [
    "macaulay2016_cluster_names = tuple(sorted(macaulay2016_metadata['cluster'].unique()))\n",
    "macaulay2016_cluster_names"
   ]
  },
  {
   "cell_type": "code",
   "execution_count": null,
   "metadata": {
    "collapsed": false
   },
   "outputs": [],
   "source": [
    "macaulay2016_target = macaulay2016_metadata['cluster'].map(lambda x: macaulay2016_cluster_names.index(x))\n",
    "macaulay2016_target"
   ]
  },
  {
   "cell_type": "code",
   "execution_count": null,
   "metadata": {
    "collapsed": true
   },
   "outputs": [],
   "source": [
    "macaulay2016_expression = pd.read_csv('../4._Case_Study/macaulay2016/gene_expression_s.csv', index_col=0).T\n"
   ]
  },
  {
   "cell_type": "code",
   "execution_count": null,
   "metadata": {
    "collapsed": false
   },
   "outputs": [],
   "source": [
    "macaulay2016_expression.head()"
   ]
  },
  {
   "cell_type": "code",
   "execution_count": null,
   "metadata": {
    "collapsed": false
   },
   "outputs": [],
   "source": [
    "macaulay2016_expression_filtered = macaulay2016_expression[[x for x in macaulay2016_expression if x.startswith(\"ENS\")]]\n",
    "macaulay2016_expression_filtered.shape"
   ]
  },
  {
   "cell_type": "code",
   "execution_count": null,
   "metadata": {
    "collapsed": true
   },
   "outputs": [],
   "source": [
    "macaulay2016_expression_filtered = macaulay2016_expression_filtered.loc[macaulay2016_metadata.index]"
   ]
  },
  {
   "cell_type": "code",
   "execution_count": null,
   "metadata": {
    "collapsed": false
   },
   "outputs": [],
   "source": [
    "macaulay2016_expression_filtered = 1e6*macaulay2016_expression_filtered.divide(macaulay2016_expression_filtered.sum(axis=1), axis=0)\n",
    "macaulay2016_expression_filtered.head()"
   ]
  },
  {
   "cell_type": "code",
   "execution_count": null,
   "metadata": {
    "collapsed": false
   },
   "outputs": [],
   "source": [
    "macaulay2016_expression_filtered = np.log10(macaulay2016_expression_filtered+1)\n",
    "macaulay2016_expression_filtered.head()"
   ]
  },
  {
   "cell_type": "code",
   "execution_count": null,
   "metadata": {
    "collapsed": false
   },
   "outputs": [],
   "source": [
    "macaulay2016_expression_filtered = macaulay2016_expression_filtered.loc[:, (macaulay2016_expression_filtered > 1).sum() >=3]\n",
    "macaulay2016_expression_filtered.shape"
   ]
  },
  {
   "cell_type": "code",
   "execution_count": null,
   "metadata": {
    "collapsed": false
   },
   "outputs": [],
   "source": [
    "# classifier = SVC(kernel='linear')\n",
    "# classifier = DecisionTreeClassifier(max_depth=10)\n",
    "classifier = ExtraTreesClassifier(n_estimators=1000)\n",
    "classifier.fit(macaulay2016_expression_filtered, macaulay2016_target)"
   ]
  },
  {
   "cell_type": "code",
   "execution_count": null,
   "metadata": {
    "collapsed": false
   },
   "outputs": [],
   "source": [
    "smusher = FastICA(n_components=2, random_state=0)\n",
    "smushed_data = smusher.fit_transform(macaulay2016_expression_filtered)\n",
    "\n",
    "x_min, x_max = smushed_data[:, 0].min(), smushed_data[:, 0].max()\n",
    "y_min, y_max = smushed_data[:, 1].min(), smushed_data[:, 1].max()\n",
    "delta_x = 0.05 * abs(x_max - x_min)\n",
    "delta_y = 0.05 * abs(x_max - x_min)\n",
    "\n",
    "x_min -= delta_x\n",
    "x_max += delta_x\n",
    "y_min -= delta_y\n",
    "y_max += delta_y\n",
    "\n",
    "X = np.linspace(x_min, x_max, 100)\n",
    "Y = np.linspace(y_min, y_max, 100)\n",
    "xx, yy = np.meshgrid(X, Y)\n",
    "\n",
    "two_d_space = np.c_[xx.ravel(), yy.ravel()]\n",
    "two_d_space"
   ]
  },
  {
   "cell_type": "code",
   "execution_count": null,
   "metadata": {
    "collapsed": false
   },
   "outputs": [],
   "source": [
    "high_dimensional_space = smusher.inverse_transform(two_d_space)"
   ]
  },
  {
   "cell_type": "code",
   "execution_count": null,
   "metadata": {
    "collapsed": false
   },
   "outputs": [],
   "source": [
    "# Get the class boundaries\n",
    "Z = classifier.predict(high_dimensional_space)"
   ]
  },
  {
   "cell_type": "code",
   "execution_count": null,
   "metadata": {
    "collapsed": false
   },
   "outputs": [],
   "source": [
    "import matplotlib as mpl\n",
    "macaulay2016_metadata['cluster_color_hex'] = macaulay2016_metadata['cluster_color'].map(lambda x: mpl.colors.rgb2hex(eval(x)))"
   ]
  },
  {
   "cell_type": "code",
   "execution_count": null,
   "metadata": {
    "collapsed": false
   },
   "outputs": [],
   "source": [
    "int_to_cluster_name = dict(zip(range(len(macaulay2016_cluster_names)), macaulay2016_cluster_names))\n",
    "int_to_cluster_name\n"
   ]
  },
  {
   "cell_type": "code",
   "execution_count": null,
   "metadata": {
    "collapsed": false
   },
   "outputs": [],
   "source": [
    "cluster_name_to_color = dict(zip(macaulay2016_metadata['cluster'], macaulay2016_metadata['cluster_color_hex']))\n",
    "cluster_name_to_color"
   ]
  },
  {
   "cell_type": "code",
   "execution_count": null,
   "metadata": {
    "collapsed": false
   },
   "outputs": [],
   "source": [
    "macaulay2016_palette = [mpl.colors.hex2color(cluster_name_to_color[int_to_cluster_name[i]]) \n",
    "                        for i in range(len(macaulay2016_cluster_names))]\n",
    "macaulay2016_palette\n"
   ]
  },
  {
   "cell_type": "code",
   "execution_count": null,
   "metadata": {
    "collapsed": false
   },
   "outputs": [],
   "source": [
    "cmap = mpl.colors.ListedColormap(macaulay2016_palette)\n",
    "cmap"
   ]
  },
  {
   "cell_type": "code",
   "execution_count": null,
   "metadata": {
    "collapsed": false
   },
   "outputs": [],
   "source": [
    "x_min, x_max"
   ]
  },
  {
   "cell_type": "code",
   "execution_count": null,
   "metadata": {
    "collapsed": false
   },
   "outputs": [],
   "source": [
    "y = macaulay2016_target\n",
    "# Put the result into a color plot\n",
    "Z = Z.reshape(xx.shape)\n",
    "plt.figure()\n",
    "plt.pcolormesh(xx, yy, Z, alpha=0.2, cmap=cmap)\n",
    "plt.clim(y.min(), y.max())\n",
    "\n",
    "# Plot also the training points\n",
    "plt.scatter(smushed_data[:, 0], smushed_data[:, 1], s=50, color=macaulay2016_metadata['cluster_color_hex'], \n",
    "            edgecolor='k') #c=macaulay2016_target, s=50, cmap='Set2')\n",
    "plt.axis('off')\n",
    "\n",
    "plt.xlim(x_min, x_max)\n",
    "plt.ylim(y_min, y_max)        \n",
    "plt.clim(y.min(), y.max())"
   ]
  },
  {
   "cell_type": "code",
   "execution_count": null,
   "metadata": {
    "collapsed": false
   },
   "outputs": [],
   "source": [
    "smusher = FastICA(n_components=4, random_state=354)\n",
    "smushed_data = pd.DataFrame(smusher.fit_transform(macaulay2016_expression_filtered))\n",
    "\n",
    "# x_min, x_max = smushed_data[:, 0].min(), smushed_data[:, 0].max()\n",
    "# y_min, y_max = smushed_data[:, 1].min(), smushed_data[:, 1].max()\n",
    "# delta_x = 0.05 * abs(x_max - x_min)\n",
    "# delta_y = 0.05 * abs(x_max - x_min)\n",
    "\n",
    "# x_min -= delta_x\n",
    "# x_max += delta_x\n",
    "# y_min -= delta_y\n",
    "# y_max += delta_y\n",
    "\n",
    "# X = np.linspace(x_min, x_max, 100)\n",
    "# Y = np.linspace(y_min, y_max, 100)\n",
    "# xx, yy = np.meshgrid(X, Y)\n",
    "\n",
    "# low_dimensional_space = np.c_[xx.ravel(), yy.ravel()]\n",
    "# low_dimensional_space"
   ]
  },
  {
   "cell_type": "code",
   "execution_count": null,
   "metadata": {
    "collapsed": false
   },
   "outputs": [],
   "source": [
    "smushed_data.max() - smushed_data.min()"
   ]
  },
  {
   "cell_type": "code",
   "execution_count": null,
   "metadata": {
    "collapsed": false
   },
   "outputs": [],
   "source": [
    "grid = smushed_data.apply(lambda x: pd.Series(np.linspace(x.min(), x.max(), 50)))\n",
    "grid.head()\n",
    "# grid = [x.ravel() for x in grid]\n",
    "# grid\n",
    "# low_dimensional_space = np.concatenate(grid, axis=0)\n",
    "# low_dimensional_space.shape\n",
    "# # low_dimensional_space = low_dimensional_space.reshape(shape)"
   ]
  },
  {
   "cell_type": "code",
   "execution_count": null,
   "metadata": {
    "collapsed": false
   },
   "outputs": [],
   "source": [
    "x1, x2, x3, x4 = np.meshgrid(*[grid[col] for col in grid])\n",
    "low_dimensional_space = np.c_[x1.ravel(), x2.ravel(), x3.ravel(), x4.ravel()]"
   ]
  },
  {
   "cell_type": "code",
   "execution_count": null,
   "metadata": {
    "collapsed": false
   },
   "outputs": [],
   "source": [
    "high_dimensional_space = smusher.inverse_transform(low_dimensional_space)"
   ]
  },
  {
   "cell_type": "code",
   "execution_count": null,
   "metadata": {
    "collapsed": true
   },
   "outputs": [],
   "source": [
    "smushed_data['hue'] = macau"
   ]
  },
  {
   "cell_type": "code",
   "execution_count": null,
   "metadata": {
    "collapsed": true
   },
   "outputs": [],
   "source": [
    "sns.pairplot(smushed_data)"
   ]
  }
 ],
 "metadata": {
  "kernelspec": {
   "display_name": "Python 3 (single-cell-bioinformatics)",
   "language": "python",
   "name": "python3"
  },
  "language_info": {
   "codemirror_mode": {
    "name": "ipython",
    "version": 3
   },
   "file_extension": ".py",
   "mimetype": "text/x-python",
   "name": "python",
   "nbconvert_exporter": "python",
   "pygments_lexer": "ipython3",
   "version": "3.5.1"
  }
 },
 "nbformat": 4,
 "nbformat_minor": 0
}
