{
 "cells": [
  {
   "cell_type": "markdown",
   "metadata": {},
   "source": [
    "# 3. Clustering\n",
    "\n",
    "![](figures/sklearn_ml_map.png)\n",
    "\n",
    "## [3.1 K-Means clustering](../sklearn_tutorial/notebooks/04.2-Clustering-KMeans.ipynb)\n",
    "\n",
    "We'll use Jake Vanderplas' excellent K-Means clustering tutorial\n",
    "\n",
    "\n",
    "## [3.2 Hierarchical Clustering](3.2_Hierarchical_clustering.ipynb)\n",
    "\n",
    "The point of \"clustering\" is to group similar things together, and keep different things far apart. We'll see that depends on how you define \"similar\" and \"far apart\" :)\n",
    "\n",
    "* Distance metrics (defines \"similar\")\n",
    "* Linkage methods (defines \"far apart\")\n",
    "\n",
    "## [3.3 Application and comparison](3.3_Apply_clustering_to_Shalek2013_Macaulay2016.ipynb)"
   ]
  }
 ],
 "metadata": {
  "kernelspec": {
   "display_name": "Python 3",
   "language": "python",
   "name": "python3"
  },
  "language_info": {
   "codemirror_mode": {
    "name": "ipython",
    "version": 3
   },
   "file_extension": ".py",
   "mimetype": "text/x-python",
   "name": "python",
   "nbconvert_exporter": "python",
   "pygments_lexer": "ipython3",
   "version": "3.5.2"
  }
 },
 "nbformat": 4,
 "nbformat_minor": 0
}
